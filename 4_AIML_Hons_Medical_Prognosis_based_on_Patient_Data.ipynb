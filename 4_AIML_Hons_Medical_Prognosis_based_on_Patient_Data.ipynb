{
  "metadata": {
    "kernelspec": {
      "name": "python3",
      "display_name": "Python 3",
      "language": "python"
    },
    "language_info": {
      "name": "python",
      "version": "3.10.13",
      "mimetype": "text/x-python",
      "codemirror_mode": {
        "name": "ipython",
        "version": 3
      },
      "pygments_lexer": "ipython3",
      "nbconvert_exporter": "python",
      "file_extension": ".py"
    },
    "kaggle": {
      "accelerator": "none",
      "dataSources": [
        {
          "sourceId": 1508992,
          "sourceType": "datasetVersion",
          "datasetId": 888463
        }
      ],
      "dockerImageVersionId": 30646,
      "isInternetEnabled": false,
      "language": "python",
      "sourceType": "notebook",
      "isGpuEnabled": false
    },
    "colab": {
      "provenance": [],
      "include_colab_link": true
    }
  },
  "nbformat_minor": 0,
  "nbformat": 4,
  "cells": [
    {
      "cell_type": "markdown",
      "metadata": {
        "id": "view-in-github",
        "colab_type": "text"
      },
      "source": [
        "<a href=\"https://colab.research.google.com/github/Yugsolanki/AIML-Healthcare-Lab/blob/main/4_AIML_Hons_Medical_Prognosis_based_on_Patient_Data.ipynb\" target=\"_parent\"><img src=\"https://colab.research.google.com/assets/colab-badge.svg\" alt=\"Open In Colab\"/></a>"
      ]
    },
    {
      "cell_type": "markdown",
      "source": [
        "Experiment 4<br>\n",
        "Yug Solanki<br>\n",
        "BE-4, 58<br>\n",
        "21UF16526CM057<br>\n",
        "[Colab Link🔗](https://colab.research.google.com/drive/1Eq-GNoPpLZpJvnbAle1cNPYOHO9t-MZR?usp=sharing)"
      ],
      "metadata": {
        "id": "ZmtrGK_3KAb_"
      }
    },
    {
      "cell_type": "code",
      "source": [
        "!kaggle datasets download -d redwankarimsony/heart-disease-data"
      ],
      "metadata": {
        "id": "diMGr0XeIe-B",
        "outputId": "68babbb3-efa6-4b20-a87f-735c3a75ad62",
        "colab": {
          "base_uri": "https://localhost:8080/"
        }
      },
      "execution_count": null,
      "outputs": [
        {
          "output_type": "stream",
          "name": "stdout",
          "text": [
            "Dataset URL: https://www.kaggle.com/datasets/redwankarimsony/heart-disease-data\n",
            "License(s): copyright-authors\n",
            "Downloading heart-disease-data.zip to /content\n",
            "  0% 0.00/12.4k [00:00<?, ?B/s]\n",
            "100% 12.4k/12.4k [00:00<00:00, 6.67MB/s]\n"
          ]
        }
      ]
    },
    {
      "cell_type": "code",
      "source": [
        "!unzip heart-disease-data.zip"
      ],
      "metadata": {
        "id": "0vSc_2eqIjmn",
        "outputId": "ec62558e-115a-4fd4-e9b3-3b5c6d189403",
        "colab": {
          "base_uri": "https://localhost:8080/"
        }
      },
      "execution_count": null,
      "outputs": [
        {
          "output_type": "stream",
          "name": "stdout",
          "text": [
            "Archive:  heart-disease-data.zip\n",
            "  inflating: heart_disease_uci.csv   \n"
          ]
        }
      ]
    },
    {
      "cell_type": "markdown",
      "source": [
        "# Importing Libraries"
      ],
      "metadata": {
        "id": "XkV3XRfYFAA5"
      }
    },
    {
      "cell_type": "code",
      "source": [
        "# 1. to handle the data\n",
        "import pandas as pd\n",
        "import numpy as np\n",
        "from scipy import stats\n",
        "\n",
        "# to visualize the data\n",
        "import matplotlib.pyplot as plt\n",
        "import seaborn as sns\n",
        "import plotly.express as px\n",
        "\n",
        "\n",
        "# To preprocess the data\n",
        "from sklearn.preprocessing import StandardScaler, MinMaxScaler, LabelEncoder,OneHotEncoder\n",
        "from sklearn.impute import SimpleImputer, KNNImputer\n",
        "# import iterative imputer\n",
        "from sklearn.experimental import enable_iterative_imputer\n",
        "from sklearn.impute import IterativeImputer\n",
        "\n",
        "# machine learning\n",
        "from sklearn.model_selection import train_test_split, GridSearchCV, cross_val_score\n",
        "#for classification tasks\n",
        "from sklearn.linear_model import LogisticRegression\n",
        "from sklearn.neighbors import KNeighborsClassifier\n",
        "from sklearn.svm import SVC\n",
        "from sklearn.tree import DecisionTreeClassifier\n",
        "from sklearn.ensemble import RandomForestClassifier, AdaBoostClassifier, GradientBoostingClassifier, RandomForestRegressor\n",
        "from xgboost import XGBClassifier\n",
        "from sklearn.naive_bayes import GaussianNB\n",
        "# pipeline\n",
        "from sklearn.pipeline import Pipeline\n",
        "# metrics\n",
        "from sklearn.metrics import accuracy_score, confusion_matrix, classification_report, mean_absolute_error,mean_squared_error,r2_score\n",
        "\n",
        "import warnings\n",
        "warnings.filterwarnings('ignore')"
      ],
      "metadata": {
        "execution": {
          "iopub.status.busy": "2024-02-16T04:55:51.862841Z",
          "iopub.execute_input": "2024-02-16T04:55:51.863398Z",
          "iopub.status.idle": "2024-02-16T04:55:51.876501Z",
          "shell.execute_reply.started": "2024-02-16T04:55:51.863359Z",
          "shell.execute_reply": "2024-02-16T04:55:51.874685Z"
        },
        "trusted": true,
        "id": "LuK-KoMNFAA6"
      },
      "execution_count": null,
      "outputs": []
    },
    {
      "cell_type": "markdown",
      "source": [
        "# Loading Dataset"
      ],
      "metadata": {
        "id": "scv1lE7gFAA6"
      }
    },
    {
      "cell_type": "code",
      "source": [
        "df = pd.read_csv(\"heart_disease_uci.csv\")\n",
        "df.head()"
      ],
      "metadata": {
        "execution": {
          "iopub.status.busy": "2024-02-16T04:55:51.879318Z",
          "iopub.execute_input": "2024-02-16T04:55:51.880017Z",
          "iopub.status.idle": "2024-02-16T04:55:51.927096Z",
          "shell.execute_reply.started": "2024-02-16T04:55:51.879974Z",
          "shell.execute_reply": "2024-02-16T04:55:51.925774Z"
        },
        "trusted": true,
        "id": "U2YqlD9aFAA6",
        "outputId": "dc9ab30a-1a10-4b96-f407-9ecaed8e78c4",
        "colab": {
          "base_uri": "https://localhost:8080/",
          "height": 226
        }
      },
      "execution_count": null,
      "outputs": [
        {
          "output_type": "execute_result",
          "data": {
            "text/plain": [
              "   id  age     sex    dataset               cp  trestbps   chol    fbs  \\\n",
              "0   1   63    Male  Cleveland   typical angina     145.0  233.0   True   \n",
              "1   2   67    Male  Cleveland     asymptomatic     160.0  286.0  False   \n",
              "2   3   67    Male  Cleveland     asymptomatic     120.0  229.0  False   \n",
              "3   4   37    Male  Cleveland      non-anginal     130.0  250.0  False   \n",
              "4   5   41  Female  Cleveland  atypical angina     130.0  204.0  False   \n",
              "\n",
              "          restecg  thalch  exang  oldpeak        slope   ca  \\\n",
              "0  lv hypertrophy   150.0  False      2.3  downsloping  0.0   \n",
              "1  lv hypertrophy   108.0   True      1.5         flat  3.0   \n",
              "2  lv hypertrophy   129.0   True      2.6         flat  2.0   \n",
              "3          normal   187.0  False      3.5  downsloping  0.0   \n",
              "4  lv hypertrophy   172.0  False      1.4    upsloping  0.0   \n",
              "\n",
              "                thal  num  \n",
              "0       fixed defect    0  \n",
              "1             normal    2  \n",
              "2  reversable defect    1  \n",
              "3             normal    0  \n",
              "4             normal    0  "
            ],
            "text/html": [
              "\n",
              "  <div id=\"df-13eb006d-97b8-4c61-a6a5-39459bd44c97\" class=\"colab-df-container\">\n",
              "    <div>\n",
              "<style scoped>\n",
              "    .dataframe tbody tr th:only-of-type {\n",
              "        vertical-align: middle;\n",
              "    }\n",
              "\n",
              "    .dataframe tbody tr th {\n",
              "        vertical-align: top;\n",
              "    }\n",
              "\n",
              "    .dataframe thead th {\n",
              "        text-align: right;\n",
              "    }\n",
              "</style>\n",
              "<table border=\"1\" class=\"dataframe\">\n",
              "  <thead>\n",
              "    <tr style=\"text-align: right;\">\n",
              "      <th></th>\n",
              "      <th>id</th>\n",
              "      <th>age</th>\n",
              "      <th>sex</th>\n",
              "      <th>dataset</th>\n",
              "      <th>cp</th>\n",
              "      <th>trestbps</th>\n",
              "      <th>chol</th>\n",
              "      <th>fbs</th>\n",
              "      <th>restecg</th>\n",
              "      <th>thalch</th>\n",
              "      <th>exang</th>\n",
              "      <th>oldpeak</th>\n",
              "      <th>slope</th>\n",
              "      <th>ca</th>\n",
              "      <th>thal</th>\n",
              "      <th>num</th>\n",
              "    </tr>\n",
              "  </thead>\n",
              "  <tbody>\n",
              "    <tr>\n",
              "      <th>0</th>\n",
              "      <td>1</td>\n",
              "      <td>63</td>\n",
              "      <td>Male</td>\n",
              "      <td>Cleveland</td>\n",
              "      <td>typical angina</td>\n",
              "      <td>145.0</td>\n",
              "      <td>233.0</td>\n",
              "      <td>True</td>\n",
              "      <td>lv hypertrophy</td>\n",
              "      <td>150.0</td>\n",
              "      <td>False</td>\n",
              "      <td>2.3</td>\n",
              "      <td>downsloping</td>\n",
              "      <td>0.0</td>\n",
              "      <td>fixed defect</td>\n",
              "      <td>0</td>\n",
              "    </tr>\n",
              "    <tr>\n",
              "      <th>1</th>\n",
              "      <td>2</td>\n",
              "      <td>67</td>\n",
              "      <td>Male</td>\n",
              "      <td>Cleveland</td>\n",
              "      <td>asymptomatic</td>\n",
              "      <td>160.0</td>\n",
              "      <td>286.0</td>\n",
              "      <td>False</td>\n",
              "      <td>lv hypertrophy</td>\n",
              "      <td>108.0</td>\n",
              "      <td>True</td>\n",
              "      <td>1.5</td>\n",
              "      <td>flat</td>\n",
              "      <td>3.0</td>\n",
              "      <td>normal</td>\n",
              "      <td>2</td>\n",
              "    </tr>\n",
              "    <tr>\n",
              "      <th>2</th>\n",
              "      <td>3</td>\n",
              "      <td>67</td>\n",
              "      <td>Male</td>\n",
              "      <td>Cleveland</td>\n",
              "      <td>asymptomatic</td>\n",
              "      <td>120.0</td>\n",
              "      <td>229.0</td>\n",
              "      <td>False</td>\n",
              "      <td>lv hypertrophy</td>\n",
              "      <td>129.0</td>\n",
              "      <td>True</td>\n",
              "      <td>2.6</td>\n",
              "      <td>flat</td>\n",
              "      <td>2.0</td>\n",
              "      <td>reversable defect</td>\n",
              "      <td>1</td>\n",
              "    </tr>\n",
              "    <tr>\n",
              "      <th>3</th>\n",
              "      <td>4</td>\n",
              "      <td>37</td>\n",
              "      <td>Male</td>\n",
              "      <td>Cleveland</td>\n",
              "      <td>non-anginal</td>\n",
              "      <td>130.0</td>\n",
              "      <td>250.0</td>\n",
              "      <td>False</td>\n",
              "      <td>normal</td>\n",
              "      <td>187.0</td>\n",
              "      <td>False</td>\n",
              "      <td>3.5</td>\n",
              "      <td>downsloping</td>\n",
              "      <td>0.0</td>\n",
              "      <td>normal</td>\n",
              "      <td>0</td>\n",
              "    </tr>\n",
              "    <tr>\n",
              "      <th>4</th>\n",
              "      <td>5</td>\n",
              "      <td>41</td>\n",
              "      <td>Female</td>\n",
              "      <td>Cleveland</td>\n",
              "      <td>atypical angina</td>\n",
              "      <td>130.0</td>\n",
              "      <td>204.0</td>\n",
              "      <td>False</td>\n",
              "      <td>lv hypertrophy</td>\n",
              "      <td>172.0</td>\n",
              "      <td>False</td>\n",
              "      <td>1.4</td>\n",
              "      <td>upsloping</td>\n",
              "      <td>0.0</td>\n",
              "      <td>normal</td>\n",
              "      <td>0</td>\n",
              "    </tr>\n",
              "  </tbody>\n",
              "</table>\n",
              "</div>\n",
              "    <div class=\"colab-df-buttons\">\n",
              "\n",
              "  <div class=\"colab-df-container\">\n",
              "    <button class=\"colab-df-convert\" onclick=\"convertToInteractive('df-13eb006d-97b8-4c61-a6a5-39459bd44c97')\"\n",
              "            title=\"Convert this dataframe to an interactive table.\"\n",
              "            style=\"display:none;\">\n",
              "\n",
              "  <svg xmlns=\"http://www.w3.org/2000/svg\" height=\"24px\" viewBox=\"0 -960 960 960\">\n",
              "    <path d=\"M120-120v-720h720v720H120Zm60-500h600v-160H180v160Zm220 220h160v-160H400v160Zm0 220h160v-160H400v160ZM180-400h160v-160H180v160Zm440 0h160v-160H620v160ZM180-180h160v-160H180v160Zm440 0h160v-160H620v160Z\"/>\n",
              "  </svg>\n",
              "    </button>\n",
              "\n",
              "  <style>\n",
              "    .colab-df-container {\n",
              "      display:flex;\n",
              "      gap: 12px;\n",
              "    }\n",
              "\n",
              "    .colab-df-convert {\n",
              "      background-color: #E8F0FE;\n",
              "      border: none;\n",
              "      border-radius: 50%;\n",
              "      cursor: pointer;\n",
              "      display: none;\n",
              "      fill: #1967D2;\n",
              "      height: 32px;\n",
              "      padding: 0 0 0 0;\n",
              "      width: 32px;\n",
              "    }\n",
              "\n",
              "    .colab-df-convert:hover {\n",
              "      background-color: #E2EBFA;\n",
              "      box-shadow: 0px 1px 2px rgba(60, 64, 67, 0.3), 0px 1px 3px 1px rgba(60, 64, 67, 0.15);\n",
              "      fill: #174EA6;\n",
              "    }\n",
              "\n",
              "    .colab-df-buttons div {\n",
              "      margin-bottom: 4px;\n",
              "    }\n",
              "\n",
              "    [theme=dark] .colab-df-convert {\n",
              "      background-color: #3B4455;\n",
              "      fill: #D2E3FC;\n",
              "    }\n",
              "\n",
              "    [theme=dark] .colab-df-convert:hover {\n",
              "      background-color: #434B5C;\n",
              "      box-shadow: 0px 1px 3px 1px rgba(0, 0, 0, 0.15);\n",
              "      filter: drop-shadow(0px 1px 2px rgba(0, 0, 0, 0.3));\n",
              "      fill: #FFFFFF;\n",
              "    }\n",
              "  </style>\n",
              "\n",
              "    <script>\n",
              "      const buttonEl =\n",
              "        document.querySelector('#df-13eb006d-97b8-4c61-a6a5-39459bd44c97 button.colab-df-convert');\n",
              "      buttonEl.style.display =\n",
              "        google.colab.kernel.accessAllowed ? 'block' : 'none';\n",
              "\n",
              "      async function convertToInteractive(key) {\n",
              "        const element = document.querySelector('#df-13eb006d-97b8-4c61-a6a5-39459bd44c97');\n",
              "        const dataTable =\n",
              "          await google.colab.kernel.invokeFunction('convertToInteractive',\n",
              "                                                    [key], {});\n",
              "        if (!dataTable) return;\n",
              "\n",
              "        const docLinkHtml = 'Like what you see? Visit the ' +\n",
              "          '<a target=\"_blank\" href=https://colab.research.google.com/notebooks/data_table.ipynb>data table notebook</a>'\n",
              "          + ' to learn more about interactive tables.';\n",
              "        element.innerHTML = '';\n",
              "        dataTable['output_type'] = 'display_data';\n",
              "        await google.colab.output.renderOutput(dataTable, element);\n",
              "        const docLink = document.createElement('div');\n",
              "        docLink.innerHTML = docLinkHtml;\n",
              "        element.appendChild(docLink);\n",
              "      }\n",
              "    </script>\n",
              "  </div>\n",
              "\n",
              "\n",
              "<div id=\"df-2543771c-1790-483b-8b1e-5ce113e48783\">\n",
              "  <button class=\"colab-df-quickchart\" onclick=\"quickchart('df-2543771c-1790-483b-8b1e-5ce113e48783')\"\n",
              "            title=\"Suggest charts\"\n",
              "            style=\"display:none;\">\n",
              "\n",
              "<svg xmlns=\"http://www.w3.org/2000/svg\" height=\"24px\"viewBox=\"0 0 24 24\"\n",
              "     width=\"24px\">\n",
              "    <g>\n",
              "        <path d=\"M19 3H5c-1.1 0-2 .9-2 2v14c0 1.1.9 2 2 2h14c1.1 0 2-.9 2-2V5c0-1.1-.9-2-2-2zM9 17H7v-7h2v7zm4 0h-2V7h2v10zm4 0h-2v-4h2v4z\"/>\n",
              "    </g>\n",
              "</svg>\n",
              "  </button>\n",
              "\n",
              "<style>\n",
              "  .colab-df-quickchart {\n",
              "      --bg-color: #E8F0FE;\n",
              "      --fill-color: #1967D2;\n",
              "      --hover-bg-color: #E2EBFA;\n",
              "      --hover-fill-color: #174EA6;\n",
              "      --disabled-fill-color: #AAA;\n",
              "      --disabled-bg-color: #DDD;\n",
              "  }\n",
              "\n",
              "  [theme=dark] .colab-df-quickchart {\n",
              "      --bg-color: #3B4455;\n",
              "      --fill-color: #D2E3FC;\n",
              "      --hover-bg-color: #434B5C;\n",
              "      --hover-fill-color: #FFFFFF;\n",
              "      --disabled-bg-color: #3B4455;\n",
              "      --disabled-fill-color: #666;\n",
              "  }\n",
              "\n",
              "  .colab-df-quickchart {\n",
              "    background-color: var(--bg-color);\n",
              "    border: none;\n",
              "    border-radius: 50%;\n",
              "    cursor: pointer;\n",
              "    display: none;\n",
              "    fill: var(--fill-color);\n",
              "    height: 32px;\n",
              "    padding: 0;\n",
              "    width: 32px;\n",
              "  }\n",
              "\n",
              "  .colab-df-quickchart:hover {\n",
              "    background-color: var(--hover-bg-color);\n",
              "    box-shadow: 0 1px 2px rgba(60, 64, 67, 0.3), 0 1px 3px 1px rgba(60, 64, 67, 0.15);\n",
              "    fill: var(--button-hover-fill-color);\n",
              "  }\n",
              "\n",
              "  .colab-df-quickchart-complete:disabled,\n",
              "  .colab-df-quickchart-complete:disabled:hover {\n",
              "    background-color: var(--disabled-bg-color);\n",
              "    fill: var(--disabled-fill-color);\n",
              "    box-shadow: none;\n",
              "  }\n",
              "\n",
              "  .colab-df-spinner {\n",
              "    border: 2px solid var(--fill-color);\n",
              "    border-color: transparent;\n",
              "    border-bottom-color: var(--fill-color);\n",
              "    animation:\n",
              "      spin 1s steps(1) infinite;\n",
              "  }\n",
              "\n",
              "  @keyframes spin {\n",
              "    0% {\n",
              "      border-color: transparent;\n",
              "      border-bottom-color: var(--fill-color);\n",
              "      border-left-color: var(--fill-color);\n",
              "    }\n",
              "    20% {\n",
              "      border-color: transparent;\n",
              "      border-left-color: var(--fill-color);\n",
              "      border-top-color: var(--fill-color);\n",
              "    }\n",
              "    30% {\n",
              "      border-color: transparent;\n",
              "      border-left-color: var(--fill-color);\n",
              "      border-top-color: var(--fill-color);\n",
              "      border-right-color: var(--fill-color);\n",
              "    }\n",
              "    40% {\n",
              "      border-color: transparent;\n",
              "      border-right-color: var(--fill-color);\n",
              "      border-top-color: var(--fill-color);\n",
              "    }\n",
              "    60% {\n",
              "      border-color: transparent;\n",
              "      border-right-color: var(--fill-color);\n",
              "    }\n",
              "    80% {\n",
              "      border-color: transparent;\n",
              "      border-right-color: var(--fill-color);\n",
              "      border-bottom-color: var(--fill-color);\n",
              "    }\n",
              "    90% {\n",
              "      border-color: transparent;\n",
              "      border-bottom-color: var(--fill-color);\n",
              "    }\n",
              "  }\n",
              "</style>\n",
              "\n",
              "  <script>\n",
              "    async function quickchart(key) {\n",
              "      const quickchartButtonEl =\n",
              "        document.querySelector('#' + key + ' button');\n",
              "      quickchartButtonEl.disabled = true;  // To prevent multiple clicks.\n",
              "      quickchartButtonEl.classList.add('colab-df-spinner');\n",
              "      try {\n",
              "        const charts = await google.colab.kernel.invokeFunction(\n",
              "            'suggestCharts', [key], {});\n",
              "      } catch (error) {\n",
              "        console.error('Error during call to suggestCharts:', error);\n",
              "      }\n",
              "      quickchartButtonEl.classList.remove('colab-df-spinner');\n",
              "      quickchartButtonEl.classList.add('colab-df-quickchart-complete');\n",
              "    }\n",
              "    (() => {\n",
              "      let quickchartButtonEl =\n",
              "        document.querySelector('#df-2543771c-1790-483b-8b1e-5ce113e48783 button');\n",
              "      quickchartButtonEl.style.display =\n",
              "        google.colab.kernel.accessAllowed ? 'block' : 'none';\n",
              "    })();\n",
              "  </script>\n",
              "</div>\n",
              "\n",
              "    </div>\n",
              "  </div>\n"
            ],
            "application/vnd.google.colaboratory.intrinsic+json": {
              "type": "dataframe",
              "variable_name": "df",
              "summary": "{\n  \"name\": \"df\",\n  \"rows\": 920,\n  \"fields\": [\n    {\n      \"column\": \"id\",\n      \"properties\": {\n        \"dtype\": \"number\",\n        \"std\": 265,\n        \"min\": 1,\n        \"max\": 920,\n        \"num_unique_values\": 920,\n        \"samples\": [\n          320,\n          378,\n          539\n        ],\n        \"semantic_type\": \"\",\n        \"description\": \"\"\n      }\n    },\n    {\n      \"column\": \"age\",\n      \"properties\": {\n        \"dtype\": \"number\",\n        \"std\": 9,\n        \"min\": 28,\n        \"max\": 77,\n        \"num_unique_values\": 50,\n        \"samples\": [\n          64,\n          74,\n          39\n        ],\n        \"semantic_type\": \"\",\n        \"description\": \"\"\n      }\n    },\n    {\n      \"column\": \"sex\",\n      \"properties\": {\n        \"dtype\": \"category\",\n        \"num_unique_values\": 2,\n        \"samples\": [\n          \"Female\",\n          \"Male\"\n        ],\n        \"semantic_type\": \"\",\n        \"description\": \"\"\n      }\n    },\n    {\n      \"column\": \"dataset\",\n      \"properties\": {\n        \"dtype\": \"category\",\n        \"num_unique_values\": 4,\n        \"samples\": [\n          \"Hungary\",\n          \"VA Long Beach\"\n        ],\n        \"semantic_type\": \"\",\n        \"description\": \"\"\n      }\n    },\n    {\n      \"column\": \"cp\",\n      \"properties\": {\n        \"dtype\": \"category\",\n        \"num_unique_values\": 4,\n        \"samples\": [\n          \"asymptomatic\",\n          \"atypical angina\"\n        ],\n        \"semantic_type\": \"\",\n        \"description\": \"\"\n      }\n    },\n    {\n      \"column\": \"trestbps\",\n      \"properties\": {\n        \"dtype\": \"number\",\n        \"std\": 19.066069518587458,\n        \"min\": 0.0,\n        \"max\": 200.0,\n        \"num_unique_values\": 61,\n        \"samples\": [\n          145.0,\n          172.0\n        ],\n        \"semantic_type\": \"\",\n        \"description\": \"\"\n      }\n    },\n    {\n      \"column\": \"chol\",\n      \"properties\": {\n        \"dtype\": \"number\",\n        \"std\": 110.78081035323044,\n        \"min\": 0.0,\n        \"max\": 603.0,\n        \"num_unique_values\": 217,\n        \"samples\": [\n          384.0,\n          333.0\n        ],\n        \"semantic_type\": \"\",\n        \"description\": \"\"\n      }\n    },\n    {\n      \"column\": \"fbs\",\n      \"properties\": {\n        \"dtype\": \"category\",\n        \"num_unique_values\": 2,\n        \"samples\": [\n          false,\n          true\n        ],\n        \"semantic_type\": \"\",\n        \"description\": \"\"\n      }\n    },\n    {\n      \"column\": \"restecg\",\n      \"properties\": {\n        \"dtype\": \"category\",\n        \"num_unique_values\": 3,\n        \"samples\": [\n          \"lv hypertrophy\",\n          \"normal\"\n        ],\n        \"semantic_type\": \"\",\n        \"description\": \"\"\n      }\n    },\n    {\n      \"column\": \"thalch\",\n      \"properties\": {\n        \"dtype\": \"number\",\n        \"std\": 25.926276492797612,\n        \"min\": 60.0,\n        \"max\": 202.0,\n        \"num_unique_values\": 119,\n        \"samples\": [\n          185.0,\n          134.0\n        ],\n        \"semantic_type\": \"\",\n        \"description\": \"\"\n      }\n    },\n    {\n      \"column\": \"exang\",\n      \"properties\": {\n        \"dtype\": \"category\",\n        \"num_unique_values\": 2,\n        \"samples\": [\n          true,\n          false\n        ],\n        \"semantic_type\": \"\",\n        \"description\": \"\"\n      }\n    },\n    {\n      \"column\": \"oldpeak\",\n      \"properties\": {\n        \"dtype\": \"number\",\n        \"std\": 1.0912262483465265,\n        \"min\": -2.6,\n        \"max\": 6.2,\n        \"num_unique_values\": 53,\n        \"samples\": [\n          2.4,\n          -1.1\n        ],\n        \"semantic_type\": \"\",\n        \"description\": \"\"\n      }\n    },\n    {\n      \"column\": \"slope\",\n      \"properties\": {\n        \"dtype\": \"category\",\n        \"num_unique_values\": 3,\n        \"samples\": [\n          \"downsloping\",\n          \"flat\"\n        ],\n        \"semantic_type\": \"\",\n        \"description\": \"\"\n      }\n    },\n    {\n      \"column\": \"ca\",\n      \"properties\": {\n        \"dtype\": \"number\",\n        \"std\": 0.9356530125599879,\n        \"min\": 0.0,\n        \"max\": 3.0,\n        \"num_unique_values\": 4,\n        \"samples\": [\n          3.0,\n          1.0\n        ],\n        \"semantic_type\": \"\",\n        \"description\": \"\"\n      }\n    },\n    {\n      \"column\": \"thal\",\n      \"properties\": {\n        \"dtype\": \"category\",\n        \"num_unique_values\": 3,\n        \"samples\": [\n          \"fixed defect\",\n          \"normal\"\n        ],\n        \"semantic_type\": \"\",\n        \"description\": \"\"\n      }\n    },\n    {\n      \"column\": \"num\",\n      \"properties\": {\n        \"dtype\": \"number\",\n        \"std\": 1,\n        \"min\": 0,\n        \"max\": 4,\n        \"num_unique_values\": 5,\n        \"samples\": [\n          2,\n          4\n        ],\n        \"semantic_type\": \"\",\n        \"description\": \"\"\n      }\n    }\n  ]\n}"
            }
          },
          "metadata": {},
          "execution_count": 4
        }
      ]
    },
    {
      "cell_type": "markdown",
      "source": [
        "# Dataset Overview"
      ],
      "metadata": {
        "id": "sZMH4U5nFAA7"
      }
    },
    {
      "cell_type": "code",
      "source": [
        "df.info()"
      ],
      "metadata": {
        "execution": {
          "iopub.status.busy": "2024-02-16T04:55:51.929349Z",
          "iopub.execute_input": "2024-02-16T04:55:51.930113Z",
          "iopub.status.idle": "2024-02-16T04:55:51.947385Z",
          "shell.execute_reply.started": "2024-02-16T04:55:51.930063Z",
          "shell.execute_reply": "2024-02-16T04:55:51.946207Z"
        },
        "trusted": true,
        "id": "TG2MGi1PFAA7",
        "outputId": "b841affa-4f05-4efb-e98d-604814b9ff78",
        "colab": {
          "base_uri": "https://localhost:8080/"
        }
      },
      "execution_count": null,
      "outputs": [
        {
          "output_type": "stream",
          "name": "stdout",
          "text": [
            "<class 'pandas.core.frame.DataFrame'>\n",
            "RangeIndex: 920 entries, 0 to 919\n",
            "Data columns (total 16 columns):\n",
            " #   Column    Non-Null Count  Dtype  \n",
            "---  ------    --------------  -----  \n",
            " 0   id        920 non-null    int64  \n",
            " 1   age       920 non-null    int64  \n",
            " 2   sex       920 non-null    object \n",
            " 3   dataset   920 non-null    object \n",
            " 4   cp        920 non-null    object \n",
            " 5   trestbps  861 non-null    float64\n",
            " 6   chol      890 non-null    float64\n",
            " 7   fbs       830 non-null    object \n",
            " 8   restecg   918 non-null    object \n",
            " 9   thalch    865 non-null    float64\n",
            " 10  exang     865 non-null    object \n",
            " 11  oldpeak   858 non-null    float64\n",
            " 12  slope     611 non-null    object \n",
            " 13  ca        309 non-null    float64\n",
            " 14  thal      434 non-null    object \n",
            " 15  num       920 non-null    int64  \n",
            "dtypes: float64(5), int64(3), object(8)\n",
            "memory usage: 115.1+ KB\n"
          ]
        }
      ]
    },
    {
      "cell_type": "markdown",
      "source": [
        "### Separate Columns with Dtype\n"
      ],
      "metadata": {
        "id": "qcXKzMwJFAA8"
      }
    },
    {
      "cell_type": "code",
      "source": [
        "# find only categorical columns\n",
        "categorical_cols = df.select_dtypes(include='object').columns.tolist()\n",
        "# find only numerical columns\n",
        "numeric_cols = df.select_dtypes(exclude='object').columns.tolist()\n",
        "\n",
        "print(f'Categorical Columns: {categorical_cols}')\n",
        "print(f'Numerical Columns: {numeric_cols}')"
      ],
      "metadata": {
        "execution": {
          "iopub.status.busy": "2024-02-16T04:55:51.950244Z",
          "iopub.execute_input": "2024-02-16T04:55:51.950607Z",
          "iopub.status.idle": "2024-02-16T04:55:51.959367Z",
          "shell.execute_reply.started": "2024-02-16T04:55:51.950577Z",
          "shell.execute_reply": "2024-02-16T04:55:51.958195Z"
        },
        "trusted": true,
        "id": "KpaeIgPsFAA9",
        "outputId": "f77df380-0570-465c-e203-156cbbed6d18",
        "colab": {
          "base_uri": "https://localhost:8080/"
        }
      },
      "execution_count": null,
      "outputs": [
        {
          "output_type": "stream",
          "name": "stdout",
          "text": [
            "Categorical Columns: ['sex', 'dataset', 'cp', 'fbs', 'restecg', 'exang', 'slope', 'thal']\n",
            "Numerical Columns: ['id', 'age', 'trestbps', 'chol', 'thalch', 'oldpeak', 'ca', 'num']\n"
          ]
        }
      ]
    },
    {
      "cell_type": "code",
      "source": [
        "categorical_columns = ['thal', 'ca', 'slope', 'exang', 'restecg','fbs', 'cp', 'sex', 'num']\n",
        "bool_cols = ['fbs', 'exang']\n",
        "numerical_columns = ['oldpeak', 'thalch', 'chol', 'trestbps', 'age']"
      ],
      "metadata": {
        "execution": {
          "iopub.status.busy": "2024-02-16T04:55:51.961341Z",
          "iopub.execute_input": "2024-02-16T04:55:51.961973Z",
          "iopub.status.idle": "2024-02-16T04:55:51.970456Z",
          "shell.execute_reply.started": "2024-02-16T04:55:51.961933Z",
          "shell.execute_reply": "2024-02-16T04:55:51.968919Z"
        },
        "trusted": true,
        "id": "_Wz0WYjWFAA9"
      },
      "execution_count": null,
      "outputs": []
    },
    {
      "cell_type": "markdown",
      "source": [
        "# Explore All Columns"
      ],
      "metadata": {
        "id": "svjm6i6AFAA-"
      }
    },
    {
      "cell_type": "markdown",
      "source": [
        "### ID Column\n"
      ],
      "metadata": {
        "id": "2moA3PdVFAA_"
      }
    },
    {
      "cell_type": "code",
      "source": [
        "# drop id column\n",
        "df.drop(['id'],axis=1,inplace=True)"
      ],
      "metadata": {
        "execution": {
          "iopub.status.busy": "2024-02-16T04:55:51.974065Z",
          "iopub.execute_input": "2024-02-16T04:55:51.974499Z",
          "iopub.status.idle": "2024-02-16T04:55:51.983072Z",
          "shell.execute_reply.started": "2024-02-16T04:55:51.974467Z",
          "shell.execute_reply": "2024-02-16T04:55:51.981426Z"
        },
        "trusted": true,
        "id": "c_pBN61vFAA_"
      },
      "execution_count": null,
      "outputs": []
    },
    {
      "cell_type": "markdown",
      "source": [
        "### Age Column"
      ],
      "metadata": {
        "id": "JL_kEDQtFAA_"
      }
    },
    {
      "cell_type": "code",
      "source": [
        "# check minimum age\n",
        "print(\"minimun age is :\",df['age'].min())\n",
        "# check maximum\n",
        "print(\"maximun age is :\",df['age'].max())\n",
        "# check average of age\n",
        "print(\"average of age is :\",df['age'].mean().round(2),\"%\")\n",
        "# plot the mean of age column using sns\n",
        "plt.figure(figsize=(10,6))\n",
        "sns.histplot(df['age'], kde=True)\n",
        "plt.axvline(df['age'].mean(), color='red')"
      ],
      "metadata": {
        "execution": {
          "iopub.status.busy": "2024-02-16T04:55:51.984735Z",
          "iopub.execute_input": "2024-02-16T04:55:51.986207Z",
          "iopub.status.idle": "2024-02-16T04:55:52.391Z",
          "shell.execute_reply.started": "2024-02-16T04:55:51.98615Z",
          "shell.execute_reply": "2024-02-16T04:55:52.389543Z"
        },
        "trusted": true,
        "id": "d-TvXt4uFABA",
        "outputId": "9931e409-2d73-4709-e717-193cb149d7fd",
        "colab": {
          "base_uri": "https://localhost:8080/",
          "height": 631
        }
      },
      "execution_count": null,
      "outputs": [
        {
          "output_type": "stream",
          "name": "stdout",
          "text": [
            "minimun age is : 28\n",
            "maximun age is : 77\n",
            "average of age is : 53.51 %\n"
          ]
        },
        {
          "output_type": "execute_result",
          "data": {
            "text/plain": [
              "<matplotlib.lines.Line2D at 0x7c4de0242c50>"
            ]
          },
          "metadata": {},
          "execution_count": 9
        },
        {
          "output_type": "display_data",
          "data": {
            "text/plain": [
              "<Figure size 1000x600 with 1 Axes>"
            ],
            "image/png": "[encoded data removed]"
          },
          "metadata": {}
        }
      ]
    },
    {
      "cell_type": "markdown",
      "source": [
        "\n",
        "### Sex Column"
      ],
      "metadata": {
        "id": "DR6BlOlCFABA"
      }
    },
    {
      "cell_type": "code",
      "source": [
        "print(\"count of male & female\",df['sex'].value_counts())\n",
        "male_count = 563\n",
        "female_count = 182\n",
        "total_count = male_count + female_count\n",
        "\n",
        "# calculate percentages\n",
        "male_percentage = (male_count / total_count) * 100\n",
        "female_percentage = (female_count / total_count) * 100\n",
        "\n",
        "# display the results\n",
        "print(f\"Male percentage in the data: {male_percentage:.2f}%\")\n",
        "print(f\"Female Percentage in the data: {female_percentage:.2f}%\")"
      ],
      "metadata": {
        "execution": {
          "iopub.status.busy": "2024-02-16T04:55:52.392796Z",
          "iopub.execute_input": "2024-02-16T04:55:52.393391Z",
          "iopub.status.idle": "2024-02-16T04:55:52.403526Z",
          "shell.execute_reply.started": "2024-02-16T04:55:52.39335Z",
          "shell.execute_reply": "2024-02-16T04:55:52.402253Z"
        },
        "trusted": true,
        "id": "M-jWKLasFABB",
        "outputId": "584a6169-f7f3-48fb-e4c4-65642926e1cb",
        "colab": {
          "base_uri": "https://localhost:8080/"
        }
      },
      "execution_count": null,
      "outputs": [
        {
          "output_type": "stream",
          "name": "stdout",
          "text": [
            "count of male & female sex\n",
            "Male      726\n",
            "Female    194\n",
            "Name: count, dtype: int64\n",
            "Male percentage in the data: 75.57%\n",
            "Female Percentage in the data: 24.43%\n"
          ]
        }
      ]
    },
    {
      "cell_type": "markdown",
      "source": [
        "### Dataset Column"
      ],
      "metadata": {
        "id": "V890Pa0HFABB"
      }
    },
    {
      "cell_type": "code",
      "source": [
        "print(\"Data collect from :\",df['dataset'].value_counts())\n",
        "# print the values count of dataset column grouped by sex\n",
        "print(df.groupby('sex')['dataset'].value_counts())\n",
        "# barplot of dataset  base on sex\n",
        "fig = px.bar(df, x='dataset', color='sex')\n",
        "fig.show()"
      ],
      "metadata": {
        "execution": {
          "iopub.status.busy": "2024-02-16T04:55:52.408699Z",
          "iopub.execute_input": "2024-02-16T04:55:52.409402Z",
          "iopub.status.idle": "2024-02-16T04:55:52.50834Z",
          "shell.execute_reply.started": "2024-02-16T04:55:52.409359Z",
          "shell.execute_reply": "2024-02-16T04:55:52.507118Z"
        },
        "trusted": true,
        "id": "RsMDInguFABB",
        "outputId": "f7d118e4-8f36-4163-f672-8eaff225c610",
        "colab": {
          "base_uri": "https://localhost:8080/",
          "height": 840
        }
      },
      "execution_count": null,
      "outputs": [
        {
          "output_type": "stream",
          "name": "stdout",
          "text": [
            "Data collect from : dataset\n",
            "Cleveland        304\n",
            "Hungary          293\n",
            "VA Long Beach    200\n",
            "Switzerland      123\n",
            "Name: count, dtype: int64\n",
            "sex     dataset      \n",
            "Female  Cleveland         97\n",
            "        Hungary           81\n",
            "        Switzerland       10\n",
            "        VA Long Beach      6\n",
            "Male    Hungary          212\n",
            "        Cleveland        207\n",
            "        VA Long Beach    194\n",
            "        Switzerland      113\n",
            "Name: count, dtype: int64\n"
          ]
        },
        {
          "output_type": "display_data",
          "data": {
            "text/html": [
              "<html>\n",
              "<head><meta charset=\"utf-8\" /></head>\n",
              "<body>\n",
              "    <div>            <script src=\"https://cdnjs.cloudflare.com/ajax/libs/mathjax/2.7.5/MathJax.js?config=TeX-AMS-MML_SVG\"></script><script type=\"text/javascript\">if (window.MathJax && window.MathJax.Hub && window.MathJax.Hub.Config) {window.MathJax.Hub.Config({SVG: {font: \"STIX-Web\"}});}</script>                <script type=\"text/javascript\">window.PlotlyConfig = {MathJaxConfig: 'local'};</script>\n",
              "        <script charset=\"utf-8\" src=\"https://cdn.plot.ly/plotly-2.35.2.min.js\"></script>                <div id=\"afd3fa99-9632-42fb-b2e7-7cd6795929f7\" class=\"plotly-graph-div\" style=\"height:525px; width:100%;\"></div>            <script type=\"text/javascript\">                                    window.PLOTLYENV=window.PLOTLYENV || {};                                    if (document.getElementById(\"afd3fa99-9632-42fb-b2e7-7cd6795929f7\")) {                    Plotly.newPlot(                        \"afd3fa99-9632-42fb-b2e7-7cd6795929f7\",                        [{\"alignmentgroup\":\"True\",\"hovertemplate\":\"sex=Male\\u003cbr\\u003edataset=%{x}\\u003cbr\\u003ecount=%{y}\\u003cextra\\u003e\\u003c\\u002fextra\\u003e\",\"legendgroup\":\"Male\",\"marker\":{\"color\":\"#636efa\",\"pattern\":{\"shape\":\"\"}},\"name\":\"Male\",\"offsetgroup\":\"Male\",\"orientation\":\"v\",\"showlegend\":true,\"textposition\":\"auto\",\"x\":[\"Cleveland\",\"Cleveland\",\"Cleveland\",\"Cleveland\",\"Cleveland\",\"Cleveland\",\"Cleveland\",\"Cleveland\",\"Cleveland\",\"Cleveland\",\"Cleveland\",\"Cleveland\",\"Cleveland\",\"Cleveland\",\"Cleveland\",\"Cleveland\",\"Cleveland\",\"Cleveland\",\"Cleveland\",\"Cleveland\",\"Cleveland\",\"Cleveland\",\"Cleveland\",\"Cleveland\",\"Cleveland\",\"Cleveland\",\"Cleveland\",\"Cleveland\",\"Cleveland\",\"Cleveland\",\"Cleveland\",\"Cleveland\",\"Cleveland\",\"Cleveland\",\"Cleveland\",\"Cleveland\",\"Cleveland\",\"Cleveland\",\"Cleveland\",\"Cleveland\",\"Cleveland\",\"Cleveland\",\"Cleveland\",\"Cleveland\",\"Cleveland\",\"Cleveland\",\"Cleveland\",\"Cleveland\",\"Cleveland\",\"Cleveland\",\"Cleveland\",\"Cleveland\",\"Cleveland\",\"Cleveland\",\"Cleveland\",\"Cleveland\",\"Cleveland\",\"Cleveland\",\"Cleveland\",\"Cleveland\",\"Cleveland\",\"Cleveland\",\"Cleveland\",\"Cleveland\",\"Cleveland\",\"Cleveland\",\"Cleveland\",\"Cleveland\",\"Cleveland\",\"Cleveland\",\"Cleveland\",\"Cleveland\",\"Cleveland\",\"Cleveland\",\"Cleveland\",\"Cleveland\",\"Cleveland\",\"Cleveland\",\"Cleveland\",\"Cleveland\",\"Cleveland\",\"Cleveland\",\"Cleveland\",\"Cleveland\",\"Cleveland\",\"Cleveland\",\"Cleveland\",\"Cleveland\",\"Cleveland\",\"Cleveland\",\"Cleveland\",\"Cleveland\",\"Cleveland\",\"Cleveland\",\"Cleveland\",\"Cleveland\",\"Cleveland\",\"Cleveland\",\"Cleveland\",\"Cleveland\",\"Cleveland\",\"Cleveland\",\"Cleveland\",\"Cleveland\",\"Cleveland\",\"Cleveland\",\"Cleveland\",\"Cleveland\",\"Cleveland\",\"Cleveland\",\"Cleveland\",\"Cleveland\",\"Cleveland\",\"Cleveland\",\"Cleveland\",\"Cleveland\",\"Cleveland\",\"Cleveland\",\"Cleveland\",\"Cleveland\",\"Cleveland\",\"Cleveland\",\"Cleveland\",\"Cleveland\",\"Cleveland\",\"Cleveland\",\"Cleveland\",\"Cleveland\",\"Cleveland\",\"Cleveland\",\"Cleveland\",\"Cleveland\",\"Cleveland\",\"Cleveland\",\"Cleveland\",\"Cleveland\",\"Cleveland\",\"Cleveland\",\"Cleveland\",\"Cleveland\",\"Cleveland\",\"Cleveland\",\"Cleveland\",\"Cleveland\",\"Cleveland\",\"Cleveland\",\"Cleveland\",\"Cleveland\",\"Cleveland\",\"Cleveland\",\"Cleveland\",\"Cleveland\",\"Cleveland\",\"Cleveland\",\"Cleveland\",\"Cleveland\",\"Cleveland\",\"Cleveland\",\"Cleveland\",\"Cleveland\",\"Cleveland\",\"Cleveland\",\"Cleveland\",\"Cleveland\",\"Cleveland\",\"Cleveland\",\"Cleveland\",\"Cleveland\",\"Cleveland\",\"Cleveland\",\"Cleveland\",\"Cleveland\",\"Cleveland\",\"Cleveland\",\"Cleveland\",\"Cleveland\",\"Cleveland\",\"Cleveland\",\"Cleveland\",\"Cleveland\",\"Cleveland\",\"Cleveland\",\"Cleveland\",\"Cleveland\",\"Cleveland\",\"Cleveland\",\"Cleveland\",\"Cleveland\",\"Cleveland\",\"Cleveland\",\"Cleveland\",\"Cleveland\",\"Cleveland\",\"Cleveland\",\"Cleveland\",\"Cleveland\",\"Cleveland\",\"Cleveland\",\"Cleveland\",\"Cleveland\",\"Cleveland\",\"Cleveland\",\"Cleveland\",\"Cleveland\",\"Cleveland\",\"Cleveland\",\"Cleveland\",\"Hungary\",\"Hungary\",\"Hungary\",\"Hungary\",\"Hungary\",\"Hungary\",\"Hungary\",\"Hungary\",\"Hungary\",\"Hungary\",\"Hungary\",\"Hungary\",\"Hungary\",\"Hungary\",\"Hungary\",\"Hungary\",\"Hungary\",\"Hungary\",\"Hungary\",\"Hungary\",\"Hungary\",\"Hungary\",\"Hungary\",\"Hungary\",\"Hungary\",\"Hungary\",\"Hungary\",\"Hungary\",\"Hungary\",\"Hungary\",\"Hungary\",\"Hungary\",\"Hungary\",\"Hungary\",\"Hungary\",\"Hungary\",\"Hungary\",\"Hungary\",\"Hungary\",\"Hungary\",\"Hungary\",\"Hungary\",\"Hungary\",\"Hungary\",\"Hungary\",\"Hungary\",\"Hungary\",\"Hungary\",\"Hungary\",\"Hungary\",\"Hungary\",\"Hungary\",\"Hungary\",\"Hungary\",\"Hungary\",\"Hungary\",\"Hungary\",\"Hungary\",\"Hungary\",\"Hungary\",\"Hungary\",\"Hungary\",\"Hungary\",\"Hungary\",\"Hungary\",\"Hungary\",\"Hungary\",\"Hungary\",\"Hungary\",\"Hungary\",\"Hungary\",\"Hungary\",\"Hungary\",\"Hungary\",\"Hungary\",\"Hungary\",\"Hungary\",\"Hungary\",\"Hungary\",\"Hungary\",\"Hungary\",\"Hungary\",\"Hungary\",\"Hungary\",\"Hungary\",\"Hungary\",\"Hungary\",\"Hungary\",\"Hungary\",\"Hungary\",\"Hungary\",\"Hungary\",\"Hungary\",\"Hungary\",\"Hungary\",\"Hungary\",\"Hungary\",\"Hungary\",\"Hungary\",\"Hungary\",\"Hungary\",\"Hungary\",\"Hungary\",\"Hungary\",\"Hungary\",\"Hungary\",\"Hungary\",\"Hungary\",\"Hungary\",\"Hungary\",\"Hungary\",\"Hungary\",\"Hungary\",\"Hungary\",\"Hungary\",\"Hungary\",\"Hungary\",\"Hungary\",\"Hungary\",\"Hungary\",\"Hungary\",\"Hungary\",\"Hungary\",\"Hungary\",\"Hungary\",\"Hungary\",\"Hungary\",\"Hungary\",\"Hungary\",\"Hungary\",\"Hungary\",\"Hungary\",\"Hungary\",\"Hungary\",\"Hungary\",\"Hungary\",\"Hungary\",\"Hungary\",\"Hungary\",\"Hungary\",\"Hungary\",\"Hungary\",\"Hungary\",\"Hungary\",\"Hungary\",\"Hungary\",\"Hungary\",\"Hungary\",\"Hungary\",\"Hungary\",\"Hungary\",\"Hungary\",\"Hungary\",\"Hungary\",\"Hungary\",\"Hungary\",\"Hungary\",\"Hungary\",\"Hungary\",\"Hungary\",\"Hungary\",\"Hungary\",\"Hungary\",\"Hungary\",\"Hungary\",\"Hungary\",\"Hungary\",\"Hungary\",\"Hungary\",\"Hungary\",\"Hungary\",\"Hungary\",\"Hungary\",\"Hungary\",\"Hungary\",\"Hungary\",\"Hungary\",\"Hungary\",\"Hungary\",\"Hungary\",\"Hungary\",\"Hungary\",\"Hungary\",\"Hungary\",\"Hungary\",\"Hungary\",\"Hungary\",\"Hungary\",\"Hungary\",\"Hungary\",\"Hungary\",\"Hungary\",\"Hungary\",\"Hungary\",\"Hungary\",\"Hungary\",\"Hungary\",\"Hungary\",\"Hungary\",\"Hungary\",\"Hungary\",\"Hungary\",\"Hungary\",\"Hungary\",\"Hungary\",\"Hungary\",\"Hungary\",\"Hungary\",\"Hungary\",\"Hungary\",\"Hungary\",\"Hungary\",\"Switzerland\",\"Switzerland\",\"Switzerland\",\"Switzerland\",\"Switzerland\",\"Switzerland\",\"Switzerland\",\"Switzerland\",\"Switzerland\",\"Switzerland\",\"Switzerland\",\"Switzerland\",\"Switzerland\",\"Switzerland\",\"Switzerland\",\"Switzerland\",\"Switzerland\",\"Switzerland\",\"Switzerland\",\"Switzerland\",\"Switzerland\",\"Switzerland\",\"Switzerland\",\"Switzerland\",\"Switzerland\",\"Switzerland\",\"Switzerland\",\"Switzerland\",\"Switzerland\",\"Switzerland\",\"Switzerland\",\"Switzerland\",\"Switzerland\",\"Switzerland\",\"Switzerland\",\"Switzerland\",\"Switzerland\",\"Switzerland\",\"Switzerland\",\"Switzerland\",\"Switzerland\",\"Switzerland\",\"Switzerland\",\"Switzerland\",\"Switzerland\",\"Switzerland\",\"Switzerland\",\"Switzerland\",\"Switzerland\",\"Switzerland\",\"Switzerland\",\"Switzerland\",\"Switzerland\",\"Switzerland\",\"Switzerland\",\"Switzerland\",\"Switzerland\",\"Switzerland\",\"Switzerland\",\"Switzerland\",\"Switzerland\",\"Switzerland\",\"Switzerland\",\"Switzerland\",\"Switzerland\",\"Switzerland\",\"Switzerland\",\"Switzerland\",\"Switzerland\",\"Switzerland\",\"Switzerland\",\"Switzerland\",\"Switzerland\",\"Switzerland\",\"Switzerland\",\"Switzerland\",\"Switzerland\",\"Switzerland\",\"Switzerland\",\"Switzerland\",\"Switzerland\",\"Switzerland\",\"Switzerland\",\"Switzerland\",\"Switzerland\",\"Switzerland\",\"Switzerland\",\"Switzerland\",\"Switzerland\",\"Switzerland\",\"Switzerland\",\"Switzerland\",\"Switzerland\",\"Switzerland\",\"Switzerland\",\"Switzerland\",\"Switzerland\",\"Switzerland\",\"Switzerland\",\"Switzerland\",\"Switzerland\",\"Switzerland\",\"Switzerland\",\"Switzerland\",\"Switzerland\",\"Switzerland\",\"Switzerland\",\"Switzerland\",\"Switzerland\",\"Switzerland\",\"Switzerland\",\"Switzerland\",\"Switzerland\",\"VA Long Beach\",\"VA Long Beach\",\"VA Long Beach\",\"VA Long Beach\",\"VA Long Beach\",\"VA Long Beach\",\"VA Long Beach\",\"VA Long Beach\",\"VA Long Beach\",\"VA Long Beach\",\"VA Long Beach\",\"VA Long Beach\",\"VA Long Beach\",\"VA Long Beach\",\"VA Long Beach\",\"VA Long Beach\",\"VA Long Beach\",\"VA Long Beach\",\"VA Long Beach\",\"VA Long Beach\",\"VA Long Beach\",\"VA Long Beach\",\"VA Long Beach\",\"VA Long Beach\",\"VA Long Beach\",\"VA Long Beach\",\"VA Long Beach\",\"VA Long Beach\",\"VA Long Beach\",\"VA Long Beach\",\"VA Long Beach\",\"VA Long Beach\",\"VA Long Beach\",\"VA Long Beach\",\"VA Long Beach\",\"VA Long Beach\",\"VA Long Beach\",\"VA Long Beach\",\"VA Long Beach\",\"VA Long Beach\",\"VA Long Beach\",\"VA Long Beach\",\"VA Long Beach\",\"VA Long Beach\",\"VA Long Beach\",\"VA Long Beach\",\"VA Long Beach\",\"VA Long Beach\",\"VA Long Beach\",\"VA Long Beach\",\"VA Long Beach\",\"VA Long Beach\",\"VA Long Beach\",\"VA Long Beach\",\"VA Long Beach\",\"VA Long Beach\",\"VA Long Beach\",\"VA Long Beach\",\"VA Long Beach\",\"VA Long Beach\",\"VA Long Beach\",\"VA Long Beach\",\"VA Long Beach\",\"VA Long Beach\",\"VA Long Beach\",\"VA Long Beach\",\"VA Long Beach\",\"VA Long Beach\",\"VA Long Beach\",\"VA Long Beach\",\"VA Long Beach\",\"VA Long Beach\",\"VA Long Beach\",\"VA Long Beach\",\"VA Long Beach\",\"VA Long Beach\",\"VA Long Beach\",\"VA Long Beach\",\"VA Long Beach\",\"VA Long Beach\",\"VA Long Beach\",\"VA Long Beach\",\"VA Long Beach\",\"VA Long Beach\",\"VA Long Beach\",\"VA Long Beach\",\"VA Long Beach\",\"VA Long Beach\",\"VA Long Beach\",\"VA Long Beach\",\"VA Long Beach\",\"VA Long Beach\",\"VA Long Beach\",\"VA Long Beach\",\"VA Long Beach\",\"VA Long Beach\",\"VA Long Beach\",\"VA Long Beach\",\"VA Long Beach\",\"VA Long Beach\",\"VA Long Beach\",\"VA Long Beach\",\"VA Long Beach\",\"VA Long Beach\",\"VA Long Beach\",\"VA Long Beach\",\"VA Long Beach\",\"VA Long Beach\",\"VA Long Beach\",\"VA Long Beach\",\"VA Long Beach\",\"VA Long Beach\",\"VA Long Beach\",\"VA Long Beach\",\"VA Long Beach\",\"VA Long Beach\",\"VA Long Beach\",\"VA Long Beach\",\"VA Long Beach\",\"VA Long Beach\",\"VA Long Beach\",\"VA Long Beach\",\"VA Long Beach\",\"VA Long Beach\",\"VA Long Beach\",\"VA Long Beach\",\"VA Long Beach\",\"VA Long Beach\",\"VA Long Beach\",\"VA Long Beach\",\"VA Long Beach\",\"VA Long Beach\",\"VA Long Beach\",\"VA Long Beach\",\"VA Long Beach\",\"VA Long Beach\",\"VA Long Beach\",\"VA Long Beach\",\"VA Long Beach\",\"VA Long Beach\",\"VA Long Beach\",\"VA Long Beach\",\"VA Long Beach\",\"VA Long Beach\",\"VA Long Beach\",\"VA Long Beach\",\"VA Long Beach\",\"VA Long Beach\",\"VA Long Beach\",\"VA Long Beach\",\"VA Long Beach\",\"VA Long Beach\",\"VA Long Beach\",\"VA Long Beach\",\"VA Long Beach\",\"VA Long Beach\",\"VA Long Beach\",\"VA Long Beach\",\"VA Long Beach\",\"VA Long Beach\",\"VA Long Beach\",\"VA Long Beach\",\"VA Long Beach\",\"VA Long Beach\",\"VA Long Beach\",\"VA Long Beach\",\"VA Long Beach\",\"VA Long Beach\",\"VA Long Beach\",\"VA Long Beach\",\"VA Long Beach\",\"VA Long Beach\",\"VA Long Beach\",\"VA Long Beach\",\"VA Long Beach\",\"VA Long Beach\",\"VA Long Beach\",\"VA Long Beach\",\"VA Long Beach\",\"VA Long Beach\",\"VA Long Beach\",\"VA Long Beach\",\"VA Long Beach\",\"VA Long Beach\",\"VA Long Beach\",\"VA Long Beach\",\"VA Long Beach\",\"VA Long Beach\",\"VA Long Beach\",\"VA Long Beach\",\"VA Long Beach\",\"VA Long Beach\",\"VA Long Beach\",\"VA Long Beach\"],\"xaxis\":\"x\",\"y\":[1,1,1,1,1,1,1,1,1,1,1,1,1,1,1,1,1,1,1,1,1,1,1,1,1,1,1,1,1,1,1,1,1,1,1,1,1,1,1,1,1,1,1,1,1,1,1,1,1,1,1,1,1,1,1,1,1,1,1,1,1,1,1,1,1,1,1,1,1,1,1,1,1,1,1,1,1,1,1,1,1,1,1,1,1,1,1,1,1,1,1,1,1,1,1,1,1,1,1,1,1,1,1,1,1,1,1,1,1,1,1,1,1,1,1,1,1,1,1,1,1,1,1,1,1,1,1,1,1,1,1,1,1,1,1,1,1,1,1,1,1,1,1,1,1,1,1,1,1,1,1,1,1,1,1,1,1,1,1,1,1,1,1,1,1,1,1,1,1,1,1,1,1,1,1,1,1,1,1,1,1,1,1,1,1,1,1,1,1,1,1,1,1,1,1,1,1,1,1,1,1,1,1,1,1,1,1,1,1,1,1,1,1,1,1,1,1,1,1,1,1,1,1,1,1,1,1,1,1,1,1,1,1,1,1,1,1,1,1,1,1,1,1,1,1,1,1,1,1,1,1,1,1,1,1,1,1,1,1,1,1,1,1,1,1,1,1,1,1,1,1,1,1,1,1,1,1,1,1,1,1,1,1,1,1,1,1,1,1,1,1,1,1,1,1,1,1,1,1,1,1,1,1,1,1,1,1,1,1,1,1,1,1,1,1,1,1,1,1,1,1,1,1,1,1,1,1,1,1,1,1,1,1,1,1,1,1,1,1,1,1,1,1,1,1,1,1,1,1,1,1,1,1,1,1,1,1,1,1,1,1,1,1,1,1,1,1,1,1,1,1,1,1,1,1,1,1,1,1,1,1,1,1,1,1,1,1,1,1,1,1,1,1,1,1,1,1,1,1,1,1,1,1,1,1,1,1,1,1,1,1,1,1,1,1,1,1,1,1,1,1,1,1,1,1,1,1,1,1,1,1,1,1,1,1,1,1,1,1,1,1,1,1,1,1,1,1,1,1,1,1,1,1,1,1,1,1,1,1,1,1,1,1,1,1,1,1,1,1,1,1,1,1,1,1,1,1,1,1,1,1,1,1,1,1,1,1,1,1,1,1,1,1,1,1,1,1,1,1,1,1,1,1,1,1,1,1,1,1,1,1,1,1,1,1,1,1,1,1,1,1,1,1,1,1,1,1,1,1,1,1,1,1,1,1,1,1,1,1,1,1,1,1,1,1,1,1,1,1,1,1,1,1,1,1,1,1,1,1,1,1,1,1,1,1,1,1,1,1,1,1,1,1,1,1,1,1,1,1,1,1,1,1,1,1,1,1,1,1,1,1,1,1,1,1,1,1,1,1,1,1,1,1,1,1,1,1,1,1,1,1,1,1,1,1,1,1,1,1,1,1,1,1,1,1,1,1,1,1,1,1,1,1,1,1,1,1,1,1,1,1,1,1,1,1,1,1,1,1,1,1,1,1,1,1,1,1,1,1,1,1,1,1,1,1,1,1,1,1,1,1,1,1,1,1,1,1,1,1,1,1,1,1,1,1,1,1,1,1,1,1,1,1,1,1,1,1,1,1,1,1,1,1,1,1,1,1,1,1,1,1,1,1,1,1,1,1,1,1,1,1,1,1,1,1,1],\"yaxis\":\"y\",\"type\":\"bar\"},{\"alignmentgroup\":\"True\",\"hovertemplate\":\"sex=Female\\u003cbr\\u003edataset=%{x}\\u003cbr\\u003ecount=%{y}\\u003cextra\\u003e\\u003c\\u002fextra\\u003e\",\"legendgroup\":\"Female\",\"marker\":{\"color\":\"#EF553B\",\"pattern\":{\"shape\":\"\"}},\"name\":\"Female\",\"offsetgroup\":\"Female\",\"orientation\":\"v\",\"showlegend\":true,\"textposition\":\"auto\",\"x\":[\"Cleveland\",\"Cleveland\",\"Cleveland\",\"Cleveland\",\"Cleveland\",\"Cleveland\",\"Cleveland\",\"Cleveland\",\"Cleveland\",\"Cleveland\",\"Cleveland\",\"Cleveland\",\"Cleveland\",\"Cleveland\",\"Cleveland\",\"Cleveland\",\"Cleveland\",\"Cleveland\",\"Cleveland\",\"Cleveland\",\"Cleveland\",\"Cleveland\",\"Cleveland\",\"Cleveland\",\"Cleveland\",\"Cleveland\",\"Cleveland\",\"Cleveland\",\"Cleveland\",\"Cleveland\",\"Cleveland\",\"Cleveland\",\"Cleveland\",\"Cleveland\",\"Cleveland\",\"Cleveland\",\"Cleveland\",\"Cleveland\",\"Cleveland\",\"Cleveland\",\"Cleveland\",\"Cleveland\",\"Cleveland\",\"Cleveland\",\"Cleveland\",\"Cleveland\",\"Cleveland\",\"Cleveland\",\"Cleveland\",\"Cleveland\",\"Cleveland\",\"Cleveland\",\"Cleveland\",\"Cleveland\",\"Cleveland\",\"Cleveland\",\"Cleveland\",\"Cleveland\",\"Cleveland\",\"Cleveland\",\"Cleveland\",\"Cleveland\",\"Cleveland\",\"Cleveland\",\"Cleveland\",\"Cleveland\",\"Cleveland\",\"Cleveland\",\"Cleveland\",\"Cleveland\",\"Cleveland\",\"Cleveland\",\"Cleveland\",\"Cleveland\",\"Cleveland\",\"Cleveland\",\"Cleveland\",\"Cleveland\",\"Cleveland\",\"Cleveland\",\"Cleveland\",\"Cleveland\",\"Cleveland\",\"Cleveland\",\"Cleveland\",\"Cleveland\",\"Cleveland\",\"Cleveland\",\"Cleveland\",\"Cleveland\",\"Cleveland\",\"Cleveland\",\"Cleveland\",\"Cleveland\",\"Cleveland\",\"Cleveland\",\"Cleveland\",\"Hungary\",\"Hungary\",\"Hungary\",\"Hungary\",\"Hungary\",\"Hungary\",\"Hungary\",\"Hungary\",\"Hungary\",\"Hungary\",\"Hungary\",\"Hungary\",\"Hungary\",\"Hungary\",\"Hungary\",\"Hungary\",\"Hungary\",\"Hungary\",\"Hungary\",\"Hungary\",\"Hungary\",\"Hungary\",\"Hungary\",\"Hungary\",\"Hungary\",\"Hungary\",\"Hungary\",\"Hungary\",\"Hungary\",\"Hungary\",\"Hungary\",\"Hungary\",\"Hungary\",\"Hungary\",\"Hungary\",\"Hungary\",\"Hungary\",\"Hungary\",\"Hungary\",\"Hungary\",\"Hungary\",\"Hungary\",\"Hungary\",\"Hungary\",\"Hungary\",\"Hungary\",\"Hungary\",\"Hungary\",\"Hungary\",\"Hungary\",\"Hungary\",\"Hungary\",\"Hungary\",\"Hungary\",\"Hungary\",\"Hungary\",\"Hungary\",\"Hungary\",\"Hungary\",\"Hungary\",\"Hungary\",\"Hungary\",\"Hungary\",\"Hungary\",\"Hungary\",\"Hungary\",\"Hungary\",\"Hungary\",\"Hungary\",\"Hungary\",\"Hungary\",\"Hungary\",\"Hungary\",\"Hungary\",\"Hungary\",\"Hungary\",\"Hungary\",\"Hungary\",\"Hungary\",\"Hungary\",\"Hungary\",\"Switzerland\",\"Switzerland\",\"Switzerland\",\"Switzerland\",\"Switzerland\",\"Switzerland\",\"Switzerland\",\"Switzerland\",\"Switzerland\",\"Switzerland\",\"VA Long Beach\",\"VA Long Beach\",\"VA Long Beach\",\"VA Long Beach\",\"VA Long Beach\",\"VA Long Beach\"],\"xaxis\":\"x\",\"y\":[1,1,1,1,1,1,1,1,1,1,1,1,1,1,1,1,1,1,1,1,1,1,1,1,1,1,1,1,1,1,1,1,1,1,1,1,1,1,1,1,1,1,1,1,1,1,1,1,1,1,1,1,1,1,1,1,1,1,1,1,1,1,1,1,1,1,1,1,1,1,1,1,1,1,1,1,1,1,1,1,1,1,1,1,1,1,1,1,1,1,1,1,1,1,1,1,1,1,1,1,1,1,1,1,1,1,1,1,1,1,1,1,1,1,1,1,1,1,1,1,1,1,1,1,1,1,1,1,1,1,1,1,1,1,1,1,1,1,1,1,1,1,1,1,1,1,1,1,1,1,1,1,1,1,1,1,1,1,1,1,1,1,1,1,1,1,1,1,1,1,1,1,1,1,1,1,1,1,1,1,1,1,1,1,1,1,1,1,1,1,1,1,1,1],\"yaxis\":\"y\",\"type\":\"bar\"}],                        {\"template\":{\"data\":{\"histogram2dcontour\":[{\"type\":\"histogram2dcontour\",\"colorbar\":{\"outlinewidth\":0,\"ticks\":\"\"},\"colorscale\":[[0.0,\"#0d0887\"],[0.1111111111111111,\"#46039f\"],[0.2222222222222222,\"#7201a8\"],[0.3333333333333333,\"#9c179e\"],[0.4444444444444444,\"#bd3786\"],[0.5555555555555556,\"#d8576b\"],[0.6666666666666666,\"#ed7953\"],[0.7777777777777778,\"#fb9f3a\"],[0.8888888888888888,\"#fdca26\"],[1.0,\"#f0f921\"]]}],\"choropleth\":[{\"type\":\"choropleth\",\"colorbar\":{\"outlinewidth\":0,\"ticks\":\"\"}}],\"histogram2d\":[{\"type\":\"histogram2d\",\"colorbar\":{\"outlinewidth\":0,\"ticks\":\"\"},\"colorscale\":[[0.0,\"#0d0887\"],[0.1111111111111111,\"#46039f\"],[0.2222222222222222,\"#7201a8\"],[0.3333333333333333,\"#9c179e\"],[0.4444444444444444,\"#bd3786\"],[0.5555555555555556,\"#d8576b\"],[0.6666666666666666,\"#ed7953\"],[0.7777777777777778,\"#fb9f3a\"],[0.8888888888888888,\"#fdca26\"],[1.0,\"#f0f921\"]]}],\"heatmap\":[{\"type\":\"heatmap\",\"colorbar\":{\"outlinewidth\":0,\"ticks\":\"\"},\"colorscale\":[[0.0,\"#0d0887\"],[0.1111111111111111,\"#46039f\"],[0.2222222222222222,\"#7201a8\"],[0.3333333333333333,\"#9c179e\"],[0.4444444444444444,\"#bd3786\"],[0.5555555555555556,\"#d8576b\"],[0.6666666666666666,\"#ed7953\"],[0.7777777777777778,\"#fb9f3a\"],[0.8888888888888888,\"#fdca26\"],[1.0,\"#f0f921\"]]}],\"heatmapgl\":[{\"type\":\"heatmapgl\",\"colorbar\":{\"outlinewidth\":0,\"ticks\":\"\"},\"colorscale\":[[0.0,\"#0d0887\"],[0.1111111111111111,\"#46039f\"],[0.2222222222222222,\"#7201a8\"],[0.3333333333333333,\"#9c179e\"],[0.4444444444444444,\"#bd3786\"],[0.5555555555555556,\"#d8576b\"],[0.6666666666666666,\"#ed7953\"],[0.7777777777777778,\"#fb9f3a\"],[0.8888888888888888,\"#fdca26\"],[1.0,\"#f0f921\"]]}],\"contourcarpet\":[{\"type\":\"contourcarpet\",\"colorbar\":{\"outlinewidth\":0,\"ticks\":\"\"}}],\"contour\":[{\"type\":\"contour\",\"colorbar\":{\"outlinewidth\":0,\"ticks\":\"\"},\"colorscale\":[[0.0,\"#0d0887\"],[0.1111111111111111,\"#46039f\"],[0.2222222222222222,\"#7201a8\"],[0.3333333333333333,\"#9c179e\"],[0.4444444444444444,\"#bd3786\"],[0.5555555555555556,\"#d8576b\"],[0.6666666666666666,\"#ed7953\"],[0.7777777777777778,\"#fb9f3a\"],[0.8888888888888888,\"#fdca26\"],[1.0,\"#f0f921\"]]}],\"surface\":[{\"type\":\"surface\",\"colorbar\":{\"outlinewidth\":0,\"ticks\":\"\"},\"colorscale\":[[0.0,\"#0d0887\"],[0.1111111111111111,\"#46039f\"],[0.2222222222222222,\"#7201a8\"],[0.3333333333333333,\"#9c179e\"],[0.4444444444444444,\"#bd3786\"],[0.5555555555555556,\"#d8576b\"],[0.6666666666666666,\"#ed7953\"],[0.7777777777777778,\"#fb9f3a\"],[0.8888888888888888,\"#fdca26\"],[1.0,\"#f0f921\"]]}],\"mesh3d\":[{\"type\":\"mesh3d\",\"colorbar\":{\"outlinewidth\":0,\"ticks\":\"\"}}],\"scatter\":[{\"fillpattern\":{\"fillmode\":\"overlay\",\"size\":10,\"solidity\":0.2},\"type\":\"scatter\"}],\"parcoords\":[{\"type\":\"parcoords\",\"line\":{\"colorbar\":{\"outlinewidth\":0,\"ticks\":\"\"}}}],\"scatterpolargl\":[{\"type\":\"scatterpolargl\",\"marker\":{\"colorbar\":{\"outlinewidth\":0,\"ticks\":\"\"}}}],\"bar\":[{\"error_x\":{\"color\":\"#2a3f5f\"},\"error_y\":{\"color\":\"#2a3f5f\"},\"marker\":{\"line\":{\"color\":\"#E5ECF6\",\"width\":0.5},\"pattern\":{\"fillmode\":\"overlay\",\"size\":10,\"solidity\":0.2}},\"type\":\"bar\"}],\"scattergeo\":[{\"type\":\"scattergeo\",\"marker\":{\"colorbar\":{\"outlinewidth\":0,\"ticks\":\"\"}}}],\"scatterpolar\":[{\"type\":\"scatterpolar\",\"marker\":{\"colorbar\":{\"outlinewidth\":0,\"ticks\":\"\"}}}],\"histogram\":[{\"marker\":{\"pattern\":{\"fillmode\":\"overlay\",\"size\":10,\"solidity\":0.2}},\"type\":\"histogram\"}],\"scattergl\":[{\"type\":\"scattergl\",\"marker\":{\"colorbar\":{\"outlinewidth\":0,\"ticks\":\"\"}}}],\"scatter3d\":[{\"type\":\"scatter3d\",\"line\":{\"colorbar\":{\"outlinewidth\":0,\"ticks\":\"\"}},\"marker\":{\"colorbar\":{\"outlinewidth\":0,\"ticks\":\"\"}}}],\"scattermapbox\":[{\"type\":\"scattermapbox\",\"marker\":{\"colorbar\":{\"outlinewidth\":0,\"ticks\":\"\"}}}],\"scatterternary\":[{\"type\":\"scatterternary\",\"marker\":{\"colorbar\":{\"outlinewidth\":0,\"ticks\":\"\"}}}],\"scattercarpet\":[{\"type\":\"scattercarpet\",\"marker\":{\"colorbar\":{\"outlinewidth\":0,\"ticks\":\"\"}}}],\"carpet\":[{\"aaxis\":{\"endlinecolor\":\"#2a3f5f\",\"gridcolor\":\"white\",\"linecolor\":\"white\",\"minorgridcolor\":\"white\",\"startlinecolor\":\"#2a3f5f\"},\"baxis\":{\"endlinecolor\":\"#2a3f5f\",\"gridcolor\":\"white\",\"linecolor\":\"white\",\"minorgridcolor\":\"white\",\"startlinecolor\":\"#2a3f5f\"},\"type\":\"carpet\"}],\"table\":[{\"cells\":{\"fill\":{\"color\":\"#EBF0F8\"},\"line\":{\"color\":\"white\"}},\"header\":{\"fill\":{\"color\":\"#C8D4E3\"},\"line\":{\"color\":\"white\"}},\"type\":\"table\"}],\"barpolar\":[{\"marker\":{\"line\":{\"color\":\"#E5ECF6\",\"width\":0.5},\"pattern\":{\"fillmode\":\"overlay\",\"size\":10,\"solidity\":0.2}},\"type\":\"barpolar\"}],\"pie\":[{\"automargin\":true,\"type\":\"pie\"}]},\"layout\":{\"autotypenumbers\":\"strict\",\"colorway\":[\"#636efa\",\"#EF553B\",\"#00cc96\",\"#ab63fa\",\"#FFA15A\",\"#19d3f3\",\"#FF6692\",\"#B6E880\",\"#FF97FF\",\"#FECB52\"],\"font\":{\"color\":\"#2a3f5f\"},\"hovermode\":\"closest\",\"hoverlabel\":{\"align\":\"left\"},\"paper_bgcolor\":\"white\",\"plot_bgcolor\":\"#E5ECF6\",\"polar\":{\"bgcolor\":\"#E5ECF6\",\"angularaxis\":{\"gridcolor\":\"white\",\"linecolor\":\"white\",\"ticks\":\"\"},\"radialaxis\":{\"gridcolor\":\"white\",\"linecolor\":\"white\",\"ticks\":\"\"}},\"ternary\":{\"bgcolor\":\"#E5ECF6\",\"aaxis\":{\"gridcolor\":\"white\",\"linecolor\":\"white\",\"ticks\":\"\"},\"baxis\":{\"gridcolor\":\"white\",\"linecolor\":\"white\",\"ticks\":\"\"},\"caxis\":{\"gridcolor\":\"white\",\"linecolor\":\"white\",\"ticks\":\"\"}},\"coloraxis\":{\"colorbar\":{\"outlinewidth\":0,\"ticks\":\"\"}},\"colorscale\":{\"sequential\":[[0.0,\"#0d0887\"],[0.1111111111111111,\"#46039f\"],[0.2222222222222222,\"#7201a8\"],[0.3333333333333333,\"#9c179e\"],[0.4444444444444444,\"#bd3786\"],[0.5555555555555556,\"#d8576b\"],[0.6666666666666666,\"#ed7953\"],[0.7777777777777778,\"#fb9f3a\"],[0.8888888888888888,\"#fdca26\"],[1.0,\"#f0f921\"]],\"sequentialminus\":[[0.0,\"#0d0887\"],[0.1111111111111111,\"#46039f\"],[0.2222222222222222,\"#7201a8\"],[0.3333333333333333,\"#9c179e\"],[0.4444444444444444,\"#bd3786\"],[0.5555555555555556,\"#d8576b\"],[0.6666666666666666,\"#ed7953\"],[0.7777777777777778,\"#fb9f3a\"],[0.8888888888888888,\"#fdca26\"],[1.0,\"#f0f921\"]],\"diverging\":[[0,\"#8e0152\"],[0.1,\"#c51b7d\"],[0.2,\"#de77ae\"],[0.3,\"#f1b6da\"],[0.4,\"#fde0ef\"],[0.5,\"#f7f7f7\"],[0.6,\"#e6f5d0\"],[0.7,\"#b8e186\"],[0.8,\"#7fbc41\"],[0.9,\"#4d9221\"],[1,\"#276419\"]]},\"xaxis\":{\"gridcolor\":\"white\",\"linecolor\":\"white\",\"ticks\":\"\",\"title\":{\"standoff\":15},\"zerolinecolor\":\"white\",\"automargin\":true,\"zerolinewidth\":2},\"yaxis\":{\"gridcolor\":\"white\",\"linecolor\":\"white\",\"ticks\":\"\",\"title\":{\"standoff\":15},\"zerolinecolor\":\"white\",\"automargin\":true,\"zerolinewidth\":2},\"scene\":{\"xaxis\":{\"backgroundcolor\":\"#E5ECF6\",\"gridcolor\":\"white\",\"linecolor\":\"white\",\"showbackground\":true,\"ticks\":\"\",\"zerolinecolor\":\"white\",\"gridwidth\":2},\"yaxis\":{\"backgroundcolor\":\"#E5ECF6\",\"gridcolor\":\"white\",\"linecolor\":\"white\",\"showbackground\":true,\"ticks\":\"\",\"zerolinecolor\":\"white\",\"gridwidth\":2},\"zaxis\":{\"backgroundcolor\":\"#E5ECF6\",\"gridcolor\":\"white\",\"linecolor\":\"white\",\"showbackground\":true,\"ticks\":\"\",\"zerolinecolor\":\"white\",\"gridwidth\":2}},\"shapedefaults\":{\"line\":{\"color\":\"#2a3f5f\"}},\"annotationdefaults\":{\"arrowcolor\":\"#2a3f5f\",\"arrowhead\":0,\"arrowwidth\":1},\"geo\":{\"bgcolor\":\"white\",\"landcolor\":\"#E5ECF6\",\"subunitcolor\":\"white\",\"showland\":true,\"showlakes\":true,\"lakecolor\":\"white\"},\"title\":{\"x\":0.05},\"mapbox\":{\"style\":\"light\"}}},\"xaxis\":{\"anchor\":\"y\",\"domain\":[0.0,1.0],\"title\":{\"text\":\"dataset\"}},\"yaxis\":{\"anchor\":\"x\",\"domain\":[0.0,1.0],\"title\":{\"text\":\"count\"}},\"legend\":{\"title\":{\"text\":\"sex\"},\"tracegroupgap\":0},\"margin\":{\"t\":60},\"barmode\":\"relative\"},                        {\"responsive\": true}                    ).then(function(){\n",
              "                            \n",
              "var gd = document.getElementById('afd3fa99-9632-42fb-b2e7-7cd6795929f7');\n",
              "var x = new MutationObserver(function (mutations, observer) {{\n",
              "        var display = window.getComputedStyle(gd).display;\n",
              "        if (!display || display === 'none') {{\n",
              "            console.log([gd, 'removed!']);\n",
              "            Plotly.purge(gd);\n",
              "            observer.disconnect();\n",
              "        }}\n",
              "}});\n",
              "\n",
              "// Listen for the removal of the full notebook cells\n",
              "var notebookContainer = gd.closest('#notebook-container');\n",
              "if (notebookContainer) {{\n",
              "    x.observe(notebookContainer, {childList: true});\n",
              "}}\n",
              "\n",
              "// Listen for the clearing of the current output cell\n",
              "var outputEl = gd.closest('.output');\n",
              "if (outputEl) {{\n",
              "    x.observe(outputEl, {childList: true});\n",
              "}}\n",
              "\n",
              "                        })                };                            </script>        </div>\n",
              "</body>\n",
              "</html>"
            ]
          },
          "metadata": {}
        }
      ]
    },
    {
      "cell_type": "markdown",
      "source": [
        "\n",
        "### CP Column"
      ],
      "metadata": {
        "id": "dObrPtvdFABB"
      }
    },
    {
      "cell_type": "code",
      "source": [
        "plt.figure(figsize=(10,6))\n",
        "# value count of cp column\n",
        "print(\"value_counts of :\",df['cp'].value_counts())\n",
        "# count plot of cp column by sex column\n",
        "fig = px.histogram(df, x='cp', color='sex', barmode='group')\n",
        "fig.show()"
      ],
      "metadata": {
        "execution": {
          "iopub.status.busy": "2024-02-16T04:55:52.510329Z",
          "iopub.execute_input": "2024-02-16T04:55:52.511109Z",
          "iopub.status.idle": "2024-02-16T04:55:52.608666Z",
          "shell.execute_reply.started": "2024-02-16T04:55:52.511051Z",
          "shell.execute_reply": "2024-02-16T04:55:52.607404Z"
        },
        "trusted": true,
        "id": "adZDuuFNFABB",
        "outputId": "1c60bfa1-7016-4b3c-8a15-5fea1330e126",
        "colab": {
          "base_uri": "https://localhost:8080/",
          "height": 684
        }
      },
      "execution_count": null,
      "outputs": [
        {
          "output_type": "stream",
          "name": "stdout",
          "text": [
            "value_counts of : cp\n",
            "asymptomatic       496\n",
            "non-anginal        204\n",
            "atypical angina    174\n",
            "typical angina      46\n",
            "Name: count, dtype: int64\n"
          ]
        },
        {
          "output_type": "display_data",
          "data": {
            "text/html": [
              "<html>\n",
              "<head><meta charset=\"utf-8\" /></head>\n",
              "<body>\n",
              "    <div>            <script src=\"https://cdnjs.cloudflare.com/ajax/libs/mathjax/2.7.5/MathJax.js?config=TeX-AMS-MML_SVG\"></script><script type=\"text/javascript\">if (window.MathJax && window.MathJax.Hub && window.MathJax.Hub.Config) {window.MathJax.Hub.Config({SVG: {font: \"STIX-Web\"}});}</script>                <script type=\"text/javascript\">window.PlotlyConfig = {MathJaxConfig: 'local'};</script>\n",
              "        <script charset=\"utf-8\" src=\"https://cdn.plot.ly/plotly-2.35.2.min.js\"></script>                <div id=\"7e4fdf90-995b-4475-b42d-f43fda4017bd\" class=\"plotly-graph-div\" style=\"height:525px; width:100%;\"></div>            <script type=\"text/javascript\">                                    window.PLOTLYENV=window.PLOTLYENV || {};                                    if (document.getElementById(\"7e4fdf90-995b-4475-b42d-f43fda4017bd\")) {                    Plotly.newPlot(                        \"7e4fdf90-995b-4475-b42d-f43fda4017bd\",                        [{\"alignmentgroup\":\"True\",\"bingroup\":\"x\",\"hovertemplate\":\"sex=Male\\u003cbr\\u003ecp=%{x}\\u003cbr\\u003ecount=%{y}\\u003cextra\\u003e\\u003c\\u002fextra\\u003e\",\"legendgroup\":\"Male\",\"marker\":{\"color\":\"#636efa\",\"pattern\":{\"shape\":\"\"}},\"name\":\"Male\",\"offsetgroup\":\"Male\",\"orientation\":\"v\",\"showlegend\":true,\"x\":[\"typical angina\",\"asymptomatic\",\"asymptomatic\",\"non-anginal\",\"atypical angina\",\"asymptomatic\",\"asymptomatic\",\"asymptomatic\",\"non-anginal\",\"atypical angina\",\"non-anginal\",\"non-anginal\",\"atypical angina\",\"asymptomatic\",\"atypical angina\",\"typical angina\",\"atypical angina\",\"non-anginal\",\"asymptomatic\",\"asymptomatic\",\"asymptomatic\",\"asymptomatic\",\"non-anginal\",\"asymptomatic\",\"non-anginal\",\"asymptomatic\",\"asymptomatic\",\"asymptomatic\",\"asymptomatic\",\"non-anginal\",\"typical angina\",\"non-anginal\",\"non-anginal\",\"non-anginal\",\"asymptomatic\",\"non-anginal\",\"asymptomatic\",\"asymptomatic\",\"atypical angina\",\"asymptomatic\",\"asymptomatic\",\"non-anginal\",\"asymptomatic\",\"non-anginal\",\"typical angina\",\"asymptomatic\",\"asymptomatic\",\"asymptomatic\",\"non-anginal\",\"non-anginal\",\"asymptomatic\",\"non-anginal\",\"asymptomatic\",\"asymptomatic\",\"asymptomatic\",\"asymptomatic\",\"asymptomatic\",\"atypical angina\",\"asymptomatic\",\"asymptomatic\",\"non-anginal\",\"non-anginal\",\"atypical angina\",\"non-anginal\",\"non-anginal\",\"asymptomatic\",\"non-anginal\",\"asymptomatic\",\"asymptomatic\",\"atypical angina\",\"asymptomatic\",\"asymptomatic\",\"typical angina\",\"non-anginal\",\"atypical angina\",\"asymptomatic\",\"non-anginal\",\"asymptomatic\",\"asymptomatic\",\"asymptomatic\",\"typical angina\",\"atypical angina\",\"non-anginal\",\"asymptomatic\",\"asymptomatic\",\"asymptomatic\",\"non-anginal\",\"asymptomatic\",\"typical angina\",\"asymptomatic\",\"atypical angina\",\"non-anginal\",\"non-anginal\",\"atypical angina\",\"asymptomatic\",\"asymptomatic\",\"atypical angina\",\"asymptomatic\",\"non-anginal\",\"atypical angina\",\"typical angina\",\"atypical angina\",\"non-anginal\",\"non-anginal\",\"non-anginal\",\"asymptomatic\",\"non-anginal\",\"atypical angina\",\"typical angina\",\"asymptomatic\",\"asymptomatic\",\"asymptomatic\",\"asymptomatic\",\"asymptomatic\",\"asymptomatic\",\"non-anginal\",\"atypical angina\",\"asymptomatic\",\"non-anginal\",\"asymptomatic\",\"non-anginal\",\"asymptomatic\",\"non-anginal\",\"asymptomatic\",\"asymptomatic\",\"asymptomatic\",\"asymptomatic\",\"asymptomatic\",\"non-anginal\",\"non-anginal\",\"asymptomatic\",\"typical angina\",\"typical angina\",\"non-anginal\",\"atypical angina\",\"atypical angina\",\"non-anginal\",\"non-anginal\",\"asymptomatic\",\"asymptomatic\",\"asymptomatic\",\"typical angina\",\"typical angina\",\"non-anginal\",\"asymptomatic\",\"asymptomatic\",\"asymptomatic\",\"asymptomatic\",\"atypical angina\",\"typical angina\",\"non-anginal\",\"asymptomatic\",\"typical angina\",\"asymptomatic\",\"asymptomatic\",\"asymptomatic\",\"asymptomatic\",\"asymptomatic\",\"non-anginal\",\"asymptomatic\",\"asymptomatic\",\"asymptomatic\",\"atypical angina\",\"atypical angina\",\"typical angina\",\"asymptomatic\",\"asymptomatic\",\"asymptomatic\",\"asymptomatic\",\"atypical angina\",\"asymptomatic\",\"asymptomatic\",\"asymptomatic\",\"asymptomatic\",\"atypical angina\",\"atypical angina\",\"non-anginal\",\"asymptomatic\",\"asymptomatic\",\"asymptomatic\",\"non-anginal\",\"asymptomatic\",\"non-anginal\",\"asymptomatic\",\"asymptomatic\",\"asymptomatic\",\"typical angina\",\"typical angina\",\"atypical angina\",\"asymptomatic\",\"non-anginal\",\"atypical angina\",\"asymptomatic\",\"asymptomatic\",\"atypical angina\",\"atypical angina\",\"atypical angina\",\"non-anginal\",\"asymptomatic\",\"asymptomatic\",\"atypical angina\",\"asymptomatic\",\"typical angina\",\"asymptomatic\",\"asymptomatic\",\"non-anginal\",\"atypical angina\",\"atypical angina\",\"atypical angina\",\"atypical angina\",\"atypical angina\",\"non-anginal\",\"atypical angina\",\"atypical angina\",\"atypical angina\",\"atypical angina\",\"atypical angina\",\"non-anginal\",\"non-anginal\",\"non-anginal\",\"atypical angina\",\"non-anginal\",\"asymptomatic\",\"asymptomatic\",\"atypical angina\",\"non-anginal\",\"atypical angina\",\"atypical angina\",\"atypical angina\",\"atypical angina\",\"atypical angina\",\"non-anginal\",\"non-anginal\",\"asymptomatic\",\"asymptomatic\",\"atypical angina\",\"atypical angina\",\"non-anginal\",\"non-anginal\",\"non-anginal\",\"atypical angina\",\"atypical angina\",\"atypical angina\",\"asymptomatic\",\"atypical angina\",\"atypical angina\",\"atypical angina\",\"non-anginal\",\"non-anginal\",\"asymptomatic\",\"atypical angina\",\"atypical angina\",\"atypical angina\",\"asymptomatic\",\"atypical angina\",\"non-anginal\",\"asymptomatic\",\"asymptomatic\",\"atypical angina\",\"non-anginal\",\"non-anginal\",\"asymptomatic\",\"asymptomatic\",\"asymptomatic\",\"typical angina\",\"atypical angina\",\"asymptomatic\",\"atypical angina\",\"atypical angina\",\"atypical angina\",\"non-anginal\",\"atypical angina\",\"non-anginal\",\"asymptomatic\",\"asymptomatic\",\"atypical angina\",\"atypical angina\",\"atypical angina\",\"asymptomatic\",\"asymptomatic\",\"atypical angina\",\"atypical angina\",\"asymptomatic\",\"atypical angina\",\"atypical angina\",\"atypical angina\",\"non-anginal\",\"atypical angina\",\"atypical angina\",\"non-anginal\",\"asymptomatic\",\"asymptomatic\",\"asymptomatic\",\"typical angina\",\"atypical angina\",\"atypical angina\",\"atypical angina\",\"atypical angina\",\"atypical angina\",\"non-anginal\",\"non-anginal\",\"asymptomatic\",\"atypical angina\",\"atypical angina\",\"atypical angina\",\"non-anginal\",\"non-anginal\",\"asymptomatic\",\"asymptomatic\",\"atypical angina\",\"non-anginal\",\"non-anginal\",\"asymptomatic\",\"atypical angina\",\"atypical angina\",\"atypical angina\",\"non-anginal\",\"asymptomatic\",\"atypical angina\",\"non-anginal\",\"non-anginal\",\"asymptomatic\",\"non-anginal\",\"asymptomatic\",\"atypical angina\",\"asymptomatic\",\"typical angina\",\"atypical angina\",\"atypical angina\",\"asymptomatic\",\"asymptomatic\",\"asymptomatic\",\"asymptomatic\",\"asymptomatic\",\"asymptomatic\",\"asymptomatic\",\"asymptomatic\",\"asymptomatic\",\"asymptomatic\",\"asymptomatic\",\"non-anginal\",\"asymptomatic\",\"asymptomatic\",\"asymptomatic\",\"asymptomatic\",\"non-anginal\",\"asymptomatic\",\"asymptomatic\",\"asymptomatic\",\"asymptomatic\",\"asymptomatic\",\"asymptomatic\",\"atypical angina\",\"non-anginal\",\"asymptomatic\",\"asymptomatic\",\"asymptomatic\",\"asymptomatic\",\"asymptomatic\",\"asymptomatic\",\"typical angina\",\"asymptomatic\",\"asymptomatic\",\"asymptomatic\",\"asymptomatic\",\"asymptomatic\",\"asymptomatic\",\"asymptomatic\",\"asymptomatic\",\"asymptomatic\",\"asymptomatic\",\"asymptomatic\",\"non-anginal\",\"asymptomatic\",\"asymptomatic\",\"asymptomatic\",\"asymptomatic\",\"asymptomatic\",\"asymptomatic\",\"asymptomatic\",\"non-anginal\",\"asymptomatic\",\"asymptomatic\",\"asymptomatic\",\"atypical angina\",\"asymptomatic\",\"typical angina\",\"asymptomatic\",\"asymptomatic\",\"non-anginal\",\"asymptomatic\",\"asymptomatic\",\"asymptomatic\",\"asymptomatic\",\"non-anginal\",\"asymptomatic\",\"asymptomatic\",\"typical angina\",\"atypical angina\",\"asymptomatic\",\"asymptomatic\",\"asymptomatic\",\"atypical angina\",\"asymptomatic\",\"asymptomatic\",\"asymptomatic\",\"asymptomatic\",\"asymptomatic\",\"asymptomatic\",\"asymptomatic\",\"asymptomatic\",\"asymptomatic\",\"asymptomatic\",\"asymptomatic\",\"asymptomatic\",\"asymptomatic\",\"asymptomatic\",\"asymptomatic\",\"asymptomatic\",\"typical angina\",\"asymptomatic\",\"asymptomatic\",\"asymptomatic\",\"non-anginal\",\"non-anginal\",\"asymptomatic\",\"asymptomatic\",\"asymptomatic\",\"asymptomatic\",\"asymptomatic\",\"asymptomatic\",\"asymptomatic\",\"asymptomatic\",\"asymptomatic\",\"non-anginal\",\"asymptomatic\",\"asymptomatic\",\"non-anginal\",\"non-anginal\",\"asymptomatic\",\"asymptomatic\",\"asymptomatic\",\"asymptomatic\",\"asymptomatic\",\"asymptomatic\",\"asymptomatic\",\"asymptomatic\",\"asymptomatic\",\"asymptomatic\",\"asymptomatic\",\"asymptomatic\",\"asymptomatic\",\"asymptomatic\",\"asymptomatic\",\"asymptomatic\",\"atypical angina\",\"atypical angina\",\"non-anginal\",\"non-anginal\",\"asymptomatic\",\"asymptomatic\",\"asymptomatic\",\"asymptomatic\",\"asymptomatic\",\"asymptomatic\",\"asymptomatic\",\"atypical angina\",\"asymptomatic\",\"asymptomatic\",\"asymptomatic\",\"non-anginal\",\"non-anginal\",\"non-anginal\",\"asymptomatic\",\"asymptomatic\",\"asymptomatic\",\"asymptomatic\",\"asymptomatic\",\"non-anginal\",\"asymptomatic\",\"asymptomatic\",\"asymptomatic\",\"asymptomatic\",\"asymptomatic\",\"asymptomatic\",\"asymptomatic\",\"asymptomatic\",\"non-anginal\",\"asymptomatic\",\"asymptomatic\",\"asymptomatic\",\"asymptomatic\",\"non-anginal\",\"asymptomatic\",\"asymptomatic\",\"asymptomatic\",\"asymptomatic\",\"asymptomatic\",\"non-anginal\",\"asymptomatic\",\"asymptomatic\",\"asymptomatic\",\"asymptomatic\",\"asymptomatic\",\"asymptomatic\",\"asymptomatic\",\"asymptomatic\",\"typical angina\",\"non-anginal\",\"asymptomatic\",\"asymptomatic\",\"asymptomatic\",\"asymptomatic\",\"asymptomatic\",\"asymptomatic\",\"asymptomatic\",\"asymptomatic\",\"asymptomatic\",\"asymptomatic\",\"asymptomatic\",\"asymptomatic\",\"asymptomatic\",\"asymptomatic\",\"typical angina\",\"asymptomatic\",\"asymptomatic\",\"asymptomatic\",\"asymptomatic\",\"asymptomatic\",\"asymptomatic\",\"non-anginal\",\"atypical angina\",\"asymptomatic\",\"asymptomatic\",\"asymptomatic\",\"asymptomatic\",\"non-anginal\",\"non-anginal\",\"asymptomatic\",\"non-anginal\",\"non-anginal\",\"atypical angina\",\"atypical angina\",\"asymptomatic\",\"asymptomatic\",\"non-anginal\",\"asymptomatic\",\"asymptomatic\",\"asymptomatic\",\"asymptomatic\",\"asymptomatic\",\"asymptomatic\",\"asymptomatic\",\"asymptomatic\",\"non-anginal\",\"non-anginal\",\"non-anginal\",\"asymptomatic\",\"asymptomatic\",\"asymptomatic\",\"asymptomatic\",\"non-anginal\",\"asymptomatic\",\"asymptomatic\",\"asymptomatic\",\"non-anginal\",\"non-anginal\",\"asymptomatic\",\"asymptomatic\",\"asymptomatic\",\"asymptomatic\",\"asymptomatic\",\"non-anginal\",\"asymptomatic\",\"asymptomatic\",\"asymptomatic\",\"asymptomatic\",\"asymptomatic\",\"asymptomatic\",\"asymptomatic\",\"non-anginal\",\"non-anginal\",\"non-anginal\",\"asymptomatic\",\"atypical angina\",\"asymptomatic\",\"asymptomatic\",\"asymptomatic\",\"non-anginal\",\"atypical angina\",\"asymptomatic\",\"asymptomatic\",\"asymptomatic\",\"asymptomatic\",\"non-anginal\",\"atypical angina\",\"non-anginal\",\"typical angina\",\"asymptomatic\",\"asymptomatic\",\"atypical angina\",\"atypical angina\",\"asymptomatic\",\"typical angina\",\"asymptomatic\",\"non-anginal\",\"asymptomatic\",\"typical angina\",\"non-anginal\",\"asymptomatic\",\"asymptomatic\",\"asymptomatic\",\"asymptomatic\",\"asymptomatic\",\"asymptomatic\",\"asymptomatic\",\"asymptomatic\",\"asymptomatic\",\"asymptomatic\",\"non-anginal\",\"asymptomatic\",\"non-anginal\",\"asymptomatic\",\"asymptomatic\",\"asymptomatic\",\"asymptomatic\",\"non-anginal\",\"typical angina\",\"asymptomatic\",\"non-anginal\",\"non-anginal\",\"asymptomatic\",\"non-anginal\",\"asymptomatic\",\"asymptomatic\",\"asymptomatic\",\"asymptomatic\",\"asymptomatic\",\"asymptomatic\",\"non-anginal\",\"asymptomatic\",\"atypical angina\",\"non-anginal\",\"asymptomatic\",\"asymptomatic\",\"asymptomatic\",\"asymptomatic\",\"asymptomatic\",\"asymptomatic\",\"asymptomatic\",\"non-anginal\",\"asymptomatic\",\"asymptomatic\",\"asymptomatic\",\"non-anginal\",\"non-anginal\",\"asymptomatic\",\"asymptomatic\",\"non-anginal\",\"typical angina\",\"asymptomatic\",\"typical angina\",\"asymptomatic\",\"non-anginal\",\"non-anginal\",\"typical angina\",\"non-anginal\",\"non-anginal\",\"asymptomatic\",\"non-anginal\",\"non-anginal\",\"asymptomatic\",\"non-anginal\",\"atypical angina\",\"asymptomatic\",\"asymptomatic\",\"asymptomatic\",\"asymptomatic\",\"asymptomatic\",\"asymptomatic\",\"asymptomatic\",\"asymptomatic\",\"asymptomatic\",\"asymptomatic\",\"asymptomatic\",\"asymptomatic\",\"asymptomatic\",\"asymptomatic\",\"asymptomatic\",\"asymptomatic\",\"asymptomatic\",\"asymptomatic\",\"asymptomatic\",\"asymptomatic\",\"asymptomatic\",\"non-anginal\",\"asymptomatic\",\"atypical angina\",\"asymptomatic\",\"non-anginal\",\"asymptomatic\",\"non-anginal\",\"atypical angina\",\"asymptomatic\",\"asymptomatic\",\"asymptomatic\",\"asymptomatic\",\"asymptomatic\",\"asymptomatic\",\"non-anginal\",\"asymptomatic\",\"asymptomatic\",\"asymptomatic\",\"non-anginal\",\"non-anginal\",\"non-anginal\",\"asymptomatic\",\"non-anginal\",\"asymptomatic\",\"asymptomatic\",\"asymptomatic\",\"asymptomatic\",\"typical angina\",\"asymptomatic\",\"asymptomatic\",\"atypical angina\"],\"xaxis\":\"x\",\"yaxis\":\"y\",\"type\":\"histogram\"},{\"alignmentgroup\":\"True\",\"bingroup\":\"x\",\"hovertemplate\":\"sex=Female\\u003cbr\\u003ecp=%{x}\\u003cbr\\u003ecount=%{y}\\u003cextra\\u003e\\u003c\\u002fextra\\u003e\",\"legendgroup\":\"Female\",\"marker\":{\"color\":\"#EF553B\",\"pattern\":{\"shape\":\"\"}},\"name\":\"Female\",\"offsetgroup\":\"Female\",\"orientation\":\"v\",\"showlegend\":true,\"x\":[\"atypical angina\",\"asymptomatic\",\"asymptomatic\",\"atypical angina\",\"non-anginal\",\"typical angina\",\"non-anginal\",\"non-anginal\",\"typical angina\",\"typical angina\",\"asymptomatic\",\"atypical angina\",\"asymptomatic\",\"non-anginal\",\"atypical angina\",\"asymptomatic\",\"non-anginal\",\"non-anginal\",\"non-anginal\",\"non-anginal\",\"non-anginal\",\"asymptomatic\",\"non-anginal\",\"asymptomatic\",\"non-anginal\",\"asymptomatic\",\"non-anginal\",\"non-anginal\",\"asymptomatic\",\"asymptomatic\",\"non-anginal\",\"asymptomatic\",\"asymptomatic\",\"non-anginal\",\"asymptomatic\",\"asymptomatic\",\"atypical angina\",\"asymptomatic\",\"asymptomatic\",\"non-anginal\",\"atypical angina\",\"non-anginal\",\"asymptomatic\",\"non-anginal\",\"non-anginal\",\"asymptomatic\",\"atypical angina\",\"atypical angina\",\"asymptomatic\",\"asymptomatic\",\"asymptomatic\",\"asymptomatic\",\"atypical angina\",\"asymptomatic\",\"non-anginal\",\"asymptomatic\",\"atypical angina\",\"asymptomatic\",\"asymptomatic\",\"non-anginal\",\"asymptomatic\",\"non-anginal\",\"asymptomatic\",\"atypical angina\",\"asymptomatic\",\"asymptomatic\",\"non-anginal\",\"non-anginal\",\"non-anginal\",\"asymptomatic\",\"atypical angina\",\"non-anginal\",\"non-anginal\",\"asymptomatic\",\"atypical angina\",\"non-anginal\",\"atypical angina\",\"atypical angina\",\"asymptomatic\",\"non-anginal\",\"non-anginal\",\"non-anginal\",\"asymptomatic\",\"non-anginal\",\"non-anginal\",\"atypical angina\",\"typical angina\",\"asymptomatic\",\"non-anginal\",\"non-anginal\",\"asymptomatic\",\"asymptomatic\",\"asymptomatic\",\"atypical angina\",\"asymptomatic\",\"asymptomatic\",\"atypical angina\",\"typical angina\",\"atypical angina\",\"atypical angina\",\"atypical angina\",\"typical angina\",\"asymptomatic\",\"atypical angina\",\"non-anginal\",\"asymptomatic\",\"atypical angina\",\"non-anginal\",\"atypical angina\",\"atypical angina\",\"atypical angina\",\"non-anginal\",\"typical angina\",\"atypical angina\",\"atypical angina\",\"atypical angina\",\"atypical angina\",\"atypical angina\",\"non-anginal\",\"asymptomatic\",\"atypical angina\",\"atypical angina\",\"asymptomatic\",\"asymptomatic\",\"atypical angina\",\"non-anginal\",\"atypical angina\",\"atypical angina\",\"atypical angina\",\"non-anginal\",\"asymptomatic\",\"asymptomatic\",\"asymptomatic\",\"atypical angina\",\"atypical angina\",\"atypical angina\",\"non-anginal\",\"atypical angina\",\"asymptomatic\",\"atypical angina\",\"non-anginal\",\"non-anginal\",\"non-anginal\",\"atypical angina\",\"atypical angina\",\"non-anginal\",\"asymptomatic\",\"atypical angina\",\"atypical angina\",\"non-anginal\",\"atypical angina\",\"atypical angina\",\"atypical angina\",\"atypical angina\",\"atypical angina\",\"atypical angina\",\"atypical angina\",\"atypical angina\",\"atypical angina\",\"atypical angina\",\"non-anginal\",\"typical angina\",\"asymptomatic\",\"atypical angina\",\"asymptomatic\",\"typical angina\",\"asymptomatic\",\"non-anginal\",\"non-anginal\",\"asymptomatic\",\"asymptomatic\",\"asymptomatic\",\"non-anginal\",\"asymptomatic\",\"atypical angina\",\"asymptomatic\",\"non-anginal\",\"atypical angina\",\"asymptomatic\",\"asymptomatic\",\"asymptomatic\",\"asymptomatic\",\"typical angina\",\"asymptomatic\",\"asymptomatic\",\"asymptomatic\",\"asymptomatic\",\"non-anginal\",\"atypical angina\",\"asymptomatic\",\"asymptomatic\",\"atypical angina\",\"asymptomatic\",\"asymptomatic\"],\"xaxis\":\"x\",\"yaxis\":\"y\",\"type\":\"histogram\"}],                        {\"template\":{\"data\":{\"histogram2dcontour\":[{\"type\":\"histogram2dcontour\",\"colorbar\":{\"outlinewidth\":0,\"ticks\":\"\"},\"colorscale\":[[0.0,\"#0d0887\"],[0.1111111111111111,\"#46039f\"],[0.2222222222222222,\"#7201a8\"],[0.3333333333333333,\"#9c179e\"],[0.4444444444444444,\"#bd3786\"],[0.5555555555555556,\"#d8576b\"],[0.6666666666666666,\"#ed7953\"],[0.7777777777777778,\"#fb9f3a\"],[0.8888888888888888,\"#fdca26\"],[1.0,\"#f0f921\"]]}],\"choropleth\":[{\"type\":\"choropleth\",\"colorbar\":{\"outlinewidth\":0,\"ticks\":\"\"}}],\"histogram2d\":[{\"type\":\"histogram2d\",\"colorbar\":{\"outlinewidth\":0,\"ticks\":\"\"},\"colorscale\":[[0.0,\"#0d0887\"],[0.1111111111111111,\"#46039f\"],[0.2222222222222222,\"#7201a8\"],[0.3333333333333333,\"#9c179e\"],[0.4444444444444444,\"#bd3786\"],[0.5555555555555556,\"#d8576b\"],[0.6666666666666666,\"#ed7953\"],[0.7777777777777778,\"#fb9f3a\"],[0.8888888888888888,\"#fdca26\"],[1.0,\"#f0f921\"]]}],\"heatmap\":[{\"type\":\"heatmap\",\"colorbar\":{\"outlinewidth\":0,\"ticks\":\"\"},\"colorscale\":[[0.0,\"#0d0887\"],[0.1111111111111111,\"#46039f\"],[0.2222222222222222,\"#7201a8\"],[0.3333333333333333,\"#9c179e\"],[0.4444444444444444,\"#bd3786\"],[0.5555555555555556,\"#d8576b\"],[0.6666666666666666,\"#ed7953\"],[0.7777777777777778,\"#fb9f3a\"],[0.8888888888888888,\"#fdca26\"],[1.0,\"#f0f921\"]]}],\"heatmapgl\":[{\"type\":\"heatmapgl\",\"colorbar\":{\"outlinewidth\":0,\"ticks\":\"\"},\"colorscale\":[[0.0,\"#0d0887\"],[0.1111111111111111,\"#46039f\"],[0.2222222222222222,\"#7201a8\"],[0.3333333333333333,\"#9c179e\"],[0.4444444444444444,\"#bd3786\"],[0.5555555555555556,\"#d8576b\"],[0.6666666666666666,\"#ed7953\"],[0.7777777777777778,\"#fb9f3a\"],[0.8888888888888888,\"#fdca26\"],[1.0,\"#f0f921\"]]}],\"contourcarpet\":[{\"type\":\"contourcarpet\",\"colorbar\":{\"outlinewidth\":0,\"ticks\":\"\"}}],\"contour\":[{\"type\":\"contour\",\"colorbar\":{\"outlinewidth\":0,\"ticks\":\"\"},\"colorscale\":[[0.0,\"#0d0887\"],[0.1111111111111111,\"#46039f\"],[0.2222222222222222,\"#7201a8\"],[0.3333333333333333,\"#9c179e\"],[0.4444444444444444,\"#bd3786\"],[0.5555555555555556,\"#d8576b\"],[0.6666666666666666,\"#ed7953\"],[0.7777777777777778,\"#fb9f3a\"],[0.8888888888888888,\"#fdca26\"],[1.0,\"#f0f921\"]]}],\"surface\":[{\"type\":\"surface\",\"colorbar\":{\"outlinewidth\":0,\"ticks\":\"\"},\"colorscale\":[[0.0,\"#0d0887\"],[0.1111111111111111,\"#46039f\"],[0.2222222222222222,\"#7201a8\"],[0.3333333333333333,\"#9c179e\"],[0.4444444444444444,\"#bd3786\"],[0.5555555555555556,\"#d8576b\"],[0.6666666666666666,\"#ed7953\"],[0.7777777777777778,\"#fb9f3a\"],[0.8888888888888888,\"#fdca26\"],[1.0,\"#f0f921\"]]}],\"mesh3d\":[{\"type\":\"mesh3d\",\"colorbar\":{\"outlinewidth\":0,\"ticks\":\"\"}}],\"scatter\":[{\"fillpattern\":{\"fillmode\":\"overlay\",\"size\":10,\"solidity\":0.2},\"type\":\"scatter\"}],\"parcoords\":[{\"type\":\"parcoords\",\"line\":{\"colorbar\":{\"outlinewidth\":0,\"ticks\":\"\"}}}],\"scatterpolargl\":[{\"type\":\"scatterpolargl\",\"marker\":{\"colorbar\":{\"outlinewidth\":0,\"ticks\":\"\"}}}],\"bar\":[{\"error_x\":{\"color\":\"#2a3f5f\"},\"error_y\":{\"color\":\"#2a3f5f\"},\"marker\":{\"line\":{\"color\":\"#E5ECF6\",\"width\":0.5},\"pattern\":{\"fillmode\":\"overlay\",\"size\":10,\"solidity\":0.2}},\"type\":\"bar\"}],\"scattergeo\":[{\"type\":\"scattergeo\",\"marker\":{\"colorbar\":{\"outlinewidth\":0,\"ticks\":\"\"}}}],\"scatterpolar\":[{\"type\":\"scatterpolar\",\"marker\":{\"colorbar\":{\"outlinewidth\":0,\"ticks\":\"\"}}}],\"histogram\":[{\"marker\":{\"pattern\":{\"fillmode\":\"overlay\",\"size\":10,\"solidity\":0.2}},\"type\":\"histogram\"}],\"scattergl\":[{\"type\":\"scattergl\",\"marker\":{\"colorbar\":{\"outlinewidth\":0,\"ticks\":\"\"}}}],\"scatter3d\":[{\"type\":\"scatter3d\",\"line\":{\"colorbar\":{\"outlinewidth\":0,\"ticks\":\"\"}},\"marker\":{\"colorbar\":{\"outlinewidth\":0,\"ticks\":\"\"}}}],\"scattermapbox\":[{\"type\":\"scattermapbox\",\"marker\":{\"colorbar\":{\"outlinewidth\":0,\"ticks\":\"\"}}}],\"scatterternary\":[{\"type\":\"scatterternary\",\"marker\":{\"colorbar\":{\"outlinewidth\":0,\"ticks\":\"\"}}}],\"scattercarpet\":[{\"type\":\"scattercarpet\",\"marker\":{\"colorbar\":{\"outlinewidth\":0,\"ticks\":\"\"}}}],\"carpet\":[{\"aaxis\":{\"endlinecolor\":\"#2a3f5f\",\"gridcolor\":\"white\",\"linecolor\":\"white\",\"minorgridcolor\":\"white\",\"startlinecolor\":\"#2a3f5f\"},\"baxis\":{\"endlinecolor\":\"#2a3f5f\",\"gridcolor\":\"white\",\"linecolor\":\"white\",\"minorgridcolor\":\"white\",\"startlinecolor\":\"#2a3f5f\"},\"type\":\"carpet\"}],\"table\":[{\"cells\":{\"fill\":{\"color\":\"#EBF0F8\"},\"line\":{\"color\":\"white\"}},\"header\":{\"fill\":{\"color\":\"#C8D4E3\"},\"line\":{\"color\":\"white\"}},\"type\":\"table\"}],\"barpolar\":[{\"marker\":{\"line\":{\"color\":\"#E5ECF6\",\"width\":0.5},\"pattern\":{\"fillmode\":\"overlay\",\"size\":10,\"solidity\":0.2}},\"type\":\"barpolar\"}],\"pie\":[{\"automargin\":true,\"type\":\"pie\"}]},\"layout\":{\"autotypenumbers\":\"strict\",\"colorway\":[\"#636efa\",\"#EF553B\",\"#00cc96\",\"#ab63fa\",\"#FFA15A\",\"#19d3f3\",\"#FF6692\",\"#B6E880\",\"#FF97FF\",\"#FECB52\"],\"font\":{\"color\":\"#2a3f5f\"},\"hovermode\":\"closest\",\"hoverlabel\":{\"align\":\"left\"},\"paper_bgcolor\":\"white\",\"plot_bgcolor\":\"#E5ECF6\",\"polar\":{\"bgcolor\":\"#E5ECF6\",\"angularaxis\":{\"gridcolor\":\"white\",\"linecolor\":\"white\",\"ticks\":\"\"},\"radialaxis\":{\"gridcolor\":\"white\",\"linecolor\":\"white\",\"ticks\":\"\"}},\"ternary\":{\"bgcolor\":\"#E5ECF6\",\"aaxis\":{\"gridcolor\":\"white\",\"linecolor\":\"white\",\"ticks\":\"\"},\"baxis\":{\"gridcolor\":\"white\",\"linecolor\":\"white\",\"ticks\":\"\"},\"caxis\":{\"gridcolor\":\"white\",\"linecolor\":\"white\",\"ticks\":\"\"}},\"coloraxis\":{\"colorbar\":{\"outlinewidth\":0,\"ticks\":\"\"}},\"colorscale\":{\"sequential\":[[0.0,\"#0d0887\"],[0.1111111111111111,\"#46039f\"],[0.2222222222222222,\"#7201a8\"],[0.3333333333333333,\"#9c179e\"],[0.4444444444444444,\"#bd3786\"],[0.5555555555555556,\"#d8576b\"],[0.6666666666666666,\"#ed7953\"],[0.7777777777777778,\"#fb9f3a\"],[0.8888888888888888,\"#fdca26\"],[1.0,\"#f0f921\"]],\"sequentialminus\":[[0.0,\"#0d0887\"],[0.1111111111111111,\"#46039f\"],[0.2222222222222222,\"#7201a8\"],[0.3333333333333333,\"#9c179e\"],[0.4444444444444444,\"#bd3786\"],[0.5555555555555556,\"#d8576b\"],[0.6666666666666666,\"#ed7953\"],[0.7777777777777778,\"#fb9f3a\"],[0.8888888888888888,\"#fdca26\"],[1.0,\"#f0f921\"]],\"diverging\":[[0,\"#8e0152\"],[0.1,\"#c51b7d\"],[0.2,\"#de77ae\"],[0.3,\"#f1b6da\"],[0.4,\"#fde0ef\"],[0.5,\"#f7f7f7\"],[0.6,\"#e6f5d0\"],[0.7,\"#b8e186\"],[0.8,\"#7fbc41\"],[0.9,\"#4d9221\"],[1,\"#276419\"]]},\"xaxis\":{\"gridcolor\":\"white\",\"linecolor\":\"white\",\"ticks\":\"\",\"title\":{\"standoff\":15},\"zerolinecolor\":\"white\",\"automargin\":true,\"zerolinewidth\":2},\"yaxis\":{\"gridcolor\":\"white\",\"linecolor\":\"white\",\"ticks\":\"\",\"title\":{\"standoff\":15},\"zerolinecolor\":\"white\",\"automargin\":true,\"zerolinewidth\":2},\"scene\":{\"xaxis\":{\"backgroundcolor\":\"#E5ECF6\",\"gridcolor\":\"white\",\"linecolor\":\"white\",\"showbackground\":true,\"ticks\":\"\",\"zerolinecolor\":\"white\",\"gridwidth\":2},\"yaxis\":{\"backgroundcolor\":\"#E5ECF6\",\"gridcolor\":\"white\",\"linecolor\":\"white\",\"showbackground\":true,\"ticks\":\"\",\"zerolinecolor\":\"white\",\"gridwidth\":2},\"zaxis\":{\"backgroundcolor\":\"#E5ECF6\",\"gridcolor\":\"white\",\"linecolor\":\"white\",\"showbackground\":true,\"ticks\":\"\",\"zerolinecolor\":\"white\",\"gridwidth\":2}},\"shapedefaults\":{\"line\":{\"color\":\"#2a3f5f\"}},\"annotationdefaults\":{\"arrowcolor\":\"#2a3f5f\",\"arrowhead\":0,\"arrowwidth\":1},\"geo\":{\"bgcolor\":\"white\",\"landcolor\":\"#E5ECF6\",\"subunitcolor\":\"white\",\"showland\":true,\"showlakes\":true,\"lakecolor\":\"white\"},\"title\":{\"x\":0.05},\"mapbox\":{\"style\":\"light\"}}},\"xaxis\":{\"anchor\":\"y\",\"domain\":[0.0,1.0],\"title\":{\"text\":\"cp\"}},\"yaxis\":{\"anchor\":\"x\",\"domain\":[0.0,1.0],\"title\":{\"text\":\"count\"}},\"legend\":{\"title\":{\"text\":\"sex\"},\"tracegroupgap\":0},\"margin\":{\"t\":60},\"barmode\":\"group\"},                        {\"responsive\": true}                    ).then(function(){\n",
              "                            \n",
              "var gd = document.getElementById('7e4fdf90-995b-4475-b42d-f43fda4017bd');\n",
              "var x = new MutationObserver(function (mutations, observer) {{\n",
              "        var display = window.getComputedStyle(gd).display;\n",
              "        if (!display || display === 'none') {{\n",
              "            console.log([gd, 'removed!']);\n",
              "            Plotly.purge(gd);\n",
              "            observer.disconnect();\n",
              "        }}\n",
              "}});\n",
              "\n",
              "// Listen for the removal of the full notebook cells\n",
              "var notebookContainer = gd.closest('#notebook-container');\n",
              "if (notebookContainer) {{\n",
              "    x.observe(notebookContainer, {childList: true});\n",
              "}}\n",
              "\n",
              "// Listen for the clearing of the current output cell\n",
              "var outputEl = gd.closest('.output');\n",
              "if (outputEl) {{\n",
              "    x.observe(outputEl, {childList: true});\n",
              "}}\n",
              "\n",
              "                        })                };                            </script>        </div>\n",
              "</body>\n",
              "</html>"
            ]
          },
          "metadata": {}
        },
        {
          "output_type": "display_data",
          "data": {
            "text/plain": [
              "<Figure size 1000x600 with 0 Axes>"
            ]
          },
          "metadata": {}
        }
      ]
    },
    {
      "cell_type": "code",
      "source": [
        "# count plot of cp column by dataset columnplt\n",
        "fig = px.histogram(df, x='cp', color='dataset', barmode='group')\n",
        "fig.show()"
      ],
      "metadata": {
        "execution": {
          "iopub.status.busy": "2024-02-16T04:55:52.610702Z",
          "iopub.execute_input": "2024-02-16T04:55:52.611131Z",
          "iopub.status.idle": "2024-02-16T04:55:52.708267Z",
          "shell.execute_reply.started": "2024-02-16T04:55:52.611096Z",
          "shell.execute_reply": "2024-02-16T04:55:52.706887Z"
        },
        "trusted": true,
        "id": "OA_k7biTFABB",
        "outputId": "f25f9ca6-b083-41d4-e98d-620bf2a29410",
        "colab": {
          "base_uri": "https://localhost:8080/",
          "height": 562
        }
      },
      "execution_count": null,
      "outputs": [
        {
          "output_type": "display_data",
          "data": {
            "text/html": [
              "<html>\n",
              "<head><meta charset=\"utf-8\" /></head>\n",
              "<body>\n",
              "    <div>            <script src=\"https://cdnjs.cloudflare.com/ajax/libs/mathjax/2.7.5/MathJax.js?config=TeX-AMS-MML_SVG\"></script><script type=\"text/javascript\">if (window.MathJax && window.MathJax.Hub && window.MathJax.Hub.Config) {window.MathJax.Hub.Config({SVG: {font: \"STIX-Web\"}});}</script>                <script type=\"text/javascript\">window.PlotlyConfig = {MathJaxConfig: 'local'};</script>\n",
              "        <script charset=\"utf-8\" src=\"https://cdn.plot.ly/plotly-2.35.2.min.js\"></script>                <div id=\"340f938d-16a0-4937-8678-99a94f41a310\" class=\"plotly-graph-div\" style=\"height:525px; width:100%;\"></div>            <script type=\"text/javascript\">                                    window.PLOTLYENV=window.PLOTLYENV || {};                                    if (document.getElementById(\"340f938d-16a0-4937-8678-99a94f41a310\")) {                    Plotly.newPlot(                        \"340f938d-16a0-4937-8678-99a94f41a310\",                        [{\"alignmentgroup\":\"True\",\"bingroup\":\"x\",\"hovertemplate\":\"dataset=Cleveland\\u003cbr\\u003ecp=%{x}\\u003cbr\\u003ecount=%{y}\\u003cextra\\u003e\\u003c\\u002fextra\\u003e\",\"legendgroup\":\"Cleveland\",\"marker\":{\"color\":\"#636efa\",\"pattern\":{\"shape\":\"\"}},\"name\":\"Cleveland\",\"offsetgroup\":\"Cleveland\",\"orientation\":\"v\",\"showlegend\":true,\"x\":[\"typical angina\",\"asymptomatic\",\"asymptomatic\",\"non-anginal\",\"atypical angina\",\"atypical angina\",\"asymptomatic\",\"asymptomatic\",\"asymptomatic\",\"asymptomatic\",\"asymptomatic\",\"atypical angina\",\"non-anginal\",\"atypical angina\",\"non-anginal\",\"non-anginal\",\"atypical angina\",\"asymptomatic\",\"non-anginal\",\"atypical angina\",\"typical angina\",\"typical angina\",\"atypical angina\",\"non-anginal\",\"asymptomatic\",\"non-anginal\",\"non-anginal\",\"typical angina\",\"asymptomatic\",\"asymptomatic\",\"typical angina\",\"asymptomatic\",\"non-anginal\",\"asymptomatic\",\"non-anginal\",\"asymptomatic\",\"asymptomatic\",\"asymptomatic\",\"asymptomatic\",\"non-anginal\",\"asymptomatic\",\"typical angina\",\"atypical angina\",\"non-anginal\",\"asymptomatic\",\"non-anginal\",\"non-anginal\",\"asymptomatic\",\"non-anginal\",\"non-anginal\",\"atypical angina\",\"asymptomatic\",\"asymptomatic\",\"atypical angina\",\"asymptomatic\",\"asymptomatic\",\"non-anginal\",\"asymptomatic\",\"non-anginal\",\"typical angina\",\"asymptomatic\",\"non-anginal\",\"asymptomatic\",\"non-anginal\",\"asymptomatic\",\"asymptomatic\",\"non-anginal\",\"non-anginal\",\"asymptomatic\",\"non-anginal\",\"non-anginal\",\"asymptomatic\",\"asymptomatic\",\"asymptomatic\",\"asymptomatic\",\"non-anginal\",\"asymptomatic\",\"non-anginal\",\"atypical angina\",\"asymptomatic\",\"asymptomatic\",\"asymptomatic\",\"non-anginal\",\"non-anginal\",\"atypical angina\",\"non-anginal\",\"non-anginal\",\"non-anginal\",\"asymptomatic\",\"non-anginal\",\"asymptomatic\",\"asymptomatic\",\"non-anginal\",\"non-anginal\",\"non-anginal\",\"asymptomatic\",\"asymptomatic\",\"asymptomatic\",\"atypical angina\",\"asymptomatic\",\"asymptomatic\",\"typical angina\",\"asymptomatic\",\"non-anginal\",\"non-anginal\",\"atypical angina\",\"asymptomatic\",\"non-anginal\",\"asymptomatic\",\"asymptomatic\",\"asymptomatic\",\"asymptomatic\",\"typical angina\",\"asymptomatic\",\"non-anginal\",\"atypical angina\",\"non-anginal\",\"asymptomatic\",\"asymptomatic\",\"asymptomatic\",\"asymptomatic\",\"asymptomatic\",\"non-anginal\",\"asymptomatic\",\"typical angina\",\"atypical angina\",\"asymptomatic\",\"asymptomatic\",\"atypical angina\",\"asymptomatic\",\"non-anginal\",\"non-anginal\",\"atypical angina\",\"asymptomatic\",\"non-anginal\",\"atypical angina\",\"asymptomatic\",\"atypical angina\",\"asymptomatic\",\"non-anginal\",\"atypical angina\",\"typical angina\",\"atypical angina\",\"non-anginal\",\"non-anginal\",\"non-anginal\",\"asymptomatic\",\"non-anginal\",\"atypical angina\",\"non-anginal\",\"typical angina\",\"asymptomatic\",\"non-anginal\",\"asymptomatic\",\"asymptomatic\",\"asymptomatic\",\"asymptomatic\",\"asymptomatic\",\"asymptomatic\",\"non-anginal\",\"atypical angina\",\"asymptomatic\",\"non-anginal\",\"asymptomatic\",\"non-anginal\",\"asymptomatic\",\"non-anginal\",\"atypical angina\",\"asymptomatic\",\"atypical angina\",\"non-anginal\",\"asymptomatic\",\"asymptomatic\",\"asymptomatic\",\"asymptomatic\",\"asymptomatic\",\"asymptomatic\",\"asymptomatic\",\"non-anginal\",\"non-anginal\",\"asymptomatic\",\"asymptomatic\",\"typical angina\",\"typical angina\",\"asymptomatic\",\"atypical angina\",\"non-anginal\",\"atypical angina\",\"atypical angina\",\"non-anginal\",\"non-anginal\",\"asymptomatic\",\"asymptomatic\",\"asymptomatic\",\"non-anginal\",\"asymptomatic\",\"typical angina\",\"asymptomatic\",\"atypical angina\",\"typical angina\",\"asymptomatic\",\"asymptomatic\",\"non-anginal\",\"non-anginal\",\"asymptomatic\",\"asymptomatic\",\"asymptomatic\",\"asymptomatic\",\"atypical angina\",\"asymptomatic\",\"non-anginal\",\"typical angina\",\"non-anginal\",\"asymptomatic\",\"asymptomatic\",\"typical angina\",\"atypical angina\",\"asymptomatic\",\"asymptomatic\",\"asymptomatic\",\"non-anginal\",\"non-anginal\",\"non-anginal\",\"asymptomatic\",\"asymptomatic\",\"atypical angina\",\"asymptomatic\",\"non-anginal\",\"asymptomatic\",\"asymptomatic\",\"non-anginal\",\"asymptomatic\",\"non-anginal\",\"atypical angina\",\"non-anginal\",\"asymptomatic\",\"asymptomatic\",\"asymptomatic\",\"atypical angina\",\"atypical angina\",\"atypical angina\",\"atypical angina\",\"asymptomatic\",\"typical angina\",\"non-anginal\",\"asymptomatic\",\"asymptomatic\",\"asymptomatic\",\"asymptomatic\",\"atypical angina\",\"asymptomatic\",\"asymptomatic\",\"asymptomatic\",\"non-anginal\",\"asymptomatic\",\"non-anginal\",\"asymptomatic\",\"non-anginal\",\"atypical angina\",\"atypical angina\",\"non-anginal\",\"atypical angina\",\"typical angina\",\"non-anginal\",\"asymptomatic\",\"asymptomatic\",\"asymptomatic\",\"non-anginal\",\"asymptomatic\",\"non-anginal\",\"asymptomatic\",\"asymptomatic\",\"asymptomatic\",\"asymptomatic\",\"typical angina\",\"typical angina\",\"non-anginal\",\"non-anginal\",\"atypical angina\",\"asymptomatic\",\"asymptomatic\",\"non-anginal\",\"asymptomatic\",\"atypical angina\",\"asymptomatic\",\"asymptomatic\",\"asymptomatic\",\"atypical angina\",\"atypical angina\",\"atypical angina\",\"non-anginal\",\"atypical angina\",\"asymptomatic\",\"asymptomatic\",\"asymptomatic\",\"atypical angina\",\"asymptomatic\",\"asymptomatic\",\"typical angina\",\"asymptomatic\",\"asymptomatic\",\"atypical angina\",\"non-anginal\",\"atypical angina\"],\"xaxis\":\"x\",\"yaxis\":\"y\",\"type\":\"histogram\"},{\"alignmentgroup\":\"True\",\"bingroup\":\"x\",\"hovertemplate\":\"dataset=Hungary\\u003cbr\\u003ecp=%{x}\\u003cbr\\u003ecount=%{y}\\u003cextra\\u003e\\u003c\\u002fextra\\u003e\",\"legendgroup\":\"Hungary\",\"marker\":{\"color\":\"#EF553B\",\"pattern\":{\"shape\":\"\"}},\"name\":\"Hungary\",\"offsetgroup\":\"Hungary\",\"orientation\":\"v\",\"showlegend\":true,\"x\":[\"atypical angina\",\"atypical angina\",\"typical angina\",\"atypical angina\",\"atypical angina\",\"atypical angina\",\"atypical angina\",\"non-anginal\",\"atypical angina\",\"atypical angina\",\"atypical angina\",\"typical angina\",\"asymptomatic\",\"atypical angina\",\"atypical angina\",\"atypical angina\",\"non-anginal\",\"non-anginal\",\"non-anginal\",\"atypical angina\",\"non-anginal\",\"asymptomatic\",\"atypical angina\",\"non-anginal\",\"asymptomatic\",\"asymptomatic\",\"atypical angina\",\"atypical angina\",\"non-anginal\",\"non-anginal\",\"atypical angina\",\"atypical angina\",\"atypical angina\",\"atypical angina\",\"atypical angina\",\"non-anginal\",\"non-anginal\",\"asymptomatic\",\"asymptomatic\",\"atypical angina\",\"atypical angina\",\"non-anginal\",\"non-anginal\",\"non-anginal\",\"atypical angina\",\"atypical angina\",\"atypical angina\",\"atypical angina\",\"atypical angina\",\"atypical angina\",\"asymptomatic\",\"non-anginal\",\"atypical angina\",\"atypical angina\",\"atypical angina\",\"non-anginal\",\"non-anginal\",\"asymptomatic\",\"typical angina\",\"atypical angina\",\"atypical angina\",\"atypical angina\",\"atypical angina\",\"atypical angina\",\"non-anginal\",\"atypical angina\",\"asymptomatic\",\"atypical angina\",\"atypical angina\",\"asymptomatic\",\"atypical angina\",\"atypical angina\",\"asymptomatic\",\"atypical angina\",\"non-anginal\",\"asymptomatic\",\"asymptomatic\",\"asymptomatic\",\"atypical angina\",\"non-anginal\",\"non-anginal\",\"asymptomatic\",\"asymptomatic\",\"asymptomatic\",\"atypical angina\",\"non-anginal\",\"typical angina\",\"atypical angina\",\"asymptomatic\",\"atypical angina\",\"atypical angina\",\"atypical angina\",\"non-anginal\",\"asymptomatic\",\"asymptomatic\",\"asymptomatic\",\"atypical angina\",\"atypical angina\",\"atypical angina\",\"non-anginal\",\"atypical angina\",\"atypical angina\",\"atypical angina\",\"non-anginal\",\"atypical angina\",\"non-anginal\",\"asymptomatic\",\"asymptomatic\",\"atypical angina\",\"asymptomatic\",\"atypical angina\",\"atypical angina\",\"atypical angina\",\"asymptomatic\",\"asymptomatic\",\"atypical angina\",\"non-anginal\",\"non-anginal\",\"non-anginal\",\"atypical angina\",\"atypical angina\",\"asymptomatic\",\"atypical angina\",\"atypical angina\",\"non-anginal\",\"asymptomatic\",\"atypical angina\",\"atypical angina\",\"atypical angina\",\"non-anginal\",\"atypical angina\",\"atypical angina\",\"non-anginal\",\"atypical angina\",\"atypical angina\",\"non-anginal\",\"asymptomatic\",\"asymptomatic\",\"asymptomatic\",\"atypical angina\",\"atypical angina\",\"atypical angina\",\"atypical angina\",\"atypical angina\",\"atypical angina\",\"atypical angina\",\"typical angina\",\"atypical angina\",\"atypical angina\",\"atypical angina\",\"atypical angina\",\"atypical angina\",\"non-anginal\",\"non-anginal\",\"asymptomatic\",\"atypical angina\",\"atypical angina\",\"atypical angina\",\"atypical angina\",\"atypical angina\",\"atypical angina\",\"non-anginal\",\"non-anginal\",\"asymptomatic\",\"asymptomatic\",\"non-anginal\",\"atypical angina\",\"non-anginal\",\"non-anginal\",\"asymptomatic\",\"typical angina\",\"asymptomatic\",\"atypical angina\",\"atypical angina\",\"atypical angina\",\"non-anginal\",\"asymptomatic\",\"atypical angina\",\"atypical angina\",\"non-anginal\",\"non-anginal\",\"asymptomatic\",\"non-anginal\",\"asymptomatic\",\"asymptomatic\",\"typical angina\",\"atypical angina\",\"asymptomatic\",\"asymptomatic\",\"typical angina\",\"atypical angina\",\"atypical angina\",\"asymptomatic\",\"asymptomatic\",\"asymptomatic\",\"asymptomatic\",\"asymptomatic\",\"asymptomatic\",\"asymptomatic\",\"asymptomatic\",\"asymptomatic\",\"asymptomatic\",\"asymptomatic\",\"non-anginal\",\"asymptomatic\",\"asymptomatic\",\"asymptomatic\",\"asymptomatic\",\"non-anginal\",\"non-anginal\",\"asymptomatic\",\"non-anginal\",\"asymptomatic\",\"asymptomatic\",\"asymptomatic\",\"asymptomatic\",\"asymptomatic\",\"asymptomatic\",\"atypical angina\",\"non-anginal\",\"asymptomatic\",\"asymptomatic\",\"asymptomatic\",\"asymptomatic\",\"asymptomatic\",\"asymptomatic\",\"asymptomatic\",\"asymptomatic\",\"typical angina\",\"asymptomatic\",\"asymptomatic\",\"asymptomatic\",\"asymptomatic\",\"asymptomatic\",\"asymptomatic\",\"asymptomatic\",\"asymptomatic\",\"asymptomatic\",\"asymptomatic\",\"asymptomatic\",\"non-anginal\",\"asymptomatic\",\"asymptomatic\",\"asymptomatic\",\"asymptomatic\",\"asymptomatic\",\"asymptomatic\",\"asymptomatic\",\"non-anginal\",\"asymptomatic\",\"asymptomatic\",\"asymptomatic\",\"atypical angina\",\"asymptomatic\",\"typical angina\",\"non-anginal\",\"asymptomatic\",\"asymptomatic\",\"asymptomatic\",\"non-anginal\",\"asymptomatic\",\"asymptomatic\",\"asymptomatic\",\"asymptomatic\",\"non-anginal\",\"asymptomatic\",\"asymptomatic\",\"typical angina\",\"atypical angina\",\"asymptomatic\",\"atypical angina\",\"asymptomatic\",\"asymptomatic\",\"atypical angina\",\"asymptomatic\",\"asymptomatic\",\"asymptomatic\",\"asymptomatic\",\"asymptomatic\",\"asymptomatic\",\"asymptomatic\",\"asymptomatic\",\"asymptomatic\",\"asymptomatic\",\"asymptomatic\",\"asymptomatic\",\"asymptomatic\",\"asymptomatic\",\"asymptomatic\",\"non-anginal\",\"asymptomatic\",\"atypical angina\",\"asymptomatic\"],\"xaxis\":\"x\",\"yaxis\":\"y\",\"type\":\"histogram\"},{\"alignmentgroup\":\"True\",\"bingroup\":\"x\",\"hovertemplate\":\"dataset=Switzerland\\u003cbr\\u003ecp=%{x}\\u003cbr\\u003ecount=%{y}\\u003cextra\\u003e\\u003c\\u002fextra\\u003e\",\"legendgroup\":\"Switzerland\",\"marker\":{\"color\":\"#00cc96\",\"pattern\":{\"shape\":\"\"}},\"name\":\"Switzerland\",\"offsetgroup\":\"Switzerland\",\"orientation\":\"v\",\"showlegend\":true,\"x\":[\"typical angina\",\"asymptomatic\",\"asymptomatic\",\"asymptomatic\",\"asymptomatic\",\"asymptomatic\",\"non-anginal\",\"non-anginal\",\"asymptomatic\",\"asymptomatic\",\"asymptomatic\",\"asymptomatic\",\"asymptomatic\",\"asymptomatic\",\"asymptomatic\",\"asymptomatic\",\"asymptomatic\",\"non-anginal\",\"asymptomatic\",\"asymptomatic\",\"non-anginal\",\"non-anginal\",\"asymptomatic\",\"asymptomatic\",\"asymptomatic\",\"asymptomatic\",\"asymptomatic\",\"asymptomatic\",\"asymptomatic\",\"asymptomatic\",\"asymptomatic\",\"asymptomatic\",\"asymptomatic\",\"asymptomatic\",\"asymptomatic\",\"asymptomatic\",\"asymptomatic\",\"asymptomatic\",\"asymptomatic\",\"asymptomatic\",\"atypical angina\",\"atypical angina\",\"non-anginal\",\"non-anginal\",\"asymptomatic\",\"asymptomatic\",\"asymptomatic\",\"asymptomatic\",\"asymptomatic\",\"asymptomatic\",\"asymptomatic\",\"atypical angina\",\"asymptomatic\",\"asymptomatic\",\"asymptomatic\",\"non-anginal\",\"non-anginal\",\"non-anginal\",\"asymptomatic\",\"asymptomatic\",\"asymptomatic\",\"asymptomatic\",\"asymptomatic\",\"non-anginal\",\"asymptomatic\",\"asymptomatic\",\"asymptomatic\",\"asymptomatic\",\"asymptomatic\",\"asymptomatic\",\"asymptomatic\",\"asymptomatic\",\"non-anginal\",\"asymptomatic\",\"asymptomatic\",\"asymptomatic\",\"asymptomatic\",\"non-anginal\",\"asymptomatic\",\"asymptomatic\",\"asymptomatic\",\"asymptomatic\",\"asymptomatic\",\"non-anginal\",\"asymptomatic\",\"asymptomatic\",\"asymptomatic\",\"asymptomatic\",\"asymptomatic\",\"asymptomatic\",\"asymptomatic\",\"asymptomatic\",\"typical angina\",\"asymptomatic\",\"typical angina\",\"non-anginal\",\"asymptomatic\",\"asymptomatic\",\"asymptomatic\",\"asymptomatic\",\"asymptomatic\",\"asymptomatic\",\"asymptomatic\",\"asymptomatic\",\"asymptomatic\",\"asymptomatic\",\"asymptomatic\",\"asymptomatic\",\"asymptomatic\",\"asymptomatic\",\"asymptomatic\",\"asymptomatic\",\"asymptomatic\",\"typical angina\",\"asymptomatic\",\"asymptomatic\",\"asymptomatic\",\"asymptomatic\",\"asymptomatic\",\"asymptomatic\",\"non-anginal\",\"non-anginal\",\"atypical angina\"],\"xaxis\":\"x\",\"yaxis\":\"y\",\"type\":\"histogram\"},{\"alignmentgroup\":\"True\",\"bingroup\":\"x\",\"hovertemplate\":\"dataset=VA Long Beach\\u003cbr\\u003ecp=%{x}\\u003cbr\\u003ecount=%{y}\\u003cextra\\u003e\\u003c\\u002fextra\\u003e\",\"legendgroup\":\"VA Long Beach\",\"marker\":{\"color\":\"#ab63fa\",\"pattern\":{\"shape\":\"\"}},\"name\":\"VA Long Beach\",\"offsetgroup\":\"VA Long Beach\",\"orientation\":\"v\",\"showlegend\":true,\"x\":[\"asymptomatic\",\"asymptomatic\",\"asymptomatic\",\"asymptomatic\",\"non-anginal\",\"non-anginal\",\"asymptomatic\",\"non-anginal\",\"non-anginal\",\"atypical angina\",\"atypical angina\",\"asymptomatic\",\"asymptomatic\",\"non-anginal\",\"asymptomatic\",\"asymptomatic\",\"asymptomatic\",\"asymptomatic\",\"asymptomatic\",\"asymptomatic\",\"asymptomatic\",\"asymptomatic\",\"non-anginal\",\"non-anginal\",\"non-anginal\",\"asymptomatic\",\"asymptomatic\",\"asymptomatic\",\"asymptomatic\",\"non-anginal\",\"asymptomatic\",\"asymptomatic\",\"asymptomatic\",\"non-anginal\",\"non-anginal\",\"asymptomatic\",\"asymptomatic\",\"asymptomatic\",\"asymptomatic\",\"asymptomatic\",\"non-anginal\",\"asymptomatic\",\"asymptomatic\",\"asymptomatic\",\"asymptomatic\",\"asymptomatic\",\"asymptomatic\",\"asymptomatic\",\"non-anginal\",\"non-anginal\",\"non-anginal\",\"atypical angina\",\"asymptomatic\",\"atypical angina\",\"asymptomatic\",\"asymptomatic\",\"asymptomatic\",\"non-anginal\",\"atypical angina\",\"asymptomatic\",\"asymptomatic\",\"asymptomatic\",\"asymptomatic\",\"non-anginal\",\"atypical angina\",\"non-anginal\",\"typical angina\",\"asymptomatic\",\"asymptomatic\",\"atypical angina\",\"atypical angina\",\"asymptomatic\",\"typical angina\",\"asymptomatic\",\"non-anginal\",\"asymptomatic\",\"typical angina\",\"non-anginal\",\"asymptomatic\",\"asymptomatic\",\"asymptomatic\",\"asymptomatic\",\"asymptomatic\",\"asymptomatic\",\"asymptomatic\",\"asymptomatic\",\"asymptomatic\",\"asymptomatic\",\"asymptomatic\",\"non-anginal\",\"asymptomatic\",\"non-anginal\",\"asymptomatic\",\"asymptomatic\",\"asymptomatic\",\"asymptomatic\",\"non-anginal\",\"typical angina\",\"asymptomatic\",\"non-anginal\",\"non-anginal\",\"asymptomatic\",\"non-anginal\",\"asymptomatic\",\"asymptomatic\",\"asymptomatic\",\"asymptomatic\",\"asymptomatic\",\"asymptomatic\",\"non-anginal\",\"asymptomatic\",\"atypical angina\",\"non-anginal\",\"asymptomatic\",\"asymptomatic\",\"asymptomatic\",\"asymptomatic\",\"asymptomatic\",\"asymptomatic\",\"asymptomatic\",\"non-anginal\",\"asymptomatic\",\"asymptomatic\",\"asymptomatic\",\"non-anginal\",\"non-anginal\",\"asymptomatic\",\"asymptomatic\",\"atypical angina\",\"asymptomatic\",\"non-anginal\",\"typical angina\",\"asymptomatic\",\"typical angina\",\"asymptomatic\",\"non-anginal\",\"non-anginal\",\"typical angina\",\"non-anginal\",\"non-anginal\",\"asymptomatic\",\"non-anginal\",\"non-anginal\",\"asymptomatic\",\"non-anginal\",\"atypical angina\",\"asymptomatic\",\"asymptomatic\",\"asymptomatic\",\"asymptomatic\",\"asymptomatic\",\"asymptomatic\",\"asymptomatic\",\"asymptomatic\",\"asymptomatic\",\"asymptomatic\",\"asymptomatic\",\"asymptomatic\",\"asymptomatic\",\"asymptomatic\",\"asymptomatic\",\"asymptomatic\",\"asymptomatic\",\"asymptomatic\",\"asymptomatic\",\"asymptomatic\",\"asymptomatic\",\"non-anginal\",\"asymptomatic\",\"atypical angina\",\"asymptomatic\",\"non-anginal\",\"asymptomatic\",\"non-anginal\",\"atypical angina\",\"asymptomatic\",\"asymptomatic\",\"asymptomatic\",\"asymptomatic\",\"asymptomatic\",\"asymptomatic\",\"non-anginal\",\"asymptomatic\",\"asymptomatic\",\"asymptomatic\",\"non-anginal\",\"non-anginal\",\"non-anginal\",\"asymptomatic\",\"non-anginal\",\"asymptomatic\",\"asymptomatic\",\"asymptomatic\",\"asymptomatic\",\"asymptomatic\",\"asymptomatic\",\"typical angina\",\"asymptomatic\",\"asymptomatic\",\"atypical angina\"],\"xaxis\":\"x\",\"yaxis\":\"y\",\"type\":\"histogram\"}],                        {\"template\":{\"data\":{\"histogram2dcontour\":[{\"type\":\"histogram2dcontour\",\"colorbar\":{\"outlinewidth\":0,\"ticks\":\"\"},\"colorscale\":[[0.0,\"#0d0887\"],[0.1111111111111111,\"#46039f\"],[0.2222222222222222,\"#7201a8\"],[0.3333333333333333,\"#9c179e\"],[0.4444444444444444,\"#bd3786\"],[0.5555555555555556,\"#d8576b\"],[0.6666666666666666,\"#ed7953\"],[0.7777777777777778,\"#fb9f3a\"],[0.8888888888888888,\"#fdca26\"],[1.0,\"#f0f921\"]]}],\"choropleth\":[{\"type\":\"choropleth\",\"colorbar\":{\"outlinewidth\":0,\"ticks\":\"\"}}],\"histogram2d\":[{\"type\":\"histogram2d\",\"colorbar\":{\"outlinewidth\":0,\"ticks\":\"\"},\"colorscale\":[[0.0,\"#0d0887\"],[0.1111111111111111,\"#46039f\"],[0.2222222222222222,\"#7201a8\"],[0.3333333333333333,\"#9c179e\"],[0.4444444444444444,\"#bd3786\"],[0.5555555555555556,\"#d8576b\"],[0.6666666666666666,\"#ed7953\"],[0.7777777777777778,\"#fb9f3a\"],[0.8888888888888888,\"#fdca26\"],[1.0,\"#f0f921\"]]}],\"heatmap\":[{\"type\":\"heatmap\",\"colorbar\":{\"outlinewidth\":0,\"ticks\":\"\"},\"colorscale\":[[0.0,\"#0d0887\"],[0.1111111111111111,\"#46039f\"],[0.2222222222222222,\"#7201a8\"],[0.3333333333333333,\"#9c179e\"],[0.4444444444444444,\"#bd3786\"],[0.5555555555555556,\"#d8576b\"],[0.6666666666666666,\"#ed7953\"],[0.7777777777777778,\"#fb9f3a\"],[0.8888888888888888,\"#fdca26\"],[1.0,\"#f0f921\"]]}],\"heatmapgl\":[{\"type\":\"heatmapgl\",\"colorbar\":{\"outlinewidth\":0,\"ticks\":\"\"},\"colorscale\":[[0.0,\"#0d0887\"],[0.1111111111111111,\"#46039f\"],[0.2222222222222222,\"#7201a8\"],[0.3333333333333333,\"#9c179e\"],[0.4444444444444444,\"#bd3786\"],[0.5555555555555556,\"#d8576b\"],[0.6666666666666666,\"#ed7953\"],[0.7777777777777778,\"#fb9f3a\"],[0.8888888888888888,\"#fdca26\"],[1.0,\"#f0f921\"]]}],\"contourcarpet\":[{\"type\":\"contourcarpet\",\"colorbar\":{\"outlinewidth\":0,\"ticks\":\"\"}}],\"contour\":[{\"type\":\"contour\",\"colorbar\":{\"outlinewidth\":0,\"ticks\":\"\"},\"colorscale\":[[0.0,\"#0d0887\"],[0.1111111111111111,\"#46039f\"],[0.2222222222222222,\"#7201a8\"],[0.3333333333333333,\"#9c179e\"],[0.4444444444444444,\"#bd3786\"],[0.5555555555555556,\"#d8576b\"],[0.6666666666666666,\"#ed7953\"],[0.7777777777777778,\"#fb9f3a\"],[0.8888888888888888,\"#fdca26\"],[1.0,\"#f0f921\"]]}],\"surface\":[{\"type\":\"surface\",\"colorbar\":{\"outlinewidth\":0,\"ticks\":\"\"},\"colorscale\":[[0.0,\"#0d0887\"],[0.1111111111111111,\"#46039f\"],[0.2222222222222222,\"#7201a8\"],[0.3333333333333333,\"#9c179e\"],[0.4444444444444444,\"#bd3786\"],[0.5555555555555556,\"#d8576b\"],[0.6666666666666666,\"#ed7953\"],[0.7777777777777778,\"#fb9f3a\"],[0.8888888888888888,\"#fdca26\"],[1.0,\"#f0f921\"]]}],\"mesh3d\":[{\"type\":\"mesh3d\",\"colorbar\":{\"outlinewidth\":0,\"ticks\":\"\"}}],\"scatter\":[{\"fillpattern\":{\"fillmode\":\"overlay\",\"size\":10,\"solidity\":0.2},\"type\":\"scatter\"}],\"parcoords\":[{\"type\":\"parcoords\",\"line\":{\"colorbar\":{\"outlinewidth\":0,\"ticks\":\"\"}}}],\"scatterpolargl\":[{\"type\":\"scatterpolargl\",\"marker\":{\"colorbar\":{\"outlinewidth\":0,\"ticks\":\"\"}}}],\"bar\":[{\"error_x\":{\"color\":\"#2a3f5f\"},\"error_y\":{\"color\":\"#2a3f5f\"},\"marker\":{\"line\":{\"color\":\"#E5ECF6\",\"width\":0.5},\"pattern\":{\"fillmode\":\"overlay\",\"size\":10,\"solidity\":0.2}},\"type\":\"bar\"}],\"scattergeo\":[{\"type\":\"scattergeo\",\"marker\":{\"colorbar\":{\"outlinewidth\":0,\"ticks\":\"\"}}}],\"scatterpolar\":[{\"type\":\"scatterpolar\",\"marker\":{\"colorbar\":{\"outlinewidth\":0,\"ticks\":\"\"}}}],\"histogram\":[{\"marker\":{\"pattern\":{\"fillmode\":\"overlay\",\"size\":10,\"solidity\":0.2}},\"type\":\"histogram\"}],\"scattergl\":[{\"type\":\"scattergl\",\"marker\":{\"colorbar\":{\"outlinewidth\":0,\"ticks\":\"\"}}}],\"scatter3d\":[{\"type\":\"scatter3d\",\"line\":{\"colorbar\":{\"outlinewidth\":0,\"ticks\":\"\"}},\"marker\":{\"colorbar\":{\"outlinewidth\":0,\"ticks\":\"\"}}}],\"scattermapbox\":[{\"type\":\"scattermapbox\",\"marker\":{\"colorbar\":{\"outlinewidth\":0,\"ticks\":\"\"}}}],\"scatterternary\":[{\"type\":\"scatterternary\",\"marker\":{\"colorbar\":{\"outlinewidth\":0,\"ticks\":\"\"}}}],\"scattercarpet\":[{\"type\":\"scattercarpet\",\"marker\":{\"colorbar\":{\"outlinewidth\":0,\"ticks\":\"\"}}}],\"carpet\":[{\"aaxis\":{\"endlinecolor\":\"#2a3f5f\",\"gridcolor\":\"white\",\"linecolor\":\"white\",\"minorgridcolor\":\"white\",\"startlinecolor\":\"#2a3f5f\"},\"baxis\":{\"endlinecolor\":\"#2a3f5f\",\"gridcolor\":\"white\",\"linecolor\":\"white\",\"minorgridcolor\":\"white\",\"startlinecolor\":\"#2a3f5f\"},\"type\":\"carpet\"}],\"table\":[{\"cells\":{\"fill\":{\"color\":\"#EBF0F8\"},\"line\":{\"color\":\"white\"}},\"header\":{\"fill\":{\"color\":\"#C8D4E3\"},\"line\":{\"color\":\"white\"}},\"type\":\"table\"}],\"barpolar\":[{\"marker\":{\"line\":{\"color\":\"#E5ECF6\",\"width\":0.5},\"pattern\":{\"fillmode\":\"overlay\",\"size\":10,\"solidity\":0.2}},\"type\":\"barpolar\"}],\"pie\":[{\"automargin\":true,\"type\":\"pie\"}]},\"layout\":{\"autotypenumbers\":\"strict\",\"colorway\":[\"#636efa\",\"#EF553B\",\"#00cc96\",\"#ab63fa\",\"#FFA15A\",\"#19d3f3\",\"#FF6692\",\"#B6E880\",\"#FF97FF\",\"#FECB52\"],\"font\":{\"color\":\"#2a3f5f\"},\"hovermode\":\"closest\",\"hoverlabel\":{\"align\":\"left\"},\"paper_bgcolor\":\"white\",\"plot_bgcolor\":\"#E5ECF6\",\"polar\":{\"bgcolor\":\"#E5ECF6\",\"angularaxis\":{\"gridcolor\":\"white\",\"linecolor\":\"white\",\"ticks\":\"\"},\"radialaxis\":{\"gridcolor\":\"white\",\"linecolor\":\"white\",\"ticks\":\"\"}},\"ternary\":{\"bgcolor\":\"#E5ECF6\",\"aaxis\":{\"gridcolor\":\"white\",\"linecolor\":\"white\",\"ticks\":\"\"},\"baxis\":{\"gridcolor\":\"white\",\"linecolor\":\"white\",\"ticks\":\"\"},\"caxis\":{\"gridcolor\":\"white\",\"linecolor\":\"white\",\"ticks\":\"\"}},\"coloraxis\":{\"colorbar\":{\"outlinewidth\":0,\"ticks\":\"\"}},\"colorscale\":{\"sequential\":[[0.0,\"#0d0887\"],[0.1111111111111111,\"#46039f\"],[0.2222222222222222,\"#7201a8\"],[0.3333333333333333,\"#9c179e\"],[0.4444444444444444,\"#bd3786\"],[0.5555555555555556,\"#d8576b\"],[0.6666666666666666,\"#ed7953\"],[0.7777777777777778,\"#fb9f3a\"],[0.8888888888888888,\"#fdca26\"],[1.0,\"#f0f921\"]],\"sequentialminus\":[[0.0,\"#0d0887\"],[0.1111111111111111,\"#46039f\"],[0.2222222222222222,\"#7201a8\"],[0.3333333333333333,\"#9c179e\"],[0.4444444444444444,\"#bd3786\"],[0.5555555555555556,\"#d8576b\"],[0.6666666666666666,\"#ed7953\"],[0.7777777777777778,\"#fb9f3a\"],[0.8888888888888888,\"#fdca26\"],[1.0,\"#f0f921\"]],\"diverging\":[[0,\"#8e0152\"],[0.1,\"#c51b7d\"],[0.2,\"#de77ae\"],[0.3,\"#f1b6da\"],[0.4,\"#fde0ef\"],[0.5,\"#f7f7f7\"],[0.6,\"#e6f5d0\"],[0.7,\"#b8e186\"],[0.8,\"#7fbc41\"],[0.9,\"#4d9221\"],[1,\"#276419\"]]},\"xaxis\":{\"gridcolor\":\"white\",\"linecolor\":\"white\",\"ticks\":\"\",\"title\":{\"standoff\":15},\"zerolinecolor\":\"white\",\"automargin\":true,\"zerolinewidth\":2},\"yaxis\":{\"gridcolor\":\"white\",\"linecolor\":\"white\",\"ticks\":\"\",\"title\":{\"standoff\":15},\"zerolinecolor\":\"white\",\"automargin\":true,\"zerolinewidth\":2},\"scene\":{\"xaxis\":{\"backgroundcolor\":\"#E5ECF6\",\"gridcolor\":\"white\",\"linecolor\":\"white\",\"showbackground\":true,\"ticks\":\"\",\"zerolinecolor\":\"white\",\"gridwidth\":2},\"yaxis\":{\"backgroundcolor\":\"#E5ECF6\",\"gridcolor\":\"white\",\"linecolor\":\"white\",\"showbackground\":true,\"ticks\":\"\",\"zerolinecolor\":\"white\",\"gridwidth\":2},\"zaxis\":{\"backgroundcolor\":\"#E5ECF6\",\"gridcolor\":\"white\",\"linecolor\":\"white\",\"showbackground\":true,\"ticks\":\"\",\"zerolinecolor\":\"white\",\"gridwidth\":2}},\"shapedefaults\":{\"line\":{\"color\":\"#2a3f5f\"}},\"annotationdefaults\":{\"arrowcolor\":\"#2a3f5f\",\"arrowhead\":0,\"arrowwidth\":1},\"geo\":{\"bgcolor\":\"white\",\"landcolor\":\"#E5ECF6\",\"subunitcolor\":\"white\",\"showland\":true,\"showlakes\":true,\"lakecolor\":\"white\"},\"title\":{\"x\":0.05},\"mapbox\":{\"style\":\"light\"}}},\"xaxis\":{\"anchor\":\"y\",\"domain\":[0.0,1.0],\"title\":{\"text\":\"cp\"}},\"yaxis\":{\"anchor\":\"x\",\"domain\":[0.0,1.0],\"title\":{\"text\":\"count\"}},\"legend\":{\"title\":{\"text\":\"dataset\"},\"tracegroupgap\":0},\"margin\":{\"t\":60},\"barmode\":\"group\"},                        {\"responsive\": true}                    ).then(function(){\n",
              "                            \n",
              "var gd = document.getElementById('340f938d-16a0-4937-8678-99a94f41a310');\n",
              "var x = new MutationObserver(function (mutations, observer) {{\n",
              "        var display = window.getComputedStyle(gd).display;\n",
              "        if (!display || display === 'none') {{\n",
              "            console.log([gd, 'removed!']);\n",
              "            Plotly.purge(gd);\n",
              "            observer.disconnect();\n",
              "        }}\n",
              "}});\n",
              "\n",
              "// Listen for the removal of the full notebook cells\n",
              "var notebookContainer = gd.closest('#notebook-container');\n",
              "if (notebookContainer) {{\n",
              "    x.observe(notebookContainer, {childList: true});\n",
              "}}\n",
              "\n",
              "// Listen for the clearing of the current output cell\n",
              "var outputEl = gd.closest('.output');\n",
              "if (outputEl) {{\n",
              "    x.observe(outputEl, {childList: true});\n",
              "}}\n",
              "\n",
              "                        })                };                            </script>        </div>\n",
              "</body>\n",
              "</html>"
            ]
          },
          "metadata": {}
        }
      ]
    },
    {
      "cell_type": "code",
      "source": [
        "plt.figure(figsize=(10,6))\n",
        "# count plot of age column\n",
        "fig = px.histogram(data_frame=df, x='age', color='cp')\n",
        "fig.show()"
      ],
      "metadata": {
        "execution": {
          "iopub.status.busy": "2024-02-16T04:55:52.709624Z",
          "iopub.execute_input": "2024-02-16T04:55:52.710033Z",
          "iopub.status.idle": "2024-02-16T04:55:52.816078Z",
          "shell.execute_reply.started": "2024-02-16T04:55:52.709999Z",
          "shell.execute_reply": "2024-02-16T04:55:52.814671Z"
        },
        "trusted": true,
        "id": "vUqJllX3FABC",
        "outputId": "1ed0ee98-09d7-4737-cd48-61c417b2acd3",
        "colab": {
          "base_uri": "https://localhost:8080/",
          "height": 579
        }
      },
      "execution_count": null,
      "outputs": [
        {
          "output_type": "display_data",
          "data": {
            "text/html": [
              "<html>\n",
              "<head><meta charset=\"utf-8\" /></head>\n",
              "<body>\n",
              "    <div>            <script src=\"https://cdnjs.cloudflare.com/ajax/libs/mathjax/2.7.5/MathJax.js?config=TeX-AMS-MML_SVG\"></script><script type=\"text/javascript\">if (window.MathJax && window.MathJax.Hub && window.MathJax.Hub.Config) {window.MathJax.Hub.Config({SVG: {font: \"STIX-Web\"}});}</script>                <script type=\"text/javascript\">window.PlotlyConfig = {MathJaxConfig: 'local'};</script>\n",
              "        <script charset=\"utf-8\" src=\"https://cdn.plot.ly/plotly-2.35.2.min.js\"></script>                <div id=\"ebec834c-b010-420e-9477-3f86d57b586a\" class=\"plotly-graph-div\" style=\"height:525px; width:100%;\"></div>            <script type=\"text/javascript\">                                    window.PLOTLYENV=window.PLOTLYENV || {};                                    if (document.getElementById(\"ebec834c-b010-420e-9477-3f86d57b586a\")) {                    Plotly.newPlot(                        \"ebec834c-b010-420e-9477-3f86d57b586a\",                        [{\"alignmentgroup\":\"True\",\"bingroup\":\"x\",\"hovertemplate\":\"cp=typical angina\\u003cbr\\u003eage=%{x}\\u003cbr\\u003ecount=%{y}\\u003cextra\\u003e\\u003c\\u002fextra\\u003e\",\"legendgroup\":\"typical angina\",\"marker\":{\"color\":\"#636efa\",\"pattern\":{\"shape\":\"\"}},\"name\":\"typical angina\",\"offsetgroup\":\"typical angina\",\"orientation\":\"v\",\"showlegend\":true,\"x\":[63,64,58,66,69,40,51,34,52,65,59,52,42,59,69,59,38,56,61,60,59,64,45,30,35,43,47,54,57,62,34,43,46,55,32,62,62,67,67,65,49,62,61,68,74,62],\"xaxis\":\"x\",\"yaxis\":\"y\",\"type\":\"histogram\"},{\"alignmentgroup\":\"True\",\"bingroup\":\"x\",\"hovertemplate\":\"cp=asymptomatic\\u003cbr\\u003eage=%{x}\\u003cbr\\u003ecount=%{y}\\u003cextra\\u003e\\u003c\\u002fextra\\u003e\",\"legendgroup\":\"asymptomatic\",\"marker\":{\"color\":\"#EF553B\",\"pattern\":{\"shape\":\"\"}},\"name\":\"asymptomatic\",\"offsetgroup\":\"asymptomatic\",\"orientation\":\"v\",\"showlegend\":true,\"x\":[67,67,62,57,63,53,57,54,60,43,40,60,59,42,43,57,55,65,61,50,65,44,60,54,41,51,58,54,60,59,67,62,65,44,60,58,45,53,53,66,62,52,59,60,48,45,57,59,61,39,61,56,43,35,63,65,48,63,55,56,54,62,51,70,35,57,42,55,64,70,51,58,60,77,58,57,35,53,59,62,64,57,52,56,48,56,60,51,43,62,67,45,50,64,43,45,58,50,62,66,52,46,64,59,53,63,47,54,66,55,54,56,46,49,67,58,47,52,57,58,64,43,67,61,42,52,40,61,66,46,71,58,57,55,61,58,58,44,63,63,59,57,68,57,35,37,37,37,39,39,41,42,44,44,45,45,45,46,46,46,46,47,48,48,48,49,49,50,50,50,51,52,53,53,53,54,55,55,56,57,58,59,61,61,31,33,37,38,38,38,40,41,41,43,46,46,46,47,48,48,48,49,50,51,52,54,54,55,59,60,63,65,32,38,39,40,45,46,46,48,48,48,48,50,52,52,53,54,54,54,54,55,56,57,58,41,43,44,48,49,49,52,52,52,52,53,54,55,56,56,59,59,65,66,41,43,44,47,47,49,49,50,50,52,52,56,65,34,35,36,38,38,38,38,40,41,42,42,43,43,43,46,46,47,47,48,50,50,50,50,51,51,51,51,51,51,51,52,52,52,52,53,53,53,53,54,54,54,55,55,55,56,56,56,56,56,57,57,57,57,57,58,58,58,59,59,59,59,60,60,60,60,60,61,61,61,61,61,61,61,61,62,62,62,62,63,63,63,63,63,64,64,64,65,65,65,65,66,66,68,68,69,69,70,70,63,44,60,55,65,59,62,57,62,63,46,63,60,58,64,69,51,60,56,54,77,63,64,60,60,58,59,40,61,41,57,63,59,51,62,53,68,53,59,51,61,57,58,65,57,54,75,60,64,58,61,67,62,65,63,69,51,62,75,67,58,60,63,43,65,63,64,61,50,59,55,65,72,50,64,55,63,59,56,74,54,57,54,70,48,66,55,75,64,59,55,57,61,41,71,38,55,56,69,64,72,69,56,62,67,57,69,51,48,69,64,53,67,58,61,64,58,60,57,55,56,57,74,51,62,53,62,46,54,55,58],\"xaxis\":\"x\",\"yaxis\":\"y\",\"type\":\"histogram\"},{\"alignmentgroup\":\"True\",\"bingroup\":\"x\",\"hovertemplate\":\"cp=non-anginal\\u003cbr\\u003eage=%{x}\\u003cbr\\u003ecount=%{y}\\u003cextra\\u003e\\u003c\\u002fextra\\u003e\",\"legendgroup\":\"non-anginal\",\"marker\":{\"color\":\"#00cc96\",\"pattern\":{\"shape\":\"\"}},\"name\":\"non-anginal\",\"offsetgroup\":\"non-anginal\",\"orientation\":\"v\",\"showlegend\":true,\"x\":[37,56,52,57,48,58,50,58,64,44,61,59,58,51,65,53,50,54,46,54,60,54,46,65,65,51,39,68,44,47,53,51,62,44,63,71,49,57,62,58,51,54,51,43,51,64,58,47,41,60,67,68,54,48,52,70,43,53,42,69,50,68,57,64,37,41,41,54,39,67,52,49,54,60,51,42,76,44,44,59,42,66,39,47,67,38,33,36,36,36,37,37,38,39,39,39,40,40,40,42,42,42,43,45,46,46,47,48,48,49,49,51,51,51,52,52,53,53,54,54,55,55,56,56,56,58,59,59,60,47,49,49,50,58,54,58,47,51,53,54,38,38,45,47,47,53,53,56,56,56,57,59,60,61,62,72,73,66,66,60,60,63,63,74,52,55,55,52,61,59,42,55,60,56,69,72,51,55,40,35,63,68,48,45,49,62,62,76,48,62,71,53,58,56,58,54,69,37,74,55,61,61,58,68],\"xaxis\":\"x\",\"yaxis\":\"y\",\"type\":\"histogram\"},{\"alignmentgroup\":\"True\",\"bingroup\":\"x\",\"hovertemplate\":\"cp=atypical angina\\u003cbr\\u003eage=%{x}\\u003cbr\\u003ecount=%{y}\\u003cextra\\u003e\\u003c\\u002fextra\\u003e\",\"legendgroup\":\"atypical angina\",\"marker\":{\"color\":\"#ab63fa\",\"pattern\":{\"shape\":\"\"}},\"name\":\"atypical angina\",\"offsetgroup\":\"atypical angina\",\"orientation\":\"v\",\"showlegend\":true,\"x\":[41,56,56,44,48,49,58,71,41,44,48,52,52,54,41,45,44,29,55,62,59,52,45,46,54,45,63,66,54,50,55,46,34,74,49,42,41,41,62,70,57,58,57,35,58,56,56,55,41,57,28,29,29,31,32,32,32,34,34,34,35,35,36,37,37,38,38,39,39,39,39,39,40,40,41,41,41,41,41,41,42,42,42,43,43,43,43,43,43,44,44,45,45,45,46,47,47,48,48,48,48,48,48,49,49,49,49,50,50,50,50,51,51,51,52,52,52,52,52,53,53,53,53,54,54,54,54,54,54,54,54,54,54,54,54,55,55,55,55,55,55,56,57,58,58,59,59,62,35,36,57,44,55,56,58,58,53,53,55,74,60,56,63,56,62,58,63,55,61,61,54,57,63,62],\"xaxis\":\"x\",\"yaxis\":\"y\",\"type\":\"histogram\"}],                        {\"template\":{\"data\":{\"histogram2dcontour\":[{\"type\":\"histogram2dcontour\",\"colorbar\":{\"outlinewidth\":0,\"ticks\":\"\"},\"colorscale\":[[0.0,\"#0d0887\"],[0.1111111111111111,\"#46039f\"],[0.2222222222222222,\"#7201a8\"],[0.3333333333333333,\"#9c179e\"],[0.4444444444444444,\"#bd3786\"],[0.5555555555555556,\"#d8576b\"],[0.6666666666666666,\"#ed7953\"],[0.7777777777777778,\"#fb9f3a\"],[0.8888888888888888,\"#fdca26\"],[1.0,\"#f0f921\"]]}],\"choropleth\":[{\"type\":\"choropleth\",\"colorbar\":{\"outlinewidth\":0,\"ticks\":\"\"}}],\"histogram2d\":[{\"type\":\"histogram2d\",\"colorbar\":{\"outlinewidth\":0,\"ticks\":\"\"},\"colorscale\":[[0.0,\"#0d0887\"],[0.1111111111111111,\"#46039f\"],[0.2222222222222222,\"#7201a8\"],[0.3333333333333333,\"#9c179e\"],[0.4444444444444444,\"#bd3786\"],[0.5555555555555556,\"#d8576b\"],[0.6666666666666666,\"#ed7953\"],[0.7777777777777778,\"#fb9f3a\"],[0.8888888888888888,\"#fdca26\"],[1.0,\"#f0f921\"]]}],\"heatmap\":[{\"type\":\"heatmap\",\"colorbar\":{\"outlinewidth\":0,\"ticks\":\"\"},\"colorscale\":[[0.0,\"#0d0887\"],[0.1111111111111111,\"#46039f\"],[0.2222222222222222,\"#7201a8\"],[0.3333333333333333,\"#9c179e\"],[0.4444444444444444,\"#bd3786\"],[0.5555555555555556,\"#d8576b\"],[0.6666666666666666,\"#ed7953\"],[0.7777777777777778,\"#fb9f3a\"],[0.8888888888888888,\"#fdca26\"],[1.0,\"#f0f921\"]]}],\"heatmapgl\":[{\"type\":\"heatmapgl\",\"colorbar\":{\"outlinewidth\":0,\"ticks\":\"\"},\"colorscale\":[[0.0,\"#0d0887\"],[0.1111111111111111,\"#46039f\"],[0.2222222222222222,\"#7201a8\"],[0.3333333333333333,\"#9c179e\"],[0.4444444444444444,\"#bd3786\"],[0.5555555555555556,\"#d8576b\"],[0.6666666666666666,\"#ed7953\"],[0.7777777777777778,\"#fb9f3a\"],[0.8888888888888888,\"#fdca26\"],[1.0,\"#f0f921\"]]}],\"contourcarpet\":[{\"type\":\"contourcarpet\",\"colorbar\":{\"outlinewidth\":0,\"ticks\":\"\"}}],\"contour\":[{\"type\":\"contour\",\"colorbar\":{\"outlinewidth\":0,\"ticks\":\"\"},\"colorscale\":[[0.0,\"#0d0887\"],[0.1111111111111111,\"#46039f\"],[0.2222222222222222,\"#7201a8\"],[0.3333333333333333,\"#9c179e\"],[0.4444444444444444,\"#bd3786\"],[0.5555555555555556,\"#d8576b\"],[0.6666666666666666,\"#ed7953\"],[0.7777777777777778,\"#fb9f3a\"],[0.8888888888888888,\"#fdca26\"],[1.0,\"#f0f921\"]]}],\"surface\":[{\"type\":\"surface\",\"colorbar\":{\"outlinewidth\":0,\"ticks\":\"\"},\"colorscale\":[[0.0,\"#0d0887\"],[0.1111111111111111,\"#46039f\"],[0.2222222222222222,\"#7201a8\"],[0.3333333333333333,\"#9c179e\"],[0.4444444444444444,\"#bd3786\"],[0.5555555555555556,\"#d8576b\"],[0.6666666666666666,\"#ed7953\"],[0.7777777777777778,\"#fb9f3a\"],[0.8888888888888888,\"#fdca26\"],[1.0,\"#f0f921\"]]}],\"mesh3d\":[{\"type\":\"mesh3d\",\"colorbar\":{\"outlinewidth\":0,\"ticks\":\"\"}}],\"scatter\":[{\"fillpattern\":{\"fillmode\":\"overlay\",\"size\":10,\"solidity\":0.2},\"type\":\"scatter\"}],\"parcoords\":[{\"type\":\"parcoords\",\"line\":{\"colorbar\":{\"outlinewidth\":0,\"ticks\":\"\"}}}],\"scatterpolargl\":[{\"type\":\"scatterpolargl\",\"marker\":{\"colorbar\":{\"outlinewidth\":0,\"ticks\":\"\"}}}],\"bar\":[{\"error_x\":{\"color\":\"#2a3f5f\"},\"error_y\":{\"color\":\"#2a3f5f\"},\"marker\":{\"line\":{\"color\":\"#E5ECF6\",\"width\":0.5},\"pattern\":{\"fillmode\":\"overlay\",\"size\":10,\"solidity\":0.2}},\"type\":\"bar\"}],\"scattergeo\":[{\"type\":\"scattergeo\",\"marker\":{\"colorbar\":{\"outlinewidth\":0,\"ticks\":\"\"}}}],\"scatterpolar\":[{\"type\":\"scatterpolar\",\"marker\":{\"colorbar\":{\"outlinewidth\":0,\"ticks\":\"\"}}}],\"histogram\":[{\"marker\":{\"pattern\":{\"fillmode\":\"overlay\",\"size\":10,\"solidity\":0.2}},\"type\":\"histogram\"}],\"scattergl\":[{\"type\":\"scattergl\",\"marker\":{\"colorbar\":{\"outlinewidth\":0,\"ticks\":\"\"}}}],\"scatter3d\":[{\"type\":\"scatter3d\",\"line\":{\"colorbar\":{\"outlinewidth\":0,\"ticks\":\"\"}},\"marker\":{\"colorbar\":{\"outlinewidth\":0,\"ticks\":\"\"}}}],\"scattermapbox\":[{\"type\":\"scattermapbox\",\"marker\":{\"colorbar\":{\"outlinewidth\":0,\"ticks\":\"\"}}}],\"scatterternary\":[{\"type\":\"scatterternary\",\"marker\":{\"colorbar\":{\"outlinewidth\":0,\"ticks\":\"\"}}}],\"scattercarpet\":[{\"type\":\"scattercarpet\",\"marker\":{\"colorbar\":{\"outlinewidth\":0,\"ticks\":\"\"}}}],\"carpet\":[{\"aaxis\":{\"endlinecolor\":\"#2a3f5f\",\"gridcolor\":\"white\",\"linecolor\":\"white\",\"minorgridcolor\":\"white\",\"startlinecolor\":\"#2a3f5f\"},\"baxis\":{\"endlinecolor\":\"#2a3f5f\",\"gridcolor\":\"white\",\"linecolor\":\"white\",\"minorgridcolor\":\"white\",\"startlinecolor\":\"#2a3f5f\"},\"type\":\"carpet\"}],\"table\":[{\"cells\":{\"fill\":{\"color\":\"#EBF0F8\"},\"line\":{\"color\":\"white\"}},\"header\":{\"fill\":{\"color\":\"#C8D4E3\"},\"line\":{\"color\":\"white\"}},\"type\":\"table\"}],\"barpolar\":[{\"marker\":{\"line\":{\"color\":\"#E5ECF6\",\"width\":0.5},\"pattern\":{\"fillmode\":\"overlay\",\"size\":10,\"solidity\":0.2}},\"type\":\"barpolar\"}],\"pie\":[{\"automargin\":true,\"type\":\"pie\"}]},\"layout\":{\"autotypenumbers\":\"strict\",\"colorway\":[\"#636efa\",\"#EF553B\",\"#00cc96\",\"#ab63fa\",\"#FFA15A\",\"#19d3f3\",\"#FF6692\",\"#B6E880\",\"#FF97FF\",\"#FECB52\"],\"font\":{\"color\":\"#2a3f5f\"},\"hovermode\":\"closest\",\"hoverlabel\":{\"align\":\"left\"},\"paper_bgcolor\":\"white\",\"plot_bgcolor\":\"#E5ECF6\",\"polar\":{\"bgcolor\":\"#E5ECF6\",\"angularaxis\":{\"gridcolor\":\"white\",\"linecolor\":\"white\",\"ticks\":\"\"},\"radialaxis\":{\"gridcolor\":\"white\",\"linecolor\":\"white\",\"ticks\":\"\"}},\"ternary\":{\"bgcolor\":\"#E5ECF6\",\"aaxis\":{\"gridcolor\":\"white\",\"linecolor\":\"white\",\"ticks\":\"\"},\"baxis\":{\"gridcolor\":\"white\",\"linecolor\":\"white\",\"ticks\":\"\"},\"caxis\":{\"gridcolor\":\"white\",\"linecolor\":\"white\",\"ticks\":\"\"}},\"coloraxis\":{\"colorbar\":{\"outlinewidth\":0,\"ticks\":\"\"}},\"colorscale\":{\"sequential\":[[0.0,\"#0d0887\"],[0.1111111111111111,\"#46039f\"],[0.2222222222222222,\"#7201a8\"],[0.3333333333333333,\"#9c179e\"],[0.4444444444444444,\"#bd3786\"],[0.5555555555555556,\"#d8576b\"],[0.6666666666666666,\"#ed7953\"],[0.7777777777777778,\"#fb9f3a\"],[0.8888888888888888,\"#fdca26\"],[1.0,\"#f0f921\"]],\"sequentialminus\":[[0.0,\"#0d0887\"],[0.1111111111111111,\"#46039f\"],[0.2222222222222222,\"#7201a8\"],[0.3333333333333333,\"#9c179e\"],[0.4444444444444444,\"#bd3786\"],[0.5555555555555556,\"#d8576b\"],[0.6666666666666666,\"#ed7953\"],[0.7777777777777778,\"#fb9f3a\"],[0.8888888888888888,\"#fdca26\"],[1.0,\"#f0f921\"]],\"diverging\":[[0,\"#8e0152\"],[0.1,\"#c51b7d\"],[0.2,\"#de77ae\"],[0.3,\"#f1b6da\"],[0.4,\"#fde0ef\"],[0.5,\"#f7f7f7\"],[0.6,\"#e6f5d0\"],[0.7,\"#b8e186\"],[0.8,\"#7fbc41\"],[0.9,\"#4d9221\"],[1,\"#276419\"]]},\"xaxis\":{\"gridcolor\":\"white\",\"linecolor\":\"white\",\"ticks\":\"\",\"title\":{\"standoff\":15},\"zerolinecolor\":\"white\",\"automargin\":true,\"zerolinewidth\":2},\"yaxis\":{\"gridcolor\":\"white\",\"linecolor\":\"white\",\"ticks\":\"\",\"title\":{\"standoff\":15},\"zerolinecolor\":\"white\",\"automargin\":true,\"zerolinewidth\":2},\"scene\":{\"xaxis\":{\"backgroundcolor\":\"#E5ECF6\",\"gridcolor\":\"white\",\"linecolor\":\"white\",\"showbackground\":true,\"ticks\":\"\",\"zerolinecolor\":\"white\",\"gridwidth\":2},\"yaxis\":{\"backgroundcolor\":\"#E5ECF6\",\"gridcolor\":\"white\",\"linecolor\":\"white\",\"showbackground\":true,\"ticks\":\"\",\"zerolinecolor\":\"white\",\"gridwidth\":2},\"zaxis\":{\"backgroundcolor\":\"#E5ECF6\",\"gridcolor\":\"white\",\"linecolor\":\"white\",\"showbackground\":true,\"ticks\":\"\",\"zerolinecolor\":\"white\",\"gridwidth\":2}},\"shapedefaults\":{\"line\":{\"color\":\"#2a3f5f\"}},\"annotationdefaults\":{\"arrowcolor\":\"#2a3f5f\",\"arrowhead\":0,\"arrowwidth\":1},\"geo\":{\"bgcolor\":\"white\",\"landcolor\":\"#E5ECF6\",\"subunitcolor\":\"white\",\"showland\":true,\"showlakes\":true,\"lakecolor\":\"white\"},\"title\":{\"x\":0.05},\"mapbox\":{\"style\":\"light\"}}},\"xaxis\":{\"anchor\":\"y\",\"domain\":[0.0,1.0],\"title\":{\"text\":\"age\"}},\"yaxis\":{\"anchor\":\"x\",\"domain\":[0.0,1.0],\"title\":{\"text\":\"count\"}},\"legend\":{\"title\":{\"text\":\"cp\"},\"tracegroupgap\":0},\"margin\":{\"t\":60},\"barmode\":\"relative\"},                        {\"responsive\": true}                    ).then(function(){\n",
              "                            \n",
              "var gd = document.getElementById('ebec834c-b010-420e-9477-3f86d57b586a');\n",
              "var x = new MutationObserver(function (mutations, observer) {{\n",
              "        var display = window.getComputedStyle(gd).display;\n",
              "        if (!display || display === 'none') {{\n",
              "            console.log([gd, 'removed!']);\n",
              "            Plotly.purge(gd);\n",
              "            observer.disconnect();\n",
              "        }}\n",
              "}});\n",
              "\n",
              "// Listen for the removal of the full notebook cells\n",
              "var notebookContainer = gd.closest('#notebook-container');\n",
              "if (notebookContainer) {{\n",
              "    x.observe(notebookContainer, {childList: true});\n",
              "}}\n",
              "\n",
              "// Listen for the clearing of the current output cell\n",
              "var outputEl = gd.closest('.output');\n",
              "if (outputEl) {{\n",
              "    x.observe(outputEl, {childList: true});\n",
              "}}\n",
              "\n",
              "                        })                };                            </script>        </div>\n",
              "</body>\n",
              "</html>"
            ]
          },
          "metadata": {}
        },
        {
          "output_type": "display_data",
          "data": {
            "text/plain": [
              "<Figure size 1000x600 with 0 Axes>"
            ]
          },
          "metadata": {}
        }
      ]
    },
    {
      "cell_type": "markdown",
      "source": [
        "### Trestbps Column"
      ],
      "metadata": {
        "id": "pxwjRsewFABC"
      }
    },
    {
      "cell_type": "code",
      "source": [
        "print(df['trestbps'].describe())\n",
        "# create a histplot of trestbps column\n",
        "sns.histplot(df['trestbps'], kde=True)"
      ],
      "metadata": {
        "execution": {
          "iopub.status.busy": "2024-02-16T04:55:52.817684Z",
          "iopub.execute_input": "2024-02-16T04:55:52.818103Z",
          "iopub.status.idle": "2024-02-16T04:55:53.271512Z",
          "shell.execute_reply.started": "2024-02-16T04:55:52.818068Z",
          "shell.execute_reply": "2024-02-16T04:55:53.270237Z"
        },
        "trusted": true,
        "id": "tJiWPsdHFABC",
        "outputId": "1d11b097-e3d0-4fc5-e0fc-341ef0c7c98f",
        "colab": {
          "base_uri": "https://localhost:8080/",
          "height": 643
        }
      },
      "execution_count": null,
      "outputs": [
        {
          "output_type": "stream",
          "name": "stdout",
          "text": [
            "count    861.000000\n",
            "mean     132.132404\n",
            "std       19.066070\n",
            "min        0.000000\n",
            "25%      120.000000\n",
            "50%      130.000000\n",
            "75%      140.000000\n",
            "max      200.000000\n",
            "Name: trestbps, dtype: float64\n"
          ]
        },
        {
          "output_type": "execute_result",
          "data": {
            "text/plain": [
              "<Axes: xlabel='trestbps', ylabel='Count'>"
            ]
          },
          "metadata": {},
          "execution_count": 15
        },
        {
          "output_type": "display_data",
          "data": {
            "text/plain": [
              "<Figure size 640x480 with 1 Axes>"
            ],
            "image/png": "[encoded data removed]"
          },
          "metadata": {}
        }
      ]
    },
    {
      "cell_type": "markdown",
      "source": [
        "### Chol Column"
      ],
      "metadata": {
        "id": "7WiXNE-RFABD"
      }
    },
    {
      "cell_type": "code",
      "source": [
        "print(df['chol'].describe())\n",
        "\n",
        "sns.histplot(df['chol'], kde=True)"
      ],
      "metadata": {
        "execution": {
          "iopub.status.busy": "2024-02-16T04:55:53.273543Z",
          "iopub.execute_input": "2024-02-16T04:55:53.274344Z",
          "iopub.status.idle": "2024-02-16T04:55:53.684844Z",
          "shell.execute_reply.started": "2024-02-16T04:55:53.274295Z",
          "shell.execute_reply": "2024-02-16T04:55:53.683403Z"
        },
        "trusted": true,
        "id": "GyxBd5MOFABD",
        "outputId": "c56db40e-b337-4916-8d47-e959a02f72f1",
        "colab": {
          "base_uri": "https://localhost:8080/",
          "height": 643
        }
      },
      "execution_count": null,
      "outputs": [
        {
          "output_type": "stream",
          "name": "stdout",
          "text": [
            "count    890.000000\n",
            "mean     199.130337\n",
            "std      110.780810\n",
            "min        0.000000\n",
            "25%      175.000000\n",
            "50%      223.000000\n",
            "75%      268.000000\n",
            "max      603.000000\n",
            "Name: chol, dtype: float64\n"
          ]
        },
        {
          "output_type": "execute_result",
          "data": {
            "text/plain": [
              "<Axes: xlabel='chol', ylabel='Count'>"
            ]
          },
          "metadata": {},
          "execution_count": 16
        },
        {
          "output_type": "display_data",
          "data": {
            "text/plain": [
              "<Figure size 640x480 with 1 Axes>"
            ],
            "image/png": "[encoded data removed]"
          },
          "metadata": {}
        }
      ]
    },
    {
      "cell_type": "markdown",
      "source": [
        "### Fbs Column"
      ],
      "metadata": {
        "id": "Do-wTJ7_FABD"
      }
    },
    {
      "cell_type": "code",
      "source": [
        "df['fbs'].value_counts()"
      ],
      "metadata": {
        "execution": {
          "iopub.status.busy": "2024-02-16T04:55:53.686594Z",
          "iopub.execute_input": "2024-02-16T04:55:53.687142Z",
          "iopub.status.idle": "2024-02-16T04:55:53.69796Z",
          "shell.execute_reply.started": "2024-02-16T04:55:53.687101Z",
          "shell.execute_reply": "2024-02-16T04:55:53.696504Z"
        },
        "trusted": true,
        "id": "_thBrlLHFABD",
        "outputId": "9d760a03-ee8a-4f6f-f5f5-9fef24470211",
        "colab": {
          "base_uri": "https://localhost:8080/",
          "height": 198
        }
      },
      "execution_count": null,
      "outputs": [
        {
          "output_type": "execute_result",
          "data": {
            "text/plain": [
              "fbs\n",
              "False    692\n",
              "True     138\n",
              "Name: count, dtype: int64"
            ],
            "text/html": [
              "<div>\n",
              "<style scoped>\n",
              "    .dataframe tbody tr th:only-of-type {\n",
              "        vertical-align: middle;\n",
              "    }\n",
              "\n",
              "    .dataframe tbody tr th {\n",
              "        vertical-align: top;\n",
              "    }\n",
              "\n",
              "    .dataframe thead th {\n",
              "        text-align: right;\n",
              "    }\n",
              "</style>\n",
              "<table border=\"1\" class=\"dataframe\">\n",
              "  <thead>\n",
              "    <tr style=\"text-align: right;\">\n",
              "      <th></th>\n",
              "      <th>count</th>\n",
              "    </tr>\n",
              "    <tr>\n",
              "      <th>fbs</th>\n",
              "      <th></th>\n",
              "    </tr>\n",
              "  </thead>\n",
              "  <tbody>\n",
              "    <tr>\n",
              "      <th>False</th>\n",
              "      <td>692</td>\n",
              "    </tr>\n",
              "    <tr>\n",
              "      <th>True</th>\n",
              "      <td>138</td>\n",
              "    </tr>\n",
              "  </tbody>\n",
              "</table>\n",
              "</div><br><label><b>dtype:</b> int64</label>"
            ]
          },
          "metadata": {},
          "execution_count": 17
        }
      ]
    },
    {
      "cell_type": "code",
      "source": [
        "fig = px.histogram(df, x='fbs', color='sex', barmode='group')\n",
        "fig.show()"
      ],
      "metadata": {
        "execution": {
          "iopub.status.busy": "2024-02-16T04:55:53.700081Z",
          "iopub.execute_input": "2024-02-16T04:55:53.700881Z",
          "iopub.status.idle": "2024-02-16T04:55:53.792518Z",
          "shell.execute_reply.started": "2024-02-16T04:55:53.700814Z",
          "shell.execute_reply": "2024-02-16T04:55:53.79061Z"
        },
        "trusted": true,
        "id": "Zc5_YpqPFABD",
        "outputId": "178f52ed-d4e0-4bd0-d242-920bfe1370f1",
        "colab": {
          "base_uri": "https://localhost:8080/",
          "height": 562
        }
      },
      "execution_count": null,
      "outputs": [
        {
          "output_type": "display_data",
          "data": {
            "text/html": [
              "<html>\n",
              "<head><meta charset=\"utf-8\" /></head>\n",
              "<body>\n",
              "    <div>            <script src=\"https://cdnjs.cloudflare.com/ajax/libs/mathjax/2.7.5/MathJax.js?config=TeX-AMS-MML_SVG\"></script><script type=\"text/javascript\">if (window.MathJax && window.MathJax.Hub && window.MathJax.Hub.Config) {window.MathJax.Hub.Config({SVG: {font: \"STIX-Web\"}});}</script>                <script type=\"text/javascript\">window.PlotlyConfig = {MathJaxConfig: 'local'};</script>\n",
              "        <script charset=\"utf-8\" src=\"https://cdn.plot.ly/plotly-2.35.2.min.js\"></script>                <div id=\"04aad14f-bc6b-4c27-b1f6-f095bc3e5caa\" class=\"plotly-graph-div\" style=\"height:525px; width:100%;\"></div>            <script type=\"text/javascript\">                                    window.PLOTLYENV=window.PLOTLYENV || {};                                    if (document.getElementById(\"04aad14f-bc6b-4c27-b1f6-f095bc3e5caa\")) {                    Plotly.newPlot(                        \"04aad14f-bc6b-4c27-b1f6-f095bc3e5caa\",                        [{\"alignmentgroup\":\"True\",\"bingroup\":\"x\",\"hovertemplate\":\"sex=Male\\u003cbr\\u003efbs=%{x}\\u003cbr\\u003ecount=%{y}\\u003cextra\\u003e\\u003c\\u002fextra\\u003e\",\"legendgroup\":\"Male\",\"marker\":{\"color\":\"#636efa\",\"pattern\":{\"shape\":\"\"}},\"name\":\"Male\",\"offsetgroup\":\"Male\",\"orientation\":\"v\",\"showlegend\":true,\"x\":[true,false,false,false,false,false,true,false,true,false,true,false,false,false,false,false,false,false,false,false,false,true,false,false,false,false,false,false,false,true,false,true,false,false,false,true,false,false,false,false,false,false,false,false,false,false,false,false,false,false,false,false,true,false,false,false,false,false,false,false,false,true,false,false,false,false,false,false,false,false,false,false,false,false,false,false,false,false,false,true,false,false,true,true,false,true,false,false,true,false,false,false,false,false,false,false,false,false,true,false,false,true,false,false,false,true,false,false,true,false,false,false,false,false,false,false,true,false,true,false,false,false,false,false,false,false,true,false,false,true,false,false,false,true,false,false,false,false,false,true,false,true,false,true,false,false,false,false,false,false,false,false,false,false,false,false,false,false,false,false,true,false,false,false,false,false,false,false,false,true,false,false,false,false,false,false,false,false,false,true,true,false,false,false,false,false,false,false,false,false,false,false,false,false,false,false,false,false,false,false,false,true,false,true,false,false,false,false,false,false,false,false,false,false,false,false,false,false,false,false,false,false,false,false,false,false,false,false,false,false,false,false,true,false,false,false,false,false,false,false,false,false,false,false,false,false,false,false,false,false,false,false,false,false,true,false,false,false,false,false,null,false,false,false,false,false,true,false,false,false,false,false,false,null,false,false,false,false,false,false,false,false,false,false,false,false,false,false,false,false,false,false,false,false,false,false,false,false,false,false,false,false,true,false,false,false,false,false,false,false,false,false,false,true,false,false,false,false,false,false,false,false,false,false,false,false,false,false,false,false,false,false,false,null,false,null,false,false,false,false,false,false,true,false,false,false,false,false,false,false,false,false,false,false,false,false,true,false,false,false,false,false,false,false,true,false,false,false,false,false,false,false,false,false,true,false,false,false,true,false,true,false,false,false,false,false,true,false,false,false,false,false,false,false,false,false,false,false,true,false,false,false,false,false,true,true,false,false,false,false,false,false,false,false,false,false,false,true,false,null,null,null,null,null,false,null,null,null,null,null,false,null,false,false,null,null,false,null,false,null,false,null,false,false,null,null,true,null,null,false,null,null,null,null,null,false,null,false,null,null,null,false,null,false,null,null,null,null,false,false,false,null,false,null,false,false,true,null,null,null,false,null,null,null,null,false,null,null,null,false,null,false,null,null,null,false,false,null,null,null,null,false,false,null,false,false,true,null,false,null,null,null,null,null,false,null,false,null,false,null,null,true,false,false,false,null,false,false,false,true,null,null,false,false,false,false,true,false,true,false,null,true,false,false,false,false,true,false,false,false,false,false,false,true,false,false,false,true,true,true,false,false,false,false,true,false,false,false,false,false,true,false,false,true,true,false,true,false,false,false,false,null,false,false,true,false,false,null,true,false,true,true,null,null,false,true,null,true,false,false,true,true,false,false,false,false,true,false,false,false,true,false,true,false,false,false,false,true,true,true,false,false,true,false,false,true,false,false,false,true,true,false,null,false,false,false,false,false,false,false,false,false,false,false,false,true,true,false,false,false,true,true,true,false,false,false,false,false,true,true,false,true,false,false,false,true,true,false,true,true,false,false,false,false,false,true,true,false,false,false,false,false,false,true,false,true,true,true,false,false,false,true,true,false,true,false,true,true,false,false,false,true,false,false,true,true,true,true,false,false,false,true,false,false,false,false,false,true,true,true,false,false,false,true,true,false],\"xaxis\":\"x\",\"yaxis\":\"y\",\"type\":\"histogram\"},{\"alignmentgroup\":\"True\",\"bingroup\":\"x\",\"hovertemplate\":\"sex=Female\\u003cbr\\u003efbs=%{x}\\u003cbr\\u003ecount=%{y}\\u003cextra\\u003e\\u003c\\u002fextra\\u003e\",\"legendgroup\":\"Female\",\"marker\":{\"color\":\"#EF553B\",\"pattern\":{\"shape\":\"\"}},\"name\":\"Female\",\"offsetgroup\":\"Female\",\"orientation\":\"v\",\"showlegend\":true,\"x\":[false,false,false,false,false,true,false,false,false,false,false,false,false,true,false,false,false,true,false,false,false,false,false,false,false,false,false,false,false,false,true,false,true,false,false,false,false,true,false,false,false,false,false,false,false,false,true,false,false,false,false,false,false,true,false,false,false,false,false,false,false,false,true,false,false,false,false,false,false,false,false,false,false,false,false,false,false,false,false,true,false,false,false,false,false,true,false,false,false,false,false,false,true,false,false,false,false,false,false,false,false,false,false,false,false,false,null,false,false,false,false,false,false,false,false,false,false,false,false,false,false,false,false,false,false,false,false,true,false,false,false,false,false,false,false,false,false,false,false,false,false,false,false,false,false,false,false,null,false,false,false,true,false,false,null,false,false,false,false,false,null,false,false,false,false,false,false,false,false,false,true,false,true,false,false,false,false,false,null,false,null,null,null,null,false,null,null,false,false,false,false,true,true,true],\"xaxis\":\"x\",\"yaxis\":\"y\",\"type\":\"histogram\"}],                        {\"template\":{\"data\":{\"histogram2dcontour\":[{\"type\":\"histogram2dcontour\",\"colorbar\":{\"outlinewidth\":0,\"ticks\":\"\"},\"colorscale\":[[0.0,\"#0d0887\"],[0.1111111111111111,\"#46039f\"],[0.2222222222222222,\"#7201a8\"],[0.3333333333333333,\"#9c179e\"],[0.4444444444444444,\"#bd3786\"],[0.5555555555555556,\"#d8576b\"],[0.6666666666666666,\"#ed7953\"],[0.7777777777777778,\"#fb9f3a\"],[0.8888888888888888,\"#fdca26\"],[1.0,\"#f0f921\"]]}],\"choropleth\":[{\"type\":\"choropleth\",\"colorbar\":{\"outlinewidth\":0,\"ticks\":\"\"}}],\"histogram2d\":[{\"type\":\"histogram2d\",\"colorbar\":{\"outlinewidth\":0,\"ticks\":\"\"},\"colorscale\":[[0.0,\"#0d0887\"],[0.1111111111111111,\"#46039f\"],[0.2222222222222222,\"#7201a8\"],[0.3333333333333333,\"#9c179e\"],[0.4444444444444444,\"#bd3786\"],[0.5555555555555556,\"#d8576b\"],[0.6666666666666666,\"#ed7953\"],[0.7777777777777778,\"#fb9f3a\"],[0.8888888888888888,\"#fdca26\"],[1.0,\"#f0f921\"]]}],\"heatmap\":[{\"type\":\"heatmap\",\"colorbar\":{\"outlinewidth\":0,\"ticks\":\"\"},\"colorscale\":[[0.0,\"#0d0887\"],[0.1111111111111111,\"#46039f\"],[0.2222222222222222,\"#7201a8\"],[0.3333333333333333,\"#9c179e\"],[0.4444444444444444,\"#bd3786\"],[0.5555555555555556,\"#d8576b\"],[0.6666666666666666,\"#ed7953\"],[0.7777777777777778,\"#fb9f3a\"],[0.8888888888888888,\"#fdca26\"],[1.0,\"#f0f921\"]]}],\"heatmapgl\":[{\"type\":\"heatmapgl\",\"colorbar\":{\"outlinewidth\":0,\"ticks\":\"\"},\"colorscale\":[[0.0,\"#0d0887\"],[0.1111111111111111,\"#46039f\"],[0.2222222222222222,\"#7201a8\"],[0.3333333333333333,\"#9c179e\"],[0.4444444444444444,\"#bd3786\"],[0.5555555555555556,\"#d8576b\"],[0.6666666666666666,\"#ed7953\"],[0.7777777777777778,\"#fb9f3a\"],[0.8888888888888888,\"#fdca26\"],[1.0,\"#f0f921\"]]}],\"contourcarpet\":[{\"type\":\"contourcarpet\",\"colorbar\":{\"outlinewidth\":0,\"ticks\":\"\"}}],\"contour\":[{\"type\":\"contour\",\"colorbar\":{\"outlinewidth\":0,\"ticks\":\"\"},\"colorscale\":[[0.0,\"#0d0887\"],[0.1111111111111111,\"#46039f\"],[0.2222222222222222,\"#7201a8\"],[0.3333333333333333,\"#9c179e\"],[0.4444444444444444,\"#bd3786\"],[0.5555555555555556,\"#d8576b\"],[0.6666666666666666,\"#ed7953\"],[0.7777777777777778,\"#fb9f3a\"],[0.8888888888888888,\"#fdca26\"],[1.0,\"#f0f921\"]]}],\"surface\":[{\"type\":\"surface\",\"colorbar\":{\"outlinewidth\":0,\"ticks\":\"\"},\"colorscale\":[[0.0,\"#0d0887\"],[0.1111111111111111,\"#46039f\"],[0.2222222222222222,\"#7201a8\"],[0.3333333333333333,\"#9c179e\"],[0.4444444444444444,\"#bd3786\"],[0.5555555555555556,\"#d8576b\"],[0.6666666666666666,\"#ed7953\"],[0.7777777777777778,\"#fb9f3a\"],[0.8888888888888888,\"#fdca26\"],[1.0,\"#f0f921\"]]}],\"mesh3d\":[{\"type\":\"mesh3d\",\"colorbar\":{\"outlinewidth\":0,\"ticks\":\"\"}}],\"scatter\":[{\"fillpattern\":{\"fillmode\":\"overlay\",\"size\":10,\"solidity\":0.2},\"type\":\"scatter\"}],\"parcoords\":[{\"type\":\"parcoords\",\"line\":{\"colorbar\":{\"outlinewidth\":0,\"ticks\":\"\"}}}],\"scatterpolargl\":[{\"type\":\"scatterpolargl\",\"marker\":{\"colorbar\":{\"outlinewidth\":0,\"ticks\":\"\"}}}],\"bar\":[{\"error_x\":{\"color\":\"#2a3f5f\"},\"error_y\":{\"color\":\"#2a3f5f\"},\"marker\":{\"line\":{\"color\":\"#E5ECF6\",\"width\":0.5},\"pattern\":{\"fillmode\":\"overlay\",\"size\":10,\"solidity\":0.2}},\"type\":\"bar\"}],\"scattergeo\":[{\"type\":\"scattergeo\",\"marker\":{\"colorbar\":{\"outlinewidth\":0,\"ticks\":\"\"}}}],\"scatterpolar\":[{\"type\":\"scatterpolar\",\"marker\":{\"colorbar\":{\"outlinewidth\":0,\"ticks\":\"\"}}}],\"histogram\":[{\"marker\":{\"pattern\":{\"fillmode\":\"overlay\",\"size\":10,\"solidity\":0.2}},\"type\":\"histogram\"}],\"scattergl\":[{\"type\":\"scattergl\",\"marker\":{\"colorbar\":{\"outlinewidth\":0,\"ticks\":\"\"}}}],\"scatter3d\":[{\"type\":\"scatter3d\",\"line\":{\"colorbar\":{\"outlinewidth\":0,\"ticks\":\"\"}},\"marker\":{\"colorbar\":{\"outlinewidth\":0,\"ticks\":\"\"}}}],\"scattermapbox\":[{\"type\":\"scattermapbox\",\"marker\":{\"colorbar\":{\"outlinewidth\":0,\"ticks\":\"\"}}}],\"scatterternary\":[{\"type\":\"scatterternary\",\"marker\":{\"colorbar\":{\"outlinewidth\":0,\"ticks\":\"\"}}}],\"scattercarpet\":[{\"type\":\"scattercarpet\",\"marker\":{\"colorbar\":{\"outlinewidth\":0,\"ticks\":\"\"}}}],\"carpet\":[{\"aaxis\":{\"endlinecolor\":\"#2a3f5f\",\"gridcolor\":\"white\",\"linecolor\":\"white\",\"minorgridcolor\":\"white\",\"startlinecolor\":\"#2a3f5f\"},\"baxis\":{\"endlinecolor\":\"#2a3f5f\",\"gridcolor\":\"white\",\"linecolor\":\"white\",\"minorgridcolor\":\"white\",\"startlinecolor\":\"#2a3f5f\"},\"type\":\"carpet\"}],\"table\":[{\"cells\":{\"fill\":{\"color\":\"#EBF0F8\"},\"line\":{\"color\":\"white\"}},\"header\":{\"fill\":{\"color\":\"#C8D4E3\"},\"line\":{\"color\":\"white\"}},\"type\":\"table\"}],\"barpolar\":[{\"marker\":{\"line\":{\"color\":\"#E5ECF6\",\"width\":0.5},\"pattern\":{\"fillmode\":\"overlay\",\"size\":10,\"solidity\":0.2}},\"type\":\"barpolar\"}],\"pie\":[{\"automargin\":true,\"type\":\"pie\"}]},\"layout\":{\"autotypenumbers\":\"strict\",\"colorway\":[\"#636efa\",\"#EF553B\",\"#00cc96\",\"#ab63fa\",\"#FFA15A\",\"#19d3f3\",\"#FF6692\",\"#B6E880\",\"#FF97FF\",\"#FECB52\"],\"font\":{\"color\":\"#2a3f5f\"},\"hovermode\":\"closest\",\"hoverlabel\":{\"align\":\"left\"},\"paper_bgcolor\":\"white\",\"plot_bgcolor\":\"#E5ECF6\",\"polar\":{\"bgcolor\":\"#E5ECF6\",\"angularaxis\":{\"gridcolor\":\"white\",\"linecolor\":\"white\",\"ticks\":\"\"},\"radialaxis\":{\"gridcolor\":\"white\",\"linecolor\":\"white\",\"ticks\":\"\"}},\"ternary\":{\"bgcolor\":\"#E5ECF6\",\"aaxis\":{\"gridcolor\":\"white\",\"linecolor\":\"white\",\"ticks\":\"\"},\"baxis\":{\"gridcolor\":\"white\",\"linecolor\":\"white\",\"ticks\":\"\"},\"caxis\":{\"gridcolor\":\"white\",\"linecolor\":\"white\",\"ticks\":\"\"}},\"coloraxis\":{\"colorbar\":{\"outlinewidth\":0,\"ticks\":\"\"}},\"colorscale\":{\"sequential\":[[0.0,\"#0d0887\"],[0.1111111111111111,\"#46039f\"],[0.2222222222222222,\"#7201a8\"],[0.3333333333333333,\"#9c179e\"],[0.4444444444444444,\"#bd3786\"],[0.5555555555555556,\"#d8576b\"],[0.6666666666666666,\"#ed7953\"],[0.7777777777777778,\"#fb9f3a\"],[0.8888888888888888,\"#fdca26\"],[1.0,\"#f0f921\"]],\"sequentialminus\":[[0.0,\"#0d0887\"],[0.1111111111111111,\"#46039f\"],[0.2222222222222222,\"#7201a8\"],[0.3333333333333333,\"#9c179e\"],[0.4444444444444444,\"#bd3786\"],[0.5555555555555556,\"#d8576b\"],[0.6666666666666666,\"#ed7953\"],[0.7777777777777778,\"#fb9f3a\"],[0.8888888888888888,\"#fdca26\"],[1.0,\"#f0f921\"]],\"diverging\":[[0,\"#8e0152\"],[0.1,\"#c51b7d\"],[0.2,\"#de77ae\"],[0.3,\"#f1b6da\"],[0.4,\"#fde0ef\"],[0.5,\"#f7f7f7\"],[0.6,\"#e6f5d0\"],[0.7,\"#b8e186\"],[0.8,\"#7fbc41\"],[0.9,\"#4d9221\"],[1,\"#276419\"]]},\"xaxis\":{\"gridcolor\":\"white\",\"linecolor\":\"white\",\"ticks\":\"\",\"title\":{\"standoff\":15},\"zerolinecolor\":\"white\",\"automargin\":true,\"zerolinewidth\":2},\"yaxis\":{\"gridcolor\":\"white\",\"linecolor\":\"white\",\"ticks\":\"\",\"title\":{\"standoff\":15},\"zerolinecolor\":\"white\",\"automargin\":true,\"zerolinewidth\":2},\"scene\":{\"xaxis\":{\"backgroundcolor\":\"#E5ECF6\",\"gridcolor\":\"white\",\"linecolor\":\"white\",\"showbackground\":true,\"ticks\":\"\",\"zerolinecolor\":\"white\",\"gridwidth\":2},\"yaxis\":{\"backgroundcolor\":\"#E5ECF6\",\"gridcolor\":\"white\",\"linecolor\":\"white\",\"showbackground\":true,\"ticks\":\"\",\"zerolinecolor\":\"white\",\"gridwidth\":2},\"zaxis\":{\"backgroundcolor\":\"#E5ECF6\",\"gridcolor\":\"white\",\"linecolor\":\"white\",\"showbackground\":true,\"ticks\":\"\",\"zerolinecolor\":\"white\",\"gridwidth\":2}},\"shapedefaults\":{\"line\":{\"color\":\"#2a3f5f\"}},\"annotationdefaults\":{\"arrowcolor\":\"#2a3f5f\",\"arrowhead\":0,\"arrowwidth\":1},\"geo\":{\"bgcolor\":\"white\",\"landcolor\":\"#E5ECF6\",\"subunitcolor\":\"white\",\"showland\":true,\"showlakes\":true,\"lakecolor\":\"white\"},\"title\":{\"x\":0.05},\"mapbox\":{\"style\":\"light\"}}},\"xaxis\":{\"anchor\":\"y\",\"domain\":[0.0,1.0],\"title\":{\"text\":\"fbs\"}},\"yaxis\":{\"anchor\":\"x\",\"domain\":[0.0,1.0],\"title\":{\"text\":\"count\"}},\"legend\":{\"title\":{\"text\":\"sex\"},\"tracegroupgap\":0},\"margin\":{\"t\":60},\"barmode\":\"group\"},                        {\"responsive\": true}                    ).then(function(){\n",
              "                            \n",
              "var gd = document.getElementById('04aad14f-bc6b-4c27-b1f6-f095bc3e5caa');\n",
              "var x = new MutationObserver(function (mutations, observer) {{\n",
              "        var display = window.getComputedStyle(gd).display;\n",
              "        if (!display || display === 'none') {{\n",
              "            console.log([gd, 'removed!']);\n",
              "            Plotly.purge(gd);\n",
              "            observer.disconnect();\n",
              "        }}\n",
              "}});\n",
              "\n",
              "// Listen for the removal of the full notebook cells\n",
              "var notebookContainer = gd.closest('#notebook-container');\n",
              "if (notebookContainer) {{\n",
              "    x.observe(notebookContainer, {childList: true});\n",
              "}}\n",
              "\n",
              "// Listen for the clearing of the current output cell\n",
              "var outputEl = gd.closest('.output');\n",
              "if (outputEl) {{\n",
              "    x.observe(outputEl, {childList: true});\n",
              "}}\n",
              "\n",
              "                        })                };                            </script>        </div>\n",
              "</body>\n",
              "</html>"
            ]
          },
          "metadata": {}
        }
      ]
    },
    {
      "cell_type": "markdown",
      "source": [
        "\n",
        "### Restecg Column"
      ],
      "metadata": {
        "id": "fpugdE3SFABD"
      }
    },
    {
      "cell_type": "code",
      "source": [
        "# check unique values\n",
        "df['restecg'].unique()"
      ],
      "metadata": {
        "execution": {
          "iopub.status.busy": "2024-02-16T04:55:53.794333Z",
          "iopub.execute_input": "2024-02-16T04:55:53.794789Z",
          "iopub.status.idle": "2024-02-16T04:55:53.803418Z",
          "shell.execute_reply.started": "2024-02-16T04:55:53.794749Z",
          "shell.execute_reply": "2024-02-16T04:55:53.802086Z"
        },
        "trusted": true,
        "id": "02ZDnD-hFABE",
        "outputId": "3dd5d248-6c0e-45d9-826d-24831598a05f",
        "colab": {
          "base_uri": "https://localhost:8080/"
        }
      },
      "execution_count": null,
      "outputs": [
        {
          "output_type": "execute_result",
          "data": {
            "text/plain": [
              "array(['lv hypertrophy', 'normal', 'st-t abnormality', nan], dtype=object)"
            ]
          },
          "metadata": {},
          "execution_count": 19
        }
      ]
    },
    {
      "cell_type": "code",
      "source": [
        "df['restecg'][df['restecg'] == 0] = 'normal'\n",
        "df['restecg'][df['restecg'] == 1] = 'ST-T wave abnormality'\n",
        "df['restecg'][df['restecg'] == 2] = 'left ventricular hypertrophy'"
      ],
      "metadata": {
        "execution": {
          "iopub.status.busy": "2024-02-16T04:55:53.805398Z",
          "iopub.execute_input": "2024-02-16T04:55:53.805995Z",
          "iopub.status.idle": "2024-02-16T04:55:53.822766Z",
          "shell.execute_reply.started": "2024-02-16T04:55:53.805947Z",
          "shell.execute_reply": "2024-02-16T04:55:53.821305Z"
        },
        "trusted": true,
        "id": "IkwTP7TcFABE"
      },
      "execution_count": null,
      "outputs": []
    },
    {
      "cell_type": "code",
      "source": [
        "restecg_counts = df['restecg'].value_counts()\n",
        "print(restecg_counts)"
      ],
      "metadata": {
        "execution": {
          "iopub.status.busy": "2024-02-16T04:55:53.824421Z",
          "iopub.execute_input": "2024-02-16T04:55:53.825147Z",
          "iopub.status.idle": "2024-02-16T04:55:53.835184Z",
          "shell.execute_reply.started": "2024-02-16T04:55:53.82511Z",
          "shell.execute_reply": "2024-02-16T04:55:53.833776Z"
        },
        "trusted": true,
        "id": "VgghGgXWFABE",
        "outputId": "9c55264e-3fb7-4f4d-e257-25bec14dc930",
        "colab": {
          "base_uri": "https://localhost:8080/"
        }
      },
      "execution_count": null,
      "outputs": [
        {
          "output_type": "stream",
          "name": "stdout",
          "text": [
            "restecg\n",
            "normal              551\n",
            "lv hypertrophy      188\n",
            "st-t abnormality    179\n",
            "Name: count, dtype: int64\n"
          ]
        }
      ]
    },
    {
      "cell_type": "code",
      "source": [
        "# remove row where are found Nan values\n",
        "df.dropna(subset=['restecg'], inplace=True)"
      ],
      "metadata": {
        "execution": {
          "iopub.status.busy": "2024-02-16T04:55:53.836965Z",
          "iopub.execute_input": "2024-02-16T04:55:53.837496Z",
          "iopub.status.idle": "2024-02-16T04:55:53.848701Z",
          "shell.execute_reply.started": "2024-02-16T04:55:53.837448Z",
          "shell.execute_reply": "2024-02-16T04:55:53.847451Z"
        },
        "trusted": true,
        "id": "1ShAx_UvFABF"
      },
      "execution_count": null,
      "outputs": []
    },
    {
      "cell_type": "markdown",
      "source": [
        "### Thalch Column"
      ],
      "metadata": {
        "id": "MBBE63piFABF"
      }
    },
    {
      "cell_type": "code",
      "source": [
        "df['thalch'].describe()"
      ],
      "metadata": {
        "execution": {
          "iopub.status.busy": "2024-02-16T04:55:53.850545Z",
          "iopub.execute_input": "2024-02-16T04:55:53.851013Z",
          "iopub.status.idle": "2024-02-16T04:55:53.867995Z",
          "shell.execute_reply.started": "2024-02-16T04:55:53.850972Z",
          "shell.execute_reply": "2024-02-16T04:55:53.866561Z"
        },
        "trusted": true,
        "id": "14eUvaB4FABF",
        "outputId": "0bf882ff-e10e-42fc-c773-24f5f893cd01",
        "colab": {
          "base_uri": "https://localhost:8080/",
          "height": 355
        }
      },
      "execution_count": null,
      "outputs": [
        {
          "output_type": "execute_result",
          "data": {
            "text/plain": [
              "count    863.000000\n",
              "mean     137.528389\n",
              "std       25.950226\n",
              "min       60.000000\n",
              "25%      120.000000\n",
              "50%      140.000000\n",
              "75%      157.000000\n",
              "max      202.000000\n",
              "Name: thalch, dtype: float64"
            ],
            "text/html": [
              "<div>\n",
              "<style scoped>\n",
              "    .dataframe tbody tr th:only-of-type {\n",
              "        vertical-align: middle;\n",
              "    }\n",
              "\n",
              "    .dataframe tbody tr th {\n",
              "        vertical-align: top;\n",
              "    }\n",
              "\n",
              "    .dataframe thead th {\n",
              "        text-align: right;\n",
              "    }\n",
              "</style>\n",
              "<table border=\"1\" class=\"dataframe\">\n",
              "  <thead>\n",
              "    <tr style=\"text-align: right;\">\n",
              "      <th></th>\n",
              "      <th>thalch</th>\n",
              "    </tr>\n",
              "  </thead>\n",
              "  <tbody>\n",
              "    <tr>\n",
              "      <th>count</th>\n",
              "      <td>863.000000</td>\n",
              "    </tr>\n",
              "    <tr>\n",
              "      <th>mean</th>\n",
              "      <td>137.528389</td>\n",
              "    </tr>\n",
              "    <tr>\n",
              "      <th>std</th>\n",
              "      <td>25.950226</td>\n",
              "    </tr>\n",
              "    <tr>\n",
              "      <th>min</th>\n",
              "      <td>60.000000</td>\n",
              "    </tr>\n",
              "    <tr>\n",
              "      <th>25%</th>\n",
              "      <td>120.000000</td>\n",
              "    </tr>\n",
              "    <tr>\n",
              "      <th>50%</th>\n",
              "      <td>140.000000</td>\n",
              "    </tr>\n",
              "    <tr>\n",
              "      <th>75%</th>\n",
              "      <td>157.000000</td>\n",
              "    </tr>\n",
              "    <tr>\n",
              "      <th>max</th>\n",
              "      <td>202.000000</td>\n",
              "    </tr>\n",
              "  </tbody>\n",
              "</table>\n",
              "</div><br><label><b>dtype:</b> float64</label>"
            ]
          },
          "metadata": {},
          "execution_count": 23
        }
      ]
    },
    {
      "cell_type": "code",
      "source": [
        "# make scatter plot between thalch and age column\n",
        "px.scatter (df,x='thalch',y='age')"
      ],
      "metadata": {
        "execution": {
          "iopub.status.busy": "2024-02-16T04:55:53.869807Z",
          "iopub.execute_input": "2024-02-16T04:55:53.871309Z",
          "iopub.status.idle": "2024-02-16T04:55:53.947627Z",
          "shell.execute_reply.started": "2024-02-16T04:55:53.871244Z",
          "shell.execute_reply": "2024-02-16T04:55:53.946158Z"
        },
        "trusted": true,
        "id": "rVPjuA8NFABF",
        "outputId": "ce21ad1a-d6c1-4e02-9ce5-affde912af41",
        "colab": {
          "base_uri": "https://localhost:8080/",
          "height": 562
        }
      },
      "execution_count": null,
      "outputs": [
        {
          "output_type": "display_data",
          "data": {
            "text/html": [
              "<html>\n",
              "<head><meta charset=\"utf-8\" /></head>\n",
              "<body>\n",
              "    <div>            <script src=\"https://cdnjs.cloudflare.com/ajax/libs/mathjax/2.7.5/MathJax.js?config=TeX-AMS-MML_SVG\"></script><script type=\"text/javascript\">if (window.MathJax && window.MathJax.Hub && window.MathJax.Hub.Config) {window.MathJax.Hub.Config({SVG: {font: \"STIX-Web\"}});}</script>                <script type=\"text/javascript\">window.PlotlyConfig = {MathJaxConfig: 'local'};</script>\n",
              "        <script charset=\"utf-8\" src=\"https://cdn.plot.ly/plotly-2.35.2.min.js\"></script>                <div id=\"d23c1a79-1db8-4d7f-a479-e3d93950e102\" class=\"plotly-graph-div\" style=\"height:525px; width:100%;\"></div>            <script type=\"text/javascript\">                                    window.PLOTLYENV=window.PLOTLYENV || {};                                    if (document.getElementById(\"d23c1a79-1db8-4d7f-a479-e3d93950e102\")) {                    Plotly.newPlot(                        \"d23c1a79-1db8-4d7f-a479-e3d93950e102\",                        [{\"hovertemplate\":\"thalch=%{x}\\u003cbr\\u003eage=%{y}\\u003cextra\\u003e\\u003c\\u002fextra\\u003e\",\"legendgroup\":\"\",\"marker\":{\"color\":\"#636efa\",\"symbol\":\"circle\"},\"mode\":\"markers\",\"name\":\"\",\"orientation\":\"v\",\"showlegend\":false,\"x\":[150.0,108.0,129.0,187.0,172.0,178.0,160.0,163.0,147.0,155.0,148.0,153.0,142.0,173.0,162.0,174.0,168.0,160.0,139.0,171.0,144.0,162.0,160.0,173.0,132.0,158.0,172.0,114.0,171.0,114.0,151.0,160.0,158.0,161.0,179.0,178.0,120.0,112.0,132.0,137.0,114.0,178.0,162.0,157.0,169.0,165.0,123.0,128.0,157.0,152.0,168.0,140.0,153.0,188.0,144.0,109.0,163.0,158.0,152.0,125.0,142.0,160.0,131.0,170.0,113.0,142.0,155.0,165.0,140.0,147.0,148.0,163.0,99.0,158.0,177.0,151.0,141.0,142.0,180.0,111.0,148.0,143.0,182.0,150.0,172.0,180.0,156.0,115.0,160.0,149.0,151.0,145.0,146.0,175.0,172.0,161.0,142.0,157.0,158.0,186.0,185.0,174.0,159.0,130.0,139.0,156.0,162.0,150.0,140.0,140.0,146.0,144.0,190.0,136.0,97.0,132.0,165.0,182.0,132.0,127.0,150.0,154.0,143.0,111.0,174.0,175.0,133.0,126.0,170.0,163.0,147.0,154.0,202.0,186.0,165.0,161.0,125.0,103.0,130.0,166.0,164.0,159.0,184.0,131.0,154.0,152.0,124.0,179.0,170.0,160.0,178.0,122.0,160.0,145.0,96.0,109.0,173.0,171.0,170.0,151.0,156.0,162.0,158.0,122.0,175.0,168.0,169.0,159.0,156.0,138.0,112.0,111.0,143.0,157.0,132.0,88.0,147.0,105.0,162.0,173.0,166.0,150.0,178.0,145.0,161.0,179.0,194.0,120.0,195.0,146.0,163.0,122.0,143.0,106.0,115.0,125.0,131.0,152.0,162.0,125.0,159.0,154.0,173.0,133.0,161.0,147.0,130.0,126.0,155.0,154.0,170.0,182.0,168.0,165.0,160.0,162.0,172.0,152.0,122.0,182.0,172.0,167.0,179.0,95.0,169.0,192.0,143.0,172.0,108.0,132.0,169.0,117.0,126.0,121.0,163.0,116.0,103.0,144.0,162.0,162.0,153.0,163.0,163.0,145.0,96.0,71.0,156.0,118.0,168.0,140.0,126.0,105.0,105.0,157.0,181.0,173.0,142.0,116.0,143.0,141.0,149.0,152.0,171.0,169.0,125.0,125.0,156.0,134.0,181.0,150.0,138.0,138.0,120.0,125.0,162.0,155.0,152.0,152.0,164.0,131.0,143.0,179.0,130.0,174.0,161.0,140.0,146.0,144.0,163.0,169.0,150.0,166.0,144.0,144.0,136.0,182.0,90.0,123.0,132.0,141.0,115.0,174.0,173.0,185.0,160.0,170.0,170.0,150.0,165.0,184.0,155.0,185.0,190.0,168.0,150.0,185.0,150.0,180.0,168.0,180.0,184.0,178.0,172.0,130.0,142.0,184.0,98.0,150.0,168.0,158.0,129.0,150.0,130.0,180.0,146.0,160.0,145.0,120.0,106.0,170.0,160.0,132.0,140.0,150.0,172.0,138.0,167.0,188.0,142.0,180.0,150.0,160.0,170.0,144.0,142.0,137.0,150.0,155.0,136.0,152.0,146.0,170.0,142.0,165.0,175.0,176.0,118.0,154.0,175.0,138.0,115.0,142.0,135.0,170.0,170.0,180.0,144.0,122.0,110.0,140.0,144.0,90.0,165.0,150.0,116.0,140.0,140.0,120.0,135.0,145.0,150.0,174.0,125.0,null,148.0,120.0,125.0,175.0,110.0,130.0,100.0,160.0,118.0,138.0,160.0,160.0,164.0,135.0,174.0,172.0,132.0,130.0,145.0,110.0,160.0,170.0,116.0,135.0,140.0,170.0,120.0,160.0,120.0,145.0,150.0,100.0,148.0,140.0,139.0,140.0,118.0,138.0,165.0,170.0,127.0,142.0,130.0,132.0,162.0,140.0,112.0,148.0,155.0,138.0,140.0,150.0,155.0,140.0,130.0,130.0,137.0,142.0,154.0,110.0,130.0,175.0,137.0,122.0,134.0,160.0,155.0,150.0,137.0,150.0,155.0,160.0,134.0,140.0,110.0,164.0,100.0,114.0,128.0,140.0,98.0,126.0,140.0,150.0,110.0,160.0,100.0,124.0,150.0,120.0,100.0,140.0,135.0,120.0,115.0,116.0,152.0,153.0,150.0,180.0,140.0,160.0,130.0,166.0,170.0,134.0,152.0,170.0,138.0,130.0,150.0,124.0,125.0,145.0,98.0,110.0,115.0,103.0,156.0,175.0,170.0,140.0,150.0,150.0,120.0,140.0,122.0,130.0,145.0,140.0,130.0,125.0,115.0,87.0,130.0,150.0,150.0,130.0,155.0,130.0,115.0,112.0,150.0,102.0,92.0,99.0,121.0,150.0,126.0,116.0,150.0,91.0,125.0,118.0,142.0,128.0,125.0,92.0,92.0,140.0,130.0,120.0,150.0,100.0,175.0,170.0,108.0,120.0,140.0,150.0,96.0,110.0,124.0,82.0,130.0,120.0,105.0,143.0,96.0,150.0,124.0,122.0,99.0,125.0,119.0,112.0,94.0,118.0,135.0,135.0,98.0,158.0,96.0,122.0,140.0,125.0,134.0,94.0,100.0,150.0,110.0,115.0,127.0,130.0,125.0,166.0,156.0,179.0,128.0,150.0,120.0,144.0,176.0,128.0,99.0,122.0,145.0,140.0,138.0,133.0,113.0,120.0,118.0,149.0,124.0,128.0,110.0,120.0,156.0,139.0,127.0,92.0,104.0,170.0,163.0,60.0,126.0,120.0,128.0,122.0,82.0,95.0,120.0,115.0,122.0,120.0,120.0,135.0,141.0,155.0,110.0,150.0,150.0,155.0,92.0,83.0,97.0,98.0,99.0,82.0,100.0,148.0,103.0,121.0,148.0,131.0,120.0,100.0,98.0,182.0,138.0,100.0,105.0,175.0,94.0,115.0,119.0,115.0,143.0,110.0,130.0,63.0,99.0,149.0,70.0,110.0,113.0,105.0,115.0,77.0,105.0,117.0,145.0,143.0,123.0,134.0,72.0,128.0,72.0,78.0,109.0,149.0,86.0,154.0,98.0,140.0,145.0,114.0,93.0,67.0,154.0,122.0,90.0,108.0,125.0,120.0,136.0,130.0,null,92.0,157.0,114.0,121.0,123.0,112.0,127.0,140.0,149.0,99.0,120.0,105.0,140.0,141.0,157.0,140.0,117.0,120.0,null,148.0,86.0,84.0,125.0,120.0,118.0,124.0,106.0,111.0,null,180.0,129.0,null,140.0,120.0,null,null,110.0,105.0,155.0,110.0,122.0,null,133.0,null,131.0,80.0,165.0,86.0,111.0,null,84.0,117.0,107.0,128.0,160.0,125.0,null,97.0,161.0,106.0,130.0,140.0,null,null,120.0,null,108.0,148.0,123.0,110.0,118.0,125.0,106.0,null,null,180.0,144.0,null,140.0,102.0,108.0,145.0,null,110.0,140.0,69.0,148.0,130.0,130.0,140.0,138.0,140.0,null,112.0,null,112.0,80.0,150.0,110.0,null,88.0,null,150.0,120.0,160.0,132.0,120.0,110.0,121.0,128.0,135.0,120.0,117.0,150.0,null,null,null,null,null,null,null,102.0,140.0,135.0,null,null,130.0,112.0,100.0,null,120.0,105.0,129.0,120.0,null,162.0,100.0,140.0,null,73.0,86.0,null,null,160.0,118.0,112.0,null,null,102.0,null,null,154.0,null,160.0,null,128.0,115.0,105.0,110.0,119.0,null,135.0,130.0,null,null,120.0,null,119.0,null,null,159.0,84.0,null,null,120.0,122.0,165.0,122.0,94.0,null,110.0,150.0,130.0,113.0,140.0,100.0,null,127.0,98.0,96.0,null,98.0,118.0,112.0,151.0,96.0,108.0,128.0,138.0,126.0,154.0,null,100.0,null,93.0],\"xaxis\":\"x\",\"y\":[63,67,67,37,41,56,62,57,63,53,57,56,56,44,52,57,48,54,48,49,64,58,58,58,60,50,58,66,43,40,69,60,64,59,44,42,43,57,55,61,65,40,71,59,61,58,51,50,65,53,41,65,44,44,60,54,50,41,54,51,51,46,58,54,54,60,60,54,59,46,65,67,62,65,44,65,60,51,48,58,45,53,39,68,52,44,47,53,53,51,66,62,62,44,63,52,59,60,52,48,45,34,57,71,49,54,59,57,61,39,61,56,52,43,62,41,58,35,63,65,48,63,51,55,65,45,56,54,44,62,54,51,29,51,43,55,70,62,35,51,59,59,52,64,58,47,57,41,45,60,52,42,67,55,64,70,51,58,60,68,46,77,54,58,48,57,52,54,35,45,70,53,59,62,64,57,52,56,43,53,48,56,42,59,60,63,42,66,54,69,50,51,43,62,68,67,69,45,50,59,50,64,57,64,43,45,58,50,55,62,37,38,41,66,52,56,46,46,64,59,41,54,39,53,63,34,47,67,54,66,52,55,49,74,54,54,56,46,49,42,41,41,49,61,60,67,58,47,52,62,57,58,64,51,43,42,67,76,70,57,44,58,60,44,61,42,52,59,40,42,61,66,46,71,59,64,66,39,57,58,57,47,55,35,61,58,58,58,56,56,67,55,44,63,63,41,59,57,45,68,57,57,38,28,29,29,30,31,32,32,32,33,34,34,34,35,35,35,35,36,36,36,36,37,37,37,37,37,37,37,38,38,38,39,39,39,39,39,39,39,39,39,39,40,40,40,40,40,41,41,41,41,41,41,41,42,42,42,42,42,42,42,43,43,43,43,43,43,43,43,44,44,44,44,45,45,45,45,45,45,45,46,46,46,46,46,46,46,47,47,47,47,47,48,48,48,48,48,48,48,48,48,48,48,49,49,49,49,49,49,49,49,50,50,50,50,50,50,50,51,51,51,51,51,51,51,52,52,52,52,52,52,52,52,53,53,53,53,53,53,53,53,53,54,54,54,54,54,54,54,54,54,54,54,54,54,54,54,54,55,55,55,55,55,55,55,55,55,55,56,56,56,56,56,57,57,57,58,58,58,58,59,59,59,59,59,60,61,61,62,62,31,33,34,35,36,37,38,38,38,40,41,41,43,46,46,46,47,47,48,48,48,49,49,49,50,50,51,52,54,54,55,57,58,59,60,63,65,32,38,39,40,43,45,46,46,48,48,48,48,50,52,52,53,54,54,54,54,54,55,56,57,58,58,41,43,44,44,46,47,48,49,49,51,52,52,52,52,53,53,54,55,55,56,56,56,58,59,59,65,66,41,43,44,47,47,49,49,50,50,52,52,54,56,58,65,32,35,36,38,38,38,38,38,38,40,41,42,42,43,43,43,45,46,46,47,47,47,47,48,50,50,50,50,51,51,51,51,51,51,51,52,52,52,52,53,53,53,53,53,53,53,53,54,54,54,55,55,55,55,56,56,56,56,56,56,56,56,57,57,57,57,57,57,58,58,58,59,59,59,59,59,60,60,60,60,60,60,61,61,61,61,61,61,61,61,61,62,62,62,62,62,62,62,63,63,63,63,63,64,64,64,65,65,65,65,66,66,67,68,68,69,69,70,70,72,73,74,63,44,60,55,66,66,65,60,60,60,56,59,62,63,57,62,63,46,63,60,58,64,63,74,52,69,51,60,56,55,54,77,63,55,52,64,60,60,58,59,61,40,61,41,57,63,59,51,59,42,55,63,62,56,53,68,53,60,62,59,51,61,57,56,58,69,67,58,65,63,55,57,65,54,72,75,49,51,60,64,58,61,67,62,65,63,69,51,62,55,75,40,67,58,60,63,35,62,43,63,68,65,48,63,64,61,50,59,55,45,65,61,49,72,50,64,55,63,59,56,62,74,54,57,62,76,54,70,61,48,48,61,66,68,55,62,71,74,53,58,75,56,58,64,54,54,59,55,57,61,41,71,38,55,56,69,64,72,69,56,62,67,57,69,51,48,69,69,64,57,53,37,67,74,63,58,61,64,58,60,57,55,55,56,57,61,61,58,74,68,51,62,53,62,46,54,62,55,58,62],\"yaxis\":\"y\",\"type\":\"scatter\"}],                        {\"template\":{\"data\":{\"histogram2dcontour\":[{\"type\":\"histogram2dcontour\",\"colorbar\":{\"outlinewidth\":0,\"ticks\":\"\"},\"colorscale\":[[0.0,\"#0d0887\"],[0.1111111111111111,\"#46039f\"],[0.2222222222222222,\"#7201a8\"],[0.3333333333333333,\"#9c179e\"],[0.4444444444444444,\"#bd3786\"],[0.5555555555555556,\"#d8576b\"],[0.6666666666666666,\"#ed7953\"],[0.7777777777777778,\"#fb9f3a\"],[0.8888888888888888,\"#fdca26\"],[1.0,\"#f0f921\"]]}],\"choropleth\":[{\"type\":\"choropleth\",\"colorbar\":{\"outlinewidth\":0,\"ticks\":\"\"}}],\"histogram2d\":[{\"type\":\"histogram2d\",\"colorbar\":{\"outlinewidth\":0,\"ticks\":\"\"},\"colorscale\":[[0.0,\"#0d0887\"],[0.1111111111111111,\"#46039f\"],[0.2222222222222222,\"#7201a8\"],[0.3333333333333333,\"#9c179e\"],[0.4444444444444444,\"#bd3786\"],[0.5555555555555556,\"#d8576b\"],[0.6666666666666666,\"#ed7953\"],[0.7777777777777778,\"#fb9f3a\"],[0.8888888888888888,\"#fdca26\"],[1.0,\"#f0f921\"]]}],\"heatmap\":[{\"type\":\"heatmap\",\"colorbar\":{\"outlinewidth\":0,\"ticks\":\"\"},\"colorscale\":[[0.0,\"#0d0887\"],[0.1111111111111111,\"#46039f\"],[0.2222222222222222,\"#7201a8\"],[0.3333333333333333,\"#9c179e\"],[0.4444444444444444,\"#bd3786\"],[0.5555555555555556,\"#d8576b\"],[0.6666666666666666,\"#ed7953\"],[0.7777777777777778,\"#fb9f3a\"],[0.8888888888888888,\"#fdca26\"],[1.0,\"#f0f921\"]]}],\"heatmapgl\":[{\"type\":\"heatmapgl\",\"colorbar\":{\"outlinewidth\":0,\"ticks\":\"\"},\"colorscale\":[[0.0,\"#0d0887\"],[0.1111111111111111,\"#46039f\"],[0.2222222222222222,\"#7201a8\"],[0.3333333333333333,\"#9c179e\"],[0.4444444444444444,\"#bd3786\"],[0.5555555555555556,\"#d8576b\"],[0.6666666666666666,\"#ed7953\"],[0.7777777777777778,\"#fb9f3a\"],[0.8888888888888888,\"#fdca26\"],[1.0,\"#f0f921\"]]}],\"contourcarpet\":[{\"type\":\"contourcarpet\",\"colorbar\":{\"outlinewidth\":0,\"ticks\":\"\"}}],\"contour\":[{\"type\":\"contour\",\"colorbar\":{\"outlinewidth\":0,\"ticks\":\"\"},\"colorscale\":[[0.0,\"#0d0887\"],[0.1111111111111111,\"#46039f\"],[0.2222222222222222,\"#7201a8\"],[0.3333333333333333,\"#9c179e\"],[0.4444444444444444,\"#bd3786\"],[0.5555555555555556,\"#d8576b\"],[0.6666666666666666,\"#ed7953\"],[0.7777777777777778,\"#fb9f3a\"],[0.8888888888888888,\"#fdca26\"],[1.0,\"#f0f921\"]]}],\"surface\":[{\"type\":\"surface\",\"colorbar\":{\"outlinewidth\":0,\"ticks\":\"\"},\"colorscale\":[[0.0,\"#0d0887\"],[0.1111111111111111,\"#46039f\"],[0.2222222222222222,\"#7201a8\"],[0.3333333333333333,\"#9c179e\"],[0.4444444444444444,\"#bd3786\"],[0.5555555555555556,\"#d8576b\"],[0.6666666666666666,\"#ed7953\"],[0.7777777777777778,\"#fb9f3a\"],[0.8888888888888888,\"#fdca26\"],[1.0,\"#f0f921\"]]}],\"mesh3d\":[{\"type\":\"mesh3d\",\"colorbar\":{\"outlinewidth\":0,\"ticks\":\"\"}}],\"scatter\":[{\"fillpattern\":{\"fillmode\":\"overlay\",\"size\":10,\"solidity\":0.2},\"type\":\"scatter\"}],\"parcoords\":[{\"type\":\"parcoords\",\"line\":{\"colorbar\":{\"outlinewidth\":0,\"ticks\":\"\"}}}],\"scatterpolargl\":[{\"type\":\"scatterpolargl\",\"marker\":{\"colorbar\":{\"outlinewidth\":0,\"ticks\":\"\"}}}],\"bar\":[{\"error_x\":{\"color\":\"#2a3f5f\"},\"error_y\":{\"color\":\"#2a3f5f\"},\"marker\":{\"line\":{\"color\":\"#E5ECF6\",\"width\":0.5},\"pattern\":{\"fillmode\":\"overlay\",\"size\":10,\"solidity\":0.2}},\"type\":\"bar\"}],\"scattergeo\":[{\"type\":\"scattergeo\",\"marker\":{\"colorbar\":{\"outlinewidth\":0,\"ticks\":\"\"}}}],\"scatterpolar\":[{\"type\":\"scatterpolar\",\"marker\":{\"colorbar\":{\"outlinewidth\":0,\"ticks\":\"\"}}}],\"histogram\":[{\"marker\":{\"pattern\":{\"fillmode\":\"overlay\",\"size\":10,\"solidity\":0.2}},\"type\":\"histogram\"}],\"scattergl\":[{\"type\":\"scattergl\",\"marker\":{\"colorbar\":{\"outlinewidth\":0,\"ticks\":\"\"}}}],\"scatter3d\":[{\"type\":\"scatter3d\",\"line\":{\"colorbar\":{\"outlinewidth\":0,\"ticks\":\"\"}},\"marker\":{\"colorbar\":{\"outlinewidth\":0,\"ticks\":\"\"}}}],\"scattermapbox\":[{\"type\":\"scattermapbox\",\"marker\":{\"colorbar\":{\"outlinewidth\":0,\"ticks\":\"\"}}}],\"scatterternary\":[{\"type\":\"scatterternary\",\"marker\":{\"colorbar\":{\"outlinewidth\":0,\"ticks\":\"\"}}}],\"scattercarpet\":[{\"type\":\"scattercarpet\",\"marker\":{\"colorbar\":{\"outlinewidth\":0,\"ticks\":\"\"}}}],\"carpet\":[{\"aaxis\":{\"endlinecolor\":\"#2a3f5f\",\"gridcolor\":\"white\",\"linecolor\":\"white\",\"minorgridcolor\":\"white\",\"startlinecolor\":\"#2a3f5f\"},\"baxis\":{\"endlinecolor\":\"#2a3f5f\",\"gridcolor\":\"white\",\"linecolor\":\"white\",\"minorgridcolor\":\"white\",\"startlinecolor\":\"#2a3f5f\"},\"type\":\"carpet\"}],\"table\":[{\"cells\":{\"fill\":{\"color\":\"#EBF0F8\"},\"line\":{\"color\":\"white\"}},\"header\":{\"fill\":{\"color\":\"#C8D4E3\"},\"line\":{\"color\":\"white\"}},\"type\":\"table\"}],\"barpolar\":[{\"marker\":{\"line\":{\"color\":\"#E5ECF6\",\"width\":0.5},\"pattern\":{\"fillmode\":\"overlay\",\"size\":10,\"solidity\":0.2}},\"type\":\"barpolar\"}],\"pie\":[{\"automargin\":true,\"type\":\"pie\"}]},\"layout\":{\"autotypenumbers\":\"strict\",\"colorway\":[\"#636efa\",\"#EF553B\",\"#00cc96\",\"#ab63fa\",\"#FFA15A\",\"#19d3f3\",\"#FF6692\",\"#B6E880\",\"#FF97FF\",\"#FECB52\"],\"font\":{\"color\":\"#2a3f5f\"},\"hovermode\":\"closest\",\"hoverlabel\":{\"align\":\"left\"},\"paper_bgcolor\":\"white\",\"plot_bgcolor\":\"#E5ECF6\",\"polar\":{\"bgcolor\":\"#E5ECF6\",\"angularaxis\":{\"gridcolor\":\"white\",\"linecolor\":\"white\",\"ticks\":\"\"},\"radialaxis\":{\"gridcolor\":\"white\",\"linecolor\":\"white\",\"ticks\":\"\"}},\"ternary\":{\"bgcolor\":\"#E5ECF6\",\"aaxis\":{\"gridcolor\":\"white\",\"linecolor\":\"white\",\"ticks\":\"\"},\"baxis\":{\"gridcolor\":\"white\",\"linecolor\":\"white\",\"ticks\":\"\"},\"caxis\":{\"gridcolor\":\"white\",\"linecolor\":\"white\",\"ticks\":\"\"}},\"coloraxis\":{\"colorbar\":{\"outlinewidth\":0,\"ticks\":\"\"}},\"colorscale\":{\"sequential\":[[0.0,\"#0d0887\"],[0.1111111111111111,\"#46039f\"],[0.2222222222222222,\"#7201a8\"],[0.3333333333333333,\"#9c179e\"],[0.4444444444444444,\"#bd3786\"],[0.5555555555555556,\"#d8576b\"],[0.6666666666666666,\"#ed7953\"],[0.7777777777777778,\"#fb9f3a\"],[0.8888888888888888,\"#fdca26\"],[1.0,\"#f0f921\"]],\"sequentialminus\":[[0.0,\"#0d0887\"],[0.1111111111111111,\"#46039f\"],[0.2222222222222222,\"#7201a8\"],[0.3333333333333333,\"#9c179e\"],[0.4444444444444444,\"#bd3786\"],[0.5555555555555556,\"#d8576b\"],[0.6666666666666666,\"#ed7953\"],[0.7777777777777778,\"#fb9f3a\"],[0.8888888888888888,\"#fdca26\"],[1.0,\"#f0f921\"]],\"diverging\":[[0,\"#8e0152\"],[0.1,\"#c51b7d\"],[0.2,\"#de77ae\"],[0.3,\"#f1b6da\"],[0.4,\"#fde0ef\"],[0.5,\"#f7f7f7\"],[0.6,\"#e6f5d0\"],[0.7,\"#b8e186\"],[0.8,\"#7fbc41\"],[0.9,\"#4d9221\"],[1,\"#276419\"]]},\"xaxis\":{\"gridcolor\":\"white\",\"linecolor\":\"white\",\"ticks\":\"\",\"title\":{\"standoff\":15},\"zerolinecolor\":\"white\",\"automargin\":true,\"zerolinewidth\":2},\"yaxis\":{\"gridcolor\":\"white\",\"linecolor\":\"white\",\"ticks\":\"\",\"title\":{\"standoff\":15},\"zerolinecolor\":\"white\",\"automargin\":true,\"zerolinewidth\":2},\"scene\":{\"xaxis\":{\"backgroundcolor\":\"#E5ECF6\",\"gridcolor\":\"white\",\"linecolor\":\"white\",\"showbackground\":true,\"ticks\":\"\",\"zerolinecolor\":\"white\",\"gridwidth\":2},\"yaxis\":{\"backgroundcolor\":\"#E5ECF6\",\"gridcolor\":\"white\",\"linecolor\":\"white\",\"showbackground\":true,\"ticks\":\"\",\"zerolinecolor\":\"white\",\"gridwidth\":2},\"zaxis\":{\"backgroundcolor\":\"#E5ECF6\",\"gridcolor\":\"white\",\"linecolor\":\"white\",\"showbackground\":true,\"ticks\":\"\",\"zerolinecolor\":\"white\",\"gridwidth\":2}},\"shapedefaults\":{\"line\":{\"color\":\"#2a3f5f\"}},\"annotationdefaults\":{\"arrowcolor\":\"#2a3f5f\",\"arrowhead\":0,\"arrowwidth\":1},\"geo\":{\"bgcolor\":\"white\",\"landcolor\":\"#E5ECF6\",\"subunitcolor\":\"white\",\"showland\":true,\"showlakes\":true,\"lakecolor\":\"white\"},\"title\":{\"x\":0.05},\"mapbox\":{\"style\":\"light\"}}},\"xaxis\":{\"anchor\":\"y\",\"domain\":[0.0,1.0],\"title\":{\"text\":\"thalch\"}},\"yaxis\":{\"anchor\":\"x\",\"domain\":[0.0,1.0],\"title\":{\"text\":\"age\"}},\"legend\":{\"tracegroupgap\":0},\"margin\":{\"t\":60}},                        {\"responsive\": true}                    ).then(function(){\n",
              "                            \n",
              "var gd = document.getElementById('d23c1a79-1db8-4d7f-a479-e3d93950e102');\n",
              "var x = new MutationObserver(function (mutations, observer) {{\n",
              "        var display = window.getComputedStyle(gd).display;\n",
              "        if (!display || display === 'none') {{\n",
              "            console.log([gd, 'removed!']);\n",
              "            Plotly.purge(gd);\n",
              "            observer.disconnect();\n",
              "        }}\n",
              "}});\n",
              "\n",
              "// Listen for the removal of the full notebook cells\n",
              "var notebookContainer = gd.closest('#notebook-container');\n",
              "if (notebookContainer) {{\n",
              "    x.observe(notebookContainer, {childList: true});\n",
              "}}\n",
              "\n",
              "// Listen for the clearing of the current output cell\n",
              "var outputEl = gd.closest('.output');\n",
              "if (outputEl) {{\n",
              "    x.observe(outputEl, {childList: true});\n",
              "}}\n",
              "\n",
              "                        })                };                            </script>        </div>\n",
              "</body>\n",
              "</html>"
            ]
          },
          "metadata": {}
        }
      ]
    },
    {
      "cell_type": "markdown",
      "source": [
        "### Exang Column"
      ],
      "metadata": {
        "id": "Yt9YyQx3FABF"
      }
    },
    {
      "cell_type": "code",
      "source": [
        "df['exang'].value_counts()"
      ],
      "metadata": {
        "execution": {
          "iopub.status.busy": "2024-02-16T04:55:53.952644Z",
          "iopub.execute_input": "2024-02-16T04:55:53.953761Z",
          "iopub.status.idle": "2024-02-16T04:55:53.96449Z",
          "shell.execute_reply.started": "2024-02-16T04:55:53.953706Z",
          "shell.execute_reply": "2024-02-16T04:55:53.963278Z"
        },
        "trusted": true,
        "id": "0h5pYqaLFABF",
        "outputId": "1ab79211-c77a-4196-f40c-010057b8678b",
        "colab": {
          "base_uri": "https://localhost:8080/",
          "height": 198
        }
      },
      "execution_count": null,
      "outputs": [
        {
          "output_type": "execute_result",
          "data": {
            "text/plain": [
              "exang\n",
              "False    526\n",
              "True     337\n",
              "Name: count, dtype: int64"
            ],
            "text/html": [
              "<div>\n",
              "<style scoped>\n",
              "    .dataframe tbody tr th:only-of-type {\n",
              "        vertical-align: middle;\n",
              "    }\n",
              "\n",
              "    .dataframe tbody tr th {\n",
              "        vertical-align: top;\n",
              "    }\n",
              "\n",
              "    .dataframe thead th {\n",
              "        text-align: right;\n",
              "    }\n",
              "</style>\n",
              "<table border=\"1\" class=\"dataframe\">\n",
              "  <thead>\n",
              "    <tr style=\"text-align: right;\">\n",
              "      <th></th>\n",
              "      <th>count</th>\n",
              "    </tr>\n",
              "    <tr>\n",
              "      <th>exang</th>\n",
              "      <th></th>\n",
              "    </tr>\n",
              "  </thead>\n",
              "  <tbody>\n",
              "    <tr>\n",
              "      <th>False</th>\n",
              "      <td>526</td>\n",
              "    </tr>\n",
              "    <tr>\n",
              "      <th>True</th>\n",
              "      <td>337</td>\n",
              "    </tr>\n",
              "  </tbody>\n",
              "</table>\n",
              "</div><br><label><b>dtype:</b> int64</label>"
            ]
          },
          "metadata": {},
          "execution_count": 25
        }
      ]
    },
    {
      "cell_type": "code",
      "source": [
        "plt.figure(figsize=(10,6))\n",
        "\n",
        "fig = px.histogram(df, x='exang', color='dataset', barmode='group')\n",
        "fig.show()"
      ],
      "metadata": {
        "execution": {
          "iopub.status.busy": "2024-02-16T04:55:54.332789Z",
          "iopub.execute_input": "2024-02-16T04:55:54.334081Z",
          "iopub.status.idle": "2024-02-16T04:55:54.769021Z",
          "shell.execute_reply.started": "2024-02-16T04:55:54.334021Z",
          "shell.execute_reply": "2024-02-16T04:55:54.767605Z"
        },
        "trusted": true,
        "id": "Gf-rBH6OFABG",
        "outputId": "c0ad52a7-ec06-4e8c-9175-95957e27fabc",
        "colab": {
          "base_uri": "https://localhost:8080/",
          "height": 579
        }
      },
      "execution_count": null,
      "outputs": [
        {
          "output_type": "display_data",
          "data": {
            "text/html": [
              "<html>\n",
              "<head><meta charset=\"utf-8\" /></head>\n",
              "<body>\n",
              "    <div>            <script src=\"https://cdnjs.cloudflare.com/ajax/libs/mathjax/2.7.5/MathJax.js?config=TeX-AMS-MML_SVG\"></script><script type=\"text/javascript\">if (window.MathJax && window.MathJax.Hub && window.MathJax.Hub.Config) {window.MathJax.Hub.Config({SVG: {font: \"STIX-Web\"}});}</script>                <script type=\"text/javascript\">window.PlotlyConfig = {MathJaxConfig: 'local'};</script>\n",
              "        <script charset=\"utf-8\" src=\"https://cdn.plot.ly/plotly-2.35.2.min.js\"></script>                <div id=\"04663c48-e5dd-4227-b867-3b07443c5c72\" class=\"plotly-graph-div\" style=\"height:525px; width:100%;\"></div>            <script type=\"text/javascript\">                                    window.PLOTLYENV=window.PLOTLYENV || {};                                    if (document.getElementById(\"04663c48-e5dd-4227-b867-3b07443c5c72\")) {                    Plotly.newPlot(                        \"04663c48-e5dd-4227-b867-3b07443c5c72\",                        [{\"alignmentgroup\":\"True\",\"bingroup\":\"x\",\"hovertemplate\":\"dataset=Cleveland\\u003cbr\\u003eexang=%{x}\\u003cbr\\u003ecount=%{y}\\u003cextra\\u003e\\u003c\\u002fextra\\u003e\",\"legendgroup\":\"Cleveland\",\"marker\":{\"color\":\"#636efa\",\"pattern\":{\"shape\":\"\"}},\"name\":\"Cleveland\",\"offsetgroup\":\"Cleveland\",\"orientation\":\"v\",\"showlegend\":true,\"x\":[false,true,true,false,false,false,false,true,false,true,false,false,true,false,false,false,false,false,false,false,true,false,false,false,true,false,false,false,false,true,false,true,false,false,true,false,true,true,true,true,false,true,false,false,false,false,false,false,false,false,false,false,false,false,true,true,false,false,false,true,true,true,true,false,false,true,false,false,true,false,false,false,true,false,false,false,true,false,false,true,true,false,false,true,false,false,false,false,false,false,false,false,false,false,false,true,true,false,false,false,false,false,false,false,false,false,true,false,true,false,true,true,false,true,false,false,false,false,true,false,true,false,true,true,false,false,true,true,false,false,false,true,false,true,false,false,true,false,true,false,true,false,false,true,true,false,false,false,false,false,false,false,false,true,true,false,true,false,false,false,false,true,false,false,false,true,false,true,true,false,true,true,true,false,false,true,false,true,false,false,false,true,false,false,false,false,false,true,false,false,false,true,true,false,false,true,false,true,false,false,false,true,false,false,false,true,true,true,false,true,false,true,false,true,false,false,false,true,false,false,true,false,false,true,true,false,false,false,true,true,false,true,false,true,false,true,true,false,false,false,false,false,false,false,false,false,false,true,false,false,true,false,true,false,false,false,false,false,false,false,false,false,false,false,true,true,true,false,false,false,true,false,true,false,false,false,false,false,false,false,true,false,true,false,false,false,true,false,false,false,false,false,true,true,true,false,false,true,false,false,true,false,false,false],\"xaxis\":\"x\",\"yaxis\":\"y\",\"type\":\"histogram\"},{\"alignmentgroup\":\"True\",\"bingroup\":\"x\",\"hovertemplate\":\"dataset=Hungary\\u003cbr\\u003eexang=%{x}\\u003cbr\\u003ecount=%{y}\\u003cextra\\u003e\\u003c\\u002fextra\\u003e\",\"legendgroup\":\"Hungary\",\"marker\":{\"color\":\"#EF553B\",\"pattern\":{\"shape\":\"\"}},\"name\":\"Hungary\",\"offsetgroup\":\"Hungary\",\"orientation\":\"v\",\"showlegend\":true,\"x\":[false,false,false,false,false,false,false,false,false,false,false,false,false,false,false,false,false,false,false,false,false,false,false,false,false,false,false,false,false,false,false,true,false,false,false,false,false,false,false,false,false,false,false,false,false,false,false,false,false,false,false,false,false,false,false,true,false,false,false,false,false,false,false,false,false,false,false,false,false,false,false,false,false,false,false,false,false,false,true,false,false,true,false,false,false,false,false,false,true,null,false,false,false,false,false,true,false,false,false,false,false,false,false,false,false,false,false,false,false,true,false,false,false,false,true,false,false,true,false,false,false,false,false,false,false,true,false,true,false,false,false,true,false,false,false,false,true,false,false,false,false,false,false,false,false,false,false,false,false,false,false,false,false,false,false,false,false,false,false,false,false,false,false,false,true,false,false,false,true,false,false,true,false,false,false,false,false,false,false,true,false,false,false,true,true,false,false,true,true,false,false,false,true,false,false,true,true,false,true,true,true,false,true,true,true,false,false,true,false,false,false,true,false,true,true,false,false,true,true,false,true,false,false,true,false,true,false,false,false,true,true,false,true,true,true,true,true,false,true,true,true,true,true,true,true,true,true,true,false,true,false,true,true,true,false,false,true,true,true,false,true,true,true,true,false,true,false,true,true,false,true,true,true,false,true,true,true,true,true,false,true,true,true,false,true,true,true,true,true,true,true,true],\"xaxis\":\"x\",\"yaxis\":\"y\",\"type\":\"histogram\"},{\"alignmentgroup\":\"True\",\"bingroup\":\"x\",\"hovertemplate\":\"dataset=Switzerland\\u003cbr\\u003eexang=%{x}\\u003cbr\\u003ecount=%{y}\\u003cextra\\u003e\\u003c\\u002fextra\\u003e\",\"legendgroup\":\"Switzerland\",\"marker\":{\"color\":\"#00cc96\",\"pattern\":{\"shape\":\"\"}},\"name\":\"Switzerland\",\"offsetgroup\":\"Switzerland\",\"orientation\":\"v\",\"showlegend\":true,\"x\":[false,true,true,false,false,false,true,false,true,false,false,true,true,false,true,true,false,false,true,true,true,false,true,false,false,true,true,true,true,false,false,false,false,false,false,false,true,true,true,false,false,false,true,false,false,true,true,false,true,false,false,false,false,false,false,false,false,false,true,false,true,true,false,true,true,true,true,false,false,true,true,false,false,false,true,true,false,false,true,true,true,false,false,true,false,true,false,false,true,true,false,false,true,false,true,true,true,false,false,false,true,false,true,true,false,true,true,false,false,false,false,true,false,true,false,false,null,true,true,false,false,false],\"xaxis\":\"x\",\"yaxis\":\"y\",\"type\":\"histogram\"},{\"alignmentgroup\":\"True\",\"bingroup\":\"x\",\"hovertemplate\":\"dataset=VA Long Beach\\u003cbr\\u003eexang=%{x}\\u003cbr\\u003ecount=%{y}\\u003cextra\\u003e\\u003c\\u002fextra\\u003e\",\"legendgroup\":\"VA Long Beach\",\"marker\":{\"color\":\"#ab63fa\",\"pattern\":{\"shape\":\"\"}},\"name\":\"VA Long Beach\",\"offsetgroup\":\"VA Long Beach\",\"orientation\":\"v\",\"showlegend\":true,\"x\":[true,false,true,true,true,false,true,true,true,false,false,true,true,null,true,false,true,true,false,true,false,false,true,null,false,false,null,true,true,null,null,true,true,false,true,true,null,true,null,true,true,false,false,false,null,true,true,false,true,false,true,null,true,false,false,true,true,null,null,true,null,true,true,true,true,false,false,true,null,null,false,true,null,true,true,false,false,null,true,true,false,true,true,true,true,true,true,null,true,null,true,true,false,false,null,true,null,true,false,false,false,true,true,true,false,true,true,true,false,null,null,null,null,null,null,null,false,true,true,null,null,true,true,false,null,false,true,true,true,null,false,false,false,null,false,false,null,null,false,true,true,null,null,true,null,null,true,null,true,null,true,true,true,true,true,null,true,false,null,null,true,null,true,null,null,true,true,null,null,false,true,false,true,false,null,false,true,false,true,true,false,null,true,false,true,null,true,true,true,true,false,true,true,true,false,false,null,false,null,true],\"xaxis\":\"x\",\"yaxis\":\"y\",\"type\":\"histogram\"}],                        {\"template\":{\"data\":{\"histogram2dcontour\":[{\"type\":\"histogram2dcontour\",\"colorbar\":{\"outlinewidth\":0,\"ticks\":\"\"},\"colorscale\":[[0.0,\"#0d0887\"],[0.1111111111111111,\"#46039f\"],[0.2222222222222222,\"#7201a8\"],[0.3333333333333333,\"#9c179e\"],[0.4444444444444444,\"#bd3786\"],[0.5555555555555556,\"#d8576b\"],[0.6666666666666666,\"#ed7953\"],[0.7777777777777778,\"#fb9f3a\"],[0.8888888888888888,\"#fdca26\"],[1.0,\"#f0f921\"]]}],\"choropleth\":[{\"type\":\"choropleth\",\"colorbar\":{\"outlinewidth\":0,\"ticks\":\"\"}}],\"histogram2d\":[{\"type\":\"histogram2d\",\"colorbar\":{\"outlinewidth\":0,\"ticks\":\"\"},\"colorscale\":[[0.0,\"#0d0887\"],[0.1111111111111111,\"#46039f\"],[0.2222222222222222,\"#7201a8\"],[0.3333333333333333,\"#9c179e\"],[0.4444444444444444,\"#bd3786\"],[0.5555555555555556,\"#d8576b\"],[0.6666666666666666,\"#ed7953\"],[0.7777777777777778,\"#fb9f3a\"],[0.8888888888888888,\"#fdca26\"],[1.0,\"#f0f921\"]]}],\"heatmap\":[{\"type\":\"heatmap\",\"colorbar\":{\"outlinewidth\":0,\"ticks\":\"\"},\"colorscale\":[[0.0,\"#0d0887\"],[0.1111111111111111,\"#46039f\"],[0.2222222222222222,\"#7201a8\"],[0.3333333333333333,\"#9c179e\"],[0.4444444444444444,\"#bd3786\"],[0.5555555555555556,\"#d8576b\"],[0.6666666666666666,\"#ed7953\"],[0.7777777777777778,\"#fb9f3a\"],[0.8888888888888888,\"#fdca26\"],[1.0,\"#f0f921\"]]}],\"heatmapgl\":[{\"type\":\"heatmapgl\",\"colorbar\":{\"outlinewidth\":0,\"ticks\":\"\"},\"colorscale\":[[0.0,\"#0d0887\"],[0.1111111111111111,\"#46039f\"],[0.2222222222222222,\"#7201a8\"],[0.3333333333333333,\"#9c179e\"],[0.4444444444444444,\"#bd3786\"],[0.5555555555555556,\"#d8576b\"],[0.6666666666666666,\"#ed7953\"],[0.7777777777777778,\"#fb9f3a\"],[0.8888888888888888,\"#fdca26\"],[1.0,\"#f0f921\"]]}],\"contourcarpet\":[{\"type\":\"contourcarpet\",\"colorbar\":{\"outlinewidth\":0,\"ticks\":\"\"}}],\"contour\":[{\"type\":\"contour\",\"colorbar\":{\"outlinewidth\":0,\"ticks\":\"\"},\"colorscale\":[[0.0,\"#0d0887\"],[0.1111111111111111,\"#46039f\"],[0.2222222222222222,\"#7201a8\"],[0.3333333333333333,\"#9c179e\"],[0.4444444444444444,\"#bd3786\"],[0.5555555555555556,\"#d8576b\"],[0.6666666666666666,\"#ed7953\"],[0.7777777777777778,\"#fb9f3a\"],[0.8888888888888888,\"#fdca26\"],[1.0,\"#f0f921\"]]}],\"surface\":[{\"type\":\"surface\",\"colorbar\":{\"outlinewidth\":0,\"ticks\":\"\"},\"colorscale\":[[0.0,\"#0d0887\"],[0.1111111111111111,\"#46039f\"],[0.2222222222222222,\"#7201a8\"],[0.3333333333333333,\"#9c179e\"],[0.4444444444444444,\"#bd3786\"],[0.5555555555555556,\"#d8576b\"],[0.6666666666666666,\"#ed7953\"],[0.7777777777777778,\"#fb9f3a\"],[0.8888888888888888,\"#fdca26\"],[1.0,\"#f0f921\"]]}],\"mesh3d\":[{\"type\":\"mesh3d\",\"colorbar\":{\"outlinewidth\":0,\"ticks\":\"\"}}],\"scatter\":[{\"fillpattern\":{\"fillmode\":\"overlay\",\"size\":10,\"solidity\":0.2},\"type\":\"scatter\"}],\"parcoords\":[{\"type\":\"parcoords\",\"line\":{\"colorbar\":{\"outlinewidth\":0,\"ticks\":\"\"}}}],\"scatterpolargl\":[{\"type\":\"scatterpolargl\",\"marker\":{\"colorbar\":{\"outlinewidth\":0,\"ticks\":\"\"}}}],\"bar\":[{\"error_x\":{\"color\":\"#2a3f5f\"},\"error_y\":{\"color\":\"#2a3f5f\"},\"marker\":{\"line\":{\"color\":\"#E5ECF6\",\"width\":0.5},\"pattern\":{\"fillmode\":\"overlay\",\"size\":10,\"solidity\":0.2}},\"type\":\"bar\"}],\"scattergeo\":[{\"type\":\"scattergeo\",\"marker\":{\"colorbar\":{\"outlinewidth\":0,\"ticks\":\"\"}}}],\"scatterpolar\":[{\"type\":\"scatterpolar\",\"marker\":{\"colorbar\":{\"outlinewidth\":0,\"ticks\":\"\"}}}],\"histogram\":[{\"marker\":{\"pattern\":{\"fillmode\":\"overlay\",\"size\":10,\"solidity\":0.2}},\"type\":\"histogram\"}],\"scattergl\":[{\"type\":\"scattergl\",\"marker\":{\"colorbar\":{\"outlinewidth\":0,\"ticks\":\"\"}}}],\"scatter3d\":[{\"type\":\"scatter3d\",\"line\":{\"colorbar\":{\"outlinewidth\":0,\"ticks\":\"\"}},\"marker\":{\"colorbar\":{\"outlinewidth\":0,\"ticks\":\"\"}}}],\"scattermapbox\":[{\"type\":\"scattermapbox\",\"marker\":{\"colorbar\":{\"outlinewidth\":0,\"ticks\":\"\"}}}],\"scatterternary\":[{\"type\":\"scatterternary\",\"marker\":{\"colorbar\":{\"outlinewidth\":0,\"ticks\":\"\"}}}],\"scattercarpet\":[{\"type\":\"scattercarpet\",\"marker\":{\"colorbar\":{\"outlinewidth\":0,\"ticks\":\"\"}}}],\"carpet\":[{\"aaxis\":{\"endlinecolor\":\"#2a3f5f\",\"gridcolor\":\"white\",\"linecolor\":\"white\",\"minorgridcolor\":\"white\",\"startlinecolor\":\"#2a3f5f\"},\"baxis\":{\"endlinecolor\":\"#2a3f5f\",\"gridcolor\":\"white\",\"linecolor\":\"white\",\"minorgridcolor\":\"white\",\"startlinecolor\":\"#2a3f5f\"},\"type\":\"carpet\"}],\"table\":[{\"cells\":{\"fill\":{\"color\":\"#EBF0F8\"},\"line\":{\"color\":\"white\"}},\"header\":{\"fill\":{\"color\":\"#C8D4E3\"},\"line\":{\"color\":\"white\"}},\"type\":\"table\"}],\"barpolar\":[{\"marker\":{\"line\":{\"color\":\"#E5ECF6\",\"width\":0.5},\"pattern\":{\"fillmode\":\"overlay\",\"size\":10,\"solidity\":0.2}},\"type\":\"barpolar\"}],\"pie\":[{\"automargin\":true,\"type\":\"pie\"}]},\"layout\":{\"autotypenumbers\":\"strict\",\"colorway\":[\"#636efa\",\"#EF553B\",\"#00cc96\",\"#ab63fa\",\"#FFA15A\",\"#19d3f3\",\"#FF6692\",\"#B6E880\",\"#FF97FF\",\"#FECB52\"],\"font\":{\"color\":\"#2a3f5f\"},\"hovermode\":\"closest\",\"hoverlabel\":{\"align\":\"left\"},\"paper_bgcolor\":\"white\",\"plot_bgcolor\":\"#E5ECF6\",\"polar\":{\"bgcolor\":\"#E5ECF6\",\"angularaxis\":{\"gridcolor\":\"white\",\"linecolor\":\"white\",\"ticks\":\"\"},\"radialaxis\":{\"gridcolor\":\"white\",\"linecolor\":\"white\",\"ticks\":\"\"}},\"ternary\":{\"bgcolor\":\"#E5ECF6\",\"aaxis\":{\"gridcolor\":\"white\",\"linecolor\":\"white\",\"ticks\":\"\"},\"baxis\":{\"gridcolor\":\"white\",\"linecolor\":\"white\",\"ticks\":\"\"},\"caxis\":{\"gridcolor\":\"white\",\"linecolor\":\"white\",\"ticks\":\"\"}},\"coloraxis\":{\"colorbar\":{\"outlinewidth\":0,\"ticks\":\"\"}},\"colorscale\":{\"sequential\":[[0.0,\"#0d0887\"],[0.1111111111111111,\"#46039f\"],[0.2222222222222222,\"#7201a8\"],[0.3333333333333333,\"#9c179e\"],[0.4444444444444444,\"#bd3786\"],[0.5555555555555556,\"#d8576b\"],[0.6666666666666666,\"#ed7953\"],[0.7777777777777778,\"#fb9f3a\"],[0.8888888888888888,\"#fdca26\"],[1.0,\"#f0f921\"]],\"sequentialminus\":[[0.0,\"#0d0887\"],[0.1111111111111111,\"#46039f\"],[0.2222222222222222,\"#7201a8\"],[0.3333333333333333,\"#9c179e\"],[0.4444444444444444,\"#bd3786\"],[0.5555555555555556,\"#d8576b\"],[0.6666666666666666,\"#ed7953\"],[0.7777777777777778,\"#fb9f3a\"],[0.8888888888888888,\"#fdca26\"],[1.0,\"#f0f921\"]],\"diverging\":[[0,\"#8e0152\"],[0.1,\"#c51b7d\"],[0.2,\"#de77ae\"],[0.3,\"#f1b6da\"],[0.4,\"#fde0ef\"],[0.5,\"#f7f7f7\"],[0.6,\"#e6f5d0\"],[0.7,\"#b8e186\"],[0.8,\"#7fbc41\"],[0.9,\"#4d9221\"],[1,\"#276419\"]]},\"xaxis\":{\"gridcolor\":\"white\",\"linecolor\":\"white\",\"ticks\":\"\",\"title\":{\"standoff\":15},\"zerolinecolor\":\"white\",\"automargin\":true,\"zerolinewidth\":2},\"yaxis\":{\"gridcolor\":\"white\",\"linecolor\":\"white\",\"ticks\":\"\",\"title\":{\"standoff\":15},\"zerolinecolor\":\"white\",\"automargin\":true,\"zerolinewidth\":2},\"scene\":{\"xaxis\":{\"backgroundcolor\":\"#E5ECF6\",\"gridcolor\":\"white\",\"linecolor\":\"white\",\"showbackground\":true,\"ticks\":\"\",\"zerolinecolor\":\"white\",\"gridwidth\":2},\"yaxis\":{\"backgroundcolor\":\"#E5ECF6\",\"gridcolor\":\"white\",\"linecolor\":\"white\",\"showbackground\":true,\"ticks\":\"\",\"zerolinecolor\":\"white\",\"gridwidth\":2},\"zaxis\":{\"backgroundcolor\":\"#E5ECF6\",\"gridcolor\":\"white\",\"linecolor\":\"white\",\"showbackground\":true,\"ticks\":\"\",\"zerolinecolor\":\"white\",\"gridwidth\":2}},\"shapedefaults\":{\"line\":{\"color\":\"#2a3f5f\"}},\"annotationdefaults\":{\"arrowcolor\":\"#2a3f5f\",\"arrowhead\":0,\"arrowwidth\":1},\"geo\":{\"bgcolor\":\"white\",\"landcolor\":\"#E5ECF6\",\"subunitcolor\":\"white\",\"showland\":true,\"showlakes\":true,\"lakecolor\":\"white\"},\"title\":{\"x\":0.05},\"mapbox\":{\"style\":\"light\"}}},\"xaxis\":{\"anchor\":\"y\",\"domain\":[0.0,1.0],\"title\":{\"text\":\"exang\"}},\"yaxis\":{\"anchor\":\"x\",\"domain\":[0.0,1.0],\"title\":{\"text\":\"count\"}},\"legend\":{\"title\":{\"text\":\"dataset\"},\"tracegroupgap\":0},\"margin\":{\"t\":60},\"barmode\":\"group\"},                        {\"responsive\": true}                    ).then(function(){\n",
              "                            \n",
              "var gd = document.getElementById('04663c48-e5dd-4227-b867-3b07443c5c72');\n",
              "var x = new MutationObserver(function (mutations, observer) {{\n",
              "        var display = window.getComputedStyle(gd).display;\n",
              "        if (!display || display === 'none') {{\n",
              "            console.log([gd, 'removed!']);\n",
              "            Plotly.purge(gd);\n",
              "            observer.disconnect();\n",
              "        }}\n",
              "}});\n",
              "\n",
              "// Listen for the removal of the full notebook cells\n",
              "var notebookContainer = gd.closest('#notebook-container');\n",
              "if (notebookContainer) {{\n",
              "    x.observe(notebookContainer, {childList: true});\n",
              "}}\n",
              "\n",
              "// Listen for the clearing of the current output cell\n",
              "var outputEl = gd.closest('.output');\n",
              "if (outputEl) {{\n",
              "    x.observe(outputEl, {childList: true});\n",
              "}}\n",
              "\n",
              "                        })                };                            </script>        </div>\n",
              "</body>\n",
              "</html>"
            ]
          },
          "metadata": {}
        },
        {
          "output_type": "display_data",
          "data": {
            "text/plain": [
              "<Figure size 1000x600 with 0 Axes>"
            ]
          },
          "metadata": {}
        }
      ]
    },
    {
      "cell_type": "markdown",
      "source": [
        "\n",
        "### Oldpeak Column"
      ],
      "metadata": {
        "id": "uuBQBrewFABG"
      }
    },
    {
      "cell_type": "code",
      "source": [
        "print(df['oldpeak'].describe())"
      ],
      "metadata": {
        "execution": {
          "iopub.status.busy": "2024-02-16T04:55:54.77174Z",
          "iopub.execute_input": "2024-02-16T04:55:54.772552Z",
          "iopub.status.idle": "2024-02-16T04:55:54.7839Z",
          "shell.execute_reply.started": "2024-02-16T04:55:54.772513Z",
          "shell.execute_reply": "2024-02-16T04:55:54.782321Z"
        },
        "trusted": true,
        "id": "WwwANG4sFABG",
        "outputId": "4efd3c67-a06b-4255-e794-422b0a8781cd",
        "colab": {
          "base_uri": "https://localhost:8080/"
        }
      },
      "execution_count": null,
      "outputs": [
        {
          "output_type": "stream",
          "name": "stdout",
          "text": [
            "count    856.000000\n",
            "mean       0.880607\n",
            "std        1.091840\n",
            "min       -2.600000\n",
            "25%        0.000000\n",
            "50%        0.500000\n",
            "75%        1.500000\n",
            "max        6.200000\n",
            "Name: oldpeak, dtype: float64\n"
          ]
        }
      ]
    },
    {
      "cell_type": "code",
      "source": [
        "# Check for negative values\n",
        "negative_values = df[df['oldpeak'] < 0]\n",
        "\n",
        "# Count of negative values\n",
        "count_negative_values = len(negative_values)\n",
        "print(f\"Count of negative values: {count_negative_values}\")\n",
        "\n",
        "# Convert negative values to positive\n",
        "df['oldpeak'] = df['oldpeak'].abs()\n",
        "\n",
        "# Now, print the negative values after converting to positive\n",
        "negative_values_after_conversion = df[df['oldpeak'] < 0]\n",
        "count_negative_values_after_conversion = len(negative_values_after_conversion)\n",
        "\n",
        "print(f\"\\nCount of negative values after conversion: {count_negative_values_after_conversion}\")"
      ],
      "metadata": {
        "execution": {
          "iopub.status.busy": "2024-02-16T04:55:54.797956Z",
          "iopub.execute_input": "2024-02-16T04:55:54.799736Z",
          "iopub.status.idle": "2024-02-16T04:55:54.812069Z",
          "shell.execute_reply.started": "2024-02-16T04:55:54.799681Z",
          "shell.execute_reply": "2024-02-16T04:55:54.810534Z"
        },
        "trusted": true,
        "id": "FCWe4XS4FABG",
        "outputId": "be437ae6-3c89-4a05-8aaf-174bdf4117cd",
        "colab": {
          "base_uri": "https://localhost:8080/"
        }
      },
      "execution_count": null,
      "outputs": [
        {
          "output_type": "stream",
          "name": "stdout",
          "text": [
            "Count of negative values: 12\n",
            "\n",
            "Count of negative values after conversion: 0\n"
          ]
        }
      ]
    },
    {
      "cell_type": "code",
      "source": [
        "# scatter plot between oldpeak and age\n",
        "px.scatter (df,x='oldpeak',y='age')"
      ],
      "metadata": {
        "execution": {
          "iopub.status.busy": "2024-02-16T04:55:55.085199Z",
          "iopub.execute_input": "2024-02-16T04:55:55.085757Z",
          "iopub.status.idle": "2024-02-16T04:55:55.163068Z",
          "shell.execute_reply.started": "2024-02-16T04:55:55.085706Z",
          "shell.execute_reply": "2024-02-16T04:55:55.162059Z"
        },
        "trusted": true,
        "id": "C4g2Y_CcFABG",
        "outputId": "be4a980d-17a5-4071-b1f2-e7b5a1cd440c",
        "colab": {
          "base_uri": "https://localhost:8080/",
          "height": 562
        }
      },
      "execution_count": null,
      "outputs": [
        {
          "output_type": "display_data",
          "data": {
            "text/html": [
              "<html>\n",
              "<head><meta charset=\"utf-8\" /></head>\n",
              "<body>\n",
              "    <div>            <script src=\"https://cdnjs.cloudflare.com/ajax/libs/mathjax/2.7.5/MathJax.js?config=TeX-AMS-MML_SVG\"></script><script type=\"text/javascript\">if (window.MathJax && window.MathJax.Hub && window.MathJax.Hub.Config) {window.MathJax.Hub.Config({SVG: {font: \"STIX-Web\"}});}</script>                <script type=\"text/javascript\">window.PlotlyConfig = {MathJaxConfig: 'local'};</script>\n",
              "        <script charset=\"utf-8\" src=\"https://cdn.plot.ly/plotly-2.35.2.min.js\"></script>                <div id=\"389363b1-1b2e-4d67-9772-54370f751fe0\" class=\"plotly-graph-div\" style=\"height:525px; width:100%;\"></div>            <script type=\"text/javascript\">                                    window.PLOTLYENV=window.PLOTLYENV || {};                                    if (document.getElementById(\"389363b1-1b2e-4d67-9772-54370f751fe0\")) {                    Plotly.newPlot(                        \"389363b1-1b2e-4d67-9772-54370f751fe0\",                        [{\"hovertemplate\":\"oldpeak=%{x}\\u003cbr\\u003eage=%{y}\\u003cextra\\u003e\\u003c\\u002fextra\\u003e\",\"legendgroup\":\"\",\"marker\":{\"color\":\"#636efa\",\"symbol\":\"circle\"},\"mode\":\"markers\",\"name\":\"\",\"orientation\":\"v\",\"showlegend\":false,\"x\":[2.3,1.5,2.6,3.5,1.4,0.8,3.6,0.6,1.4,3.1,0.4,1.3,0.6,0.0,0.5,1.6,1.0,1.2,0.2,0.6,1.8,1.0,1.8,3.2,2.4,1.6,0.0,2.6,1.5,2.0,1.8,1.4,0.0,0.5,0.4,0.0,2.5,0.6,1.2,1.0,1.0,1.4,0.4,1.6,0.0,2.5,0.6,2.6,0.8,1.2,0.0,0.4,0.0,0.0,1.4,2.2,0.6,0.0,0.5,1.4,1.2,1.4,2.2,0.0,1.4,2.8,3.0,1.6,3.4,3.6,0.8,0.2,1.8,0.6,0.0,0.8,2.8,1.5,0.2,0.8,3.0,0.4,0.0,1.6,0.2,0.0,0.0,0.0,0.0,0.5,0.4,6.2,1.8,0.6,0.0,0.0,1.2,2.6,0.8,0.0,0.0,0.0,0.0,0.0,2.0,0.0,0.0,0.4,3.6,1.2,1.0,1.2,0.0,3.0,1.2,0.0,0.0,1.4,1.8,2.8,0.0,4.0,1.2,5.6,1.4,0.6,4.0,2.8,0.0,0.0,0.4,0.0,0.0,0.0,0.2,1.4,2.6,1.4,1.6,2.4,0.0,0.2,0.0,1.8,0.6,0.0,1.0,0.0,0.0,0.0,1.2,0.6,1.6,0.8,2.2,2.4,1.6,0.0,1.2,1.0,0.0,0.0,1.6,1.0,0.0,0.0,0.0,0.0,0.0,0.0,2.9,0.0,0.0,1.2,2.0,1.2,0.1,2.1,1.9,0.0,0.5,1.9,0.8,4.2,0.0,0.0,0.8,0.0,0.0,2.0,0.0,4.2,0.1,1.9,1.5,0.9,0.1,0.2,1.1,0.0,0.0,0.0,0.2,0.2,0.0,0.0,3.0,0.9,0.0,1.4,0.0,3.8,2.0,1.0,0.0,1.9,0.0,0.0,2.0,0.0,0.0,0.0,0.0,2.0,1.8,0.7,0.1,0.0,0.0,0.1,0.1,3.4,0.8,0.2,0.0,3.2,1.6,0.8,0.0,0.0,0.0,0.0,0.0,2.6,0.0,1.0,0.1,1.0,1.0,0.0,1.5,2.0,0.2,0.6,1.2,0.0,0.3,1.1,0.0,0.3,0.3,0.0,0.9,0.0,3.6,1.8,1.0,2.2,0.0,0.0,1.9,2.3,1.8,1.6,0.8,0.6,0.0,0.0,0.0,0.6,3.0,0.0,2.0,0.0,0.0,4.4,2.8,0.4,0.0,0.0,0.8,1.2,2.8,4.0,0.0,0.0,1.0,0.2,1.2,3.4,1.2,0.0,0.0,0.0,0.0,0.0,0.0,0.0,0.0,0.0,0.0,0.0,0.0,0.0,0.0,0.0,0.0,0.0,0.0,0.0,1.0,0.0,0.0,0.0,0.0,0.0,0.0,0.0,0.0,0.0,0.0,0.0,0.0,0.0,2.0,1.0,0.0,0.0,0.0,0.0,0.0,0.0,0.0,0.0,0.0,0.0,0.0,0.0,0.0,0.0,0.0,0.0,0.0,0.0,0.0,0.0,0.0,0.0,0.0,1.5,0.0,0.0,0.0,0.0,0.0,0.0,0.0,0.0,0.0,0.0,0.0,1.0,0.0,0.0,0.0,0.0,0.0,0.0,0.0,0.0,0.0,0.0,0.0,0.0,0.0,1.0,0.0,0.0,1.0,2.0,0.0,0.0,0.0,2.0,0.0,0.0,0.0,2.0,0.0,1.0,0.0,0.0,0.0,0.0,0.0,0.0,0.0,0.0,0.0,0.0,1.0,0.0,0.0,1.0,0.0,0.0,0.0,0.0,0.0,0.0,0.0,2.0,0.5,0.0,0.0,0.0,0.0,0.0,0.0,1.5,0.0,0.0,0.0,0.0,0.0,2.0,0.0,0.0,0.0,0.0,3.0,0.0,0.0,1.0,0.0,1.5,0.0,0.0,0.0,0.0,2.0,0.0,0.0,0.0,1.0,0.0,0.0,0.0,1.0,0.0,0.0,0.0,0.0,0.0,0.0,0.0,0.0,0.0,0.5,0.0,0.0,0.0,1.0,0.0,1.0,0.8,0.0,0.0,0.0,0.0,0.0,1.0,0.0,1.0,0.0,0.0,0.0,1.0,0.0,0.0,1.0,1.5,1.0,0.0,0.0,3.0,1.5,0.0,0.0,2.5,1.0,0.0,1.0,2.0,0.0,0.0,1.0,1.0,1.5,0.0,2.0,1.0,1.0,0.0,0.0,0.0,0.0,1.0,2.0,0.0,2.0,3.0,1.0,0.0,1.5,1.0,0.0,1.5,0.0,1.0,0.0,2.0,0.0,1.0,0.0,0.0,2.0,3.0,1.5,2.0,2.0,0.0,1.5,0.0,1.5,1.0,1.0,0.0,2.0,1.5,1.0,3.0,0.0,2.0,2.0,1.0,3.0,2.0,2.0,0.0,1.5,1.0,1.0,2.0,1.0,1.0,2.0,4.0,0.0,1.5,1.5,2.0,2.0,1.0,1.5,2.0,2.0,0.0,0.0,2.0,1.0,3.0,2.0,0.0,2.0,3.0,0.0,2.0,5.0,2.5,2.0,2.5,0.0,3.0,1.0,1.0,0.7,null,1.0,2.8,0.0,1.1,0.0,0.0,null,0.0,1.6,1.5,0.0,1.5,2.0,0.5,0.1,2.6,1.5,0.0,1.0,2.1,0.0,0.0,0.0,0.5,0.0,0.7,1.5,0.0,0.0,0.7,0.0,0.0,2.2,0.0,2.0,1.0,null,0.0,0.7,0.0,0.0,0.0,1.5,1.0,2.0,0.0,3.0,1.5,0.2,0.1,0.3,0.0,0.0,2.0,0.0,1.0,1.0,0.0,1.0,1.8,0.3,1.4,2.0,0.0,2.0,0.7,0.5,1.0,0.0,2.6,0.0,0.0,0.9,1.0,2.4,0.1,1.1,0.5,0.5,0.4,0.0,1.5,1.4,0.0,0.0,2.5,0.0,2.0,1.0,0.0,1.7,0.8,0.0,2.5,0.5,2.0,0.9,2.0,2.0,3.7,0.0,1.0,1.1,1.3,0.0,null,1.0,null,0.0,2.0,0.0,0.0,1.8,0.0,null,0.0,2.0,1.6,0.0,1.3,3.0,0.0,1.5,2.5,1.3,0.5,0.0,1.5,2.0,0.5,0.0,1.0,0.5,null,1.0,0.0,2.5,2.0,1.5,0.0,1.0,2.0,0.0,null,3.0,1.0,null,0.5,1.5,null,null,2.0,1.0,1.5,2.0,1.0,null,2.0,null,1.5,0.0,0.0,1.5,0.0,null,0.0,1.3,0.0,2.0,0.0,2.5,null,1.6,2.0,0.0,3.0,1.5,null,null,0.0,null,2.0,2.0,2.5,2.0,2.5,2.5,1.5,null,null,null,2.0,null,3.0,1.0,0.0,3.0,null,2.5,1.0,1.0,3.0,0.0,1.0,4.0,2.0,2.0,null,3.0,null,3.0,0.0,1.5,0.0,null,2.0,null,null,0.5,3.0,0.0,1.5,1.0,1.0,0.5,4.0,1.0,1.0,0.0,null,null,null,null,null,null,null,0.0,2.0,2.5,null,null,4.0,2.0,0.0,null,3.5,1.5,3.0,0.0,null,0.0,1.5,1.5,null,2.0,0.0,null,null,null,0.0,2.0,null,null,4.0,null,null,2.0,null,2.0,null,1.5,0.0,1.5,2.5,2.0,null,0.5,1.5,null,null,3.0,null,3.0,null,null,1.5,0.0,null,null,0.8,2.0,1.0,2.0,0.0,null,0.0,2.0,0.0,1.0,0.5,0.0,null,1.7,1.5,1.0,null,0.0,0.0,1.5,0.0,1.0,3.0,1.5,0.0,0.0,0.0,null,0.0,null,0.0],\"xaxis\":\"x\",\"y\":[63,67,67,37,41,56,62,57,63,53,57,56,56,44,52,57,48,54,48,49,64,58,58,58,60,50,58,66,43,40,69,60,64,59,44,42,43,57,55,61,65,40,71,59,61,58,51,50,65,53,41,65,44,44,60,54,50,41,54,51,51,46,58,54,54,60,60,54,59,46,65,67,62,65,44,65,60,51,48,58,45,53,39,68,52,44,47,53,53,51,66,62,62,44,63,52,59,60,52,48,45,34,57,71,49,54,59,57,61,39,61,56,52,43,62,41,58,35,63,65,48,63,51,55,65,45,56,54,44,62,54,51,29,51,43,55,70,62,35,51,59,59,52,64,58,47,57,41,45,60,52,42,67,55,64,70,51,58,60,68,46,77,54,58,48,57,52,54,35,45,70,53,59,62,64,57,52,56,43,53,48,56,42,59,60,63,42,66,54,69,50,51,43,62,68,67,69,45,50,59,50,64,57,64,43,45,58,50,55,62,37,38,41,66,52,56,46,46,64,59,41,54,39,53,63,34,47,67,54,66,52,55,49,74,54,54,56,46,49,42,41,41,49,61,60,67,58,47,52,62,57,58,64,51,43,42,67,76,70,57,44,58,60,44,61,42,52,59,40,42,61,66,46,71,59,64,66,39,57,58,57,47,55,35,61,58,58,58,56,56,67,55,44,63,63,41,59,57,45,68,57,57,38,28,29,29,30,31,32,32,32,33,34,34,34,35,35,35,35,36,36,36,36,37,37,37,37,37,37,37,38,38,38,39,39,39,39,39,39,39,39,39,39,40,40,40,40,40,41,41,41,41,41,41,41,42,42,42,42,42,42,42,43,43,43,43,43,43,43,43,44,44,44,44,45,45,45,45,45,45,45,46,46,46,46,46,46,46,47,47,47,47,47,48,48,48,48,48,48,48,48,48,48,48,49,49,49,49,49,49,49,49,50,50,50,50,50,50,50,51,51,51,51,51,51,51,52,52,52,52,52,52,52,52,53,53,53,53,53,53,53,53,53,54,54,54,54,54,54,54,54,54,54,54,54,54,54,54,54,55,55,55,55,55,55,55,55,55,55,56,56,56,56,56,57,57,57,58,58,58,58,59,59,59,59,59,60,61,61,62,62,31,33,34,35,36,37,38,38,38,40,41,41,43,46,46,46,47,47,48,48,48,49,49,49,50,50,51,52,54,54,55,57,58,59,60,63,65,32,38,39,40,43,45,46,46,48,48,48,48,50,52,52,53,54,54,54,54,54,55,56,57,58,58,41,43,44,44,46,47,48,49,49,51,52,52,52,52,53,53,54,55,55,56,56,56,58,59,59,65,66,41,43,44,47,47,49,49,50,50,52,52,54,56,58,65,32,35,36,38,38,38,38,38,38,40,41,42,42,43,43,43,45,46,46,47,47,47,47,48,50,50,50,50,51,51,51,51,51,51,51,52,52,52,52,53,53,53,53,53,53,53,53,54,54,54,55,55,55,55,56,56,56,56,56,56,56,56,57,57,57,57,57,57,58,58,58,59,59,59,59,59,60,60,60,60,60,60,61,61,61,61,61,61,61,61,61,62,62,62,62,62,62,62,63,63,63,63,63,64,64,64,65,65,65,65,66,66,67,68,68,69,69,70,70,72,73,74,63,44,60,55,66,66,65,60,60,60,56,59,62,63,57,62,63,46,63,60,58,64,63,74,52,69,51,60,56,55,54,77,63,55,52,64,60,60,58,59,61,40,61,41,57,63,59,51,59,42,55,63,62,56,53,68,53,60,62,59,51,61,57,56,58,69,67,58,65,63,55,57,65,54,72,75,49,51,60,64,58,61,67,62,65,63,69,51,62,55,75,40,67,58,60,63,35,62,43,63,68,65,48,63,64,61,50,59,55,45,65,61,49,72,50,64,55,63,59,56,62,74,54,57,62,76,54,70,61,48,48,61,66,68,55,62,71,74,53,58,75,56,58,64,54,54,59,55,57,61,41,71,38,55,56,69,64,72,69,56,62,67,57,69,51,48,69,69,64,57,53,37,67,74,63,58,61,64,58,60,57,55,55,56,57,61,61,58,74,68,51,62,53,62,46,54,62,55,58,62],\"yaxis\":\"y\",\"type\":\"scatter\"}],                        {\"template\":{\"data\":{\"histogram2dcontour\":[{\"type\":\"histogram2dcontour\",\"colorbar\":{\"outlinewidth\":0,\"ticks\":\"\"},\"colorscale\":[[0.0,\"#0d0887\"],[0.1111111111111111,\"#46039f\"],[0.2222222222222222,\"#7201a8\"],[0.3333333333333333,\"#9c179e\"],[0.4444444444444444,\"#bd3786\"],[0.5555555555555556,\"#d8576b\"],[0.6666666666666666,\"#ed7953\"],[0.7777777777777778,\"#fb9f3a\"],[0.8888888888888888,\"#fdca26\"],[1.0,\"#f0f921\"]]}],\"choropleth\":[{\"type\":\"choropleth\",\"colorbar\":{\"outlinewidth\":0,\"ticks\":\"\"}}],\"histogram2d\":[{\"type\":\"histogram2d\",\"colorbar\":{\"outlinewidth\":0,\"ticks\":\"\"},\"colorscale\":[[0.0,\"#0d0887\"],[0.1111111111111111,\"#46039f\"],[0.2222222222222222,\"#7201a8\"],[0.3333333333333333,\"#9c179e\"],[0.4444444444444444,\"#bd3786\"],[0.5555555555555556,\"#d8576b\"],[0.6666666666666666,\"#ed7953\"],[0.7777777777777778,\"#fb9f3a\"],[0.8888888888888888,\"#fdca26\"],[1.0,\"#f0f921\"]]}],\"heatmap\":[{\"type\":\"heatmap\",\"colorbar\":{\"outlinewidth\":0,\"ticks\":\"\"},\"colorscale\":[[0.0,\"#0d0887\"],[0.1111111111111111,\"#46039f\"],[0.2222222222222222,\"#7201a8\"],[0.3333333333333333,\"#9c179e\"],[0.4444444444444444,\"#bd3786\"],[0.5555555555555556,\"#d8576b\"],[0.6666666666666666,\"#ed7953\"],[0.7777777777777778,\"#fb9f3a\"],[0.8888888888888888,\"#fdca26\"],[1.0,\"#f0f921\"]]}],\"heatmapgl\":[{\"type\":\"heatmapgl\",\"colorbar\":{\"outlinewidth\":0,\"ticks\":\"\"},\"colorscale\":[[0.0,\"#0d0887\"],[0.1111111111111111,\"#46039f\"],[0.2222222222222222,\"#7201a8\"],[0.3333333333333333,\"#9c179e\"],[0.4444444444444444,\"#bd3786\"],[0.5555555555555556,\"#d8576b\"],[0.6666666666666666,\"#ed7953\"],[0.7777777777777778,\"#fb9f3a\"],[0.8888888888888888,\"#fdca26\"],[1.0,\"#f0f921\"]]}],\"contourcarpet\":[{\"type\":\"contourcarpet\",\"colorbar\":{\"outlinewidth\":0,\"ticks\":\"\"}}],\"contour\":[{\"type\":\"contour\",\"colorbar\":{\"outlinewidth\":0,\"ticks\":\"\"},\"colorscale\":[[0.0,\"#0d0887\"],[0.1111111111111111,\"#46039f\"],[0.2222222222222222,\"#7201a8\"],[0.3333333333333333,\"#9c179e\"],[0.4444444444444444,\"#bd3786\"],[0.5555555555555556,\"#d8576b\"],[0.6666666666666666,\"#ed7953\"],[0.7777777777777778,\"#fb9f3a\"],[0.8888888888888888,\"#fdca26\"],[1.0,\"#f0f921\"]]}],\"surface\":[{\"type\":\"surface\",\"colorbar\":{\"outlinewidth\":0,\"ticks\":\"\"},\"colorscale\":[[0.0,\"#0d0887\"],[0.1111111111111111,\"#46039f\"],[0.2222222222222222,\"#7201a8\"],[0.3333333333333333,\"#9c179e\"],[0.4444444444444444,\"#bd3786\"],[0.5555555555555556,\"#d8576b\"],[0.6666666666666666,\"#ed7953\"],[0.7777777777777778,\"#fb9f3a\"],[0.8888888888888888,\"#fdca26\"],[1.0,\"#f0f921\"]]}],\"mesh3d\":[{\"type\":\"mesh3d\",\"colorbar\":{\"outlinewidth\":0,\"ticks\":\"\"}}],\"scatter\":[{\"fillpattern\":{\"fillmode\":\"overlay\",\"size\":10,\"solidity\":0.2},\"type\":\"scatter\"}],\"parcoords\":[{\"type\":\"parcoords\",\"line\":{\"colorbar\":{\"outlinewidth\":0,\"ticks\":\"\"}}}],\"scatterpolargl\":[{\"type\":\"scatterpolargl\",\"marker\":{\"colorbar\":{\"outlinewidth\":0,\"ticks\":\"\"}}}],\"bar\":[{\"error_x\":{\"color\":\"#2a3f5f\"},\"error_y\":{\"color\":\"#2a3f5f\"},\"marker\":{\"line\":{\"color\":\"#E5ECF6\",\"width\":0.5},\"pattern\":{\"fillmode\":\"overlay\",\"size\":10,\"solidity\":0.2}},\"type\":\"bar\"}],\"scattergeo\":[{\"type\":\"scattergeo\",\"marker\":{\"colorbar\":{\"outlinewidth\":0,\"ticks\":\"\"}}}],\"scatterpolar\":[{\"type\":\"scatterpolar\",\"marker\":{\"colorbar\":{\"outlinewidth\":0,\"ticks\":\"\"}}}],\"histogram\":[{\"marker\":{\"pattern\":{\"fillmode\":\"overlay\",\"size\":10,\"solidity\":0.2}},\"type\":\"histogram\"}],\"scattergl\":[{\"type\":\"scattergl\",\"marker\":{\"colorbar\":{\"outlinewidth\":0,\"ticks\":\"\"}}}],\"scatter3d\":[{\"type\":\"scatter3d\",\"line\":{\"colorbar\":{\"outlinewidth\":0,\"ticks\":\"\"}},\"marker\":{\"colorbar\":{\"outlinewidth\":0,\"ticks\":\"\"}}}],\"scattermapbox\":[{\"type\":\"scattermapbox\",\"marker\":{\"colorbar\":{\"outlinewidth\":0,\"ticks\":\"\"}}}],\"scatterternary\":[{\"type\":\"scatterternary\",\"marker\":{\"colorbar\":{\"outlinewidth\":0,\"ticks\":\"\"}}}],\"scattercarpet\":[{\"type\":\"scattercarpet\",\"marker\":{\"colorbar\":{\"outlinewidth\":0,\"ticks\":\"\"}}}],\"carpet\":[{\"aaxis\":{\"endlinecolor\":\"#2a3f5f\",\"gridcolor\":\"white\",\"linecolor\":\"white\",\"minorgridcolor\":\"white\",\"startlinecolor\":\"#2a3f5f\"},\"baxis\":{\"endlinecolor\":\"#2a3f5f\",\"gridcolor\":\"white\",\"linecolor\":\"white\",\"minorgridcolor\":\"white\",\"startlinecolor\":\"#2a3f5f\"},\"type\":\"carpet\"}],\"table\":[{\"cells\":{\"fill\":{\"color\":\"#EBF0F8\"},\"line\":{\"color\":\"white\"}},\"header\":{\"fill\":{\"color\":\"#C8D4E3\"},\"line\":{\"color\":\"white\"}},\"type\":\"table\"}],\"barpolar\":[{\"marker\":{\"line\":{\"color\":\"#E5ECF6\",\"width\":0.5},\"pattern\":{\"fillmode\":\"overlay\",\"size\":10,\"solidity\":0.2}},\"type\":\"barpolar\"}],\"pie\":[{\"automargin\":true,\"type\":\"pie\"}]},\"layout\":{\"autotypenumbers\":\"strict\",\"colorway\":[\"#636efa\",\"#EF553B\",\"#00cc96\",\"#ab63fa\",\"#FFA15A\",\"#19d3f3\",\"#FF6692\",\"#B6E880\",\"#FF97FF\",\"#FECB52\"],\"font\":{\"color\":\"#2a3f5f\"},\"hovermode\":\"closest\",\"hoverlabel\":{\"align\":\"left\"},\"paper_bgcolor\":\"white\",\"plot_bgcolor\":\"#E5ECF6\",\"polar\":{\"bgcolor\":\"#E5ECF6\",\"angularaxis\":{\"gridcolor\":\"white\",\"linecolor\":\"white\",\"ticks\":\"\"},\"radialaxis\":{\"gridcolor\":\"white\",\"linecolor\":\"white\",\"ticks\":\"\"}},\"ternary\":{\"bgcolor\":\"#E5ECF6\",\"aaxis\":{\"gridcolor\":\"white\",\"linecolor\":\"white\",\"ticks\":\"\"},\"baxis\":{\"gridcolor\":\"white\",\"linecolor\":\"white\",\"ticks\":\"\"},\"caxis\":{\"gridcolor\":\"white\",\"linecolor\":\"white\",\"ticks\":\"\"}},\"coloraxis\":{\"colorbar\":{\"outlinewidth\":0,\"ticks\":\"\"}},\"colorscale\":{\"sequential\":[[0.0,\"#0d0887\"],[0.1111111111111111,\"#46039f\"],[0.2222222222222222,\"#7201a8\"],[0.3333333333333333,\"#9c179e\"],[0.4444444444444444,\"#bd3786\"],[0.5555555555555556,\"#d8576b\"],[0.6666666666666666,\"#ed7953\"],[0.7777777777777778,\"#fb9f3a\"],[0.8888888888888888,\"#fdca26\"],[1.0,\"#f0f921\"]],\"sequentialminus\":[[0.0,\"#0d0887\"],[0.1111111111111111,\"#46039f\"],[0.2222222222222222,\"#7201a8\"],[0.3333333333333333,\"#9c179e\"],[0.4444444444444444,\"#bd3786\"],[0.5555555555555556,\"#d8576b\"],[0.6666666666666666,\"#ed7953\"],[0.7777777777777778,\"#fb9f3a\"],[0.8888888888888888,\"#fdca26\"],[1.0,\"#f0f921\"]],\"diverging\":[[0,\"#8e0152\"],[0.1,\"#c51b7d\"],[0.2,\"#de77ae\"],[0.3,\"#f1b6da\"],[0.4,\"#fde0ef\"],[0.5,\"#f7f7f7\"],[0.6,\"#e6f5d0\"],[0.7,\"#b8e186\"],[0.8,\"#7fbc41\"],[0.9,\"#4d9221\"],[1,\"#276419\"]]},\"xaxis\":{\"gridcolor\":\"white\",\"linecolor\":\"white\",\"ticks\":\"\",\"title\":{\"standoff\":15},\"zerolinecolor\":\"white\",\"automargin\":true,\"zerolinewidth\":2},\"yaxis\":{\"gridcolor\":\"white\",\"linecolor\":\"white\",\"ticks\":\"\",\"title\":{\"standoff\":15},\"zerolinecolor\":\"white\",\"automargin\":true,\"zerolinewidth\":2},\"scene\":{\"xaxis\":{\"backgroundcolor\":\"#E5ECF6\",\"gridcolor\":\"white\",\"linecolor\":\"white\",\"showbackground\":true,\"ticks\":\"\",\"zerolinecolor\":\"white\",\"gridwidth\":2},\"yaxis\":{\"backgroundcolor\":\"#E5ECF6\",\"gridcolor\":\"white\",\"linecolor\":\"white\",\"showbackground\":true,\"ticks\":\"\",\"zerolinecolor\":\"white\",\"gridwidth\":2},\"zaxis\":{\"backgroundcolor\":\"#E5ECF6\",\"gridcolor\":\"white\",\"linecolor\":\"white\",\"showbackground\":true,\"ticks\":\"\",\"zerolinecolor\":\"white\",\"gridwidth\":2}},\"shapedefaults\":{\"line\":{\"color\":\"#2a3f5f\"}},\"annotationdefaults\":{\"arrowcolor\":\"#2a3f5f\",\"arrowhead\":0,\"arrowwidth\":1},\"geo\":{\"bgcolor\":\"white\",\"landcolor\":\"#E5ECF6\",\"subunitcolor\":\"white\",\"showland\":true,\"showlakes\":true,\"lakecolor\":\"white\"},\"title\":{\"x\":0.05},\"mapbox\":{\"style\":\"light\"}}},\"xaxis\":{\"anchor\":\"y\",\"domain\":[0.0,1.0],\"title\":{\"text\":\"oldpeak\"}},\"yaxis\":{\"anchor\":\"x\",\"domain\":[0.0,1.0],\"title\":{\"text\":\"age\"}},\"legend\":{\"tracegroupgap\":0},\"margin\":{\"t\":60}},                        {\"responsive\": true}                    ).then(function(){\n",
              "                            \n",
              "var gd = document.getElementById('389363b1-1b2e-4d67-9772-54370f751fe0');\n",
              "var x = new MutationObserver(function (mutations, observer) {{\n",
              "        var display = window.getComputedStyle(gd).display;\n",
              "        if (!display || display === 'none') {{\n",
              "            console.log([gd, 'removed!']);\n",
              "            Plotly.purge(gd);\n",
              "            observer.disconnect();\n",
              "        }}\n",
              "}});\n",
              "\n",
              "// Listen for the removal of the full notebook cells\n",
              "var notebookContainer = gd.closest('#notebook-container');\n",
              "if (notebookContainer) {{\n",
              "    x.observe(notebookContainer, {childList: true});\n",
              "}}\n",
              "\n",
              "// Listen for the clearing of the current output cell\n",
              "var outputEl = gd.closest('.output');\n",
              "if (outputEl) {{\n",
              "    x.observe(outputEl, {childList: true});\n",
              "}}\n",
              "\n",
              "                        })                };                            </script>        </div>\n",
              "</body>\n",
              "</html>"
            ]
          },
          "metadata": {}
        }
      ]
    },
    {
      "cell_type": "markdown",
      "source": [
        "### Slope Column"
      ],
      "metadata": {
        "id": "lr8I-0RHFABG"
      }
    },
    {
      "cell_type": "code",
      "source": [
        "# value count of slope\n",
        "df['slope'].value_counts()"
      ],
      "metadata": {
        "execution": {
          "iopub.status.busy": "2024-02-16T04:55:55.165494Z",
          "iopub.execute_input": "2024-02-16T04:55:55.165927Z",
          "iopub.status.idle": "2024-02-16T04:55:55.176644Z",
          "shell.execute_reply.started": "2024-02-16T04:55:55.165891Z",
          "shell.execute_reply": "2024-02-16T04:55:55.175408Z"
        },
        "trusted": true,
        "id": "vElP3t1qFABH",
        "outputId": "52fc4783-a42d-4003-9ee6-df678d52e10b",
        "colab": {
          "base_uri": "https://localhost:8080/",
          "height": 229
        }
      },
      "execution_count": null,
      "outputs": [
        {
          "output_type": "execute_result",
          "data": {
            "text/plain": [
              "slope\n",
              "flat           345\n",
              "upsloping      202\n",
              "downsloping     63\n",
              "Name: count, dtype: int64"
            ],
            "text/html": [
              "<div>\n",
              "<style scoped>\n",
              "    .dataframe tbody tr th:only-of-type {\n",
              "        vertical-align: middle;\n",
              "    }\n",
              "\n",
              "    .dataframe tbody tr th {\n",
              "        vertical-align: top;\n",
              "    }\n",
              "\n",
              "    .dataframe thead th {\n",
              "        text-align: right;\n",
              "    }\n",
              "</style>\n",
              "<table border=\"1\" class=\"dataframe\">\n",
              "  <thead>\n",
              "    <tr style=\"text-align: right;\">\n",
              "      <th></th>\n",
              "      <th>count</th>\n",
              "    </tr>\n",
              "    <tr>\n",
              "      <th>slope</th>\n",
              "      <th></th>\n",
              "    </tr>\n",
              "  </thead>\n",
              "  <tbody>\n",
              "    <tr>\n",
              "      <th>flat</th>\n",
              "      <td>345</td>\n",
              "    </tr>\n",
              "    <tr>\n",
              "      <th>upsloping</th>\n",
              "      <td>202</td>\n",
              "    </tr>\n",
              "    <tr>\n",
              "      <th>downsloping</th>\n",
              "      <td>63</td>\n",
              "    </tr>\n",
              "  </tbody>\n",
              "</table>\n",
              "</div><br><label><b>dtype:</b> int64</label>"
            ]
          },
          "metadata": {},
          "execution_count": 30
        }
      ]
    },
    {
      "cell_type": "code",
      "source": [
        "# Create a histrogram based on 'slope ' and 'sex' using Plotly\n",
        "fig = px.histogram(data_frame=df, x='slope', color='sex', barmode='group')\n",
        "fig.show()"
      ],
      "metadata": {
        "execution": {
          "iopub.status.busy": "2024-02-16T04:55:55.178642Z",
          "iopub.execute_input": "2024-02-16T04:55:55.179229Z",
          "iopub.status.idle": "2024-02-16T04:55:55.269369Z",
          "shell.execute_reply.started": "2024-02-16T04:55:55.179188Z",
          "shell.execute_reply": "2024-02-16T04:55:55.267937Z"
        },
        "trusted": true,
        "id": "efRffjPCFABH",
        "outputId": "39525e1f-53f1-40c3-f86f-3d81f2b8224c",
        "colab": {
          "base_uri": "https://localhost:8080/",
          "height": 562
        }
      },
      "execution_count": null,
      "outputs": [
        {
          "output_type": "display_data",
          "data": {
            "text/html": [
              "<html>\n",
              "<head><meta charset=\"utf-8\" /></head>\n",
              "<body>\n",
              "    <div>            <script src=\"https://cdnjs.cloudflare.com/ajax/libs/mathjax/2.7.5/MathJax.js?config=TeX-AMS-MML_SVG\"></script><script type=\"text/javascript\">if (window.MathJax && window.MathJax.Hub && window.MathJax.Hub.Config) {window.MathJax.Hub.Config({SVG: {font: \"STIX-Web\"}});}</script>                <script type=\"text/javascript\">window.PlotlyConfig = {MathJaxConfig: 'local'};</script>\n",
              "        <script charset=\"utf-8\" src=\"https://cdn.plot.ly/plotly-2.35.2.min.js\"></script>                <div id=\"641e9aa3-0b3f-4245-9f7c-75e00b92bb6c\" class=\"plotly-graph-div\" style=\"height:525px; width:100%;\"></div>            <script type=\"text/javascript\">                                    window.PLOTLYENV=window.PLOTLYENV || {};                                    if (document.getElementById(\"641e9aa3-0b3f-4245-9f7c-75e00b92bb6c\")) {                    Plotly.newPlot(                        \"641e9aa3-0b3f-4245-9f7c-75e00b92bb6c\",                        [{\"alignmentgroup\":\"True\",\"bingroup\":\"x\",\"hovertemplate\":\"sex=Male\\u003cbr\\u003eslope=%{x}\\u003cbr\\u003ecount=%{y}\\u003cextra\\u003e\\u003c\\u002fextra\\u003e\",\"legendgroup\":\"Male\",\"marker\":{\"color\":\"#636efa\",\"pattern\":{\"shape\":\"\"}},\"name\":\"Male\",\"offsetgroup\":\"Male\",\"orientation\":\"v\",\"showlegend\":true,\"x\":[\"downsloping\",\"flat\",\"flat\",\"downsloping\",\"upsloping\",\"flat\",\"downsloping\",\"flat\",\"flat\",\"upsloping\",\"upsloping\",\"upsloping\",\"downsloping\",\"upsloping\",\"upsloping\",\"flat\",\"flat\",\"upsloping\",\"flat\",\"upsloping\",\"flat\",\"upsloping\",\"upsloping\",\"flat\",\"upsloping\",\"upsloping\",\"flat\",\"flat\",\"flat\",\"flat\",\"upsloping\",\"upsloping\",\"flat\",\"upsloping\",\"flat\",\"downsloping\",\"upsloping\",\"upsloping\",\"upsloping\",\"upsloping\",\"flat\",\"flat\",\"upsloping\",\"downsloping\",\"upsloping\",\"flat\",\"flat\",\"flat\",\"flat\",\"upsloping\",\"downsloping\",\"flat\",\"flat\",\"flat\",\"upsloping\",\"upsloping\",\"flat\",\"flat\",\"upsloping\",\"flat\",\"upsloping\",\"flat\",\"upsloping\",\"upsloping\",\"upsloping\",\"flat\",\"flat\",\"upsloping\",\"flat\",\"upsloping\",\"upsloping\",\"upsloping\",\"upsloping\",\"flat\",\"upsloping\",\"upsloping\",\"flat\",\"flat\",\"flat\",\"flat\",\"flat\",\"flat\",\"upsloping\",\"upsloping\",\"flat\",\"upsloping\",\"flat\",\"downsloping\",\"flat\",\"flat\",\"upsloping\",\"flat\",\"upsloping\",\"upsloping\",\"upsloping\",\"downsloping\",\"flat\",\"flat\",\"flat\",\"upsloping\",\"flat\",\"upsloping\",\"flat\",\"flat\",\"upsloping\",\"flat\",\"upsloping\",\"upsloping\",\"flat\",\"flat\",\"downsloping\",\"flat\",\"upsloping\",\"upsloping\",\"flat\",\"upsloping\",\"upsloping\",\"upsloping\",\"upsloping\",\"upsloping\",\"upsloping\",\"upsloping\",\"flat\",\"upsloping\",\"flat\",\"flat\",\"upsloping\",\"flat\",\"upsloping\",\"upsloping\",\"flat\",\"upsloping\",\"downsloping\",\"downsloping\",\"flat\",\"upsloping\",\"flat\",\"upsloping\",\"flat\",\"flat\",\"flat\",\"flat\",\"upsloping\",\"upsloping\",\"upsloping\",\"flat\",\"flat\",\"flat\",\"upsloping\",\"flat\",\"flat\",\"upsloping\",\"flat\",\"upsloping\",\"flat\",\"upsloping\",\"flat\",\"upsloping\",\"upsloping\",\"flat\",\"downsloping\",\"upsloping\",\"upsloping\",\"upsloping\",\"flat\",\"flat\",\"upsloping\",\"flat\",\"upsloping\",\"upsloping\",\"flat\",\"flat\",\"flat\",\"flat\",\"upsloping\",\"upsloping\",\"upsloping\",\"flat\",\"flat\",\"flat\",\"flat\",\"upsloping\",\"upsloping\",\"upsloping\",\"upsloping\",\"flat\",\"upsloping\",\"flat\",\"upsloping\",\"flat\",\"upsloping\",\"upsloping\",\"upsloping\",\"downsloping\",\"flat\",\"upsloping\",\"downsloping\",\"flat\",\"downsloping\",\"upsloping\",\"upsloping\",\"flat\",\"flat\",\"flat\",\"flat\",\"upsloping\",null,null,null,null,null,null,null,null,null,null,null,\"flat\",null,null,null,null,null,null,null,null,\"upsloping\",\"flat\",null,null,null,null,null,null,null,null,null,null,null,null,null,null,null,null,null,null,null,\"flat\",null,null,null,\"flat\",null,null,null,null,null,null,null,null,null,\"flat\",null,null,null,null,null,null,null,null,null,null,null,\"flat\",null,null,null,null,null,null,null,null,null,null,null,null,null,null,null,null,\"flat\",null,null,\"upsloping\",null,null,null,\"upsloping\",null,null,null,\"upsloping\",null,null,null,null,null,null,\"flat\",null,null,\"upsloping\",null,null,null,null,null,null,null,\"flat\",null,null,null,null,\"upsloping\",\"flat\",null,null,\"flat\",\"flat\",null,null,\"flat\",\"flat\",null,\"flat\",\"flat\",null,null,\"flat\",\"flat\",\"flat\",null,\"flat\",\"flat\",null,null,null,\"flat\",null,\"flat\",\"flat\",\"flat\",null,\"flat\",null,\"flat\",null,\"flat\",null,null,\"flat\",null,null,\"downsloping\",\"flat\",\"flat\",\"flat\",\"flat\",null,\"flat\",null,null,\"flat\",\"flat\",null,\"flat\",\"flat\",\"flat\",\"flat\",null,\"flat\",\"flat\",\"flat\",\"flat\",\"flat\",\"flat\",\"flat\",\"flat\",\"flat\",\"flat\",\"flat\",\"flat\",\"flat\",null,\"flat\",\"flat\",\"flat\",\"flat\",\"flat\",\"flat\",\"flat\",null,null,\"flat\",\"flat\",\"flat\",\"flat\",null,\"flat\",null,\"flat\",\"flat\",\"flat\",\"flat\",null,\"flat\",\"flat\",\"upsloping\",null,\"flat\",\"upsloping\",\"flat\",null,null,\"upsloping\",\"upsloping\",\"downsloping\",\"flat\",\"downsloping\",\"flat\",\"upsloping\",\"upsloping\",\"flat\",\"flat\",null,\"flat\",\"upsloping\",\"flat\",\"flat\",\"flat\",\"upsloping\",\"flat\",\"flat\",\"flat\",\"upsloping\",null,\"flat\",\"flat\",\"flat\",\"flat\",\"upsloping\",null,\"flat\",\"downsloping\",\"flat\",null,\"flat\",\"upsloping\",\"flat\",\"downsloping\",\"flat\",\"flat\",\"flat\",\"upsloping\",\"flat\",\"upsloping\",\"flat\",\"flat\",\"flat\",\"flat\",\"upsloping\",\"downsloping\",\"flat\",\"flat\",\"upsloping\",\"flat\",\"upsloping\",\"flat\",null,\"flat\",\"downsloping\",\"upsloping\",\"flat\",null,\"flat\",null,\"flat\",\"upsloping\",\"flat\",\"upsloping\",\"upsloping\",\"downsloping\",\"upsloping\",\"flat\",\"flat\",null,\"upsloping\",\"flat\",\"downsloping\",\"flat\",\"flat\",\"flat\",\"flat\",\"flat\",\"flat\",\"flat\",\"downsloping\",\"flat\",\"flat\",\"flat\",\"upsloping\",\"flat\",\"upsloping\",\"upsloping\",\"downsloping\",\"flat\",null,\"upsloping\",null,\"flat\",\"flat\",\"upsloping\",\"upsloping\",\"flat\",null,\"flat\",\"flat\",\"flat\",\"upsloping\",\"flat\",null,\"downsloping\",\"upsloping\",\"flat\",\"upsloping\",null,\"flat\",\"upsloping\",\"flat\",null,\"flat\",\"flat\",null,\"flat\",null,\"downsloping\",\"flat\",\"downsloping\",null,\"upsloping\",\"flat\",null,null,\"upsloping\",\"flat\",null,\"flat\",\"flat\",null,null,\"upsloping\",\"flat\",\"flat\",\"downsloping\",\"flat\",null,\"upsloping\",null,null,\"flat\",null,\"flat\",null,null,null,\"downsloping\",null,\"downsloping\",null,\"flat\",\"upsloping\",\"flat\",null,\"flat\",\"flat\",null,null,null,null,\"downsloping\",\"flat\",null,\"flat\",\"downsloping\",\"upsloping\",\"downsloping\",null,null,null,\"flat\",null,\"flat\",\"flat\",null,\"flat\",null,\"flat\",\"downsloping\",\"downsloping\",\"flat\",\"flat\",\"downsloping\",\"flat\",null,null,\"downsloping\",null,\"flat\",null,\"downsloping\",null,null,null,null,null,\"upsloping\",\"flat\",null,\"flat\",\"downsloping\",\"upsloping\",\"flat\",\"downsloping\",\"upsloping\",\"flat\",null,null,null,null,null,null,null,null,null,\"flat\",\"downsloping\",null,null,\"downsloping\",\"flat\",null,null,\"downsloping\",\"downsloping\",null,null,\"downsloping\",\"upsloping\",null,null,null,null,null,null,null,\"downsloping\",null,null,\"downsloping\",null,null,\"flat\",null,\"flat\",null,\"flat\",null,\"downsloping\",\"flat\",\"downsloping\",null,\"flat\",null,null,null,null,null,\"downsloping\",null,null,\"upsloping\",null,null,null,null,\"flat\",\"flat\",\"flat\",null,null,null,\"downsloping\",null,\"upsloping\",\"flat\",null,null,\"downsloping\",\"flat\",\"flat\",null,null,null,\"downsloping\",null,\"flat\",\"flat\",null,null,null,null,null,null],\"xaxis\":\"x\",\"yaxis\":\"y\",\"type\":\"histogram\"},{\"alignmentgroup\":\"True\",\"bingroup\":\"x\",\"hovertemplate\":\"sex=Female\\u003cbr\\u003eslope=%{x}\\u003cbr\\u003ecount=%{y}\\u003cextra\\u003e\\u003c\\u002fextra\\u003e\",\"legendgroup\":\"Female\",\"marker\":{\"color\":\"#EF553B\",\"pattern\":{\"shape\":\"\"}},\"name\":\"Female\",\"offsetgroup\":\"Female\",\"orientation\":\"v\",\"showlegend\":true,\"x\":[\"upsloping\",\"downsloping\",\"upsloping\",\"flat\",\"upsloping\",\"upsloping\",\"flat\",\"upsloping\",\"downsloping\",\"upsloping\",\"flat\",\"upsloping\",\"upsloping\",\"upsloping\",\"upsloping\",\"flat\",\"downsloping\",\"upsloping\",\"upsloping\",\"upsloping\",\"upsloping\",\"flat\",\"upsloping\",\"upsloping\",\"upsloping\",\"downsloping\",\"flat\",\"upsloping\",\"flat\",\"upsloping\",\"upsloping\",\"flat\",\"flat\",\"flat\",\"upsloping\",\"flat\",\"flat\",\"downsloping\",\"upsloping\",\"flat\",\"flat\",\"upsloping\",\"flat\",\"flat\",\"flat\",\"flat\",\"upsloping\",\"flat\",\"flat\",\"flat\",\"flat\",\"upsloping\",\"upsloping\",\"flat\",\"flat\",\"flat\",\"upsloping\",\"upsloping\",\"upsloping\",\"upsloping\",\"flat\",\"upsloping\",\"flat\",\"upsloping\",\"flat\",\"flat\",\"upsloping\",\"upsloping\",\"upsloping\",\"flat\",\"upsloping\",\"upsloping\",\"flat\",\"flat\",\"upsloping\",\"upsloping\",\"flat\",\"upsloping\",\"upsloping\",\"upsloping\",\"upsloping\",\"flat\",\"upsloping\",\"flat\",\"flat\",\"upsloping\",\"upsloping\",\"flat\",\"flat\",\"flat\",\"flat\",\"flat\",\"flat\",\"upsloping\",\"flat\",\"flat\",\"flat\",null,null,null,null,null,null,null,null,null,null,null,null,null,null,null,null,null,null,null,null,null,null,null,null,null,null,null,\"upsloping\",\"flat\",\"upsloping\",null,null,null,\"upsloping\",null,\"flat\",null,null,null,null,null,\"flat\",null,null,\"upsloping\",\"upsloping\",null,null,null,\"flat\",null,\"flat\",null,\"upsloping\",null,\"flat\",null,null,null,null,null,null,null,null,\"flat\",\"flat\",\"flat\",\"flat\",null,\"flat\",\"flat\",null,\"flat\",\"flat\",\"flat\",null,\"flat\",\"flat\",\"flat\",\"flat\",\"flat\",\"upsloping\",\"flat\",null,\"upsloping\",null,\"downsloping\",\"flat\",\"downsloping\",null,\"upsloping\",null,\"flat\",\"flat\",null,\"upsloping\",null],\"xaxis\":\"x\",\"yaxis\":\"y\",\"type\":\"histogram\"}],                        {\"template\":{\"data\":{\"histogram2dcontour\":[{\"type\":\"histogram2dcontour\",\"colorbar\":{\"outlinewidth\":0,\"ticks\":\"\"},\"colorscale\":[[0.0,\"#0d0887\"],[0.1111111111111111,\"#46039f\"],[0.2222222222222222,\"#7201a8\"],[0.3333333333333333,\"#9c179e\"],[0.4444444444444444,\"#bd3786\"],[0.5555555555555556,\"#d8576b\"],[0.6666666666666666,\"#ed7953\"],[0.7777777777777778,\"#fb9f3a\"],[0.8888888888888888,\"#fdca26\"],[1.0,\"#f0f921\"]]}],\"choropleth\":[{\"type\":\"choropleth\",\"colorbar\":{\"outlinewidth\":0,\"ticks\":\"\"}}],\"histogram2d\":[{\"type\":\"histogram2d\",\"colorbar\":{\"outlinewidth\":0,\"ticks\":\"\"},\"colorscale\":[[0.0,\"#0d0887\"],[0.1111111111111111,\"#46039f\"],[0.2222222222222222,\"#7201a8\"],[0.3333333333333333,\"#9c179e\"],[0.4444444444444444,\"#bd3786\"],[0.5555555555555556,\"#d8576b\"],[0.6666666666666666,\"#ed7953\"],[0.7777777777777778,\"#fb9f3a\"],[0.8888888888888888,\"#fdca26\"],[1.0,\"#f0f921\"]]}],\"heatmap\":[{\"type\":\"heatmap\",\"colorbar\":{\"outlinewidth\":0,\"ticks\":\"\"},\"colorscale\":[[0.0,\"#0d0887\"],[0.1111111111111111,\"#46039f\"],[0.2222222222222222,\"#7201a8\"],[0.3333333333333333,\"#9c179e\"],[0.4444444444444444,\"#bd3786\"],[0.5555555555555556,\"#d8576b\"],[0.6666666666666666,\"#ed7953\"],[0.7777777777777778,\"#fb9f3a\"],[0.8888888888888888,\"#fdca26\"],[1.0,\"#f0f921\"]]}],\"heatmapgl\":[{\"type\":\"heatmapgl\",\"colorbar\":{\"outlinewidth\":0,\"ticks\":\"\"},\"colorscale\":[[0.0,\"#0d0887\"],[0.1111111111111111,\"#46039f\"],[0.2222222222222222,\"#7201a8\"],[0.3333333333333333,\"#9c179e\"],[0.4444444444444444,\"#bd3786\"],[0.5555555555555556,\"#d8576b\"],[0.6666666666666666,\"#ed7953\"],[0.7777777777777778,\"#fb9f3a\"],[0.8888888888888888,\"#fdca26\"],[1.0,\"#f0f921\"]]}],\"contourcarpet\":[{\"type\":\"contourcarpet\",\"colorbar\":{\"outlinewidth\":0,\"ticks\":\"\"}}],\"contour\":[{\"type\":\"contour\",\"colorbar\":{\"outlinewidth\":0,\"ticks\":\"\"},\"colorscale\":[[0.0,\"#0d0887\"],[0.1111111111111111,\"#46039f\"],[0.2222222222222222,\"#7201a8\"],[0.3333333333333333,\"#9c179e\"],[0.4444444444444444,\"#bd3786\"],[0.5555555555555556,\"#d8576b\"],[0.6666666666666666,\"#ed7953\"],[0.7777777777777778,\"#fb9f3a\"],[0.8888888888888888,\"#fdca26\"],[1.0,\"#f0f921\"]]}],\"surface\":[{\"type\":\"surface\",\"colorbar\":{\"outlinewidth\":0,\"ticks\":\"\"},\"colorscale\":[[0.0,\"#0d0887\"],[0.1111111111111111,\"#46039f\"],[0.2222222222222222,\"#7201a8\"],[0.3333333333333333,\"#9c179e\"],[0.4444444444444444,\"#bd3786\"],[0.5555555555555556,\"#d8576b\"],[0.6666666666666666,\"#ed7953\"],[0.7777777777777778,\"#fb9f3a\"],[0.8888888888888888,\"#fdca26\"],[1.0,\"#f0f921\"]]}],\"mesh3d\":[{\"type\":\"mesh3d\",\"colorbar\":{\"outlinewidth\":0,\"ticks\":\"\"}}],\"scatter\":[{\"fillpattern\":{\"fillmode\":\"overlay\",\"size\":10,\"solidity\":0.2},\"type\":\"scatter\"}],\"parcoords\":[{\"type\":\"parcoords\",\"line\":{\"colorbar\":{\"outlinewidth\":0,\"ticks\":\"\"}}}],\"scatterpolargl\":[{\"type\":\"scatterpolargl\",\"marker\":{\"colorbar\":{\"outlinewidth\":0,\"ticks\":\"\"}}}],\"bar\":[{\"error_x\":{\"color\":\"#2a3f5f\"},\"error_y\":{\"color\":\"#2a3f5f\"},\"marker\":{\"line\":{\"color\":\"#E5ECF6\",\"width\":0.5},\"pattern\":{\"fillmode\":\"overlay\",\"size\":10,\"solidity\":0.2}},\"type\":\"bar\"}],\"scattergeo\":[{\"type\":\"scattergeo\",\"marker\":{\"colorbar\":{\"outlinewidth\":0,\"ticks\":\"\"}}}],\"scatterpolar\":[{\"type\":\"scatterpolar\",\"marker\":{\"colorbar\":{\"outlinewidth\":0,\"ticks\":\"\"}}}],\"histogram\":[{\"marker\":{\"pattern\":{\"fillmode\":\"overlay\",\"size\":10,\"solidity\":0.2}},\"type\":\"histogram\"}],\"scattergl\":[{\"type\":\"scattergl\",\"marker\":{\"colorbar\":{\"outlinewidth\":0,\"ticks\":\"\"}}}],\"scatter3d\":[{\"type\":\"scatter3d\",\"line\":{\"colorbar\":{\"outlinewidth\":0,\"ticks\":\"\"}},\"marker\":{\"colorbar\":{\"outlinewidth\":0,\"ticks\":\"\"}}}],\"scattermapbox\":[{\"type\":\"scattermapbox\",\"marker\":{\"colorbar\":{\"outlinewidth\":0,\"ticks\":\"\"}}}],\"scatterternary\":[{\"type\":\"scatterternary\",\"marker\":{\"colorbar\":{\"outlinewidth\":0,\"ticks\":\"\"}}}],\"scattercarpet\":[{\"type\":\"scattercarpet\",\"marker\":{\"colorbar\":{\"outlinewidth\":0,\"ticks\":\"\"}}}],\"carpet\":[{\"aaxis\":{\"endlinecolor\":\"#2a3f5f\",\"gridcolor\":\"white\",\"linecolor\":\"white\",\"minorgridcolor\":\"white\",\"startlinecolor\":\"#2a3f5f\"},\"baxis\":{\"endlinecolor\":\"#2a3f5f\",\"gridcolor\":\"white\",\"linecolor\":\"white\",\"minorgridcolor\":\"white\",\"startlinecolor\":\"#2a3f5f\"},\"type\":\"carpet\"}],\"table\":[{\"cells\":{\"fill\":{\"color\":\"#EBF0F8\"},\"line\":{\"color\":\"white\"}},\"header\":{\"fill\":{\"color\":\"#C8D4E3\"},\"line\":{\"color\":\"white\"}},\"type\":\"table\"}],\"barpolar\":[{\"marker\":{\"line\":{\"color\":\"#E5ECF6\",\"width\":0.5},\"pattern\":{\"fillmode\":\"overlay\",\"size\":10,\"solidity\":0.2}},\"type\":\"barpolar\"}],\"pie\":[{\"automargin\":true,\"type\":\"pie\"}]},\"layout\":{\"autotypenumbers\":\"strict\",\"colorway\":[\"#636efa\",\"#EF553B\",\"#00cc96\",\"#ab63fa\",\"#FFA15A\",\"#19d3f3\",\"#FF6692\",\"#B6E880\",\"#FF97FF\",\"#FECB52\"],\"font\":{\"color\":\"#2a3f5f\"},\"hovermode\":\"closest\",\"hoverlabel\":{\"align\":\"left\"},\"paper_bgcolor\":\"white\",\"plot_bgcolor\":\"#E5ECF6\",\"polar\":{\"bgcolor\":\"#E5ECF6\",\"angularaxis\":{\"gridcolor\":\"white\",\"linecolor\":\"white\",\"ticks\":\"\"},\"radialaxis\":{\"gridcolor\":\"white\",\"linecolor\":\"white\",\"ticks\":\"\"}},\"ternary\":{\"bgcolor\":\"#E5ECF6\",\"aaxis\":{\"gridcolor\":\"white\",\"linecolor\":\"white\",\"ticks\":\"\"},\"baxis\":{\"gridcolor\":\"white\",\"linecolor\":\"white\",\"ticks\":\"\"},\"caxis\":{\"gridcolor\":\"white\",\"linecolor\":\"white\",\"ticks\":\"\"}},\"coloraxis\":{\"colorbar\":{\"outlinewidth\":0,\"ticks\":\"\"}},\"colorscale\":{\"sequential\":[[0.0,\"#0d0887\"],[0.1111111111111111,\"#46039f\"],[0.2222222222222222,\"#7201a8\"],[0.3333333333333333,\"#9c179e\"],[0.4444444444444444,\"#bd3786\"],[0.5555555555555556,\"#d8576b\"],[0.6666666666666666,\"#ed7953\"],[0.7777777777777778,\"#fb9f3a\"],[0.8888888888888888,\"#fdca26\"],[1.0,\"#f0f921\"]],\"sequentialminus\":[[0.0,\"#0d0887\"],[0.1111111111111111,\"#46039f\"],[0.2222222222222222,\"#7201a8\"],[0.3333333333333333,\"#9c179e\"],[0.4444444444444444,\"#bd3786\"],[0.5555555555555556,\"#d8576b\"],[0.6666666666666666,\"#ed7953\"],[0.7777777777777778,\"#fb9f3a\"],[0.8888888888888888,\"#fdca26\"],[1.0,\"#f0f921\"]],\"diverging\":[[0,\"#8e0152\"],[0.1,\"#c51b7d\"],[0.2,\"#de77ae\"],[0.3,\"#f1b6da\"],[0.4,\"#fde0ef\"],[0.5,\"#f7f7f7\"],[0.6,\"#e6f5d0\"],[0.7,\"#b8e186\"],[0.8,\"#7fbc41\"],[0.9,\"#4d9221\"],[1,\"#276419\"]]},\"xaxis\":{\"gridcolor\":\"white\",\"linecolor\":\"white\",\"ticks\":\"\",\"title\":{\"standoff\":15},\"zerolinecolor\":\"white\",\"automargin\":true,\"zerolinewidth\":2},\"yaxis\":{\"gridcolor\":\"white\",\"linecolor\":\"white\",\"ticks\":\"\",\"title\":{\"standoff\":15},\"zerolinecolor\":\"white\",\"automargin\":true,\"zerolinewidth\":2},\"scene\":{\"xaxis\":{\"backgroundcolor\":\"#E5ECF6\",\"gridcolor\":\"white\",\"linecolor\":\"white\",\"showbackground\":true,\"ticks\":\"\",\"zerolinecolor\":\"white\",\"gridwidth\":2},\"yaxis\":{\"backgroundcolor\":\"#E5ECF6\",\"gridcolor\":\"white\",\"linecolor\":\"white\",\"showbackground\":true,\"ticks\":\"\",\"zerolinecolor\":\"white\",\"gridwidth\":2},\"zaxis\":{\"backgroundcolor\":\"#E5ECF6\",\"gridcolor\":\"white\",\"linecolor\":\"white\",\"showbackground\":true,\"ticks\":\"\",\"zerolinecolor\":\"white\",\"gridwidth\":2}},\"shapedefaults\":{\"line\":{\"color\":\"#2a3f5f\"}},\"annotationdefaults\":{\"arrowcolor\":\"#2a3f5f\",\"arrowhead\":0,\"arrowwidth\":1},\"geo\":{\"bgcolor\":\"white\",\"landcolor\":\"#E5ECF6\",\"subunitcolor\":\"white\",\"showland\":true,\"showlakes\":true,\"lakecolor\":\"white\"},\"title\":{\"x\":0.05},\"mapbox\":{\"style\":\"light\"}}},\"xaxis\":{\"anchor\":\"y\",\"domain\":[0.0,1.0],\"title\":{\"text\":\"slope\"}},\"yaxis\":{\"anchor\":\"x\",\"domain\":[0.0,1.0],\"title\":{\"text\":\"count\"}},\"legend\":{\"title\":{\"text\":\"sex\"},\"tracegroupgap\":0},\"margin\":{\"t\":60},\"barmode\":\"group\"},                        {\"responsive\": true}                    ).then(function(){\n",
              "                            \n",
              "var gd = document.getElementById('641e9aa3-0b3f-4245-9f7c-75e00b92bb6c');\n",
              "var x = new MutationObserver(function (mutations, observer) {{\n",
              "        var display = window.getComputedStyle(gd).display;\n",
              "        if (!display || display === 'none') {{\n",
              "            console.log([gd, 'removed!']);\n",
              "            Plotly.purge(gd);\n",
              "            observer.disconnect();\n",
              "        }}\n",
              "}});\n",
              "\n",
              "// Listen for the removal of the full notebook cells\n",
              "var notebookContainer = gd.closest('#notebook-container');\n",
              "if (notebookContainer) {{\n",
              "    x.observe(notebookContainer, {childList: true});\n",
              "}}\n",
              "\n",
              "// Listen for the clearing of the current output cell\n",
              "var outputEl = gd.closest('.output');\n",
              "if (outputEl) {{\n",
              "    x.observe(outputEl, {childList: true});\n",
              "}}\n",
              "\n",
              "                        })                };                            </script>        </div>\n",
              "</body>\n",
              "</html>"
            ]
          },
          "metadata": {}
        }
      ]
    },
    {
      "cell_type": "code",
      "source": [
        "# Create a histrogram based on 'slope ' and 'dataset' using Plotly\n",
        "fig = px.histogram(data_frame=df, x='slope', color='dataset', barmode='group')\n",
        "fig.show()"
      ],
      "metadata": {
        "execution": {
          "iopub.status.busy": "2024-02-16T04:55:55.272102Z",
          "iopub.execute_input": "2024-02-16T04:55:55.273088Z",
          "iopub.status.idle": "2024-02-16T04:55:55.374919Z",
          "shell.execute_reply.started": "2024-02-16T04:55:55.273028Z",
          "shell.execute_reply": "2024-02-16T04:55:55.373443Z"
        },
        "trusted": true,
        "id": "nkACLf36FABH",
        "outputId": "9ca10ab2-0afd-424e-996c-72fdf4663c16",
        "colab": {
          "base_uri": "https://localhost:8080/",
          "height": 562
        }
      },
      "execution_count": null,
      "outputs": [
        {
          "output_type": "display_data",
          "data": {
            "text/html": [
              "<html>\n",
              "<head><meta charset=\"utf-8\" /></head>\n",
              "<body>\n",
              "    <div>            <script src=\"https://cdnjs.cloudflare.com/ajax/libs/mathjax/2.7.5/MathJax.js?config=TeX-AMS-MML_SVG\"></script><script type=\"text/javascript\">if (window.MathJax && window.MathJax.Hub && window.MathJax.Hub.Config) {window.MathJax.Hub.Config({SVG: {font: \"STIX-Web\"}});}</script>                <script type=\"text/javascript\">window.PlotlyConfig = {MathJaxConfig: 'local'};</script>\n",
              "        <script charset=\"utf-8\" src=\"https://cdn.plot.ly/plotly-2.35.2.min.js\"></script>                <div id=\"4e9ed90b-e5b0-47a2-8a42-96c484ade54c\" class=\"plotly-graph-div\" style=\"height:525px; width:100%;\"></div>            <script type=\"text/javascript\">                                    window.PLOTLYENV=window.PLOTLYENV || {};                                    if (document.getElementById(\"4e9ed90b-e5b0-47a2-8a42-96c484ade54c\")) {                    Plotly.newPlot(                        \"4e9ed90b-e5b0-47a2-8a42-96c484ade54c\",                        [{\"alignmentgroup\":\"True\",\"bingroup\":\"x\",\"hovertemplate\":\"dataset=Cleveland\\u003cbr\\u003eslope=%{x}\\u003cbr\\u003ecount=%{y}\\u003cextra\\u003e\\u003c\\u002fextra\\u003e\",\"legendgroup\":\"Cleveland\",\"marker\":{\"color\":\"#636efa\",\"pattern\":{\"shape\":\"\"}},\"name\":\"Cleveland\",\"offsetgroup\":\"Cleveland\",\"orientation\":\"v\",\"showlegend\":true,\"x\":[\"downsloping\",\"flat\",\"flat\",\"downsloping\",\"upsloping\",\"upsloping\",\"downsloping\",\"upsloping\",\"flat\",\"downsloping\",\"flat\",\"flat\",\"flat\",\"upsloping\",\"upsloping\",\"upsloping\",\"downsloping\",\"upsloping\",\"upsloping\",\"upsloping\",\"flat\",\"upsloping\",\"flat\",\"upsloping\",\"flat\",\"flat\",\"upsloping\",\"downsloping\",\"upsloping\",\"flat\",\"upsloping\",\"upsloping\",\"upsloping\",\"flat\",\"upsloping\",\"upsloping\",\"flat\",\"flat\",\"flat\",\"flat\",\"flat\",\"upsloping\",\"upsloping\",\"upsloping\",\"upsloping\",\"flat\",\"upsloping\",\"flat\",\"upsloping\",\"downsloping\",\"upsloping\",\"upsloping\",\"upsloping\",\"upsloping\",\"upsloping\",\"flat\",\"flat\",\"upsloping\",\"downsloping\",\"upsloping\",\"flat\",\"downsloping\",\"flat\",\"upsloping\",\"flat\",\"flat\",\"flat\",\"upsloping\",\"downsloping\",\"flat\",\"upsloping\",\"flat\",\"flat\",\"upsloping\",\"upsloping\",\"upsloping\",\"flat\",\"upsloping\",\"flat\",\"upsloping\",\"flat\",\"flat\",\"upsloping\",\"flat\",\"upsloping\",\"upsloping\",\"upsloping\",\"upsloping\",\"upsloping\",\"upsloping\",\"flat\",\"downsloping\",\"flat\",\"flat\",\"upsloping\",\"upsloping\",\"flat\",\"flat\",\"upsloping\",\"upsloping\",\"upsloping\",\"upsloping\",\"upsloping\",\"upsloping\",\"flat\",\"upsloping\",\"upsloping\",\"flat\",\"flat\",\"flat\",\"flat\",\"flat\",\"flat\",\"flat\",\"flat\",\"flat\",\"upsloping\",\"upsloping\",\"upsloping\",\"flat\",\"upsloping\",\"flat\",\"flat\",\"downsloping\",\"flat\",\"flat\",\"downsloping\",\"flat\",\"upsloping\",\"upsloping\",\"flat\",\"upsloping\",\"upsloping\",\"upsloping\",\"flat\",\"flat\",\"downsloping\",\"flat\",\"flat\",\"flat\",\"upsloping\",\"flat\",\"upsloping\",\"flat\",\"flat\",\"upsloping\",\"flat\",\"upsloping\",\"upsloping\",\"upsloping\",\"flat\",\"flat\",\"flat\",\"flat\",\"downsloping\",\"flat\",\"upsloping\",\"upsloping\",\"flat\",\"upsloping\",\"upsloping\",\"upsloping\",\"flat\",\"flat\",\"upsloping\",\"upsloping\",\"upsloping\",\"upsloping\",\"upsloping\",\"flat\",\"flat\",\"upsloping\",\"flat\",\"flat\",\"flat\",\"flat\",\"upsloping\",\"flat\",\"upsloping\",\"upsloping\",\"flat\",\"flat\",\"upsloping\",\"downsloping\",\"upsloping\",\"upsloping\",\"downsloping\",\"flat\",\"upsloping\",\"flat\",\"upsloping\",\"flat\",\"flat\",\"flat\",\"flat\",\"flat\",\"flat\",\"flat\",\"upsloping\",\"upsloping\",\"upsloping\",\"upsloping\",\"upsloping\",\"upsloping\",\"upsloping\",\"flat\",\"flat\",\"flat\",\"upsloping\",\"flat\",\"upsloping\",\"flat\",\"flat\",\"flat\",\"upsloping\",\"flat\",\"upsloping\",\"flat\",\"flat\",\"upsloping\",\"upsloping\",\"upsloping\",\"upsloping\",\"flat\",\"flat\",\"upsloping\",\"upsloping\",\"upsloping\",\"flat\",\"upsloping\",\"flat\",\"flat\",\"upsloping\",\"upsloping\",\"upsloping\",\"flat\",\"downsloping\",\"upsloping\",\"flat\",\"upsloping\",\"upsloping\",\"upsloping\",\"upsloping\",\"flat\",\"upsloping\",\"flat\",\"upsloping\",\"flat\",\"upsloping\",\"upsloping\",\"flat\",\"flat\",\"flat\",\"upsloping\",\"flat\",\"flat\",\"upsloping\",\"flat\",\"upsloping\",\"upsloping\",\"flat\",\"upsloping\",\"upsloping\",\"upsloping\",\"flat\",\"flat\",\"flat\",\"flat\",\"upsloping\",\"upsloping\",\"upsloping\",\"upsloping\",\"flat\",\"flat\",\"upsloping\",\"flat\",\"flat\",\"flat\",\"upsloping\",\"flat\",\"flat\",\"upsloping\",\"flat\",\"upsloping\",\"upsloping\",\"downsloping\",\"flat\",\"flat\",\"upsloping\",\"downsloping\",\"flat\",\"upsloping\",\"downsloping\",\"upsloping\",\"flat\",\"upsloping\",\"flat\",\"flat\",\"flat\",\"flat\",\"flat\",\"flat\",\"upsloping\",null],\"xaxis\":\"x\",\"yaxis\":\"y\",\"type\":\"histogram\"},{\"alignmentgroup\":\"True\",\"bingroup\":\"x\",\"hovertemplate\":\"dataset=Hungary\\u003cbr\\u003eslope=%{x}\\u003cbr\\u003ecount=%{y}\\u003cextra\\u003e\\u003c\\u002fextra\\u003e\",\"legendgroup\":\"Hungary\",\"marker\":{\"color\":\"#EF553B\",\"pattern\":{\"shape\":\"\"}},\"name\":\"Hungary\",\"offsetgroup\":\"Hungary\",\"orientation\":\"v\",\"showlegend\":true,\"x\":[null,null,null,null,null,null,null,null,null,null,null,null,null,null,null,null,\"flat\",null,null,null,null,null,null,null,null,null,null,null,null,null,\"upsloping\",\"flat\",null,null,null,null,null,null,null,null,null,null,null,null,null,null,null,null,null,null,null,null,null,null,null,\"flat\",null,null,null,null,null,null,null,null,null,null,null,\"flat\",null,null,null,null,null,null,null,null,null,null,null,null,null,\"flat\",null,null,\"upsloping\",\"flat\",null,null,null,\"upsloping\",null,null,null,\"upsloping\",null,\"flat\",null,null,null,null,null,null,null,null,null,null,\"flat\",null,null,\"flat\",null,null,null,null,null,null,null,\"upsloping\",\"upsloping\",null,null,null,null,null,null,\"flat\",null,null,null,null,null,\"flat\",null,null,null,null,\"flat\",null,null,\"upsloping\",null,\"flat\",null,null,null,null,\"upsloping\",null,null,null,\"upsloping\",null,null,null,\"upsloping\",null,null,null,null,null,null,null,null,null,\"flat\",null,null,null,\"upsloping\",null,\"flat\",\"flat\",null,null,null,null,null,\"flat\",null,\"flat\",null,null,null,\"flat\",null,null,\"upsloping\",\"flat\",\"flat\",null,null,\"flat\",\"flat\",null,null,\"flat\",\"flat\",null,\"flat\",\"flat\",null,null,\"flat\",\"flat\",\"flat\",null,\"flat\",\"flat\",\"flat\",null,null,null,null,\"flat\",\"flat\",null,\"flat\",\"flat\",\"flat\",null,\"flat\",\"flat\",null,\"flat\",null,\"flat\",null,\"flat\",null,\"flat\",null,null,\"downsloping\",\"flat\",\"flat\",\"flat\",\"flat\",null,\"flat\",null,null,\"flat\",\"flat\",null,\"flat\",\"flat\",\"flat\",\"flat\",null,\"flat\",\"flat\",\"flat\",\"flat\",\"flat\",\"flat\",null,\"flat\",\"flat\",\"flat\",\"flat\",\"flat\",\"flat\",\"flat\",\"flat\",null,\"flat\",\"flat\",\"flat\",\"flat\",\"flat\",\"flat\",\"flat\",\"flat\",null,null,\"flat\",\"flat\",\"flat\",\"flat\",null,\"flat\",\"flat\",null,\"flat\",\"flat\",\"flat\",\"flat\",null,\"flat\",\"flat\",\"flat\",\"flat\"],\"xaxis\":\"x\",\"yaxis\":\"y\",\"type\":\"histogram\"},{\"alignmentgroup\":\"True\",\"bingroup\":\"x\",\"hovertemplate\":\"dataset=Switzerland\\u003cbr\\u003eslope=%{x}\\u003cbr\\u003ecount=%{y}\\u003cextra\\u003e\\u003c\\u002fextra\\u003e\",\"legendgroup\":\"Switzerland\",\"marker\":{\"color\":\"#00cc96\",\"pattern\":{\"shape\":\"\"}},\"name\":\"Switzerland\",\"offsetgroup\":\"Switzerland\",\"orientation\":\"v\",\"showlegend\":true,\"x\":[\"upsloping\",null,\"flat\",\"upsloping\",\"flat\",\"upsloping\",\"flat\",null,null,\"upsloping\",\"upsloping\",\"downsloping\",\"flat\",\"downsloping\",\"flat\",\"upsloping\",\"upsloping\",\"flat\",\"flat\",null,\"flat\",\"upsloping\",\"flat\",\"flat\",null,\"flat\",\"upsloping\",\"flat\",\"upsloping\",\"flat\",\"flat\",\"upsloping\",null,\"flat\",\"flat\",\"flat\",\"flat\",\"upsloping\",null,\"flat\",\"downsloping\",\"flat\",null,\"flat\",\"upsloping\",\"flat\",\"downsloping\",\"flat\",\"flat\",\"flat\",\"upsloping\",\"flat\",\"upsloping\",\"flat\",\"flat\",\"flat\",\"flat\",\"upsloping\",\"downsloping\",\"flat\",\"flat\",\"upsloping\",\"flat\",\"upsloping\",\"flat\",null,\"flat\",\"downsloping\",\"upsloping\",\"flat\",null,\"flat\",null,\"flat\",\"upsloping\",\"flat\",\"upsloping\",\"upsloping\",\"downsloping\",\"upsloping\",\"flat\",\"flat\",null,\"upsloping\",\"flat\",\"downsloping\",\"flat\",\"flat\",\"flat\",\"flat\",\"flat\",null,\"downsloping\",\"flat\",\"flat\",\"downsloping\",\"flat\",\"flat\",\"flat\",\"upsloping\",\"flat\",\"upsloping\",\"upsloping\",\"flat\",\"downsloping\",\"downsloping\",\"flat\",null,\"upsloping\",null,null,\"flat\",\"flat\",\"upsloping\",\"upsloping\",\"flat\",null,\"flat\",\"flat\",\"flat\",\"upsloping\",\"upsloping\"],\"xaxis\":\"x\",\"yaxis\":\"y\",\"type\":\"histogram\"},{\"alignmentgroup\":\"True\",\"bingroup\":\"x\",\"hovertemplate\":\"dataset=VA Long Beach\\u003cbr\\u003eslope=%{x}\\u003cbr\\u003ecount=%{y}\\u003cextra\\u003e\\u003c\\u002fextra\\u003e\",\"legendgroup\":\"VA Long Beach\",\"marker\":{\"color\":\"#ab63fa\",\"pattern\":{\"shape\":\"\"}},\"name\":\"VA Long Beach\",\"offsetgroup\":\"VA Long Beach\",\"orientation\":\"v\",\"showlegend\":true,\"x\":[\"flat\",null,\"downsloping\",\"upsloping\",\"flat\",\"upsloping\",null,\"flat\",\"upsloping\",\"flat\",null,\"flat\",\"flat\",null,\"flat\",null,\"downsloping\",\"flat\",\"downsloping\",null,\"upsloping\",\"flat\",null,null,\"upsloping\",\"flat\",null,\"flat\",\"flat\",null,null,\"upsloping\",\"flat\",\"flat\",\"downsloping\",\"flat\",null,\"upsloping\",null,null,\"flat\",null,\"flat\",null,null,null,\"downsloping\",null,\"downsloping\",null,\"flat\",null,\"upsloping\",\"flat\",null,\"flat\",\"flat\",null,null,null,null,\"downsloping\",\"flat\",null,\"flat\",\"downsloping\",\"upsloping\",\"downsloping\",null,null,null,\"flat\",null,\"flat\",\"flat\",null,\"flat\",null,\"flat\",\"flat\",\"downsloping\",\"downsloping\",\"flat\",\"flat\",\"downsloping\",\"flat\",null,null,\"downsloping\",null,\"flat\",null,\"downsloping\",null,null,null,null,null,\"upsloping\",\"flat\",null,\"flat\",\"downsloping\",\"upsloping\",\"flat\",\"downsloping\",\"upsloping\",\"flat\",null,null,null,null,null,null,null,null,null,\"flat\",\"downsloping\",null,null,\"downsloping\",\"flat\",null,null,\"downsloping\",\"flat\",\"downsloping\",null,null,null,\"downsloping\",\"upsloping\",null,null,null,null,null,null,null,\"downsloping\",null,null,\"downsloping\",null,null,\"flat\",null,\"flat\",null,\"flat\",null,\"downsloping\",\"flat\",\"downsloping\",null,\"flat\",null,null,null,null,null,\"downsloping\",null,null,\"upsloping\",null,null,null,null,\"flat\",\"flat\",\"flat\",null,null,null,\"downsloping\",null,\"upsloping\",\"flat\",null,null,\"downsloping\",\"flat\",\"flat\",null,null,null,\"downsloping\",null,\"upsloping\",\"flat\",\"flat\",null,null,null,null,null,null,null],\"xaxis\":\"x\",\"yaxis\":\"y\",\"type\":\"histogram\"}],                        {\"template\":{\"data\":{\"histogram2dcontour\":[{\"type\":\"histogram2dcontour\",\"colorbar\":{\"outlinewidth\":0,\"ticks\":\"\"},\"colorscale\":[[0.0,\"#0d0887\"],[0.1111111111111111,\"#46039f\"],[0.2222222222222222,\"#7201a8\"],[0.3333333333333333,\"#9c179e\"],[0.4444444444444444,\"#bd3786\"],[0.5555555555555556,\"#d8576b\"],[0.6666666666666666,\"#ed7953\"],[0.7777777777777778,\"#fb9f3a\"],[0.8888888888888888,\"#fdca26\"],[1.0,\"#f0f921\"]]}],\"choropleth\":[{\"type\":\"choropleth\",\"colorbar\":{\"outlinewidth\":0,\"ticks\":\"\"}}],\"histogram2d\":[{\"type\":\"histogram2d\",\"colorbar\":{\"outlinewidth\":0,\"ticks\":\"\"},\"colorscale\":[[0.0,\"#0d0887\"],[0.1111111111111111,\"#46039f\"],[0.2222222222222222,\"#7201a8\"],[0.3333333333333333,\"#9c179e\"],[0.4444444444444444,\"#bd3786\"],[0.5555555555555556,\"#d8576b\"],[0.6666666666666666,\"#ed7953\"],[0.7777777777777778,\"#fb9f3a\"],[0.8888888888888888,\"#fdca26\"],[1.0,\"#f0f921\"]]}],\"heatmap\":[{\"type\":\"heatmap\",\"colorbar\":{\"outlinewidth\":0,\"ticks\":\"\"},\"colorscale\":[[0.0,\"#0d0887\"],[0.1111111111111111,\"#46039f\"],[0.2222222222222222,\"#7201a8\"],[0.3333333333333333,\"#9c179e\"],[0.4444444444444444,\"#bd3786\"],[0.5555555555555556,\"#d8576b\"],[0.6666666666666666,\"#ed7953\"],[0.7777777777777778,\"#fb9f3a\"],[0.8888888888888888,\"#fdca26\"],[1.0,\"#f0f921\"]]}],\"heatmapgl\":[{\"type\":\"heatmapgl\",\"colorbar\":{\"outlinewidth\":0,\"ticks\":\"\"},\"colorscale\":[[0.0,\"#0d0887\"],[0.1111111111111111,\"#46039f\"],[0.2222222222222222,\"#7201a8\"],[0.3333333333333333,\"#9c179e\"],[0.4444444444444444,\"#bd3786\"],[0.5555555555555556,\"#d8576b\"],[0.6666666666666666,\"#ed7953\"],[0.7777777777777778,\"#fb9f3a\"],[0.8888888888888888,\"#fdca26\"],[1.0,\"#f0f921\"]]}],\"contourcarpet\":[{\"type\":\"contourcarpet\",\"colorbar\":{\"outlinewidth\":0,\"ticks\":\"\"}}],\"contour\":[{\"type\":\"contour\",\"colorbar\":{\"outlinewidth\":0,\"ticks\":\"\"},\"colorscale\":[[0.0,\"#0d0887\"],[0.1111111111111111,\"#46039f\"],[0.2222222222222222,\"#7201a8\"],[0.3333333333333333,\"#9c179e\"],[0.4444444444444444,\"#bd3786\"],[0.5555555555555556,\"#d8576b\"],[0.6666666666666666,\"#ed7953\"],[0.7777777777777778,\"#fb9f3a\"],[0.8888888888888888,\"#fdca26\"],[1.0,\"#f0f921\"]]}],\"surface\":[{\"type\":\"surface\",\"colorbar\":{\"outlinewidth\":0,\"ticks\":\"\"},\"colorscale\":[[0.0,\"#0d0887\"],[0.1111111111111111,\"#46039f\"],[0.2222222222222222,\"#7201a8\"],[0.3333333333333333,\"#9c179e\"],[0.4444444444444444,\"#bd3786\"],[0.5555555555555556,\"#d8576b\"],[0.6666666666666666,\"#ed7953\"],[0.7777777777777778,\"#fb9f3a\"],[0.8888888888888888,\"#fdca26\"],[1.0,\"#f0f921\"]]}],\"mesh3d\":[{\"type\":\"mesh3d\",\"colorbar\":{\"outlinewidth\":0,\"ticks\":\"\"}}],\"scatter\":[{\"fillpattern\":{\"fillmode\":\"overlay\",\"size\":10,\"solidity\":0.2},\"type\":\"scatter\"}],\"parcoords\":[{\"type\":\"parcoords\",\"line\":{\"colorbar\":{\"outlinewidth\":0,\"ticks\":\"\"}}}],\"scatterpolargl\":[{\"type\":\"scatterpolargl\",\"marker\":{\"colorbar\":{\"outlinewidth\":0,\"ticks\":\"\"}}}],\"bar\":[{\"error_x\":{\"color\":\"#2a3f5f\"},\"error_y\":{\"color\":\"#2a3f5f\"},\"marker\":{\"line\":{\"color\":\"#E5ECF6\",\"width\":0.5},\"pattern\":{\"fillmode\":\"overlay\",\"size\":10,\"solidity\":0.2}},\"type\":\"bar\"}],\"scattergeo\":[{\"type\":\"scattergeo\",\"marker\":{\"colorbar\":{\"outlinewidth\":0,\"ticks\":\"\"}}}],\"scatterpolar\":[{\"type\":\"scatterpolar\",\"marker\":{\"colorbar\":{\"outlinewidth\":0,\"ticks\":\"\"}}}],\"histogram\":[{\"marker\":{\"pattern\":{\"fillmode\":\"overlay\",\"size\":10,\"solidity\":0.2}},\"type\":\"histogram\"}],\"scattergl\":[{\"type\":\"scattergl\",\"marker\":{\"colorbar\":{\"outlinewidth\":0,\"ticks\":\"\"}}}],\"scatter3d\":[{\"type\":\"scatter3d\",\"line\":{\"colorbar\":{\"outlinewidth\":0,\"ticks\":\"\"}},\"marker\":{\"colorbar\":{\"outlinewidth\":0,\"ticks\":\"\"}}}],\"scattermapbox\":[{\"type\":\"scattermapbox\",\"marker\":{\"colorbar\":{\"outlinewidth\":0,\"ticks\":\"\"}}}],\"scatterternary\":[{\"type\":\"scatterternary\",\"marker\":{\"colorbar\":{\"outlinewidth\":0,\"ticks\":\"\"}}}],\"scattercarpet\":[{\"type\":\"scattercarpet\",\"marker\":{\"colorbar\":{\"outlinewidth\":0,\"ticks\":\"\"}}}],\"carpet\":[{\"aaxis\":{\"endlinecolor\":\"#2a3f5f\",\"gridcolor\":\"white\",\"linecolor\":\"white\",\"minorgridcolor\":\"white\",\"startlinecolor\":\"#2a3f5f\"},\"baxis\":{\"endlinecolor\":\"#2a3f5f\",\"gridcolor\":\"white\",\"linecolor\":\"white\",\"minorgridcolor\":\"white\",\"startlinecolor\":\"#2a3f5f\"},\"type\":\"carpet\"}],\"table\":[{\"cells\":{\"fill\":{\"color\":\"#EBF0F8\"},\"line\":{\"color\":\"white\"}},\"header\":{\"fill\":{\"color\":\"#C8D4E3\"},\"line\":{\"color\":\"white\"}},\"type\":\"table\"}],\"barpolar\":[{\"marker\":{\"line\":{\"color\":\"#E5ECF6\",\"width\":0.5},\"pattern\":{\"fillmode\":\"overlay\",\"size\":10,\"solidity\":0.2}},\"type\":\"barpolar\"}],\"pie\":[{\"automargin\":true,\"type\":\"pie\"}]},\"layout\":{\"autotypenumbers\":\"strict\",\"colorway\":[\"#636efa\",\"#EF553B\",\"#00cc96\",\"#ab63fa\",\"#FFA15A\",\"#19d3f3\",\"#FF6692\",\"#B6E880\",\"#FF97FF\",\"#FECB52\"],\"font\":{\"color\":\"#2a3f5f\"},\"hovermode\":\"closest\",\"hoverlabel\":{\"align\":\"left\"},\"paper_bgcolor\":\"white\",\"plot_bgcolor\":\"#E5ECF6\",\"polar\":{\"bgcolor\":\"#E5ECF6\",\"angularaxis\":{\"gridcolor\":\"white\",\"linecolor\":\"white\",\"ticks\":\"\"},\"radialaxis\":{\"gridcolor\":\"white\",\"linecolor\":\"white\",\"ticks\":\"\"}},\"ternary\":{\"bgcolor\":\"#E5ECF6\",\"aaxis\":{\"gridcolor\":\"white\",\"linecolor\":\"white\",\"ticks\":\"\"},\"baxis\":{\"gridcolor\":\"white\",\"linecolor\":\"white\",\"ticks\":\"\"},\"caxis\":{\"gridcolor\":\"white\",\"linecolor\":\"white\",\"ticks\":\"\"}},\"coloraxis\":{\"colorbar\":{\"outlinewidth\":0,\"ticks\":\"\"}},\"colorscale\":{\"sequential\":[[0.0,\"#0d0887\"],[0.1111111111111111,\"#46039f\"],[0.2222222222222222,\"#7201a8\"],[0.3333333333333333,\"#9c179e\"],[0.4444444444444444,\"#bd3786\"],[0.5555555555555556,\"#d8576b\"],[0.6666666666666666,\"#ed7953\"],[0.7777777777777778,\"#fb9f3a\"],[0.8888888888888888,\"#fdca26\"],[1.0,\"#f0f921\"]],\"sequentialminus\":[[0.0,\"#0d0887\"],[0.1111111111111111,\"#46039f\"],[0.2222222222222222,\"#7201a8\"],[0.3333333333333333,\"#9c179e\"],[0.4444444444444444,\"#bd3786\"],[0.5555555555555556,\"#d8576b\"],[0.6666666666666666,\"#ed7953\"],[0.7777777777777778,\"#fb9f3a\"],[0.8888888888888888,\"#fdca26\"],[1.0,\"#f0f921\"]],\"diverging\":[[0,\"#8e0152\"],[0.1,\"#c51b7d\"],[0.2,\"#de77ae\"],[0.3,\"#f1b6da\"],[0.4,\"#fde0ef\"],[0.5,\"#f7f7f7\"],[0.6,\"#e6f5d0\"],[0.7,\"#b8e186\"],[0.8,\"#7fbc41\"],[0.9,\"#4d9221\"],[1,\"#276419\"]]},\"xaxis\":{\"gridcolor\":\"white\",\"linecolor\":\"white\",\"ticks\":\"\",\"title\":{\"standoff\":15},\"zerolinecolor\":\"white\",\"automargin\":true,\"zerolinewidth\":2},\"yaxis\":{\"gridcolor\":\"white\",\"linecolor\":\"white\",\"ticks\":\"\",\"title\":{\"standoff\":15},\"zerolinecolor\":\"white\",\"automargin\":true,\"zerolinewidth\":2},\"scene\":{\"xaxis\":{\"backgroundcolor\":\"#E5ECF6\",\"gridcolor\":\"white\",\"linecolor\":\"white\",\"showbackground\":true,\"ticks\":\"\",\"zerolinecolor\":\"white\",\"gridwidth\":2},\"yaxis\":{\"backgroundcolor\":\"#E5ECF6\",\"gridcolor\":\"white\",\"linecolor\":\"white\",\"showbackground\":true,\"ticks\":\"\",\"zerolinecolor\":\"white\",\"gridwidth\":2},\"zaxis\":{\"backgroundcolor\":\"#E5ECF6\",\"gridcolor\":\"white\",\"linecolor\":\"white\",\"showbackground\":true,\"ticks\":\"\",\"zerolinecolor\":\"white\",\"gridwidth\":2}},\"shapedefaults\":{\"line\":{\"color\":\"#2a3f5f\"}},\"annotationdefaults\":{\"arrowcolor\":\"#2a3f5f\",\"arrowhead\":0,\"arrowwidth\":1},\"geo\":{\"bgcolor\":\"white\",\"landcolor\":\"#E5ECF6\",\"subunitcolor\":\"white\",\"showland\":true,\"showlakes\":true,\"lakecolor\":\"white\"},\"title\":{\"x\":0.05},\"mapbox\":{\"style\":\"light\"}}},\"xaxis\":{\"anchor\":\"y\",\"domain\":[0.0,1.0],\"title\":{\"text\":\"slope\"}},\"yaxis\":{\"anchor\":\"x\",\"domain\":[0.0,1.0],\"title\":{\"text\":\"count\"}},\"legend\":{\"title\":{\"text\":\"dataset\"},\"tracegroupgap\":0},\"margin\":{\"t\":60},\"barmode\":\"group\"},                        {\"responsive\": true}                    ).then(function(){\n",
              "                            \n",
              "var gd = document.getElementById('4e9ed90b-e5b0-47a2-8a42-96c484ade54c');\n",
              "var x = new MutationObserver(function (mutations, observer) {{\n",
              "        var display = window.getComputedStyle(gd).display;\n",
              "        if (!display || display === 'none') {{\n",
              "            console.log([gd, 'removed!']);\n",
              "            Plotly.purge(gd);\n",
              "            observer.disconnect();\n",
              "        }}\n",
              "}});\n",
              "\n",
              "// Listen for the removal of the full notebook cells\n",
              "var notebookContainer = gd.closest('#notebook-container');\n",
              "if (notebookContainer) {{\n",
              "    x.observe(notebookContainer, {childList: true});\n",
              "}}\n",
              "\n",
              "// Listen for the clearing of the current output cell\n",
              "var outputEl = gd.closest('.output');\n",
              "if (outputEl) {{\n",
              "    x.observe(outputEl, {childList: true});\n",
              "}}\n",
              "\n",
              "                        })                };                            </script>        </div>\n",
              "</body>\n",
              "</html>"
            ]
          },
          "metadata": {}
        }
      ]
    },
    {
      "cell_type": "markdown",
      "source": [
        "### Ca Column"
      ],
      "metadata": {
        "id": "bjH_ujMTFABH"
      }
    },
    {
      "cell_type": "code",
      "source": [
        "df['ca'].describe()"
      ],
      "metadata": {
        "execution": {
          "iopub.status.busy": "2024-02-16T04:55:55.377412Z",
          "iopub.execute_input": "2024-02-16T04:55:55.377911Z",
          "iopub.status.idle": "2024-02-16T04:55:55.393349Z",
          "shell.execute_reply.started": "2024-02-16T04:55:55.377868Z",
          "shell.execute_reply": "2024-02-16T04:55:55.391866Z"
        },
        "trusted": true,
        "id": "piFUa0O9FABH",
        "outputId": "95cc8d02-b26f-4a2c-f8ea-be410d03b29f",
        "colab": {
          "base_uri": "https://localhost:8080/",
          "height": 355
        }
      },
      "execution_count": null,
      "outputs": [
        {
          "output_type": "execute_result",
          "data": {
            "text/plain": [
              "count    309.000000\n",
              "mean       0.676375\n",
              "std        0.935653\n",
              "min        0.000000\n",
              "25%        0.000000\n",
              "50%        0.000000\n",
              "75%        1.000000\n",
              "max        3.000000\n",
              "Name: ca, dtype: float64"
            ],
            "text/html": [
              "<div>\n",
              "<style scoped>\n",
              "    .dataframe tbody tr th:only-of-type {\n",
              "        vertical-align: middle;\n",
              "    }\n",
              "\n",
              "    .dataframe tbody tr th {\n",
              "        vertical-align: top;\n",
              "    }\n",
              "\n",
              "    .dataframe thead th {\n",
              "        text-align: right;\n",
              "    }\n",
              "</style>\n",
              "<table border=\"1\" class=\"dataframe\">\n",
              "  <thead>\n",
              "    <tr style=\"text-align: right;\">\n",
              "      <th></th>\n",
              "      <th>ca</th>\n",
              "    </tr>\n",
              "  </thead>\n",
              "  <tbody>\n",
              "    <tr>\n",
              "      <th>count</th>\n",
              "      <td>309.000000</td>\n",
              "    </tr>\n",
              "    <tr>\n",
              "      <th>mean</th>\n",
              "      <td>0.676375</td>\n",
              "    </tr>\n",
              "    <tr>\n",
              "      <th>std</th>\n",
              "      <td>0.935653</td>\n",
              "    </tr>\n",
              "    <tr>\n",
              "      <th>min</th>\n",
              "      <td>0.000000</td>\n",
              "    </tr>\n",
              "    <tr>\n",
              "      <th>25%</th>\n",
              "      <td>0.000000</td>\n",
              "    </tr>\n",
              "    <tr>\n",
              "      <th>50%</th>\n",
              "      <td>0.000000</td>\n",
              "    </tr>\n",
              "    <tr>\n",
              "      <th>75%</th>\n",
              "      <td>1.000000</td>\n",
              "    </tr>\n",
              "    <tr>\n",
              "      <th>max</th>\n",
              "      <td>3.000000</td>\n",
              "    </tr>\n",
              "  </tbody>\n",
              "</table>\n",
              "</div><br><label><b>dtype:</b> float64</label>"
            ]
          },
          "metadata": {},
          "execution_count": 33
        }
      ]
    },
    {
      "cell_type": "markdown",
      "source": [
        " ### Thal Column\n",
        "\n"
      ],
      "metadata": {
        "id": "TJJTrhxBFABI"
      }
    },
    {
      "cell_type": "code",
      "source": [
        "df['thal'].value_counts()"
      ],
      "metadata": {
        "execution": {
          "iopub.status.busy": "2024-02-16T04:55:55.39532Z",
          "iopub.execute_input": "2024-02-16T04:55:55.397232Z",
          "iopub.status.idle": "2024-02-16T04:55:55.40829Z",
          "shell.execute_reply.started": "2024-02-16T04:55:55.397172Z",
          "shell.execute_reply": "2024-02-16T04:55:55.40691Z"
        },
        "trusted": true,
        "id": "d-o7ZU4_FABI",
        "outputId": "aa2cb0af-dbca-415f-80bd-70f54c3729b1",
        "colab": {
          "base_uri": "https://localhost:8080/",
          "height": 229
        }
      },
      "execution_count": null,
      "outputs": [
        {
          "output_type": "execute_result",
          "data": {
            "text/plain": [
              "thal\n",
              "normal               196\n",
              "reversable defect    192\n",
              "fixed defect          46\n",
              "Name: count, dtype: int64"
            ],
            "text/html": [
              "<div>\n",
              "<style scoped>\n",
              "    .dataframe tbody tr th:only-of-type {\n",
              "        vertical-align: middle;\n",
              "    }\n",
              "\n",
              "    .dataframe tbody tr th {\n",
              "        vertical-align: top;\n",
              "    }\n",
              "\n",
              "    .dataframe thead th {\n",
              "        text-align: right;\n",
              "    }\n",
              "</style>\n",
              "<table border=\"1\" class=\"dataframe\">\n",
              "  <thead>\n",
              "    <tr style=\"text-align: right;\">\n",
              "      <th></th>\n",
              "      <th>count</th>\n",
              "    </tr>\n",
              "    <tr>\n",
              "      <th>thal</th>\n",
              "      <th></th>\n",
              "    </tr>\n",
              "  </thead>\n",
              "  <tbody>\n",
              "    <tr>\n",
              "      <th>normal</th>\n",
              "      <td>196</td>\n",
              "    </tr>\n",
              "    <tr>\n",
              "      <th>reversable defect</th>\n",
              "      <td>192</td>\n",
              "    </tr>\n",
              "    <tr>\n",
              "      <th>fixed defect</th>\n",
              "      <td>46</td>\n",
              "    </tr>\n",
              "  </tbody>\n",
              "</table>\n",
              "</div><br><label><b>dtype:</b> int64</label>"
            ]
          },
          "metadata": {},
          "execution_count": 34
        }
      ]
    },
    {
      "cell_type": "code",
      "source": [
        "# create a histrogram based on 'thal ' and 'sex' using Plotly\n",
        "fig = px.histogram(data_frame=df, x='thal', color='sex', barmode='group')\n",
        "fig.show()"
      ],
      "metadata": {
        "execution": {
          "iopub.status.busy": "2024-02-16T04:55:55.515173Z",
          "iopub.execute_input": "2024-02-16T04:55:55.516224Z",
          "iopub.status.idle": "2024-02-16T04:55:55.606986Z",
          "shell.execute_reply.started": "2024-02-16T04:55:55.516166Z",
          "shell.execute_reply": "2024-02-16T04:55:55.605584Z"
        },
        "trusted": true,
        "id": "VzEo7jFTFABI",
        "outputId": "8c240da9-3e96-4342-d6c5-ec851049d44c",
        "colab": {
          "base_uri": "https://localhost:8080/",
          "height": 562
        }
      },
      "execution_count": null,
      "outputs": [
        {
          "output_type": "display_data",
          "data": {
            "text/html": [
              "<html>\n",
              "<head><meta charset=\"utf-8\" /></head>\n",
              "<body>\n",
              "    <div>            <script src=\"https://cdnjs.cloudflare.com/ajax/libs/mathjax/2.7.5/MathJax.js?config=TeX-AMS-MML_SVG\"></script><script type=\"text/javascript\">if (window.MathJax && window.MathJax.Hub && window.MathJax.Hub.Config) {window.MathJax.Hub.Config({SVG: {font: \"STIX-Web\"}});}</script>                <script type=\"text/javascript\">window.PlotlyConfig = {MathJaxConfig: 'local'};</script>\n",
              "        <script charset=\"utf-8\" src=\"https://cdn.plot.ly/plotly-2.35.2.min.js\"></script>                <div id=\"d23d86ac-1947-4943-b9ba-ea6a244fec77\" class=\"plotly-graph-div\" style=\"height:525px; width:100%;\"></div>            <script type=\"text/javascript\">                                    window.PLOTLYENV=window.PLOTLYENV || {};                                    if (document.getElementById(\"d23d86ac-1947-4943-b9ba-ea6a244fec77\")) {                    Plotly.newPlot(                        \"d23d86ac-1947-4943-b9ba-ea6a244fec77\",                        [{\"alignmentgroup\":\"True\",\"bingroup\":\"x\",\"hovertemplate\":\"sex=Male\\u003cbr\\u003ethal=%{x}\\u003cbr\\u003ecount=%{y}\\u003cextra\\u003e\\u003c\\u002fextra\\u003e\",\"legendgroup\":\"Male\",\"marker\":{\"color\":\"#636efa\",\"pattern\":{\"shape\":\"\"}},\"name\":\"Male\",\"offsetgroup\":\"Male\",\"orientation\":\"v\",\"showlegend\":true,\"x\":[\"fixed defect\",\"normal\",\"reversable defect\",\"normal\",\"normal\",\"reversable defect\",\"reversable defect\",\"fixed defect\",\"fixed defect\",\"reversable defect\",\"reversable defect\",\"normal\",\"reversable defect\",\"normal\",\"normal\",\"normal\",\"normal\",\"reversable defect\",\"reversable defect\",\"normal\",\"reversable defect\",\"reversable defect\",\"normal\",\"reversable defect\",\"normal\",\"normal\",\"reversable defect\",\"fixed defect\",\"reversable defect\",\"normal\",\"reversable defect\",\"normal\",\"reversable defect\",\"normal\",\"reversable defect\",\"normal\",\"reversable defect\",\"normal\",\"normal\",\"reversable defect\",\"reversable defect\",\"reversable defect\",\"reversable defect\",\"normal\",\"normal\",\"reversable defect\",\"reversable defect\",\"reversable defect\",\"normal\",\"reversable defect\",\"reversable defect\",\"normal\",\"reversable defect\",\"reversable defect\",\"fixed defect\",\"normal\",\"reversable defect\",\"normal\",\"reversable defect\",\"normal\",\"normal\",\"reversable defect\",\"normal\",\"normal\",\"normal\",\"normal\",\"reversable defect\",\"reversable defect\",\"reversable defect\",\"normal\",\"normal\",\"normal\",\"normal\",\"reversable defect\",\"reversable defect\",\"reversable defect\",\"reversable defect\",\"reversable defect\",\"reversable defect\",\"normal\",\"fixed defect\",\"fixed defect\",\"normal\",\"reversable defect\",\"reversable defect\",\"reversable defect\",\"normal\",\"reversable defect\",\"normal\",\"reversable defect\",\"normal\",\"reversable defect\",\"reversable defect\",\"normal\",\"normal\",\"reversable defect\",\"reversable defect\",\"reversable defect\",\"normal\",\"normal\",\"reversable defect\",\"normal\",\"reversable defect\",\"reversable defect\",\"normal\",\"reversable defect\",\"normal\",\"normal\",\"reversable defect\",\"reversable defect\",\"normal\",\"normal\",\"reversable defect\",\"reversable defect\",\"reversable defect\",\"reversable defect\",\"reversable defect\",\"normal\",\"normal\",\"reversable defect\",\"normal\",\"reversable defect\",\"reversable defect\",\"reversable defect\",\"fixed defect\",\"reversable defect\",\"reversable defect\",\"fixed defect\",\"normal\",\"normal\",\"reversable defect\",\"normal\",\"reversable defect\",\"reversable defect\",\"fixed defect\",\"reversable defect\",\"reversable defect\",\"normal\",\"reversable defect\",\"reversable defect\",\"normal\",\"normal\",\"normal\",\"reversable defect\",\"reversable defect\",\"reversable defect\",\"reversable defect\",\"reversable defect\",\"normal\",\"reversable defect\",\"normal\",\"normal\",\"reversable defect\",\"normal\",\"reversable defect\",\"normal\",\"normal\",\"normal\",\"normal\",\"normal\",\"reversable defect\",\"reversable defect\",\"normal\",\"normal\",\"normal\",\"normal\",\"reversable defect\",\"normal\",\"reversable defect\",\"normal\",\"fixed defect\",\"reversable defect\",\"reversable defect\",\"normal\",\"normal\",\"reversable defect\",\"normal\",\"normal\",\"fixed defect\",null,\"fixed defect\",\"reversable defect\",\"normal\",\"reversable defect\",\"fixed defect\",\"reversable defect\",\"normal\",\"reversable defect\",\"normal\",\"reversable defect\",\"normal\",\"normal\",\"reversable defect\",\"fixed defect\",\"reversable defect\",\"reversable defect\",\"normal\",\"reversable defect\",\"fixed defect\",\"reversable defect\",\"normal\",\"fixed defect\",\"reversable defect\",\"reversable defect\",\"reversable defect\",\"normal\",null,null,null,null,null,null,null,null,null,null,null,\"normal\",null,null,null,null,\"normal\",null,null,null,null,null,null,null,null,null,null,null,null,null,null,null,null,null,null,null,null,null,null,null,null,null,null,null,null,null,null,null,null,null,null,null,null,null,null,\"normal\",\"normal\",null,null,null,null,null,null,null,\"fixed defect\",null,null,null,null,null,\"normal\",null,null,null,null,null,\"reversable defect\",null,null,null,null,null,null,null,null,null,null,null,null,null,null,null,null,null,null,null,\"reversable defect\",\"reversable defect\",null,null,null,null,null,null,null,\"fixed defect\",null,\"fixed defect\",null,null,null,null,null,\"normal\",null,null,null,null,null,null,null,null,null,null,null,null,null,\"fixed defect\",\"fixed defect\",null,null,null,\"reversable defect\",null,null,\"reversable defect\",null,null,null,null,null,null,null,null,null,null,null,\"fixed defect\",null,null,null,null,null,\"fixed defect\",null,null,null,null,null,null,null,null,\"reversable defect\",null,null,null,\"reversable defect\",null,null,null,null,null,null,null,null,null,null,\"reversable defect\",null,null,null,null,null,null,null,null,null,null,null,null,null,null,null,null,null,null,null,null,null,null,null,null,null,null,null,null,null,null,null,null,null,null,null,\"reversable defect\",\"fixed defect\",null,\"reversable defect\",\"normal\",\"normal\",null,null,null,null,null,\"reversable defect\",\"reversable defect\",null,null,\"reversable defect\",\"normal\",\"normal\",null,\"reversable defect\",\"fixed defect\",\"fixed defect\",\"fixed defect\",null,null,\"normal\",null,\"reversable defect\",\"normal\",null,\"reversable defect\",\"reversable defect\",\"reversable defect\",null,\"normal\",null,\"reversable defect\",\"reversable defect\",\"reversable defect\",null,\"reversable defect\",null,\"reversable defect\",\"reversable defect\",\"reversable defect\",null,null,\"reversable defect\",\"reversable defect\",\"reversable defect\",\"reversable defect\",\"normal\",null,\"reversable defect\",null,\"reversable defect\",null,null,null,\"fixed defect\",\"fixed defect\",\"reversable defect\",null,null,\"fixed defect\",\"normal\",null,\"fixed defect\",\"normal\",null,\"reversable defect\",null,null,null,\"reversable defect\",\"reversable defect\",null,\"normal\",null,null,\"reversable defect\",\"reversable defect\",null,\"reversable defect\",\"reversable defect\",\"reversable defect\",null,\"normal\",null,\"normal\",\"reversable defect\",null,null,null,null,\"reversable defect\",null,\"reversable defect\",\"fixed defect\",null,\"reversable defect\",\"reversable defect\",\"normal\",\"reversable defect\",null,\"fixed defect\",\"reversable defect\",\"reversable defect\",\"reversable defect\",null,null,null,null,null,null,null,null,null,null,null,null,null,null,\"normal\",null,null,null,null,null,null,\"reversable defect\",null,null,null,null,null,\"fixed defect\",null,null,\"reversable defect\",null,null,null,null,null,null,null,null,\"reversable defect\",null,null,null,\"reversable defect\",\"reversable defect\",null,null,\"reversable defect\",null,null,null,null,\"reversable defect\",\"reversable defect\",null,null,null,null,null,null,\"reversable defect\",null,null,null,null,null,null,null,\"reversable defect\",null,null,null,\"fixed defect\",null,null,null,\"reversable defect\",null,null,null,null,null,null,null,null,null,null,null,null,null,null,\"reversable defect\",null,null,null,null,null,null,null,null,\"fixed defect\",null,null,null,null,\"fixed defect\",\"reversable defect\",null,null,null,null,null,null,null,null,null,null,null,null,null,null,null,null,null,null,null,null,null,\"fixed defect\",null,null,null,null,null,null,null,\"fixed defect\",null,\"reversable defect\",null,null,null,null,null,null,null,null,null,null,null,null,null,null,null,null,null,null,null,null,null,null,null,\"reversable defect\",null,\"reversable defect\",null,null,null,\"reversable defect\",\"normal\",\"reversable defect\",null,null,null,null,\"fixed defect\",null,null,null,null,\"reversable defect\",\"reversable defect\",null,null,null,null,null,\"normal\",null,null,null,\"normal\",null,\"fixed defect\",null,null],\"xaxis\":\"x\",\"yaxis\":\"y\",\"type\":\"histogram\"},{\"alignmentgroup\":\"True\",\"bingroup\":\"x\",\"hovertemplate\":\"sex=Female\\u003cbr\\u003ethal=%{x}\\u003cbr\\u003ecount=%{y}\\u003cextra\\u003e\\u003c\\u002fextra\\u003e\",\"legendgroup\":\"Female\",\"marker\":{\"color\":\"#EF553B\",\"pattern\":{\"shape\":\"\"}},\"name\":\"Female\",\"offsetgroup\":\"Female\",\"orientation\":\"v\",\"showlegend\":true,\"x\":[\"normal\",\"normal\",\"normal\",\"normal\",\"normal\",\"normal\",\"normal\",\"normal\",\"normal\",\"normal\",\"reversable defect\",\"normal\",\"normal\",\"normal\",\"normal\",\"reversable defect\",\"normal\",\"normal\",\"normal\",\"normal\",\"normal\",\"normal\",null,\"normal\",\"normal\",\"reversable defect\",\"normal\",\"normal\",\"reversable defect\",\"normal\",\"normal\",\"reversable defect\",\"reversable defect\",\"reversable defect\",\"normal\",\"reversable defect\",\"normal\",\"reversable defect\",\"normal\",\"normal\",\"normal\",\"normal\",\"normal\",\"reversable defect\",\"normal\",\"normal\",\"normal\",\"normal\",\"normal\",\"normal\",\"reversable defect\",\"normal\",\"normal\",\"normal\",\"normal\",\"normal\",\"normal\",\"normal\",\"normal\",\"reversable defect\",\"normal\",\"normal\",\"reversable defect\",\"normal\",\"normal\",\"normal\",\"normal\",\"normal\",\"normal\",\"normal\",\"normal\",\"normal\",\"normal\",\"normal\",\"normal\",\"normal\",\"normal\",\"normal\",\"normal\",\"normal\",\"normal\",\"normal\",\"normal\",\"normal\",\"normal\",\"normal\",\"normal\",\"normal\",\"normal\",\"normal\",\"normal\",\"reversable defect\",\"fixed defect\",\"normal\",\"normal\",\"reversable defect\",\"normal\",\"fixed defect\",null,null,null,null,null,null,null,null,null,null,null,null,null,null,null,null,null,null,null,null,\"normal\",null,null,null,null,null,null,null,null,null,null,null,null,null,null,null,null,null,null,null,null,null,null,null,null,null,null,null,null,null,null,null,null,null,null,null,null,null,null,null,null,null,\"reversable defect\",null,null,null,null,null,null,null,\"reversable defect\",null,null,\"fixed defect\",null,null,null,\"fixed defect\",null,\"reversable defect\",null,\"normal\",\"normal\",null,\"normal\",null,\"normal\",null,\"reversable defect\",\"normal\",null,\"reversable defect\",null,\"reversable defect\",null,null],\"xaxis\":\"x\",\"yaxis\":\"y\",\"type\":\"histogram\"}],                        {\"template\":{\"data\":{\"histogram2dcontour\":[{\"type\":\"histogram2dcontour\",\"colorbar\":{\"outlinewidth\":0,\"ticks\":\"\"},\"colorscale\":[[0.0,\"#0d0887\"],[0.1111111111111111,\"#46039f\"],[0.2222222222222222,\"#7201a8\"],[0.3333333333333333,\"#9c179e\"],[0.4444444444444444,\"#bd3786\"],[0.5555555555555556,\"#d8576b\"],[0.6666666666666666,\"#ed7953\"],[0.7777777777777778,\"#fb9f3a\"],[0.8888888888888888,\"#fdca26\"],[1.0,\"#f0f921\"]]}],\"choropleth\":[{\"type\":\"choropleth\",\"colorbar\":{\"outlinewidth\":0,\"ticks\":\"\"}}],\"histogram2d\":[{\"type\":\"histogram2d\",\"colorbar\":{\"outlinewidth\":0,\"ticks\":\"\"},\"colorscale\":[[0.0,\"#0d0887\"],[0.1111111111111111,\"#46039f\"],[0.2222222222222222,\"#7201a8\"],[0.3333333333333333,\"#9c179e\"],[0.4444444444444444,\"#bd3786\"],[0.5555555555555556,\"#d8576b\"],[0.6666666666666666,\"#ed7953\"],[0.7777777777777778,\"#fb9f3a\"],[0.8888888888888888,\"#fdca26\"],[1.0,\"#f0f921\"]]}],\"heatmap\":[{\"type\":\"heatmap\",\"colorbar\":{\"outlinewidth\":0,\"ticks\":\"\"},\"colorscale\":[[0.0,\"#0d0887\"],[0.1111111111111111,\"#46039f\"],[0.2222222222222222,\"#7201a8\"],[0.3333333333333333,\"#9c179e\"],[0.4444444444444444,\"#bd3786\"],[0.5555555555555556,\"#d8576b\"],[0.6666666666666666,\"#ed7953\"],[0.7777777777777778,\"#fb9f3a\"],[0.8888888888888888,\"#fdca26\"],[1.0,\"#f0f921\"]]}],\"heatmapgl\":[{\"type\":\"heatmapgl\",\"colorbar\":{\"outlinewidth\":0,\"ticks\":\"\"},\"colorscale\":[[0.0,\"#0d0887\"],[0.1111111111111111,\"#46039f\"],[0.2222222222222222,\"#7201a8\"],[0.3333333333333333,\"#9c179e\"],[0.4444444444444444,\"#bd3786\"],[0.5555555555555556,\"#d8576b\"],[0.6666666666666666,\"#ed7953\"],[0.7777777777777778,\"#fb9f3a\"],[0.8888888888888888,\"#fdca26\"],[1.0,\"#f0f921\"]]}],\"contourcarpet\":[{\"type\":\"contourcarpet\",\"colorbar\":{\"outlinewidth\":0,\"ticks\":\"\"}}],\"contour\":[{\"type\":\"contour\",\"colorbar\":{\"outlinewidth\":0,\"ticks\":\"\"},\"colorscale\":[[0.0,\"#0d0887\"],[0.1111111111111111,\"#46039f\"],[0.2222222222222222,\"#7201a8\"],[0.3333333333333333,\"#9c179e\"],[0.4444444444444444,\"#bd3786\"],[0.5555555555555556,\"#d8576b\"],[0.6666666666666666,\"#ed7953\"],[0.7777777777777778,\"#fb9f3a\"],[0.8888888888888888,\"#fdca26\"],[1.0,\"#f0f921\"]]}],\"surface\":[{\"type\":\"surface\",\"colorbar\":{\"outlinewidth\":0,\"ticks\":\"\"},\"colorscale\":[[0.0,\"#0d0887\"],[0.1111111111111111,\"#46039f\"],[0.2222222222222222,\"#7201a8\"],[0.3333333333333333,\"#9c179e\"],[0.4444444444444444,\"#bd3786\"],[0.5555555555555556,\"#d8576b\"],[0.6666666666666666,\"#ed7953\"],[0.7777777777777778,\"#fb9f3a\"],[0.8888888888888888,\"#fdca26\"],[1.0,\"#f0f921\"]]}],\"mesh3d\":[{\"type\":\"mesh3d\",\"colorbar\":{\"outlinewidth\":0,\"ticks\":\"\"}}],\"scatter\":[{\"fillpattern\":{\"fillmode\":\"overlay\",\"size\":10,\"solidity\":0.2},\"type\":\"scatter\"}],\"parcoords\":[{\"type\":\"parcoords\",\"line\":{\"colorbar\":{\"outlinewidth\":0,\"ticks\":\"\"}}}],\"scatterpolargl\":[{\"type\":\"scatterpolargl\",\"marker\":{\"colorbar\":{\"outlinewidth\":0,\"ticks\":\"\"}}}],\"bar\":[{\"error_x\":{\"color\":\"#2a3f5f\"},\"error_y\":{\"color\":\"#2a3f5f\"},\"marker\":{\"line\":{\"color\":\"#E5ECF6\",\"width\":0.5},\"pattern\":{\"fillmode\":\"overlay\",\"size\":10,\"solidity\":0.2}},\"type\":\"bar\"}],\"scattergeo\":[{\"type\":\"scattergeo\",\"marker\":{\"colorbar\":{\"outlinewidth\":0,\"ticks\":\"\"}}}],\"scatterpolar\":[{\"type\":\"scatterpolar\",\"marker\":{\"colorbar\":{\"outlinewidth\":0,\"ticks\":\"\"}}}],\"histogram\":[{\"marker\":{\"pattern\":{\"fillmode\":\"overlay\",\"size\":10,\"solidity\":0.2}},\"type\":\"histogram\"}],\"scattergl\":[{\"type\":\"scattergl\",\"marker\":{\"colorbar\":{\"outlinewidth\":0,\"ticks\":\"\"}}}],\"scatter3d\":[{\"type\":\"scatter3d\",\"line\":{\"colorbar\":{\"outlinewidth\":0,\"ticks\":\"\"}},\"marker\":{\"colorbar\":{\"outlinewidth\":0,\"ticks\":\"\"}}}],\"scattermapbox\":[{\"type\":\"scattermapbox\",\"marker\":{\"colorbar\":{\"outlinewidth\":0,\"ticks\":\"\"}}}],\"scatterternary\":[{\"type\":\"scatterternary\",\"marker\":{\"colorbar\":{\"outlinewidth\":0,\"ticks\":\"\"}}}],\"scattercarpet\":[{\"type\":\"scattercarpet\",\"marker\":{\"colorbar\":{\"outlinewidth\":0,\"ticks\":\"\"}}}],\"carpet\":[{\"aaxis\":{\"endlinecolor\":\"#2a3f5f\",\"gridcolor\":\"white\",\"linecolor\":\"white\",\"minorgridcolor\":\"white\",\"startlinecolor\":\"#2a3f5f\"},\"baxis\":{\"endlinecolor\":\"#2a3f5f\",\"gridcolor\":\"white\",\"linecolor\":\"white\",\"minorgridcolor\":\"white\",\"startlinecolor\":\"#2a3f5f\"},\"type\":\"carpet\"}],\"table\":[{\"cells\":{\"fill\":{\"color\":\"#EBF0F8\"},\"line\":{\"color\":\"white\"}},\"header\":{\"fill\":{\"color\":\"#C8D4E3\"},\"line\":{\"color\":\"white\"}},\"type\":\"table\"}],\"barpolar\":[{\"marker\":{\"line\":{\"color\":\"#E5ECF6\",\"width\":0.5},\"pattern\":{\"fillmode\":\"overlay\",\"size\":10,\"solidity\":0.2}},\"type\":\"barpolar\"}],\"pie\":[{\"automargin\":true,\"type\":\"pie\"}]},\"layout\":{\"autotypenumbers\":\"strict\",\"colorway\":[\"#636efa\",\"#EF553B\",\"#00cc96\",\"#ab63fa\",\"#FFA15A\",\"#19d3f3\",\"#FF6692\",\"#B6E880\",\"#FF97FF\",\"#FECB52\"],\"font\":{\"color\":\"#2a3f5f\"},\"hovermode\":\"closest\",\"hoverlabel\":{\"align\":\"left\"},\"paper_bgcolor\":\"white\",\"plot_bgcolor\":\"#E5ECF6\",\"polar\":{\"bgcolor\":\"#E5ECF6\",\"angularaxis\":{\"gridcolor\":\"white\",\"linecolor\":\"white\",\"ticks\":\"\"},\"radialaxis\":{\"gridcolor\":\"white\",\"linecolor\":\"white\",\"ticks\":\"\"}},\"ternary\":{\"bgcolor\":\"#E5ECF6\",\"aaxis\":{\"gridcolor\":\"white\",\"linecolor\":\"white\",\"ticks\":\"\"},\"baxis\":{\"gridcolor\":\"white\",\"linecolor\":\"white\",\"ticks\":\"\"},\"caxis\":{\"gridcolor\":\"white\",\"linecolor\":\"white\",\"ticks\":\"\"}},\"coloraxis\":{\"colorbar\":{\"outlinewidth\":0,\"ticks\":\"\"}},\"colorscale\":{\"sequential\":[[0.0,\"#0d0887\"],[0.1111111111111111,\"#46039f\"],[0.2222222222222222,\"#7201a8\"],[0.3333333333333333,\"#9c179e\"],[0.4444444444444444,\"#bd3786\"],[0.5555555555555556,\"#d8576b\"],[0.6666666666666666,\"#ed7953\"],[0.7777777777777778,\"#fb9f3a\"],[0.8888888888888888,\"#fdca26\"],[1.0,\"#f0f921\"]],\"sequentialminus\":[[0.0,\"#0d0887\"],[0.1111111111111111,\"#46039f\"],[0.2222222222222222,\"#7201a8\"],[0.3333333333333333,\"#9c179e\"],[0.4444444444444444,\"#bd3786\"],[0.5555555555555556,\"#d8576b\"],[0.6666666666666666,\"#ed7953\"],[0.7777777777777778,\"#fb9f3a\"],[0.8888888888888888,\"#fdca26\"],[1.0,\"#f0f921\"]],\"diverging\":[[0,\"#8e0152\"],[0.1,\"#c51b7d\"],[0.2,\"#de77ae\"],[0.3,\"#f1b6da\"],[0.4,\"#fde0ef\"],[0.5,\"#f7f7f7\"],[0.6,\"#e6f5d0\"],[0.7,\"#b8e186\"],[0.8,\"#7fbc41\"],[0.9,\"#4d9221\"],[1,\"#276419\"]]},\"xaxis\":{\"gridcolor\":\"white\",\"linecolor\":\"white\",\"ticks\":\"\",\"title\":{\"standoff\":15},\"zerolinecolor\":\"white\",\"automargin\":true,\"zerolinewidth\":2},\"yaxis\":{\"gridcolor\":\"white\",\"linecolor\":\"white\",\"ticks\":\"\",\"title\":{\"standoff\":15},\"zerolinecolor\":\"white\",\"automargin\":true,\"zerolinewidth\":2},\"scene\":{\"xaxis\":{\"backgroundcolor\":\"#E5ECF6\",\"gridcolor\":\"white\",\"linecolor\":\"white\",\"showbackground\":true,\"ticks\":\"\",\"zerolinecolor\":\"white\",\"gridwidth\":2},\"yaxis\":{\"backgroundcolor\":\"#E5ECF6\",\"gridcolor\":\"white\",\"linecolor\":\"white\",\"showbackground\":true,\"ticks\":\"\",\"zerolinecolor\":\"white\",\"gridwidth\":2},\"zaxis\":{\"backgroundcolor\":\"#E5ECF6\",\"gridcolor\":\"white\",\"linecolor\":\"white\",\"showbackground\":true,\"ticks\":\"\",\"zerolinecolor\":\"white\",\"gridwidth\":2}},\"shapedefaults\":{\"line\":{\"color\":\"#2a3f5f\"}},\"annotationdefaults\":{\"arrowcolor\":\"#2a3f5f\",\"arrowhead\":0,\"arrowwidth\":1},\"geo\":{\"bgcolor\":\"white\",\"landcolor\":\"#E5ECF6\",\"subunitcolor\":\"white\",\"showland\":true,\"showlakes\":true,\"lakecolor\":\"white\"},\"title\":{\"x\":0.05},\"mapbox\":{\"style\":\"light\"}}},\"xaxis\":{\"anchor\":\"y\",\"domain\":[0.0,1.0],\"title\":{\"text\":\"thal\"}},\"yaxis\":{\"anchor\":\"x\",\"domain\":[0.0,1.0],\"title\":{\"text\":\"count\"}},\"legend\":{\"title\":{\"text\":\"sex\"},\"tracegroupgap\":0},\"margin\":{\"t\":60},\"barmode\":\"group\"},                        {\"responsive\": true}                    ).then(function(){\n",
              "                            \n",
              "var gd = document.getElementById('d23d86ac-1947-4943-b9ba-ea6a244fec77');\n",
              "var x = new MutationObserver(function (mutations, observer) {{\n",
              "        var display = window.getComputedStyle(gd).display;\n",
              "        if (!display || display === 'none') {{\n",
              "            console.log([gd, 'removed!']);\n",
              "            Plotly.purge(gd);\n",
              "            observer.disconnect();\n",
              "        }}\n",
              "}});\n",
              "\n",
              "// Listen for the removal of the full notebook cells\n",
              "var notebookContainer = gd.closest('#notebook-container');\n",
              "if (notebookContainer) {{\n",
              "    x.observe(notebookContainer, {childList: true});\n",
              "}}\n",
              "\n",
              "// Listen for the clearing of the current output cell\n",
              "var outputEl = gd.closest('.output');\n",
              "if (outputEl) {{\n",
              "    x.observe(outputEl, {childList: true});\n",
              "}}\n",
              "\n",
              "                        })                };                            </script>        </div>\n",
              "</body>\n",
              "</html>"
            ]
          },
          "metadata": {}
        }
      ]
    },
    {
      "cell_type": "code",
      "source": [
        "# create a histrogram based on 'thal ' and 'sex' using Plotly\n",
        "fig = px.histogram(data_frame=df, x='thal', color='dataset', barmode='group')\n",
        "fig.show()"
      ],
      "metadata": {
        "execution": {
          "iopub.status.busy": "2024-02-16T04:55:55.609545Z",
          "iopub.execute_input": "2024-02-16T04:55:55.610537Z",
          "iopub.status.idle": "2024-02-16T04:55:55.712689Z",
          "shell.execute_reply.started": "2024-02-16T04:55:55.610483Z",
          "shell.execute_reply": "2024-02-16T04:55:55.711004Z"
        },
        "trusted": true,
        "id": "W3y_RiyfFABI",
        "outputId": "2a606f51-ca3b-46a5-9c65-813ab9695a38",
        "colab": {
          "base_uri": "https://localhost:8080/",
          "height": 562
        }
      },
      "execution_count": null,
      "outputs": [
        {
          "output_type": "display_data",
          "data": {
            "text/html": [
              "<html>\n",
              "<head><meta charset=\"utf-8\" /></head>\n",
              "<body>\n",
              "    <div>            <script src=\"https://cdnjs.cloudflare.com/ajax/libs/mathjax/2.7.5/MathJax.js?config=TeX-AMS-MML_SVG\"></script><script type=\"text/javascript\">if (window.MathJax && window.MathJax.Hub && window.MathJax.Hub.Config) {window.MathJax.Hub.Config({SVG: {font: \"STIX-Web\"}});}</script>                <script type=\"text/javascript\">window.PlotlyConfig = {MathJaxConfig: 'local'};</script>\n",
              "        <script charset=\"utf-8\" src=\"https://cdn.plot.ly/plotly-2.35.2.min.js\"></script>                <div id=\"5bee8097-8207-4bc7-b925-d478d18fa4bb\" class=\"plotly-graph-div\" style=\"height:525px; width:100%;\"></div>            <script type=\"text/javascript\">                                    window.PLOTLYENV=window.PLOTLYENV || {};                                    if (document.getElementById(\"5bee8097-8207-4bc7-b925-d478d18fa4bb\")) {                    Plotly.newPlot(                        \"5bee8097-8207-4bc7-b925-d478d18fa4bb\",                        [{\"alignmentgroup\":\"True\",\"bingroup\":\"x\",\"hovertemplate\":\"dataset=Cleveland\\u003cbr\\u003ethal=%{x}\\u003cbr\\u003ecount=%{y}\\u003cextra\\u003e\\u003c\\u002fextra\\u003e\",\"legendgroup\":\"Cleveland\",\"marker\":{\"color\":\"#636efa\",\"pattern\":{\"shape\":\"\"}},\"name\":\"Cleveland\",\"offsetgroup\":\"Cleveland\",\"orientation\":\"v\",\"showlegend\":true,\"x\":[\"fixed defect\",\"normal\",\"reversable defect\",\"normal\",\"normal\",\"normal\",\"normal\",\"normal\",\"reversable defect\",\"reversable defect\",\"fixed defect\",\"normal\",\"fixed defect\",\"reversable defect\",\"reversable defect\",\"normal\",\"reversable defect\",\"normal\",\"normal\",\"normal\",\"normal\",\"normal\",\"normal\",\"reversable defect\",\"reversable defect\",\"normal\",\"normal\",\"normal\",\"normal\",\"reversable defect\",\"normal\",\"reversable defect\",\"normal\",\"reversable defect\",\"normal\",\"normal\",\"reversable defect\",\"fixed defect\",\"reversable defect\",\"normal\",\"reversable defect\",\"reversable defect\",\"normal\",\"normal\",\"normal\",\"reversable defect\",\"normal\",\"reversable defect\",\"normal\",\"normal\",\"normal\",\"reversable defect\",\"normal\",\"normal\",\"reversable defect\",\"reversable defect\",\"reversable defect\",\"reversable defect\",\"normal\",\"normal\",\"reversable defect\",\"normal\",\"reversable defect\",\"normal\",\"reversable defect\",\"reversable defect\",\"normal\",\"reversable defect\",\"reversable defect\",\"normal\",\"normal\",\"reversable defect\",\"reversable defect\",\"fixed defect\",\"normal\",\"normal\",\"reversable defect\",\"normal\",\"normal\",\"reversable defect\",\"normal\",\"normal\",\"normal\",\"reversable defect\",\"normal\",\"normal\",\"normal\",null,\"normal\",\"normal\",\"normal\",\"reversable defect\",\"reversable defect\",\"normal\",\"normal\",\"reversable defect\",\"reversable defect\",\"reversable defect\",\"normal\",\"normal\",\"normal\",\"normal\",\"normal\",\"normal\",\"reversable defect\",\"reversable defect\",\"reversable defect\",\"reversable defect\",\"reversable defect\",\"reversable defect\",\"reversable defect\",\"normal\",\"fixed defect\",\"reversable defect\",\"reversable defect\",\"fixed defect\",\"normal\",\"normal\",\"reversable defect\",\"reversable defect\",\"reversable defect\",\"reversable defect\",\"normal\",\"reversable defect\",\"normal\",\"normal\",\"reversable defect\",\"reversable defect\",\"normal\",\"normal\",\"reversable defect\",\"reversable defect\",\"normal\",\"normal\",\"normal\",\"normal\",\"reversable defect\",\"reversable defect\",\"reversable defect\",\"normal\",\"normal\",\"reversable defect\",\"normal\",\"reversable defect\",\"reversable defect\",\"normal\",\"reversable defect\",\"normal\",\"normal\",\"normal\",\"reversable defect\",\"normal\",\"reversable defect\",\"reversable defect\",\"normal\",\"normal\",\"reversable defect\",\"reversable defect\",\"reversable defect\",\"reversable defect\",\"reversable defect\",\"normal\",\"normal\",\"normal\",\"normal\",\"reversable defect\",\"normal\",\"normal\",\"reversable defect\",\"normal\",\"reversable defect\",\"reversable defect\",\"normal\",\"normal\",\"fixed defect\",\"reversable defect\",\"reversable defect\",\"fixed defect\",\"normal\",\"normal\",\"reversable defect\",\"reversable defect\",\"normal\",\"reversable defect\",\"normal\",\"normal\",\"reversable defect\",\"fixed defect\",\"reversable defect\",\"reversable defect\",\"normal\",\"reversable defect\",\"reversable defect\",\"normal\",\"normal\",\"normal\",\"normal\",\"normal\",\"normal\",\"normal\",\"normal\",\"normal\",\"reversable defect\",\"reversable defect\",\"reversable defect\",\"reversable defect\",\"reversable defect\",\"reversable defect\",\"normal\",\"normal\",\"normal\",\"reversable defect\",\"normal\",\"reversable defect\",\"normal\",\"reversable defect\",\"normal\",\"normal\",\"normal\",\"normal\",\"normal\",\"normal\",\"normal\",\"reversable defect\",\"normal\",\"normal\",\"normal\",\"normal\",\"normal\",\"normal\",\"normal\",\"normal\",\"normal\",\"normal\",\"normal\",\"normal\",\"reversable defect\",\"reversable defect\",\"normal\",\"normal\",\"normal\",\"normal\",\"normal\",\"normal\",\"normal\",\"normal\",\"reversable defect\",\"normal\",\"reversable defect\",\"normal\",\"fixed defect\",\"reversable defect\",\"reversable defect\",\"normal\",\"normal\",\"normal\",\"normal\",\"normal\",\"normal\",\"reversable defect\",\"normal\",\"normal\",\"normal\",\"normal\",\"normal\",\"fixed defect\",null,\"fixed defect\",\"reversable defect\",\"normal\",\"reversable defect\",\"fixed defect\",\"reversable defect\",\"normal\",\"normal\",\"reversable defect\",\"normal\",\"normal\",\"normal\",\"normal\",\"reversable defect\",\"normal\",\"reversable defect\",\"normal\",\"reversable defect\",\"fixed defect\",\"fixed defect\",\"reversable defect\",\"reversable defect\",\"normal\",\"reversable defect\",\"normal\",\"fixed defect\",\"reversable defect\",\"normal\",\"normal\",\"fixed defect\",\"reversable defect\",\"reversable defect\",\"reversable defect\",\"reversable defect\",\"normal\",\"normal\",null],\"xaxis\":\"x\",\"yaxis\":\"y\",\"type\":\"histogram\"},{\"alignmentgroup\":\"True\",\"bingroup\":\"x\",\"hovertemplate\":\"dataset=Hungary\\u003cbr\\u003ethal=%{x}\\u003cbr\\u003ecount=%{y}\\u003cextra\\u003e\\u003c\\u002fextra\\u003e\",\"legendgroup\":\"Hungary\",\"marker\":{\"color\":\"#EF553B\",\"pattern\":{\"shape\":\"\"}},\"name\":\"Hungary\",\"offsetgroup\":\"Hungary\",\"orientation\":\"v\",\"showlegend\":true,\"x\":[null,null,\"fixed defect\",null,null,null,null,null,null,null,null,null,null,null,null,null,\"normal\",null,null,null,null,null,null,null,\"normal\",null,null,null,null,null,null,null,null,null,null,null,null,null,null,null,null,null,null,null,null,null,null,null,null,null,null,null,null,null,null,null,null,null,null,null,null,null,null,null,\"normal\",null,null,null,null,null,null,null,null,null,null,null,null,null,null,null,null,\"normal\",\"normal\",null,null,null,null,null,null,null,null,null,null,null,null,null,null,null,null,\"fixed defect\",null,null,null,null,null,null,null,null,null,null,null,\"normal\",null,null,null,null,null,null,null,null,null,\"reversable defect\",null,null,null,null,null,null,null,null,null,null,null,null,null,null,null,null,null,null,null,null,null,null,null,null,null,null,null,null,null,null,null,null,null,null,null,null,\"reversable defect\",\"reversable defect\",null,null,null,null,null,\"reversable defect\",null,null,\"fixed defect\",null,null,null,\"fixed defect\",null,null,null,null,null,null,\"normal\",null,null,null,null,null,null,null,null,null,null,null,null,null,null,null,null,\"fixed defect\",\"fixed defect\",null,null,null,\"reversable defect\",null,null,\"reversable defect\",null,null,null,null,null,null,\"reversable defect\",null,null,null,null,null,null,null,\"fixed defect\",null,null,null,null,null,null,\"fixed defect\",\"fixed defect\",null,null,null,null,null,null,null,null,\"reversable defect\",null,null,null,\"reversable defect\",null,null,null,null,null,null,null,null,null,null,\"reversable defect\",null,null,null,null,null,null,null,null,null,null,null,null,null,null,null,null,null,null,null,null,null,null,null,null,null,null,null,null,\"fixed defect\",null,null,null,null,null,null,null,null,null,\"reversable defect\",null],\"xaxis\":\"x\",\"yaxis\":\"y\",\"type\":\"histogram\"},{\"alignmentgroup\":\"True\",\"bingroup\":\"x\",\"hovertemplate\":\"dataset=Switzerland\\u003cbr\\u003ethal=%{x}\\u003cbr\\u003ecount=%{y}\\u003cextra\\u003e\\u003c\\u002fextra\\u003e\",\"legendgroup\":\"Switzerland\",\"marker\":{\"color\":\"#00cc96\",\"pattern\":{\"shape\":\"\"}},\"name\":\"Switzerland\",\"offsetgroup\":\"Switzerland\",\"orientation\":\"v\",\"showlegend\":true,\"x\":[null,\"reversable defect\",\"fixed defect\",null,\"normal\",null,\"reversable defect\",\"normal\",\"normal\",null,null,null,null,null,\"reversable defect\",\"reversable defect\",null,null,\"reversable defect\",\"normal\",\"normal\",null,\"reversable defect\",\"fixed defect\",\"normal\",\"fixed defect\",\"fixed defect\",null,null,null,\"normal\",null,\"reversable defect\",\"normal\",null,\"reversable defect\",\"reversable defect\",\"reversable defect\",null,\"normal\",null,\"reversable defect\",\"reversable defect\",\"reversable defect\",null,\"reversable defect\",null,\"reversable defect\",\"reversable defect\",\"reversable defect\",null,null,\"reversable defect\",\"reversable defect\",\"reversable defect\",\"reversable defect\",\"normal\",null,\"reversable defect\",null,\"reversable defect\",null,null,null,\"fixed defect\",\"fixed defect\",\"reversable defect\",null,null,\"fixed defect\",\"normal\",null,\"fixed defect\",\"normal\",null,\"reversable defect\",null,null,null,\"reversable defect\",\"reversable defect\",null,\"normal\",null,null,\"reversable defect\",\"reversable defect\",null,\"reversable defect\",\"reversable defect\",\"reversable defect\",\"normal\",null,null,\"normal\",null,\"normal\",\"reversable defect\",null,null,null,null,\"reversable defect\",\"normal\",null,null,\"reversable defect\",\"fixed defect\",null,\"reversable defect\",\"reversable defect\",\"reversable defect\",\"normal\",\"reversable defect\",null,\"fixed defect\",\"reversable defect\",\"reversable defect\",\"reversable defect\",null,\"normal\",null],\"xaxis\":\"x\",\"yaxis\":\"y\",\"type\":\"histogram\"},{\"alignmentgroup\":\"True\",\"bingroup\":\"x\",\"hovertemplate\":\"dataset=VA Long Beach\\u003cbr\\u003ethal=%{x}\\u003cbr\\u003ecount=%{y}\\u003cextra\\u003e\\u003c\\u002fextra\\u003e\",\"legendgroup\":\"VA Long Beach\",\"marker\":{\"color\":\"#ab63fa\",\"pattern\":{\"shape\":\"\"}},\"name\":\"VA Long Beach\",\"offsetgroup\":\"VA Long Beach\",\"orientation\":\"v\",\"showlegend\":true,\"x\":[null,null,null,null,null,null,null,null,null,null,null,null,\"normal\",null,null,null,null,null,null,\"reversable defect\",null,null,null,null,null,\"fixed defect\",null,null,\"reversable defect\",null,null,null,null,null,null,null,null,\"reversable defect\",null,null,null,\"reversable defect\",\"reversable defect\",null,null,\"reversable defect\",null,null,null,null,\"reversable defect\",null,\"reversable defect\",null,null,null,null,null,null,\"reversable defect\",null,null,null,null,null,null,null,\"reversable defect\",null,null,null,\"fixed defect\",null,null,null,\"reversable defect\",null,null,null,\"reversable defect\",null,null,null,null,null,null,null,null,null,null,null,\"reversable defect\",null,null,null,null,null,null,null,null,\"fixed defect\",null,null,null,null,\"fixed defect\",\"reversable defect\",null,null,null,null,null,null,null,null,null,null,null,null,null,null,null,null,null,null,null,null,null,\"reversable defect\",null,\"fixed defect\",null,null,null,null,null,null,null,\"fixed defect\",null,\"reversable defect\",null,null,null,null,null,null,null,null,null,null,null,null,null,null,null,null,null,null,null,null,null,null,null,\"reversable defect\",null,\"reversable defect\",null,null,null,\"reversable defect\",\"normal\",\"reversable defect\",null,null,null,null,\"fixed defect\",null,null,null,null,\"reversable defect\",\"reversable defect\",null,null,null,null,null,\"normal\",null,null,null,null,\"normal\",null,null,\"fixed defect\",null,null],\"xaxis\":\"x\",\"yaxis\":\"y\",\"type\":\"histogram\"}],                        {\"template\":{\"data\":{\"histogram2dcontour\":[{\"type\":\"histogram2dcontour\",\"colorbar\":{\"outlinewidth\":0,\"ticks\":\"\"},\"colorscale\":[[0.0,\"#0d0887\"],[0.1111111111111111,\"#46039f\"],[0.2222222222222222,\"#7201a8\"],[0.3333333333333333,\"#9c179e\"],[0.4444444444444444,\"#bd3786\"],[0.5555555555555556,\"#d8576b\"],[0.6666666666666666,\"#ed7953\"],[0.7777777777777778,\"#fb9f3a\"],[0.8888888888888888,\"#fdca26\"],[1.0,\"#f0f921\"]]}],\"choropleth\":[{\"type\":\"choropleth\",\"colorbar\":{\"outlinewidth\":0,\"ticks\":\"\"}}],\"histogram2d\":[{\"type\":\"histogram2d\",\"colorbar\":{\"outlinewidth\":0,\"ticks\":\"\"},\"colorscale\":[[0.0,\"#0d0887\"],[0.1111111111111111,\"#46039f\"],[0.2222222222222222,\"#7201a8\"],[0.3333333333333333,\"#9c179e\"],[0.4444444444444444,\"#bd3786\"],[0.5555555555555556,\"#d8576b\"],[0.6666666666666666,\"#ed7953\"],[0.7777777777777778,\"#fb9f3a\"],[0.8888888888888888,\"#fdca26\"],[1.0,\"#f0f921\"]]}],\"heatmap\":[{\"type\":\"heatmap\",\"colorbar\":{\"outlinewidth\":0,\"ticks\":\"\"},\"colorscale\":[[0.0,\"#0d0887\"],[0.1111111111111111,\"#46039f\"],[0.2222222222222222,\"#7201a8\"],[0.3333333333333333,\"#9c179e\"],[0.4444444444444444,\"#bd3786\"],[0.5555555555555556,\"#d8576b\"],[0.6666666666666666,\"#ed7953\"],[0.7777777777777778,\"#fb9f3a\"],[0.8888888888888888,\"#fdca26\"],[1.0,\"#f0f921\"]]}],\"heatmapgl\":[{\"type\":\"heatmapgl\",\"colorbar\":{\"outlinewidth\":0,\"ticks\":\"\"},\"colorscale\":[[0.0,\"#0d0887\"],[0.1111111111111111,\"#46039f\"],[0.2222222222222222,\"#7201a8\"],[0.3333333333333333,\"#9c179e\"],[0.4444444444444444,\"#bd3786\"],[0.5555555555555556,\"#d8576b\"],[0.6666666666666666,\"#ed7953\"],[0.7777777777777778,\"#fb9f3a\"],[0.8888888888888888,\"#fdca26\"],[1.0,\"#f0f921\"]]}],\"contourcarpet\":[{\"type\":\"contourcarpet\",\"colorbar\":{\"outlinewidth\":0,\"ticks\":\"\"}}],\"contour\":[{\"type\":\"contour\",\"colorbar\":{\"outlinewidth\":0,\"ticks\":\"\"},\"colorscale\":[[0.0,\"#0d0887\"],[0.1111111111111111,\"#46039f\"],[0.2222222222222222,\"#7201a8\"],[0.3333333333333333,\"#9c179e\"],[0.4444444444444444,\"#bd3786\"],[0.5555555555555556,\"#d8576b\"],[0.6666666666666666,\"#ed7953\"],[0.7777777777777778,\"#fb9f3a\"],[0.8888888888888888,\"#fdca26\"],[1.0,\"#f0f921\"]]}],\"surface\":[{\"type\":\"surface\",\"colorbar\":{\"outlinewidth\":0,\"ticks\":\"\"},\"colorscale\":[[0.0,\"#0d0887\"],[0.1111111111111111,\"#46039f\"],[0.2222222222222222,\"#7201a8\"],[0.3333333333333333,\"#9c179e\"],[0.4444444444444444,\"#bd3786\"],[0.5555555555555556,\"#d8576b\"],[0.6666666666666666,\"#ed7953\"],[0.7777777777777778,\"#fb9f3a\"],[0.8888888888888888,\"#fdca26\"],[1.0,\"#f0f921\"]]}],\"mesh3d\":[{\"type\":\"mesh3d\",\"colorbar\":{\"outlinewidth\":0,\"ticks\":\"\"}}],\"scatter\":[{\"fillpattern\":{\"fillmode\":\"overlay\",\"size\":10,\"solidity\":0.2},\"type\":\"scatter\"}],\"parcoords\":[{\"type\":\"parcoords\",\"line\":{\"colorbar\":{\"outlinewidth\":0,\"ticks\":\"\"}}}],\"scatterpolargl\":[{\"type\":\"scatterpolargl\",\"marker\":{\"colorbar\":{\"outlinewidth\":0,\"ticks\":\"\"}}}],\"bar\":[{\"error_x\":{\"color\":\"#2a3f5f\"},\"error_y\":{\"color\":\"#2a3f5f\"},\"marker\":{\"line\":{\"color\":\"#E5ECF6\",\"width\":0.5},\"pattern\":{\"fillmode\":\"overlay\",\"size\":10,\"solidity\":0.2}},\"type\":\"bar\"}],\"scattergeo\":[{\"type\":\"scattergeo\",\"marker\":{\"colorbar\":{\"outlinewidth\":0,\"ticks\":\"\"}}}],\"scatterpolar\":[{\"type\":\"scatterpolar\",\"marker\":{\"colorbar\":{\"outlinewidth\":0,\"ticks\":\"\"}}}],\"histogram\":[{\"marker\":{\"pattern\":{\"fillmode\":\"overlay\",\"size\":10,\"solidity\":0.2}},\"type\":\"histogram\"}],\"scattergl\":[{\"type\":\"scattergl\",\"marker\":{\"colorbar\":{\"outlinewidth\":0,\"ticks\":\"\"}}}],\"scatter3d\":[{\"type\":\"scatter3d\",\"line\":{\"colorbar\":{\"outlinewidth\":0,\"ticks\":\"\"}},\"marker\":{\"colorbar\":{\"outlinewidth\":0,\"ticks\":\"\"}}}],\"scattermapbox\":[{\"type\":\"scattermapbox\",\"marker\":{\"colorbar\":{\"outlinewidth\":0,\"ticks\":\"\"}}}],\"scatterternary\":[{\"type\":\"scatterternary\",\"marker\":{\"colorbar\":{\"outlinewidth\":0,\"ticks\":\"\"}}}],\"scattercarpet\":[{\"type\":\"scattercarpet\",\"marker\":{\"colorbar\":{\"outlinewidth\":0,\"ticks\":\"\"}}}],\"carpet\":[{\"aaxis\":{\"endlinecolor\":\"#2a3f5f\",\"gridcolor\":\"white\",\"linecolor\":\"white\",\"minorgridcolor\":\"white\",\"startlinecolor\":\"#2a3f5f\"},\"baxis\":{\"endlinecolor\":\"#2a3f5f\",\"gridcolor\":\"white\",\"linecolor\":\"white\",\"minorgridcolor\":\"white\",\"startlinecolor\":\"#2a3f5f\"},\"type\":\"carpet\"}],\"table\":[{\"cells\":{\"fill\":{\"color\":\"#EBF0F8\"},\"line\":{\"color\":\"white\"}},\"header\":{\"fill\":{\"color\":\"#C8D4E3\"},\"line\":{\"color\":\"white\"}},\"type\":\"table\"}],\"barpolar\":[{\"marker\":{\"line\":{\"color\":\"#E5ECF6\",\"width\":0.5},\"pattern\":{\"fillmode\":\"overlay\",\"size\":10,\"solidity\":0.2}},\"type\":\"barpolar\"}],\"pie\":[{\"automargin\":true,\"type\":\"pie\"}]},\"layout\":{\"autotypenumbers\":\"strict\",\"colorway\":[\"#636efa\",\"#EF553B\",\"#00cc96\",\"#ab63fa\",\"#FFA15A\",\"#19d3f3\",\"#FF6692\",\"#B6E880\",\"#FF97FF\",\"#FECB52\"],\"font\":{\"color\":\"#2a3f5f\"},\"hovermode\":\"closest\",\"hoverlabel\":{\"align\":\"left\"},\"paper_bgcolor\":\"white\",\"plot_bgcolor\":\"#E5ECF6\",\"polar\":{\"bgcolor\":\"#E5ECF6\",\"angularaxis\":{\"gridcolor\":\"white\",\"linecolor\":\"white\",\"ticks\":\"\"},\"radialaxis\":{\"gridcolor\":\"white\",\"linecolor\":\"white\",\"ticks\":\"\"}},\"ternary\":{\"bgcolor\":\"#E5ECF6\",\"aaxis\":{\"gridcolor\":\"white\",\"linecolor\":\"white\",\"ticks\":\"\"},\"baxis\":{\"gridcolor\":\"white\",\"linecolor\":\"white\",\"ticks\":\"\"},\"caxis\":{\"gridcolor\":\"white\",\"linecolor\":\"white\",\"ticks\":\"\"}},\"coloraxis\":{\"colorbar\":{\"outlinewidth\":0,\"ticks\":\"\"}},\"colorscale\":{\"sequential\":[[0.0,\"#0d0887\"],[0.1111111111111111,\"#46039f\"],[0.2222222222222222,\"#7201a8\"],[0.3333333333333333,\"#9c179e\"],[0.4444444444444444,\"#bd3786\"],[0.5555555555555556,\"#d8576b\"],[0.6666666666666666,\"#ed7953\"],[0.7777777777777778,\"#fb9f3a\"],[0.8888888888888888,\"#fdca26\"],[1.0,\"#f0f921\"]],\"sequentialminus\":[[0.0,\"#0d0887\"],[0.1111111111111111,\"#46039f\"],[0.2222222222222222,\"#7201a8\"],[0.3333333333333333,\"#9c179e\"],[0.4444444444444444,\"#bd3786\"],[0.5555555555555556,\"#d8576b\"],[0.6666666666666666,\"#ed7953\"],[0.7777777777777778,\"#fb9f3a\"],[0.8888888888888888,\"#fdca26\"],[1.0,\"#f0f921\"]],\"diverging\":[[0,\"#8e0152\"],[0.1,\"#c51b7d\"],[0.2,\"#de77ae\"],[0.3,\"#f1b6da\"],[0.4,\"#fde0ef\"],[0.5,\"#f7f7f7\"],[0.6,\"#e6f5d0\"],[0.7,\"#b8e186\"],[0.8,\"#7fbc41\"],[0.9,\"#4d9221\"],[1,\"#276419\"]]},\"xaxis\":{\"gridcolor\":\"white\",\"linecolor\":\"white\",\"ticks\":\"\",\"title\":{\"standoff\":15},\"zerolinecolor\":\"white\",\"automargin\":true,\"zerolinewidth\":2},\"yaxis\":{\"gridcolor\":\"white\",\"linecolor\":\"white\",\"ticks\":\"\",\"title\":{\"standoff\":15},\"zerolinecolor\":\"white\",\"automargin\":true,\"zerolinewidth\":2},\"scene\":{\"xaxis\":{\"backgroundcolor\":\"#E5ECF6\",\"gridcolor\":\"white\",\"linecolor\":\"white\",\"showbackground\":true,\"ticks\":\"\",\"zerolinecolor\":\"white\",\"gridwidth\":2},\"yaxis\":{\"backgroundcolor\":\"#E5ECF6\",\"gridcolor\":\"white\",\"linecolor\":\"white\",\"showbackground\":true,\"ticks\":\"\",\"zerolinecolor\":\"white\",\"gridwidth\":2},\"zaxis\":{\"backgroundcolor\":\"#E5ECF6\",\"gridcolor\":\"white\",\"linecolor\":\"white\",\"showbackground\":true,\"ticks\":\"\",\"zerolinecolor\":\"white\",\"gridwidth\":2}},\"shapedefaults\":{\"line\":{\"color\":\"#2a3f5f\"}},\"annotationdefaults\":{\"arrowcolor\":\"#2a3f5f\",\"arrowhead\":0,\"arrowwidth\":1},\"geo\":{\"bgcolor\":\"white\",\"landcolor\":\"#E5ECF6\",\"subunitcolor\":\"white\",\"showland\":true,\"showlakes\":true,\"lakecolor\":\"white\"},\"title\":{\"x\":0.05},\"mapbox\":{\"style\":\"light\"}}},\"xaxis\":{\"anchor\":\"y\",\"domain\":[0.0,1.0],\"title\":{\"text\":\"thal\"}},\"yaxis\":{\"anchor\":\"x\",\"domain\":[0.0,1.0],\"title\":{\"text\":\"count\"}},\"legend\":{\"title\":{\"text\":\"dataset\"},\"tracegroupgap\":0},\"margin\":{\"t\":60},\"barmode\":\"group\"},                        {\"responsive\": true}                    ).then(function(){\n",
              "                            \n",
              "var gd = document.getElementById('5bee8097-8207-4bc7-b925-d478d18fa4bb');\n",
              "var x = new MutationObserver(function (mutations, observer) {{\n",
              "        var display = window.getComputedStyle(gd).display;\n",
              "        if (!display || display === 'none') {{\n",
              "            console.log([gd, 'removed!']);\n",
              "            Plotly.purge(gd);\n",
              "            observer.disconnect();\n",
              "        }}\n",
              "}});\n",
              "\n",
              "// Listen for the removal of the full notebook cells\n",
              "var notebookContainer = gd.closest('#notebook-container');\n",
              "if (notebookContainer) {{\n",
              "    x.observe(notebookContainer, {childList: true});\n",
              "}}\n",
              "\n",
              "// Listen for the clearing of the current output cell\n",
              "var outputEl = gd.closest('.output');\n",
              "if (outputEl) {{\n",
              "    x.observe(outputEl, {childList: true});\n",
              "}}\n",
              "\n",
              "                        })                };                            </script>        </div>\n",
              "</body>\n",
              "</html>"
            ]
          },
          "metadata": {}
        }
      ]
    },
    {
      "cell_type": "markdown",
      "source": [
        "### Num Column\n"
      ],
      "metadata": {
        "id": "9Lm1Pve2FABI"
      }
    },
    {
      "cell_type": "code",
      "source": [
        "# unique values in num\n",
        "print(df['num'].unique())\n",
        "# check value count\n",
        "print(df['num'].value_counts())"
      ],
      "metadata": {
        "execution": {
          "iopub.status.busy": "2024-02-16T04:55:55.714159Z",
          "iopub.execute_input": "2024-02-16T04:55:55.714562Z",
          "iopub.status.idle": "2024-02-16T04:55:55.724072Z",
          "shell.execute_reply.started": "2024-02-16T04:55:55.714529Z",
          "shell.execute_reply": "2024-02-16T04:55:55.722689Z"
        },
        "trusted": true,
        "id": "GNKwMjXJFABJ",
        "outputId": "53aebe35-89ed-474f-9ad5-d760f7bf37d6",
        "colab": {
          "base_uri": "https://localhost:8080/"
        }
      },
      "execution_count": null,
      "outputs": [
        {
          "output_type": "stream",
          "name": "stdout",
          "text": [
            "[0 2 1 3 4]\n",
            "num\n",
            "0    411\n",
            "1    263\n",
            "2    109\n",
            "3    107\n",
            "4     28\n",
            "Name: count, dtype: int64\n"
          ]
        }
      ]
    },
    {
      "cell_type": "markdown",
      "source": [
        "# Missing Values"
      ],
      "metadata": {
        "id": "Q-xXT7sGFABJ"
      }
    },
    {
      "cell_type": "markdown",
      "source": [
        "### Explore Missing Values"
      ],
      "metadata": {
        "id": "BHOe4yijFABJ"
      }
    },
    {
      "cell_type": "code",
      "source": [
        "# check null values\n",
        "null_values=df.isnull().sum().sort_values(ascending=False)\n",
        "print(\"null_values:\\n\",null_values)"
      ],
      "metadata": {
        "execution": {
          "iopub.status.busy": "2024-02-16T04:55:55.727243Z",
          "iopub.execute_input": "2024-02-16T04:55:55.727652Z",
          "iopub.status.idle": "2024-02-16T04:55:55.743097Z",
          "shell.execute_reply.started": "2024-02-16T04:55:55.727621Z",
          "shell.execute_reply": "2024-02-16T04:55:55.741707Z"
        },
        "trusted": true,
        "id": "GCf8EGi6FABJ",
        "outputId": "30be6330-9e30-41df-98e7-c232dc2ca8e7",
        "colab": {
          "base_uri": "https://localhost:8080/"
        }
      },
      "execution_count": null,
      "outputs": [
        {
          "output_type": "stream",
          "name": "stdout",
          "text": [
            "null_values:\n",
            " ca          609\n",
            "thal        484\n",
            "slope       308\n",
            "fbs          89\n",
            "oldpeak      62\n",
            "trestbps     59\n",
            "thalch       55\n",
            "exang        55\n",
            "chol         30\n",
            "age           0\n",
            "sex           0\n",
            "dataset       0\n",
            "cp            0\n",
            "restecg       0\n",
            "num           0\n",
            "dtype: int64\n"
          ]
        }
      ]
    },
    {
      "cell_type": "markdown",
      "source": [
        "### HeatMap"
      ],
      "metadata": {
        "id": "f5SENTItFABJ"
      }
    },
    {
      "cell_type": "code",
      "source": [
        "# Assuming df is your DataFrame\n",
        "plt.figure( figsize=(10, 6))\n",
        "sns.heatmap(df.isnull(), cbar=False)"
      ],
      "metadata": {
        "execution": {
          "iopub.status.busy": "2024-02-16T04:55:55.745208Z",
          "iopub.execute_input": "2024-02-16T04:55:55.745759Z",
          "iopub.status.idle": "2024-02-16T04:55:56.314885Z",
          "shell.execute_reply.started": "2024-02-16T04:55:55.745707Z",
          "shell.execute_reply": "2024-02-16T04:55:56.313682Z"
        },
        "trusted": true,
        "id": "ZnNcK-zPFABJ",
        "outputId": "649770e0-7848-4a80-b2b4-c0bf79307511",
        "colab": {
          "base_uri": "https://localhost:8080/",
          "height": 566
        }
      },
      "execution_count": null,
      "outputs": [
        {
          "output_type": "execute_result",
          "data": {
            "text/plain": [
              "<Axes: >"
            ]
          },
          "metadata": {},
          "execution_count": 39
        },
        {
          "output_type": "display_data",
          "data": {
            "text/plain": [
              "<Figure size 1000x600 with 1 Axes>"
            ],
            "image/png": "[encoded data removed]"
          },
          "metadata": {}
        }
      ]
    },
    {
      "cell_type": "markdown",
      "source": [
        "### Percentage of Null Values"
      ],
      "metadata": {
        "id": "ebn_cckAFABJ"
      }
    },
    {
      "cell_type": "code",
      "source": [
        "# calculate the percentage of null values in each column\n",
        "null_percentage = (df.isnull().sum().sort_values(ascending=False) / len(df)) * 100\n",
        "\n",
        "# round the percentage to 2 decimal places\n",
        "null_percentage = null_percentage.round(2)\n",
        "\n",
        "# print the percentage of null values\n",
        "print(\"Percentage of null values:\\n\", null_percentage)"
      ],
      "metadata": {
        "execution": {
          "iopub.status.busy": "2024-02-16T04:55:56.316676Z",
          "iopub.execute_input": "2024-02-16T04:55:56.317339Z",
          "iopub.status.idle": "2024-02-16T04:55:56.328432Z",
          "shell.execute_reply.started": "2024-02-16T04:55:56.317301Z",
          "shell.execute_reply": "2024-02-16T04:55:56.327424Z"
        },
        "trusted": true,
        "id": "Z0fqd8TbFABJ",
        "outputId": "19f3ab62-7f79-4f2e-9e86-cb07dae6df06",
        "colab": {
          "base_uri": "https://localhost:8080/"
        }
      },
      "execution_count": null,
      "outputs": [
        {
          "output_type": "stream",
          "name": "stdout",
          "text": [
            "Percentage of null values:\n",
            " ca          66.34\n",
            "thal        52.72\n",
            "slope       33.55\n",
            "fbs          9.69\n",
            "oldpeak      6.75\n",
            "trestbps     6.43\n",
            "thalch       5.99\n",
            "exang        5.99\n",
            "chol         3.27\n",
            "age          0.00\n",
            "sex          0.00\n",
            "dataset      0.00\n",
            "cp           0.00\n",
            "restecg      0.00\n",
            "num          0.00\n",
            "dtype: float64\n"
          ]
        }
      ]
    },
    {
      "cell_type": "markdown",
      "source": [
        "### Columns of Missing Values\n"
      ],
      "metadata": {
        "id": "7QlrIqZ7FABJ"
      }
    },
    {
      "cell_type": "code",
      "source": [
        "# print missing data columns\n",
        "df.isnull().sum()[df.isnull().sum() > 0].sort_values(ascending=False)\n",
        "missing_data_cols = df.isnull().sum()[df.isnull().sum() > 0].index.tolist()\n",
        "print(\"missing_data_cols\",missing_data_cols)\n",
        "print(\"----------------------------------------------\")\n",
        "#  print  numerical columns who have missing values\n",
        "numerical_columns = df.select_dtypes(include='number').columns\n",
        "missing_numerical_columns = df[numerical_columns].isnull().sum()\n",
        "missing_numerical_columns = missing_numerical_columns[missing_numerical_columns > 0]\n",
        "print(\"Numerical columns with missing values:\")\n",
        "for column in missing_numerical_columns.index:\n",
        "    print(column)\n",
        "print(\"----------------------------------------------\")\n",
        "# Print categorical columns who have missing values\n",
        "categorical_columns = df.select_dtypes(include='object').columns\n",
        "missing_categorical_columns = df[categorical_columns].isnull().sum()\n",
        "missing_categorical_columns = missing_categorical_columns[missing_categorical_columns > 0]\n",
        "print(\"Categorical columns with missing values:\")\n",
        "for column in missing_categorical_columns.index:\n",
        "    print(column)\n"
      ],
      "metadata": {
        "execution": {
          "iopub.status.busy": "2024-02-16T04:55:56.329884Z",
          "iopub.execute_input": "2024-02-16T04:55:56.330265Z",
          "iopub.status.idle": "2024-02-16T04:55:56.357174Z",
          "shell.execute_reply.started": "2024-02-16T04:55:56.330231Z",
          "shell.execute_reply": "2024-02-16T04:55:56.355887Z"
        },
        "trusted": true,
        "id": "kLyTS700FABK",
        "outputId": "ed35f3ed-8a20-4789-bf63-fd8b77b8f165",
        "colab": {
          "base_uri": "https://localhost:8080/"
        }
      },
      "execution_count": null,
      "outputs": [
        {
          "output_type": "stream",
          "name": "stdout",
          "text": [
            "missing_data_cols ['trestbps', 'chol', 'fbs', 'thalch', 'exang', 'oldpeak', 'slope', 'ca', 'thal']\n",
            "----------------------------------------------\n",
            "Numerical columns with missing values:\n",
            "trestbps\n",
            "chol\n",
            "thalch\n",
            "oldpeak\n",
            "ca\n",
            "----------------------------------------------\n",
            "Categorical columns with missing values:\n",
            "fbs\n",
            "exang\n",
            "slope\n",
            "thal\n"
          ]
        }
      ]
    },
    {
      "cell_type": "markdown",
      "source": [
        "### Impute Missing Values with Machine Learning"
      ],
      "metadata": {
        "id": "Yf0W4MiwFABK"
      }
    },
    {
      "cell_type": "code",
      "source": [
        "categorical_cols = ['slope', 'exang', 'restecg','fbs', 'cp', 'sex', 'num','thal']\n",
        "bool_cols = ['fbs', 'exang']\n",
        "numeric_cols = ['oldpeak', 'thalch', 'chol', 'trestbps', 'age','ca']"
      ],
      "metadata": {
        "execution": {
          "iopub.status.busy": "2024-02-16T04:55:56.359176Z",
          "iopub.execute_input": "2024-02-16T04:55:56.360218Z",
          "iopub.status.idle": "2024-02-16T04:55:56.368103Z",
          "shell.execute_reply.started": "2024-02-16T04:55:56.360164Z",
          "shell.execute_reply": "2024-02-16T04:55:56.366746Z"
        },
        "trusted": true,
        "id": "4SzmSAA2FABK"
      },
      "execution_count": null,
      "outputs": []
    },
    {
      "cell_type": "code",
      "source": [
        "# define the function to impute the missing values\n",
        "\n",
        "def impute_categorical_missing_data(passed_col):\n",
        "\n",
        "    df_null = df[df[passed_col].isnull()]\n",
        "    df_not_null = df[df[passed_col].notnull()]\n",
        "\n",
        "    X = df_not_null.drop(passed_col, axis=1)\n",
        "    y = df_not_null[passed_col]\n",
        "\n",
        "    other_missing_cols = [col for col in missing_data_cols if col != passed_col]\n",
        "\n",
        "    label_encoder = LabelEncoder()\n",
        "\n",
        "    for col in X.columns:\n",
        "        if X[col].dtype == 'object' or X[col].dtype == 'category':\n",
        "            X[col] = label_encoder.fit_transform(X[col])\n",
        "\n",
        "    if passed_col in bool_cols:\n",
        "        y = label_encoder.fit_transform(y)\n",
        "\n",
        "    iterative_imputer = IterativeImputer(estimator=RandomForestRegressor(random_state=42), add_indicator=True)\n",
        "\n",
        "    for col in other_missing_cols:\n",
        "        if X[col].isnull().sum() > 0:\n",
        "            col_with_missing_values = X[col].values.reshape(-1, 1)\n",
        "            imputed_values = iterative_imputer.fit_transform(col_with_missing_values)\n",
        "            X[col] = imputed_values[:, 0]\n",
        "        else:\n",
        "            pass\n",
        "\n",
        "    X_train, X_test, y_train, y_test = train_test_split(X, y, test_size=0.2, random_state=42)\n",
        "\n",
        "    rf_classifier = RandomForestClassifier()\n",
        "\n",
        "    rf_classifier.fit(X_train, y_train)\n",
        "\n",
        "    y_pred = rf_classifier.predict(X_test)\n",
        "\n",
        "    acc_score = accuracy_score(y_test, y_pred)\n",
        "\n",
        "    print(\"The feature '\"+ passed_col+ \"' has been imputed with\", round((acc_score * 100), 2), \"accuracy\\n\")\n",
        "\n",
        "    X = df_null.drop(passed_col, axis=1)\n",
        "\n",
        "    for col in X.columns:\n",
        "        if X[col].dtype == 'object' or X[col].dtype == 'category':\n",
        "            X[col] = label_encoder.fit_transform(X[col])\n",
        "\n",
        "    for col in other_missing_cols:\n",
        "        if X[col].isnull().sum() > 0:\n",
        "            col_with_missing_values = X[col].values.reshape(-1, 1)\n",
        "            imputed_values = iterative_imputer.fit_transform(col_with_missing_values)\n",
        "            X[col] = imputed_values[:, 0]\n",
        "        else:\n",
        "            pass\n",
        "\n",
        "    if len(df_null) > 0:\n",
        "        df_null[passed_col] = rf_classifier.predict(X)\n",
        "        if passed_col in bool_cols:\n",
        "            df_null[passed_col] = df_null[passed_col].map({0: False, 1: True})\n",
        "        else:\n",
        "            pass\n",
        "    else:\n",
        "        pass\n",
        "\n",
        "    df_combined = pd.concat([df_not_null, df_null])\n",
        "\n",
        "    return df_combined[passed_col]"
      ],
      "metadata": {
        "execution": {
          "iopub.status.busy": "2024-02-16T04:55:56.374804Z",
          "iopub.execute_input": "2024-02-16T04:55:56.375325Z",
          "iopub.status.idle": "2024-02-16T04:55:56.40833Z",
          "shell.execute_reply.started": "2024-02-16T04:55:56.375278Z",
          "shell.execute_reply": "2024-02-16T04:55:56.407033Z"
        },
        "trusted": true,
        "id": "aIt3uUS7FABL"
      },
      "execution_count": null,
      "outputs": []
    },
    {
      "cell_type": "code",
      "source": [
        "def impute_continuous_missing_data(passed_col):\n",
        "\n",
        "    df_null = df[df[passed_col].isnull()]\n",
        "    df_not_null = df[df[passed_col].notnull()]\n",
        "\n",
        "    X = df_not_null.drop(passed_col, axis=1)\n",
        "    y = df_not_null[passed_col]\n",
        "\n",
        "    other_missing_cols = [col for col in missing_data_cols if col != passed_col]\n",
        "\n",
        "    label_encoder = LabelEncoder()\n",
        "\n",
        "    for col in X.columns:\n",
        "        if X[col].dtype == 'object' or X[col].dtype == 'category':\n",
        "            X[col] = label_encoder.fit_transform(X[col])\n",
        "\n",
        "    iterative_imputer = IterativeImputer(estimator=RandomForestRegressor(random_state=42), add_indicator=True)\n",
        "\n",
        "    for col in other_missing_cols:\n",
        "        if X[col].isnull().sum() > 0:\n",
        "            col_with_missing_values = X[col].values.reshape(-1, 1)\n",
        "            imputed_values = iterative_imputer.fit_transform(col_with_missing_values)\n",
        "            X[col] = imputed_values[:, 0]\n",
        "        else:\n",
        "            pass\n",
        "\n",
        "    X_train, X_test, y_train, y_test = train_test_split(X, y, test_size=0.2, random_state=42)\n",
        "\n",
        "    rf_regressor = RandomForestRegressor()\n",
        "\n",
        "    rf_regressor.fit(X_train, y_train)\n",
        "\n",
        "    y_pred = rf_regressor.predict(X_test)\n",
        "\n",
        "    print(\"MAE =\", mean_absolute_error(y_test, y_pred), \"\\n\")\n",
        "    print(\"RMSE =\", mean_squared_error(y_test, y_pred, squared=False), \"\\n\")\n",
        "    print(\"R2 =\", r2_score(y_test, y_pred), \"\\n\")\n",
        "\n",
        "    X = df_null.drop(passed_col, axis=1)\n",
        "\n",
        "    for col in X.columns:\n",
        "        if X[col].dtype == 'object' or X[col].dtype == 'category':\n",
        "            X[col] = label_encoder.fit_transform(X[col])\n",
        "\n",
        "    for col in other_missing_cols:\n",
        "        if X[col].isnull().sum() > 0:\n",
        "            col_with_missing_values = X[col].values.reshape(-1, 1)\n",
        "            imputed_values = iterative_imputer.fit_transform(col_with_missing_values)\n",
        "            X[col] = imputed_values[:, 0]\n",
        "        else:\n",
        "            pass\n",
        "\n",
        "    if len(df_null) > 0:\n",
        "        df_null[passed_col] = rf_regressor.predict(X)\n",
        "    else:\n",
        "        pass\n",
        "\n",
        "    df_combined = pd.concat([df_not_null, df_null])\n",
        "\n",
        "    return df_combined[passed_col]"
      ],
      "metadata": {
        "id": "mro5ubUWJv8c"
      },
      "execution_count": null,
      "outputs": []
    },
    {
      "cell_type": "code",
      "source": [
        "# impute missing values using our functions\n",
        "for col in missing_data_cols:\n",
        "    print(\"Missing Values\", col, \":\", str(round((df[col].isnull().sum() / len(df)) * 100, 2))+\"%\")\n",
        "    if col in categorical_cols:\n",
        "        df[col] = impute_categorical_missing_data(col)\n",
        "    elif col in numeric_cols:\n",
        "        df[col] = impute_continuous_missing_data(col)\n",
        "    else:\n",
        "        pass"
      ],
      "metadata": {
        "execution": {
          "iopub.status.busy": "2024-02-16T04:55:56.410408Z",
          "iopub.execute_input": "2024-02-16T04:55:56.410881Z",
          "iopub.status.idle": "2024-02-16T04:56:00.196812Z",
          "shell.execute_reply.started": "2024-02-16T04:55:56.410813Z",
          "shell.execute_reply": "2024-02-16T04:56:00.195421Z"
        },
        "trusted": true,
        "id": "vSd5_x05FABL",
        "outputId": "e4a379a4-34c5-4d6a-d569-9ec8e4f8f52c",
        "colab": {
          "base_uri": "https://localhost:8080/"
        }
      },
      "execution_count": null,
      "outputs": [
        {
          "output_type": "stream",
          "name": "stdout",
          "text": [
            "Missing Values trestbps : 6.43%\n",
            "MAE = 12.605523255813951 \n",
            "\n",
            "RMSE = 17.118009029660396 \n",
            "\n",
            "R2 = 0.05848553110670818 \n",
            "\n",
            "Missing Values chol : 3.27%\n",
            "MAE = 51.23814606741573 \n",
            "\n",
            "RMSE = 69.78789397528499 \n",
            "\n",
            "R2 = 0.5669485098418734 \n",
            "\n",
            "Missing Values fbs : 9.69%\n",
            "The feature 'fbs' has been imputed with 81.93 accuracy\n",
            "\n",
            "Missing Values thalch : 5.99%\n",
            "MAE = 17.0128901734104 \n",
            "\n",
            "RMSE = 21.775728586922863 \n",
            "\n",
            "R2 = 0.31637518354125416 \n",
            "\n",
            "Missing Values exang : 5.99%\n",
            "The feature 'exang' has been imputed with 78.61 accuracy\n",
            "\n",
            "Missing Values oldpeak : 6.75%\n",
            "MAE = 0.5239593023255814 \n",
            "\n",
            "RMSE = 0.7614563196560825 \n",
            "\n",
            "R2 = 0.43706823041083553 \n",
            "\n",
            "Missing Values slope : 33.55%\n",
            "The feature 'slope' has been imputed with 68.85 accuracy\n",
            "\n",
            "Missing Values ca : 66.34%\n",
            "MAE = 0.6643548387096775 \n",
            "\n",
            "RMSE = 0.9130302259774247 \n",
            "\n",
            "R2 = 0.11405822504838259 \n",
            "\n",
            "Missing Values thal : 52.72%\n",
            "The feature 'thal' has been imputed with 71.26 accuracy\n",
            "\n"
          ]
        }
      ]
    },
    {
      "cell_type": "code",
      "source": [
        "# check after imputation\n",
        "df.isnull().sum()"
      ],
      "metadata": {
        "execution": {
          "iopub.status.busy": "2024-02-16T04:56:00.198773Z",
          "iopub.execute_input": "2024-02-16T04:56:00.199953Z",
          "iopub.status.idle": "2024-02-16T04:56:00.213311Z",
          "shell.execute_reply.started": "2024-02-16T04:56:00.199895Z",
          "shell.execute_reply": "2024-02-16T04:56:00.211777Z"
        },
        "trusted": true,
        "id": "38AGMKqeFABL",
        "outputId": "247ce848-b312-4dae-bb2b-58399b75f12d",
        "colab": {
          "base_uri": "https://localhost:8080/",
          "height": 574
        }
      },
      "execution_count": null,
      "outputs": [
        {
          "output_type": "execute_result",
          "data": {
            "text/plain": [
              "age         0\n",
              "sex         0\n",
              "dataset     0\n",
              "cp          0\n",
              "trestbps    0\n",
              "chol        0\n",
              "fbs         0\n",
              "restecg     0\n",
              "thalch      0\n",
              "exang       0\n",
              "oldpeak     0\n",
              "slope       0\n",
              "ca          0\n",
              "thal        0\n",
              "num         0\n",
              "dtype: int64"
            ],
            "text/html": [
              "<div>\n",
              "<style scoped>\n",
              "    .dataframe tbody tr th:only-of-type {\n",
              "        vertical-align: middle;\n",
              "    }\n",
              "\n",
              "    .dataframe tbody tr th {\n",
              "        vertical-align: top;\n",
              "    }\n",
              "\n",
              "    .dataframe thead th {\n",
              "        text-align: right;\n",
              "    }\n",
              "</style>\n",
              "<table border=\"1\" class=\"dataframe\">\n",
              "  <thead>\n",
              "    <tr style=\"text-align: right;\">\n",
              "      <th></th>\n",
              "      <th>0</th>\n",
              "    </tr>\n",
              "  </thead>\n",
              "  <tbody>\n",
              "    <tr>\n",
              "      <th>age</th>\n",
              "      <td>0</td>\n",
              "    </tr>\n",
              "    <tr>\n",
              "      <th>sex</th>\n",
              "      <td>0</td>\n",
              "    </tr>\n",
              "    <tr>\n",
              "      <th>dataset</th>\n",
              "      <td>0</td>\n",
              "    </tr>\n",
              "    <tr>\n",
              "      <th>cp</th>\n",
              "      <td>0</td>\n",
              "    </tr>\n",
              "    <tr>\n",
              "      <th>trestbps</th>\n",
              "      <td>0</td>\n",
              "    </tr>\n",
              "    <tr>\n",
              "      <th>chol</th>\n",
              "      <td>0</td>\n",
              "    </tr>\n",
              "    <tr>\n",
              "      <th>fbs</th>\n",
              "      <td>0</td>\n",
              "    </tr>\n",
              "    <tr>\n",
              "      <th>restecg</th>\n",
              "      <td>0</td>\n",
              "    </tr>\n",
              "    <tr>\n",
              "      <th>thalch</th>\n",
              "      <td>0</td>\n",
              "    </tr>\n",
              "    <tr>\n",
              "      <th>exang</th>\n",
              "      <td>0</td>\n",
              "    </tr>\n",
              "    <tr>\n",
              "      <th>oldpeak</th>\n",
              "      <td>0</td>\n",
              "    </tr>\n",
              "    <tr>\n",
              "      <th>slope</th>\n",
              "      <td>0</td>\n",
              "    </tr>\n",
              "    <tr>\n",
              "      <th>ca</th>\n",
              "      <td>0</td>\n",
              "    </tr>\n",
              "    <tr>\n",
              "      <th>thal</th>\n",
              "      <td>0</td>\n",
              "    </tr>\n",
              "    <tr>\n",
              "      <th>num</th>\n",
              "      <td>0</td>\n",
              "    </tr>\n",
              "  </tbody>\n",
              "</table>\n",
              "</div><br><label><b>dtype:</b> int64</label>"
            ]
          },
          "metadata": {},
          "execution_count": 46
        }
      ]
    },
    {
      "cell_type": "code",
      "source": [
        "plt.figure( figsize=(10, 6))\n",
        "sns.heatmap(df.isnull(), cbar=False)"
      ],
      "metadata": {
        "execution": {
          "iopub.status.busy": "2024-02-16T04:56:00.215389Z",
          "iopub.execute_input": "2024-02-16T04:56:00.216178Z",
          "iopub.status.idle": "2024-02-16T04:56:00.808782Z",
          "shell.execute_reply.started": "2024-02-16T04:56:00.216122Z",
          "shell.execute_reply": "2024-02-16T04:56:00.807623Z"
        },
        "trusted": true,
        "id": "mqwCdXDZFABL",
        "outputId": "4e17859d-60b1-4911-b9a2-c3e4ede67616",
        "colab": {
          "base_uri": "https://localhost:8080/",
          "height": 566
        }
      },
      "execution_count": null,
      "outputs": [
        {
          "output_type": "execute_result",
          "data": {
            "text/plain": [
              "<Axes: >"
            ]
          },
          "metadata": {},
          "execution_count": 47
        },
        {
          "output_type": "display_data",
          "data": {
            "text/plain": [
              "<Figure size 1000x600 with 1 Axes>"
            ],
            "image/png": "[encoded data removed]"
          },
          "metadata": {}
        }
      ]
    },
    {
      "cell_type": "markdown",
      "source": [
        "# Outliers"
      ],
      "metadata": {
        "id": "YSJJ2TJ4FABL"
      }
    },
    {
      "cell_type": "markdown",
      "source": [
        "### Check Outliers with Graphical Technique"
      ],
      "metadata": {
        "id": "0LcmulA3FABL"
      }
    },
    {
      "cell_type": "code",
      "source": [
        "plt.figure(figsize=(20, 20))\n",
        "\n",
        "colors = ['red', 'green', 'blue', 'orange', 'magenta']\n",
        "\n",
        "# Assuming numeric_cols is a list of numeric column names\n",
        "for i, col in enumerate(numeric_cols):\n",
        "    if i < len(colors):  # Check if the index is within the range of colors\n",
        "        plt.subplot(3, 3, i+1)\n",
        "        sns.boxplot(x=df[col], color=colors[i])\n",
        "        plt.title(col)\n",
        "    else:\n",
        "        break  # Exit the loop if there are no more colors available\n",
        "\n",
        "plt.show()"
      ],
      "metadata": {
        "execution": {
          "iopub.status.busy": "2024-02-16T04:56:00.810154Z",
          "iopub.execute_input": "2024-02-16T04:56:00.811072Z",
          "iopub.status.idle": "2024-02-16T04:56:01.621554Z",
          "shell.execute_reply.started": "2024-02-16T04:56:00.811028Z",
          "shell.execute_reply": "2024-02-16T04:56:01.620194Z"
        },
        "trusted": true,
        "id": "oeswGehaFABL",
        "outputId": "34a7e859-49dc-4f60-82b0-9f7702c2f3e5",
        "colab": {
          "base_uri": "https://localhost:8080/",
          "height": 1000
        }
      },
      "execution_count": null,
      "outputs": [
        {
          "output_type": "display_data",
          "data": {
            "text/plain": [
              "<Figure size 2000x2000 with 5 Axes>"
            ],
            "image/png": "[encoded data removed]"
          },
          "metadata": {}
        }
      ]
    },
    {
      "cell_type": "markdown",
      "source": [
        "### Check Outliers with IQR Method"
      ],
      "metadata": {
        "id": "iRvOrIu-FABL"
      }
    },
    {
      "cell_type": "code",
      "source": [
        "\n",
        "# check number outliers in numeric_cols using IQR\n",
        "Q1 = df[numeric_cols].quantile(0.25)\n",
        "Q3 = df[numeric_cols].quantile(0.75)\n",
        "IQR = Q3 - Q1\n",
        "outliers_count_specified = ((df[numeric_cols] < (Q1 - 1.5 * IQR)) | (df[numeric_cols] > (Q3 + 1.5 * IQR))).sum()\n",
        "\n",
        "outliers_count_specified"
      ],
      "metadata": {
        "execution": {
          "iopub.status.busy": "2024-02-16T04:56:01.623714Z",
          "iopub.execute_input": "2024-02-16T04:56:01.624182Z",
          "iopub.status.idle": "2024-02-16T04:56:01.646916Z",
          "shell.execute_reply.started": "2024-02-16T04:56:01.624145Z",
          "shell.execute_reply": "2024-02-16T04:56:01.645977Z"
        },
        "trusted": true,
        "id": "UuGNkpGKFABL",
        "outputId": "489d81da-9045-4024-987b-e93b6e254d95",
        "colab": {
          "base_uri": "https://localhost:8080/",
          "height": 292
        }
      },
      "execution_count": null,
      "outputs": [
        {
          "output_type": "execute_result",
          "data": {
            "text/plain": [
              "oldpeak       2\n",
              "thalch        2\n",
              "chol        184\n",
              "trestbps     25\n",
              "age           0\n",
              "ca           21\n",
              "dtype: int64"
            ],
            "text/html": [
              "<div>\n",
              "<style scoped>\n",
              "    .dataframe tbody tr th:only-of-type {\n",
              "        vertical-align: middle;\n",
              "    }\n",
              "\n",
              "    .dataframe tbody tr th {\n",
              "        vertical-align: top;\n",
              "    }\n",
              "\n",
              "    .dataframe thead th {\n",
              "        text-align: right;\n",
              "    }\n",
              "</style>\n",
              "<table border=\"1\" class=\"dataframe\">\n",
              "  <thead>\n",
              "    <tr style=\"text-align: right;\">\n",
              "      <th></th>\n",
              "      <th>0</th>\n",
              "    </tr>\n",
              "  </thead>\n",
              "  <tbody>\n",
              "    <tr>\n",
              "      <th>oldpeak</th>\n",
              "      <td>2</td>\n",
              "    </tr>\n",
              "    <tr>\n",
              "      <th>thalch</th>\n",
              "      <td>2</td>\n",
              "    </tr>\n",
              "    <tr>\n",
              "      <th>chol</th>\n",
              "      <td>184</td>\n",
              "    </tr>\n",
              "    <tr>\n",
              "      <th>trestbps</th>\n",
              "      <td>25</td>\n",
              "    </tr>\n",
              "    <tr>\n",
              "      <th>age</th>\n",
              "      <td>0</td>\n",
              "    </tr>\n",
              "    <tr>\n",
              "      <th>ca</th>\n",
              "      <td>21</td>\n",
              "    </tr>\n",
              "  </tbody>\n",
              "</table>\n",
              "</div><br><label><b>dtype:</b> int64</label>"
            ]
          },
          "metadata": {},
          "execution_count": 49
        }
      ]
    },
    {
      "cell_type": "markdown",
      "source": [
        "### Deal with Outliers"
      ],
      "metadata": {
        "id": "FVYmFjmXFABL"
      }
    },
    {
      "cell_type": "markdown",
      "source": [
        "#### trestbps"
      ],
      "metadata": {
        "id": "usUhWn9IFABL"
      }
    },
    {
      "cell_type": "code",
      "source": [
        "df['trestbps'].describe()"
      ],
      "metadata": {
        "execution": {
          "iopub.status.busy": "2024-02-16T04:56:01.648565Z",
          "iopub.execute_input": "2024-02-16T04:56:01.649276Z",
          "iopub.status.idle": "2024-02-16T04:56:01.661671Z",
          "shell.execute_reply.started": "2024-02-16T04:56:01.64924Z",
          "shell.execute_reply": "2024-02-16T04:56:01.660346Z"
        },
        "trusted": true,
        "id": "ajNj1HOkFABM",
        "outputId": "97b13189-48cd-42c4-ed8e-272c3d8c6b46",
        "colab": {
          "base_uri": "https://localhost:8080/",
          "height": 355
        }
      },
      "execution_count": null,
      "outputs": [
        {
          "output_type": "execute_result",
          "data": {
            "text/plain": [
              "count    918.000000\n",
              "mean     132.579390\n",
              "std       18.580314\n",
              "min        0.000000\n",
              "25%      120.000000\n",
              "50%      130.000000\n",
              "75%      142.000000\n",
              "max      200.000000\n",
              "Name: trestbps, dtype: float64"
            ],
            "text/html": [
              "<div>\n",
              "<style scoped>\n",
              "    .dataframe tbody tr th:only-of-type {\n",
              "        vertical-align: middle;\n",
              "    }\n",
              "\n",
              "    .dataframe tbody tr th {\n",
              "        vertical-align: top;\n",
              "    }\n",
              "\n",
              "    .dataframe thead th {\n",
              "        text-align: right;\n",
              "    }\n",
              "</style>\n",
              "<table border=\"1\" class=\"dataframe\">\n",
              "  <thead>\n",
              "    <tr style=\"text-align: right;\">\n",
              "      <th></th>\n",
              "      <th>trestbps</th>\n",
              "    </tr>\n",
              "  </thead>\n",
              "  <tbody>\n",
              "    <tr>\n",
              "      <th>count</th>\n",
              "      <td>918.000000</td>\n",
              "    </tr>\n",
              "    <tr>\n",
              "      <th>mean</th>\n",
              "      <td>132.579390</td>\n",
              "    </tr>\n",
              "    <tr>\n",
              "      <th>std</th>\n",
              "      <td>18.580314</td>\n",
              "    </tr>\n",
              "    <tr>\n",
              "      <th>min</th>\n",
              "      <td>0.000000</td>\n",
              "    </tr>\n",
              "    <tr>\n",
              "      <th>25%</th>\n",
              "      <td>120.000000</td>\n",
              "    </tr>\n",
              "    <tr>\n",
              "      <th>50%</th>\n",
              "      <td>130.000000</td>\n",
              "    </tr>\n",
              "    <tr>\n",
              "      <th>75%</th>\n",
              "      <td>142.000000</td>\n",
              "    </tr>\n",
              "    <tr>\n",
              "      <th>max</th>\n",
              "      <td>200.000000</td>\n",
              "    </tr>\n",
              "  </tbody>\n",
              "</table>\n",
              "</div><br><label><b>dtype:</b> float64</label>"
            ]
          },
          "metadata": {},
          "execution_count": 50
        }
      ]
    },
    {
      "cell_type": "code",
      "source": [
        "# remove rows with values less than 80 in the 'trestbps' column\n",
        "df = df[df['trestbps'] >= 80]"
      ],
      "metadata": {
        "execution": {
          "iopub.status.busy": "2024-02-16T04:56:01.663409Z",
          "iopub.execute_input": "2024-02-16T04:56:01.664141Z",
          "iopub.status.idle": "2024-02-16T04:56:01.673308Z",
          "shell.execute_reply.started": "2024-02-16T04:56:01.664072Z",
          "shell.execute_reply": "2024-02-16T04:56:01.671972Z"
        },
        "trusted": true,
        "id": "HLngWrlVFABM"
      },
      "execution_count": null,
      "outputs": []
    },
    {
      "cell_type": "code",
      "source": [
        "df['dataset'].value_counts()"
      ],
      "metadata": {
        "execution": {
          "iopub.status.busy": "2024-02-16T04:56:01.675269Z",
          "iopub.execute_input": "2024-02-16T04:56:01.675795Z",
          "iopub.status.idle": "2024-02-16T04:56:01.688235Z",
          "shell.execute_reply.started": "2024-02-16T04:56:01.675746Z",
          "shell.execute_reply": "2024-02-16T04:56:01.687174Z"
        },
        "trusted": true,
        "id": "W4uw2BQVFABN",
        "outputId": "a473b727-1a15-452d-bfc7-afc0c51d07cd",
        "colab": {
          "base_uri": "https://localhost:8080/",
          "height": 261
        }
      },
      "execution_count": null,
      "outputs": [
        {
          "output_type": "execute_result",
          "data": {
            "text/plain": [
              "dataset\n",
              "Cleveland        304\n",
              "Hungary          292\n",
              "VA Long Beach    199\n",
              "Switzerland      122\n",
              "Name: count, dtype: int64"
            ],
            "text/html": [
              "<div>\n",
              "<style scoped>\n",
              "    .dataframe tbody tr th:only-of-type {\n",
              "        vertical-align: middle;\n",
              "    }\n",
              "\n",
              "    .dataframe tbody tr th {\n",
              "        vertical-align: top;\n",
              "    }\n",
              "\n",
              "    .dataframe thead th {\n",
              "        text-align: right;\n",
              "    }\n",
              "</style>\n",
              "<table border=\"1\" class=\"dataframe\">\n",
              "  <thead>\n",
              "    <tr style=\"text-align: right;\">\n",
              "      <th></th>\n",
              "      <th>count</th>\n",
              "    </tr>\n",
              "    <tr>\n",
              "      <th>dataset</th>\n",
              "      <th></th>\n",
              "    </tr>\n",
              "  </thead>\n",
              "  <tbody>\n",
              "    <tr>\n",
              "      <th>Cleveland</th>\n",
              "      <td>304</td>\n",
              "    </tr>\n",
              "    <tr>\n",
              "      <th>Hungary</th>\n",
              "      <td>292</td>\n",
              "    </tr>\n",
              "    <tr>\n",
              "      <th>VA Long Beach</th>\n",
              "      <td>199</td>\n",
              "    </tr>\n",
              "    <tr>\n",
              "      <th>Switzerland</th>\n",
              "      <td>122</td>\n",
              "    </tr>\n",
              "  </tbody>\n",
              "</table>\n",
              "</div><br><label><b>dtype:</b> int64</label>"
            ]
          },
          "metadata": {},
          "execution_count": 52
        }
      ]
    },
    {
      "cell_type": "markdown",
      "source": [
        "#### thalch"
      ],
      "metadata": {
        "id": "GYYPOnA8FABN"
      }
    },
    {
      "cell_type": "code",
      "source": [
        "# remove rows with values less than 71 in the 'thalch' column\n",
        "df = df[df['thalch'] >= 71]"
      ],
      "metadata": {
        "execution": {
          "iopub.status.busy": "2024-02-16T04:56:01.689977Z",
          "iopub.execute_input": "2024-02-16T04:56:01.690388Z",
          "iopub.status.idle": "2024-02-16T04:56:01.70348Z",
          "shell.execute_reply.started": "2024-02-16T04:56:01.690356Z",
          "shell.execute_reply": "2024-02-16T04:56:01.702126Z"
        },
        "trusted": true,
        "id": "FU4NYkl5FABN"
      },
      "execution_count": null,
      "outputs": []
    },
    {
      "cell_type": "code",
      "source": [
        "df['thalch'].describe()"
      ],
      "metadata": {
        "execution": {
          "iopub.status.busy": "2024-02-16T04:56:01.705241Z",
          "iopub.execute_input": "2024-02-16T04:56:01.705626Z",
          "iopub.status.idle": "2024-02-16T04:56:01.721074Z",
          "shell.execute_reply.started": "2024-02-16T04:56:01.705596Z",
          "shell.execute_reply": "2024-02-16T04:56:01.720016Z"
        },
        "trusted": true,
        "id": "YFO-DPBBFABN",
        "outputId": "35d64807-c9d1-4857-d908-9ff22b24dac6",
        "colab": {
          "base_uri": "https://localhost:8080/",
          "height": 355
        }
      },
      "execution_count": null,
      "outputs": [
        {
          "output_type": "execute_result",
          "data": {
            "text/plain": [
              "count    912.000000\n",
              "mean     136.940055\n",
              "std       25.144596\n",
              "min       71.000000\n",
              "25%      119.337500\n",
              "50%      138.000000\n",
              "75%      156.000000\n",
              "max      202.000000\n",
              "Name: thalch, dtype: float64"
            ],
            "text/html": [
              "<div>\n",
              "<style scoped>\n",
              "    .dataframe tbody tr th:only-of-type {\n",
              "        vertical-align: middle;\n",
              "    }\n",
              "\n",
              "    .dataframe tbody tr th {\n",
              "        vertical-align: top;\n",
              "    }\n",
              "\n",
              "    .dataframe thead th {\n",
              "        text-align: right;\n",
              "    }\n",
              "</style>\n",
              "<table border=\"1\" class=\"dataframe\">\n",
              "  <thead>\n",
              "    <tr style=\"text-align: right;\">\n",
              "      <th></th>\n",
              "      <th>thalch</th>\n",
              "    </tr>\n",
              "  </thead>\n",
              "  <tbody>\n",
              "    <tr>\n",
              "      <th>count</th>\n",
              "      <td>912.000000</td>\n",
              "    </tr>\n",
              "    <tr>\n",
              "      <th>mean</th>\n",
              "      <td>136.940055</td>\n",
              "    </tr>\n",
              "    <tr>\n",
              "      <th>std</th>\n",
              "      <td>25.144596</td>\n",
              "    </tr>\n",
              "    <tr>\n",
              "      <th>min</th>\n",
              "      <td>71.000000</td>\n",
              "    </tr>\n",
              "    <tr>\n",
              "      <th>25%</th>\n",
              "      <td>119.337500</td>\n",
              "    </tr>\n",
              "    <tr>\n",
              "      <th>50%</th>\n",
              "      <td>138.000000</td>\n",
              "    </tr>\n",
              "    <tr>\n",
              "      <th>75%</th>\n",
              "      <td>156.000000</td>\n",
              "    </tr>\n",
              "    <tr>\n",
              "      <th>max</th>\n",
              "      <td>202.000000</td>\n",
              "    </tr>\n",
              "  </tbody>\n",
              "</table>\n",
              "</div><br><label><b>dtype:</b> float64</label>"
            ]
          },
          "metadata": {},
          "execution_count": 54
        }
      ]
    },
    {
      "cell_type": "markdown",
      "source": [
        "#### oldpeak"
      ],
      "metadata": {
        "id": "0MqJkL6tFABN"
      }
    },
    {
      "cell_type": "code",
      "source": [
        "# remove outliers in 'oldpeak' column\n",
        "Q1 = df['oldpeak'].quantile(0.25)\n",
        "Q3 = df['oldpeak'].quantile(0.75)\n",
        "IQR = Q3 - Q1\n",
        "lower_bound = Q1 - 1.5 * IQR\n",
        "upper_bound = Q3 + 1.5 * IQR\n",
        "df=df[(df['oldpeak'] >= lower_bound) & (df['oldpeak'] <= upper_bound)]"
      ],
      "metadata": {
        "execution": {
          "iopub.status.busy": "2024-02-16T04:56:01.72246Z",
          "iopub.execute_input": "2024-02-16T04:56:01.722914Z",
          "iopub.status.idle": "2024-02-16T04:56:01.735797Z",
          "shell.execute_reply.started": "2024-02-16T04:56:01.722874Z",
          "shell.execute_reply": "2024-02-16T04:56:01.734436Z"
        },
        "trusted": true,
        "id": "feAI-AT_FABO"
      },
      "execution_count": null,
      "outputs": []
    },
    {
      "cell_type": "markdown",
      "source": [
        "#### chol ( Cholesterol )"
      ],
      "metadata": {
        "id": "4tyZMc7aFABO"
      }
    },
    {
      "cell_type": "code",
      "source": [
        "# print the row from df where chol value is 0\n",
        "print(\"zero_counts :\",(df['chol'] == 0).sum())\n",
        "# remove this row from data\n",
        "df = df[df['chol'] != 0]"
      ],
      "metadata": {
        "execution": {
          "iopub.status.busy": "2024-02-16T04:56:01.737989Z",
          "iopub.execute_input": "2024-02-16T04:56:01.739321Z",
          "iopub.status.idle": "2024-02-16T04:56:01.750069Z",
          "shell.execute_reply.started": "2024-02-16T04:56:01.73926Z",
          "shell.execute_reply": "2024-02-16T04:56:01.74862Z"
        },
        "trusted": true,
        "id": "PpgeRpSNFABO",
        "outputId": "61f303cc-048f-4f1a-cbfa-b10e8d8e9bfa",
        "colab": {
          "base_uri": "https://localhost:8080/"
        }
      },
      "execution_count": null,
      "outputs": [
        {
          "output_type": "stream",
          "name": "stdout",
          "text": [
            "zero_counts : 166\n"
          ]
        }
      ]
    },
    {
      "cell_type": "code",
      "source": [
        "# remove values less than 126\n",
        "df = df[df['chol'] >= 126]\n",
        "# remove values greater than 400\n",
        "df = df[df['chol'] <= 400]"
      ],
      "metadata": {
        "execution": {
          "iopub.status.busy": "2024-02-16T04:56:01.756635Z",
          "iopub.execute_input": "2024-02-16T04:56:01.757398Z",
          "iopub.status.idle": "2024-02-16T04:56:01.767731Z",
          "shell.execute_reply.started": "2024-02-16T04:56:01.757352Z",
          "shell.execute_reply": "2024-02-16T04:56:01.766672Z"
        },
        "trusted": true,
        "id": "7TknMb_gFABO"
      },
      "execution_count": null,
      "outputs": []
    },
    {
      "cell_type": "markdown",
      "source": [
        "# Machine Learning"
      ],
      "metadata": {
        "id": "b97dLDc2FABO"
      }
    },
    {
      "cell_type": "markdown",
      "source": [
        "### Encoded the Data"
      ],
      "metadata": {
        "id": "2zNyaQinFABO"
      }
    },
    {
      "cell_type": "code",
      "source": [
        "#  # apply labelencoder on categorical column\n",
        "for col in df.columns:\n",
        "      if df[col].dtype == \"category\" or df[col].dtype == \"object\":\n",
        "          df[col] =LabelEncoder().fit_transform(df[col])\n",
        "      else:\n",
        "          pass"
      ],
      "metadata": {
        "execution": {
          "iopub.status.busy": "2024-02-16T04:56:01.769622Z",
          "iopub.execute_input": "2024-02-16T04:56:01.770058Z",
          "iopub.status.idle": "2024-02-16T04:56:01.786001Z",
          "shell.execute_reply.started": "2024-02-16T04:56:01.770021Z",
          "shell.execute_reply": "2024-02-16T04:56:01.784175Z"
        },
        "trusted": true,
        "id": "-iJBo0N-FABO"
      },
      "execution_count": null,
      "outputs": []
    },
    {
      "cell_type": "markdown",
      "source": [
        "### Split the Data into X and y"
      ],
      "metadata": {
        "id": "mwHNU21NFABO"
      }
    },
    {
      "cell_type": "code",
      "source": [
        "# split data into X and y\n",
        "X = df.drop('num', axis=1)\n",
        "y = df['num']\n",
        "# data into train and split\n",
        "X_train, X_test, y_train, y_test = train_test_split(X, y, test_size=0.3, random_state=42)"
      ],
      "metadata": {
        "execution": {
          "iopub.status.busy": "2024-02-16T04:56:01.788012Z",
          "iopub.execute_input": "2024-02-16T04:56:01.788556Z",
          "iopub.status.idle": "2024-02-16T04:56:01.80146Z",
          "shell.execute_reply.started": "2024-02-16T04:56:01.788507Z",
          "shell.execute_reply": "2024-02-16T04:56:01.800103Z"
        },
        "trusted": true,
        "id": "TCmCVIUwFABO"
      },
      "execution_count": null,
      "outputs": []
    },
    {
      "cell_type": "markdown",
      "source": [
        "Enlist some  models that use to predict the heart disease. These models should be classifiers for multi-class classification.\n",
        "\n",
        "1. logistic regression\n",
        "2. KNN\n",
        "3. NB\n",
        "4. SVM\n",
        "5. Decision Tree\n",
        "6. Random Forest\n",
        "7. XGBoost\n",
        "8. GradientBoosting\n",
        "9. AdaBoost\n",
        "10. lightGBM"
      ],
      "metadata": {
        "id": "Hep7jdq9FABO"
      }
    },
    {
      "cell_type": "markdown",
      "source": [
        "### Select the Best Model"
      ],
      "metadata": {
        "id": "lR6siPyNFABP"
      }
    },
    {
      "cell_type": "code",
      "source": [
        "from sklearn.model_selection import train_test_split, GridSearchCV\n",
        "from sklearn.ensemble import RandomForestClassifier, GradientBoostingClassifier, AdaBoostClassifier, VotingClassifier\n",
        "from sklearn.svm import SVC\n",
        "from sklearn.linear_model import LogisticRegression\n",
        "from sklearn.neighbors import KNeighborsClassifier\n",
        "from sklearn.tree import DecisionTreeClassifier\n",
        "from xgboost import XGBClassifier\n",
        "from sklearn.naive_bayes import GaussianNB\n",
        "from sklearn.pipeline import Pipeline\n",
        "from sklearn.preprocessing import StandardScaler\n",
        "from sklearn.metrics import accuracy_score"
      ],
      "metadata": {
        "id": "8AiUN2i4IMc2"
      },
      "execution_count": null,
      "outputs": []
    },
    {
      "cell_type": "code",
      "source": [
        "# Create a list of models to evaluate\n",
        "models = [\n",
        "    ('Random Forest', RandomForestClassifier(random_state=42),\n",
        "        {'model__n_estimators': [50, 100, 200],\n",
        "         'model__max_depth': [None, 10, 20]}),  # Add hyperparameters for Random Forest\n",
        "    ('Gradient Boosting', GradientBoostingClassifier(random_state=42),\n",
        "        {'model__n_estimators': [50, 100, 200],\n",
        "         'model__learning_rate': [0.05, 0.1, 0.5]}),  # Add hyperparameters for Gradient Boosting\n",
        "    ('Support Vector Machine', SVC(random_state=42, class_weight='balanced'),\n",
        "        {'model__C': [0.1, 1, 10],\n",
        "         'model__gamma': ['scale', 'auto']}),  # Add hyperparameters for SVM\n",
        "    ('Logistic Regression', LogisticRegression(random_state=42, class_weight='balanced'),\n",
        "        {'model__C': [0.1, 1, 10],\n",
        "         'model__penalty': ['l1', 'l2']}),  # Add hyperparameters for Logistic Regression\n",
        "    ('K-Nearest Neighbors', KNeighborsClassifier(),\n",
        "        {'model__n_neighbors': [3, 5, 7],\n",
        "         'model__weights': ['uniform', 'distance']}),  # Add hyperparameters for KNN\n",
        "    ('Decision Tree', DecisionTreeClassifier(random_state=42),\n",
        "        {'model__max_depth': [None, 10, 20],\n",
        "         'model__min_samples_split': [2, 5, 10]}),  # Add hyperparameters for Decision Tree\n",
        "    ('Ada Boost', AdaBoostClassifier(random_state=42),\n",
        "        {'model__n_estimators': [50, 100, 200],\n",
        "         'model__learning_rate': [0.05, 0.1, 0.5]}),  # Add hyperparameters for Ada Boost\n",
        "    ('XG Boost', XGBClassifier(random_state=42),\n",
        "        {'model__n_estimators': [50, 100, 200],\n",
        "         'model__learning_rate': [0.05, 0.1, 0.5]}),  # Add hyperparameters for XG Boost\n",
        "    ('Naive Bayes', GaussianNB(), {})  # No hyperparameters for Naive Bayes\n",
        "]\n",
        "\n",
        "best_model = None\n",
        "best_accuracy = 0.0"
      ],
      "metadata": {
        "id": "ALYQHpUaIOUW"
      },
      "execution_count": null,
      "outputs": []
    },
    {
      "cell_type": "code",
      "source": [
        "# Iterate over the models and evaluate their performance\n",
        "for name, model, param_grid in models:\n",
        "    # Create a pipeline for each model\n",
        "    pipeline = Pipeline([\n",
        "        ('scaler', MinMaxScaler()),  # Feature Scaling\n",
        "        ('model', model)\n",
        "    ])\n",
        "\n",
        "    # Hyperparameter tuning using GridSearchCV\n",
        "    if param_grid:\n",
        "        grid_search = GridSearchCV(pipeline, param_grid, cv=5)\n",
        "        grid_search.fit(X_train, y_train)\n",
        "        pipeline = grid_search.best_estimator_\n",
        "\n",
        "    # Fit the pipeline on the training data\n",
        "    pipeline.fit(X_train, y_train)\n",
        "\n",
        "    # Make predictions on the test data\n",
        "    y_pred = pipeline.predict(X_test)\n",
        "\n",
        "    # Calculate accuracy score\n",
        "    accuracy = accuracy_score(y_test, y_pred)\n",
        "\n",
        "    # Print the performance metrics\n",
        "    print(\"Model:\", name)\n",
        "    print(\"Test Accuracy:\", accuracy)\n",
        "    print()\n",
        "\n",
        "    # Check if the current model has the best accuracy\n",
        "    if accuracy > best_accuracy:\n",
        "        best_accuracy = accuracy\n",
        "        best_model = pipeline"
      ],
      "metadata": {
        "id": "5YWdc3biIQTR",
        "outputId": "101300f8-0ae5-4536-efdd-87c651e739c1",
        "colab": {
          "base_uri": "https://localhost:8080/"
        }
      },
      "execution_count": null,
      "outputs": [
        {
          "output_type": "stream",
          "name": "stdout",
          "text": [
            "Model: Random Forest\n",
            "Test Accuracy: 0.726027397260274\n",
            "\n",
            "Model: Gradient Boosting\n",
            "Test Accuracy: 0.6986301369863014\n",
            "\n",
            "Model: Support Vector Machine\n",
            "Test Accuracy: 0.6712328767123288\n",
            "\n",
            "Model: Logistic Regression\n",
            "Test Accuracy: 0.6027397260273972\n",
            "\n",
            "Model: K-Nearest Neighbors\n",
            "Test Accuracy: 0.6484018264840182\n",
            "\n",
            "Model: Decision Tree\n",
            "Test Accuracy: 0.6164383561643836\n",
            "\n",
            "Model: Ada Boost\n",
            "Test Accuracy: 0.6621004566210046\n",
            "\n",
            "Model: XG Boost\n",
            "Test Accuracy: 0.7031963470319634\n",
            "\n",
            "Model: Naive Bayes\n",
            "Test Accuracy: 0.634703196347032\n",
            "\n"
          ]
        }
      ]
    },
    {
      "cell_type": "code",
      "source": [
        "print(\"Best Model:\")\n",
        "print(\"Test Accuracy:\", best_accuracy)\n",
        "print(\"Model Pipeline:\", best_model, \"with accuracy\", round(best_accuracy * 100, 2), \"%\")"
      ],
      "metadata": {
        "id": "Z4Bpjf0YJ8zQ",
        "colab": {
          "base_uri": "https://localhost:8080/"
        },
        "outputId": "0c27cdef-b219-4664-d753-f63f3a962f5f"
      },
      "execution_count": null,
      "outputs": [
        {
          "output_type": "stream",
          "name": "stdout",
          "text": [
            "Best Model:\n",
            "Test Accuracy: 0.726027397260274\n",
            "Model Pipeline: Pipeline(steps=[('scaler', MinMaxScaler()),\n",
            "                ('model',\n",
            "                 RandomForestClassifier(n_estimators=50, random_state=42))]) with accuracy 72.6 %\n"
          ]
        }
      ]
    }
  ]
}